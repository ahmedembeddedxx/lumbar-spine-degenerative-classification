{
 "cells": [
  {
   "cell_type": "markdown",
   "id": "4b73fc72",
   "metadata": {
    "papermill": {
     "duration": 0.004572,
     "end_time": "2024-10-10T17:35:58.670500",
     "exception": false,
     "start_time": "2024-10-10T17:35:58.665928",
     "status": "completed"
    },
    "tags": []
   },
   "source": [
    "# **A Novel Approach for Three-Way Classification of Lumbar Spine Degeneration Using Pseudo-Modality Learning to Handle Missing MRI Data**"
   ]
  },
  {
   "cell_type": "markdown",
   "id": "24b10958",
   "metadata": {
    "papermill": {
     "duration": 0.003687,
     "end_time": "2024-10-10T17:35:58.678402",
     "exception": false,
     "start_time": "2024-10-10T17:35:58.674715",
     "status": "completed"
    },
    "tags": []
   },
   "source": [
    "## Libs"
   ]
  },
  {
   "cell_type": "code",
   "execution_count": 1,
   "id": "fcdba030",
   "metadata": {
    "execution": {
     "iopub.execute_input": "2024-10-10T17:35:58.688959Z",
     "iopub.status.busy": "2024-10-10T17:35:58.688486Z",
     "iopub.status.idle": "2024-10-10T17:36:16.655157Z",
     "shell.execute_reply": "2024-10-10T17:36:16.653952Z"
    },
    "papermill": {
     "duration": 17.974869,
     "end_time": "2024-10-10T17:36:16.657898",
     "exception": false,
     "start_time": "2024-10-10T17:35:58.683029",
     "status": "completed"
    },
    "tags": []
   },
   "outputs": [],
   "source": [
    "import pandas as pd\n",
    "from sklearn.preprocessing import OneHotEncoder, StandardScaler, LabelEncoder\n",
    "import matplotlib.pyplot as plt\n",
    "import pandas as pd\n",
    "import numpy as np\n",
    "from tensorflow.keras.models import Sequential\n",
    "from tensorflow.keras.layers import Dense, Input\n",
    "from sklearn.model_selection import train_test_split\n",
    "from sklearn.preprocessing import StandardScaler\n",
    "from tensorflow.keras.losses import BinaryCrossentropy\n",
    "from sklearn.model_selection import KFold\n",
    "from sklearn.utils.class_weight import compute_class_weight\n",
    "import tensorflow as tf\n",
    "from imblearn.over_sampling import SMOTE\n",
    "from sklearn.preprocessing import LabelEncoder, StandardScaler\n",
    "from sklearn.svm import SVC\n",
    "\n",
    "from sklearn.metrics import accuracy_score, f1_score, roc_auc_score\n",
    "from sklearn.model_selection import KFold\n",
    "import joblib\n",
    "import lightgbm as lgb\n",
    "from tqdm import tqdm"
   ]
  },
  {
   "cell_type": "markdown",
   "id": "2cc94a2b",
   "metadata": {
    "papermill": {
     "duration": 0.003633,
     "end_time": "2024-10-10T17:36:16.665812",
     "exception": false,
     "start_time": "2024-10-10T17:36:16.662179",
     "status": "completed"
    },
    "tags": []
   },
   "source": [
    "## Training Pipeline"
   ]
  },
  {
   "cell_type": "code",
   "execution_count": 2,
   "id": "b2f2e86e",
   "metadata": {
    "execution": {
     "iopub.execute_input": "2024-10-10T17:36:16.676387Z",
     "iopub.status.busy": "2024-10-10T17:36:16.675323Z",
     "iopub.status.idle": "2024-10-10T17:36:16.693832Z",
     "shell.execute_reply": "2024-10-10T17:36:16.692526Z"
    },
    "papermill": {
     "duration": 0.026849,
     "end_time": "2024-10-10T17:36:16.696485",
     "exception": false,
     "start_time": "2024-10-10T17:36:16.669636",
     "status": "completed"
    },
    "tags": []
   },
   "outputs": [],
   "source": [
    "attention_embeddings_paths = [\n",
    "    '/kaggle/input/attention-embeddings-for-rsna/AT2_attention_embeddings_gsl.csv',\n",
    "    '/kaggle/input/attention-embeddings-for-rsna/AT2_attention_embeddings_hist.csv',\n",
    "    '/kaggle/input/attention-embeddings-for-rsna/ST1_attention_embeddings_gsl.csv',\n",
    "    '/kaggle/input/attention-embeddings-for-rsna/ST1_attention_embeddings_hist.csv',\n",
    "    '/kaggle/input/attention-embeddings-for-rsna/ST2_attention_embeddings_gsl.csv',\n",
    "    '/kaggle/input/attention-embeddings-for-rsna/ST2_attention_embeddings_hist.csv'    \n",
    "]\n",
    "\n",
    "average_embeddings_paths = [\n",
    "    '/kaggle/input/embeddings-for-rsna/at2-greyscl/final_embeddings.csv',\n",
    "    '/kaggle/input/embeddings-for-rsna/at2-hist/final_embeddings.csv',\n",
    "    '/kaggle/input/embeddings-for-rsna/st1-greyscl/final_embeddings.csv',\n",
    "    '/kaggle/input/embeddings-for-rsna/st1-hist/final_embeddings.csv',\n",
    "    '/kaggle/input/embeddings-for-rsna/st2-greyscl/final_embeddings.csv',\n",
    "    '/kaggle/input/embeddings-for-rsna/st2-hist/final_embeddings.csv'\n",
    "]\n",
    "\n",
    "medicalnet_embeddings_paths = [\n",
    "    '/kaggle/input/medicalnet-attention-layers-for-rsna/AT2_attention_embeddings_gsl.csv',\n",
    "    '/kaggle/input/medicalnet-attention-layers-for-rsna/AT2_attention_embeddings_hist.csv',\n",
    "    '/kaggle/input/medicalnet-attention-layers-for-rsna/ST1_attention_embeddings_gsl.csv',\n",
    "    '/kaggle/input/medicalnet-attention-layers-for-rsna/ST1_attention_embeddings_hist.csv',\n",
    "    '/kaggle/input/medicalnet-attention-layers-for-rsna/ST2_attention_embeddings_gsl.csv',\n",
    "    '/kaggle/input/medicalnet-attention-layers-for-rsna/ST2_attention_embeddings_hist.csv',\n",
    "]\n",
    "\n",
    "labels_paths = [\n",
    "    '/kaggle/input/preprocessed-dataset/train_data_AT2.csv',\n",
    "    '/kaggle/input/preprocessed-dataset/train_data_ST1.csv',\n",
    "    '/kaggle/input/preprocessed-dataset/train_data_ST2.csv'\n",
    "]\n",
    "\n",
    "list_of_combination = [\n",
    "    'AT2 - GSL - Attention Network',\n",
    "    'AT2 - HIST - Attention Network',\n",
    "    'ST1 - GSL - Attention Network',\n",
    "    'ST1 - HIST - Attention Network',\n",
    "    'ST2 - GSL - Attention Network',\n",
    "    'ST2 - HIST - Attention Network',\n",
    "    \n",
    "    'AT2 - GSL - Average ResNet50',\n",
    "    'AT2 - HIST - Average ResNet50',\n",
    "    'ST1 - GSL - Average ResNet50',\n",
    "    'ST1 - HIST - Average ResNet50',\n",
    "    'ST2 - GSL - Average ResNet50',\n",
    "    'ST2 - HIST - Average ResNet50',\n",
    "    \n",
    "    'AT2 - GSL - MedicalNet Network',\n",
    "    'AT2 - HIST - MedicalNet Network',\n",
    "    'ST1 - GSL - MedicalNet Network',\n",
    "    'ST1 - HIST - MedicalNet Network',\n",
    "    'ST2 - GSL - MedicalNet Network',\n",
    "    'ST2 - HIST - MedicalNet Network'\n",
    "]\n",
    "\n",
    "results_df = pd.DataFrame(columns=['Combination', 'Avg_Test_Accuracy', 'Avg_Val_Accuracy'])\n",
    "\n",
    "all_embedding_paths = [\n",
    "    *attention_embeddings_paths,\n",
    "    *average_embeddings_paths,\n",
    "    *medicalnet_embeddings_paths\n",
    "]\n",
    "\n",
    "corresponding_labels_paths = [\n",
    "    labels_paths[0],  # AT2 - GSL - Attention Network\n",
    "    labels_paths[0],  # AT2 - HIST - Attention Network\n",
    "    labels_paths[1],  # ST1 - GSL - Attention Network\n",
    "    labels_paths[1],  # ST1 - HIST - Attention Network\n",
    "    labels_paths[2],  # ST2 - GSL - Attention Network\n",
    "    labels_paths[2],  # ST2 - HIST - Attention Network\n",
    "    \n",
    "    labels_paths[0],  # AT2 - GSL - Average ResNet50\n",
    "    labels_paths[0],  # AT2 - HIST - Average ResNet50\n",
    "    labels_paths[1],  # ST1 - GSL - Average ResNet50\n",
    "    labels_paths[1],  # ST1 - HIST - Average ResNet50\n",
    "    labels_paths[2],  # ST2 - GSL - Average ResNet50\n",
    "    labels_paths[2],  # ST2 - HIST - Average ResNet50\n",
    "    \n",
    "    labels_paths[0],  # AT2 - GSL - MedicalNet Network\n",
    "    labels_paths[0],  # AT2 - HIST - MedicalNet Network\n",
    "    labels_paths[1],  # ST1 - GSL - MedicalNet Network\n",
    "    labels_paths[1],  # ST1 - HIST - MedicalNet Network\n",
    "    labels_paths[2],  # ST2 - GSL - MedicalNet Network\n",
    "    labels_paths[2],  # ST2 - HIST - MedicalNet Network\n",
    "]"
   ]
  },
  {
   "cell_type": "code",
   "execution_count": 3,
   "id": "bd40680e",
   "metadata": {
    "execution": {
     "iopub.execute_input": "2024-10-10T17:36:16.706920Z",
     "iopub.status.busy": "2024-10-10T17:36:16.706419Z",
     "iopub.status.idle": "2024-10-10T17:36:16.723545Z",
     "shell.execute_reply": "2024-10-10T17:36:16.722268Z"
    },
    "papermill": {
     "duration": 0.025603,
     "end_time": "2024-10-10T17:36:16.726247",
     "exception": false,
     "start_time": "2024-10-10T17:36:16.700644",
     "status": "completed"
    },
    "tags": []
   },
   "outputs": [],
   "source": [
    "def train(embedding_path, labels_path, model_save_path_prefix='lgb_model_col_'):\n",
    "    embeddings = pd.read_csv(embedding_path)\n",
    "    labels = pd.read_csv(labels_path)\n",
    "\n",
    "    id_cols = labels[['study_id', 'series_id']]\n",
    "    cols_to_impute = labels.drop(columns=['study_id', 'series_id'])\n",
    "    imputed_cols = cols_to_impute.apply(lambda x: x.fillna(x.mode()[0]))\n",
    "    labels = pd.concat([id_cols, imputed_cols], axis=1)\n",
    "\n",
    "    id_cols = labels[['study_id', 'series_id']]\n",
    "    cols_to_encode = labels.drop(columns=['study_id', 'series_id'])\n",
    "    encoded_df = cols_to_encode.apply(LabelEncoder().fit_transform)\n",
    "    final_df = pd.concat([id_cols, encoded_df], axis=1)\n",
    "\n",
    "    df = pd.merge(embeddings, final_df, on='study_id', how='inner')\n",
    "\n",
    "    X = df.iloc[:, :512].values\n",
    "    Y = df.iloc[:, 515:].values\n",
    "\n",
    "    avg_accuracies = []\n",
    "    avg_f1_scores = []\n",
    "    avg_roc_auc_scores = []\n",
    "\n",
    "    for col in tqdm(range(Y.shape[1]), desc=\"Training Columns\"):\n",
    "        X_train, X_test, Y_train, Y_test = train_test_split(X, Y[:, col], test_size=0.2, random_state=42)\n",
    "\n",
    "        scaler = StandardScaler()\n",
    "        X_train = scaler.fit_transform(X_train)\n",
    "        X_test = scaler.transform(X_test)\n",
    "\n",
    "        try:\n",
    "            minority_class_size = min(np.bincount(Y_train))\n",
    "            n_neighbors = min(5, minority_class_size - 1)\n",
    "            smote = SMOTE(random_state=42, k_neighbors=n_neighbors)\n",
    "            X_train, Y_train = smote.fit_resample(X_train, Y_train)\n",
    "        except ValueError as e:\n",
    "            print(f\"Skipping SMOTE for column {col} due to error: {e}\")\n",
    "\n",
    "        lgb_train = lgb.Dataset(X_train, Y_train)\n",
    "\n",
    "        params = {\n",
    "            'objective': 'multiclass',\n",
    "            'num_class': len(np.unique(Y_train)),\n",
    "            'metric': 'multi_logloss',\n",
    "            'boosting_type': 'gbdt',\n",
    "            'learning_rate': 0.1,\n",
    "            'num_leaves': 31,\n",
    "            'verbose': -1\n",
    "        }\n",
    "\n",
    "        model = lgb.train(params, lgb_train)\n",
    "\n",
    "        joblib.dump(model, f'{model_save_path_prefix}{col}.joblib')\n",
    "\n",
    "        Y_pred = model.predict(X_test)\n",
    "        Y_pred_classes = np.argmax(Y_pred, axis=1)\n",
    "\n",
    "        accuracy = accuracy_score(Y_test, Y_pred_classes)\n",
    "        f1 = f1_score(Y_test, Y_pred_classes, average='macro')\n",
    "\n",
    "        if len(np.unique(Y_test)) > 2:\n",
    "            roc_auc = roc_auc_score(Y_test, Y_pred, multi_class='ovr')\n",
    "        else:\n",
    "            roc_auc = roc_auc_score(Y_test, Y_pred_classes)\n",
    "\n",
    "        avg_accuracies.append(accuracy)\n",
    "        avg_f1_scores.append(f1)\n",
    "        avg_roc_auc_scores.append(roc_auc)\n",
    "\n",
    "        print(f'Column {col}: Accuracy = {accuracy:.4f}, F1 Score = {f1:.4f}, ROC AUC = {roc_auc:.4f}')\n",
    "\n",
    "    return np.mean(avg_accuracies), np.mean(avg_f1_scores), np.mean(avg_roc_auc_scores)"
   ]
  },
  {
   "cell_type": "code",
   "execution_count": 4,
   "id": "4d10c1e0",
   "metadata": {
    "execution": {
     "iopub.execute_input": "2024-10-10T17:36:16.736200Z",
     "iopub.status.busy": "2024-10-10T17:36:16.735713Z",
     "iopub.status.idle": "2024-10-10T18:10:47.399057Z",
     "shell.execute_reply": "2024-10-10T18:10:47.397775Z"
    },
    "papermill": {
     "duration": 2070.671691,
     "end_time": "2024-10-10T18:10:47.402152",
     "exception": false,
     "start_time": "2024-10-10T17:36:16.730461",
     "status": "completed"
    },
    "tags": []
   },
   "outputs": [
    {
     "name": "stdout",
     "output_type": "stream",
     "text": [
      "\n",
      "Training for: AT2 - GSL - Attention Network - /kaggle/input/attention-embeddings-for-rsna/AT2_attention_embeddings_gsl.csv\n"
     ]
    },
    {
     "name": "stderr",
     "output_type": "stream",
     "text": [
      "Training Columns:  10%|█         | 1/10 [00:17<02:33, 17.01s/it]"
     ]
    },
    {
     "name": "stdout",
     "output_type": "stream",
     "text": [
      "Column 0: Accuracy = 0.9799, F1 Score = 0.7641, ROC AUC = 0.6842\n"
     ]
    },
    {
     "name": "stderr",
     "output_type": "stream",
     "text": [
      "Training Columns:  20%|██        | 2/10 [00:32<02:09, 16.19s/it]"
     ]
    },
    {
     "name": "stdout",
     "output_type": "stream",
     "text": [
      "Column 1: Accuracy = 0.9447, F1 Score = 0.5292, ROC AUC = 0.8402\n"
     ]
    },
    {
     "name": "stderr",
     "output_type": "stream",
     "text": [
      "Training Columns:  30%|███       | 3/10 [00:49<01:56, 16.59s/it]"
     ]
    },
    {
     "name": "stdout",
     "output_type": "stream",
     "text": [
      "Column 2: Accuracy = 0.8459, F1 Score = 0.7027, ROC AUC = 0.8790\n"
     ]
    },
    {
     "name": "stderr",
     "output_type": "stream",
     "text": [
      "Training Columns:  40%|████      | 4/10 [01:04<01:34, 15.83s/it]"
     ]
    },
    {
     "name": "stdout",
     "output_type": "stream",
     "text": [
      "Column 3: Accuracy = 0.7638, F1 Score = 0.6702, ROC AUC = 0.8549\n"
     ]
    },
    {
     "name": "stderr",
     "output_type": "stream",
     "text": [
      "Training Columns:  50%|█████     | 5/10 [01:21<01:20, 16.13s/it]"
     ]
    },
    {
     "name": "stdout",
     "output_type": "stream",
     "text": [
      "Column 4: Accuracy = 0.7722, F1 Score = 0.6438, ROC AUC = 0.8558\n"
     ]
    },
    {
     "name": "stderr",
     "output_type": "stream",
     "text": [
      "Training Columns:  60%|██████    | 6/10 [01:36<01:03, 15.85s/it]"
     ]
    },
    {
     "name": "stdout",
     "output_type": "stream",
     "text": [
      "Column 5: Accuracy = 0.9749, F1 Score = 0.6990, ROC AUC = 0.8689\n"
     ]
    },
    {
     "name": "stderr",
     "output_type": "stream",
     "text": [
      "Training Columns:  70%|███████   | 7/10 [01:53<00:49, 16.40s/it]"
     ]
    },
    {
     "name": "stdout",
     "output_type": "stream",
     "text": [
      "Column 6: Accuracy = 0.9497, F1 Score = 0.7214, ROC AUC = 0.8904\n"
     ]
    },
    {
     "name": "stderr",
     "output_type": "stream",
     "text": [
      "Training Columns:  80%|████████  | 8/10 [02:09<00:32, 16.04s/it]"
     ]
    },
    {
     "name": "stdout",
     "output_type": "stream",
     "text": [
      "Column 7: Accuracy = 0.8878, F1 Score = 0.7081, ROC AUC = 0.8762\n"
     ]
    },
    {
     "name": "stderr",
     "output_type": "stream",
     "text": [
      "Training Columns:  90%|█████████ | 9/10 [02:25<00:16, 16.08s/it]"
     ]
    },
    {
     "name": "stdout",
     "output_type": "stream",
     "text": [
      "Column 8: Accuracy = 0.7772, F1 Score = 0.6627, ROC AUC = 0.8657\n"
     ]
    },
    {
     "name": "stderr",
     "output_type": "stream",
     "text": [
      "Training Columns: 100%|██████████| 10/10 [02:40<00:00, 16.03s/it]"
     ]
    },
    {
     "name": "stdout",
     "output_type": "stream",
     "text": [
      "Column 9: Accuracy = 0.7739, F1 Score = 0.6836, ROC AUC = 0.8548\n",
      "\n",
      "Training for: AT2 - HIST - Attention Network - /kaggle/input/attention-embeddings-for-rsna/AT2_attention_embeddings_hist.csv\n"
     ]
    },
    {
     "name": "stderr",
     "output_type": "stream",
     "text": [
      "\n",
      "/tmp/ipykernel_17/586429171.py:17: FutureWarning: The behavior of DataFrame concatenation with empty or all-NA entries is deprecated. In a future version, this will no longer exclude empty or all-NA columns when determining the result dtypes. To retain the old behavior, exclude the relevant entries before the concat operation.\n",
      "  results_df = pd.concat([results_df, result_row], ignore_index=True)\n",
      "Training Columns:  10%|█         | 1/10 [00:16<02:29, 16.67s/it]"
     ]
    },
    {
     "name": "stdout",
     "output_type": "stream",
     "text": [
      "Column 0: Accuracy = 0.9765, F1 Score = 0.5088, ROC AUC = 0.6853\n"
     ]
    },
    {
     "name": "stderr",
     "output_type": "stream",
     "text": [
      "Training Columns:  20%|██        | 2/10 [00:32<02:08, 16.03s/it]"
     ]
    },
    {
     "name": "stdout",
     "output_type": "stream",
     "text": [
      "Column 1: Accuracy = 0.9380, F1 Score = 0.5115, ROC AUC = 0.8670\n"
     ]
    },
    {
     "name": "stderr",
     "output_type": "stream",
     "text": [
      "Training Columns:  30%|███       | 3/10 [00:49<01:56, 16.58s/it]"
     ]
    },
    {
     "name": "stdout",
     "output_type": "stream",
     "text": [
      "Column 2: Accuracy = 0.8425, F1 Score = 0.7028, ROC AUC = 0.8640\n"
     ]
    },
    {
     "name": "stderr",
     "output_type": "stream",
     "text": [
      "Training Columns:  40%|████      | 4/10 [01:04<01:34, 15.82s/it]"
     ]
    },
    {
     "name": "stdout",
     "output_type": "stream",
     "text": [
      "Column 3: Accuracy = 0.7554, F1 Score = 0.6615, ROC AUC = 0.8595\n"
     ]
    },
    {
     "name": "stderr",
     "output_type": "stream",
     "text": [
      "Training Columns:  50%|█████     | 5/10 [01:20<01:20, 16.10s/it]"
     ]
    },
    {
     "name": "stdout",
     "output_type": "stream",
     "text": [
      "Column 4: Accuracy = 0.7672, F1 Score = 0.6421, ROC AUC = 0.8596\n"
     ]
    },
    {
     "name": "stderr",
     "output_type": "stream",
     "text": [
      "Training Columns:  60%|██████    | 6/10 [01:36<01:03, 15.90s/it]"
     ]
    },
    {
     "name": "stdout",
     "output_type": "stream",
     "text": [
      "Column 5: Accuracy = 0.9765, F1 Score = 0.7065, ROC AUC = 0.9070\n"
     ]
    },
    {
     "name": "stderr",
     "output_type": "stream",
     "text": [
      "Training Columns:  70%|███████   | 7/10 [01:53<00:49, 16.41s/it]"
     ]
    },
    {
     "name": "stdout",
     "output_type": "stream",
     "text": [
      "Column 6: Accuracy = 0.9481, F1 Score = 0.7107, ROC AUC = 0.8589\n"
     ]
    },
    {
     "name": "stderr",
     "output_type": "stream",
     "text": [
      "Training Columns:  80%|████████  | 8/10 [02:09<00:32, 16.05s/it]"
     ]
    },
    {
     "name": "stdout",
     "output_type": "stream",
     "text": [
      "Column 7: Accuracy = 0.8844, F1 Score = 0.6879, ROC AUC = 0.8994\n"
     ]
    },
    {
     "name": "stderr",
     "output_type": "stream",
     "text": [
      "Training Columns:  90%|█████████ | 9/10 [02:25<00:16, 16.06s/it]"
     ]
    },
    {
     "name": "stdout",
     "output_type": "stream",
     "text": [
      "Column 8: Accuracy = 0.7655, F1 Score = 0.6580, ROC AUC = 0.8464\n"
     ]
    },
    {
     "name": "stderr",
     "output_type": "stream",
     "text": [
      "Training Columns: 100%|██████████| 10/10 [02:39<00:00, 16.00s/it]"
     ]
    },
    {
     "name": "stdout",
     "output_type": "stream",
     "text": [
      "Column 9: Accuracy = 0.7621, F1 Score = 0.6808, ROC AUC = 0.8552\n",
      "\n",
      "Training for: ST1 - GSL - Attention Network - /kaggle/input/attention-embeddings-for-rsna/ST1_attention_embeddings_gsl.csv\n"
     ]
    },
    {
     "name": "stderr",
     "output_type": "stream",
     "text": [
      "\n",
      "Training Columns:  10%|█         | 1/10 [00:15<02:17, 15.28s/it]"
     ]
    },
    {
     "name": "stdout",
     "output_type": "stream",
     "text": [
      "Column 0: Accuracy = 0.9393, F1 Score = 0.3808, ROC AUC = 0.6308\n"
     ]
    },
    {
     "name": "stderr",
     "output_type": "stream",
     "text": [
      "Training Columns:  20%|██        | 2/10 [00:29<01:55, 14.41s/it]"
     ]
    },
    {
     "name": "stdout",
     "output_type": "stream",
     "text": [
      "Column 1: Accuracy = 0.8285, F1 Score = 0.3152, ROC AUC = 0.6604\n"
     ]
    },
    {
     "name": "stderr",
     "output_type": "stream",
     "text": [
      "Training Columns:  30%|███       | 3/10 [00:43<01:41, 14.54s/it]"
     ]
    },
    {
     "name": "stdout",
     "output_type": "stream",
     "text": [
      "Column 2: Accuracy = 0.6280, F1 Score = 0.3178, ROC AUC = 0.6256\n"
     ]
    },
    {
     "name": "stderr",
     "output_type": "stream",
     "text": [
      "Training Columns:  40%|████      | 4/10 [00:55<01:20, 13.35s/it]"
     ]
    },
    {
     "name": "stdout",
     "output_type": "stream",
     "text": [
      "Column 3: Accuracy = 0.4697, F1 Score = 0.4053, ROC AUC = 0.6066\n"
     ]
    },
    {
     "name": "stderr",
     "output_type": "stream",
     "text": [
      "Training Columns:  50%|█████     | 5/10 [01:08<01:06, 13.34s/it]"
     ]
    },
    {
     "name": "stdout",
     "output_type": "stream",
     "text": [
      "Column 4: Accuracy = 0.6755, F1 Score = 0.3040, ROC AUC = 0.5893\n"
     ]
    },
    {
     "name": "stderr",
     "output_type": "stream",
     "text": [
      "Training Columns:  60%|██████    | 6/10 [01:23<00:55, 13.98s/it]"
     ]
    },
    {
     "name": "stdout",
     "output_type": "stream",
     "text": [
      "Column 5: Accuracy = 0.9367, F1 Score = 0.3224, ROC AUC = 0.5961\n"
     ]
    },
    {
     "name": "stderr",
     "output_type": "stream",
     "text": [
      "Training Columns:  70%|███████   | 7/10 [01:37<00:41, 13.89s/it]"
     ]
    },
    {
     "name": "stdout",
     "output_type": "stream",
     "text": [
      "Column 6: Accuracy = 0.8364, F1 Score = 0.3509, ROC AUC = 0.7013\n"
     ]
    },
    {
     "name": "stderr",
     "output_type": "stream",
     "text": [
      "Training Columns:  80%|████████  | 8/10 [01:52<00:28, 14.17s/it]"
     ]
    },
    {
     "name": "stdout",
     "output_type": "stream",
     "text": [
      "Column 7: Accuracy = 0.6306, F1 Score = 0.3519, ROC AUC = 0.6299\n"
     ]
    },
    {
     "name": "stderr",
     "output_type": "stream",
     "text": [
      "Training Columns:  90%|█████████ | 9/10 [02:03<00:13, 13.35s/it]"
     ]
    },
    {
     "name": "stdout",
     "output_type": "stream",
     "text": [
      "Column 8: Accuracy = 0.3879, F1 Score = 0.3446, ROC AUC = 0.5793\n"
     ]
    },
    {
     "name": "stderr",
     "output_type": "stream",
     "text": [
      "Training Columns: 100%|██████████| 10/10 [02:18<00:00, 13.87s/it]"
     ]
    },
    {
     "name": "stdout",
     "output_type": "stream",
     "text": [
      "Column 9: Accuracy = 0.6860, F1 Score = 0.3367, ROC AUC = 0.6076\n",
      "\n",
      "Training for: ST1 - HIST - Attention Network - /kaggle/input/attention-embeddings-for-rsna/ST1_attention_embeddings_hist.csv\n"
     ]
    },
    {
     "name": "stderr",
     "output_type": "stream",
     "text": [
      "\n",
      "Training Columns:  10%|█         | 1/10 [00:13<02:02, 13.59s/it]"
     ]
    },
    {
     "name": "stdout",
     "output_type": "stream",
     "text": [
      "Column 0: Accuracy = 0.9340, F1 Score = 0.3988, ROC AUC = 0.7728\n"
     ]
    },
    {
     "name": "stderr",
     "output_type": "stream",
     "text": [
      "Training Columns:  20%|██        | 2/10 [00:27<01:48, 13.62s/it]"
     ]
    },
    {
     "name": "stdout",
     "output_type": "stream",
     "text": [
      "Column 1: Accuracy = 0.8364, F1 Score = 0.3514, ROC AUC = 0.6703\n"
     ]
    },
    {
     "name": "stderr",
     "output_type": "stream",
     "text": [
      "Training Columns:  30%|███       | 3/10 [00:42<01:39, 14.22s/it]"
     ]
    },
    {
     "name": "stdout",
     "output_type": "stream",
     "text": [
      "Column 2: Accuracy = 0.6517, F1 Score = 0.3228, ROC AUC = 0.6061\n"
     ]
    },
    {
     "name": "stderr",
     "output_type": "stream",
     "text": [
      "Training Columns:  40%|████      | 4/10 [00:53<01:18, 13.15s/it]"
     ]
    },
    {
     "name": "stdout",
     "output_type": "stream",
     "text": [
      "Column 3: Accuracy = 0.4512, F1 Score = 0.3916, ROC AUC = 0.5895\n"
     ]
    },
    {
     "name": "stderr",
     "output_type": "stream",
     "text": [
      "Training Columns:  50%|█████     | 5/10 [01:08<01:09, 13.84s/it]"
     ]
    },
    {
     "name": "stdout",
     "output_type": "stream",
     "text": [
      "Column 4: Accuracy = 0.6781, F1 Score = 0.2827, ROC AUC = 0.5255\n"
     ]
    },
    {
     "name": "stderr",
     "output_type": "stream",
     "text": [
      "Training Columns:  60%|██████    | 6/10 [01:22<00:55, 13.77s/it]"
     ]
    },
    {
     "name": "stdout",
     "output_type": "stream",
     "text": [
      "Column 5: Accuracy = 0.9393, F1 Score = 0.3229, ROC AUC = 0.6506\n"
     ]
    },
    {
     "name": "stderr",
     "output_type": "stream",
     "text": [
      "Training Columns:  70%|███████   | 7/10 [01:37<00:42, 14.32s/it]"
     ]
    },
    {
     "name": "stdout",
     "output_type": "stream",
     "text": [
      "Column 6: Accuracy = 0.8575, F1 Score = 0.3828, ROC AUC = 0.6945\n"
     ]
    },
    {
     "name": "stderr",
     "output_type": "stream",
     "text": [
      "Training Columns:  80%|████████  | 8/10 [01:50<00:27, 13.93s/it]"
     ]
    },
    {
     "name": "stdout",
     "output_type": "stream",
     "text": [
      "Column 7: Accuracy = 0.6042, F1 Score = 0.3123, ROC AUC = 0.6003\n"
     ]
    },
    {
     "name": "stderr",
     "output_type": "stream",
     "text": [
      "Training Columns:  90%|█████████ | 9/10 [02:02<00:13, 13.17s/it]"
     ]
    },
    {
     "name": "stdout",
     "output_type": "stream",
     "text": [
      "Column 8: Accuracy = 0.4090, F1 Score = 0.3598, ROC AUC = 0.5738\n"
     ]
    },
    {
     "name": "stderr",
     "output_type": "stream",
     "text": [
      "Training Columns: 100%|██████████| 10/10 [02:17<00:00, 13.72s/it]"
     ]
    },
    {
     "name": "stdout",
     "output_type": "stream",
     "text": [
      "Column 9: Accuracy = 0.7071, F1 Score = 0.3392, ROC AUC = 0.5838\n",
      "\n",
      "Training for: ST2 - GSL - Attention Network - /kaggle/input/attention-embeddings-for-rsna/ST2_attention_embeddings_gsl.csv\n"
     ]
    },
    {
     "name": "stderr",
     "output_type": "stream",
     "text": [
      "\n",
      "Training Columns:  20%|██        | 1/5 [00:13<00:52, 13.15s/it]"
     ]
    },
    {
     "name": "stdout",
     "output_type": "stream",
     "text": [
      "Column 0: Accuracy = 0.9654, F1 Score = 0.3275, ROC AUC = 0.6629\n"
     ]
    },
    {
     "name": "stderr",
     "output_type": "stream",
     "text": [
      "Training Columns:  40%|████      | 2/5 [00:28<00:43, 14.53s/it]"
     ]
    },
    {
     "name": "stdout",
     "output_type": "stream",
     "text": [
      "Column 1: Accuracy = 0.9016, F1 Score = 0.3161, ROC AUC = 0.6978\n"
     ]
    },
    {
     "name": "stderr",
     "output_type": "stream",
     "text": [
      "Training Columns:  60%|██████    | 3/5 [00:42<00:28, 14.22s/it]"
     ]
    },
    {
     "name": "stdout",
     "output_type": "stream",
     "text": [
      "Column 2: Accuracy = 0.8138, F1 Score = 0.3837, ROC AUC = 0.6196\n"
     ]
    },
    {
     "name": "stderr",
     "output_type": "stream",
     "text": [
      "Training Columns:  80%|████████  | 4/5 [00:57<00:14, 14.60s/it]"
     ]
    },
    {
     "name": "stdout",
     "output_type": "stream",
     "text": [
      "Column 3: Accuracy = 0.7181, F1 Score = 0.3593, ROC AUC = 0.6630\n"
     ]
    },
    {
     "name": "stderr",
     "output_type": "stream",
     "text": [
      "Training Columns: 100%|██████████| 5/5 [01:10<00:00, 14.18s/it]"
     ]
    },
    {
     "name": "stdout",
     "output_type": "stream",
     "text": [
      "Column 4: Accuracy = 0.9681, F1 Score = 0.3279, ROC AUC = 0.4474\n",
      "\n",
      "Training for: ST2 - HIST - Attention Network - /kaggle/input/attention-embeddings-for-rsna/ST2_attention_embeddings_hist.csv\n"
     ]
    },
    {
     "name": "stderr",
     "output_type": "stream",
     "text": [
      "\n",
      "Training Columns:  20%|██        | 1/5 [00:13<00:53, 13.26s/it]"
     ]
    },
    {
     "name": "stdout",
     "output_type": "stream",
     "text": [
      "Column 0: Accuracy = 0.9601, F1 Score = 0.3265, ROC AUC = 0.7347\n"
     ]
    },
    {
     "name": "stderr",
     "output_type": "stream",
     "text": [
      "Training Columns:  40%|████      | 2/5 [00:28<00:43, 14.55s/it]"
     ]
    },
    {
     "name": "stdout",
     "output_type": "stream",
     "text": [
      "Column 1: Accuracy = 0.9016, F1 Score = 0.3556, ROC AUC = 0.7389\n"
     ]
    },
    {
     "name": "stderr",
     "output_type": "stream",
     "text": [
      "Training Columns:  60%|██████    | 3/5 [00:42<00:28, 14.18s/it]"
     ]
    },
    {
     "name": "stdout",
     "output_type": "stream",
     "text": [
      "Column 2: Accuracy = 0.8085, F1 Score = 0.3109, ROC AUC = 0.6653\n"
     ]
    },
    {
     "name": "stderr",
     "output_type": "stream",
     "text": [
      "Training Columns:  80%|████████  | 4/5 [00:57<00:14, 14.59s/it]"
     ]
    },
    {
     "name": "stdout",
     "output_type": "stream",
     "text": [
      "Column 3: Accuracy = 0.7154, F1 Score = 0.3478, ROC AUC = 0.6321\n"
     ]
    },
    {
     "name": "stderr",
     "output_type": "stream",
     "text": [
      "Training Columns: 100%|██████████| 5/5 [01:10<00:00, 14.20s/it]"
     ]
    },
    {
     "name": "stdout",
     "output_type": "stream",
     "text": [
      "Column 4: Accuracy = 0.9681, F1 Score = 0.3279, ROC AUC = 0.5580\n",
      "\n",
      "Training for: AT2 - GSL - Average ResNet50 - /kaggle/input/embeddings-for-rsna/at2-greyscl/final_embeddings.csv\n"
     ]
    },
    {
     "name": "stderr",
     "output_type": "stream",
     "text": [
      "\n",
      "Training Columns:  10%|█         | 1/10 [00:16<02:26, 16.33s/it]"
     ]
    },
    {
     "name": "stdout",
     "output_type": "stream",
     "text": [
      "Column 0: Accuracy = 0.9765, F1 Score = 0.7440, ROC AUC = 0.6825\n"
     ]
    },
    {
     "name": "stderr",
     "output_type": "stream",
     "text": [
      "Training Columns:  20%|██        | 2/10 [00:30<02:01, 15.15s/it]"
     ]
    },
    {
     "name": "stdout",
     "output_type": "stream",
     "text": [
      "Column 1: Accuracy = 0.9179, F1 Score = 0.4935, ROC AUC = 0.6928\n"
     ]
    },
    {
     "name": "stderr",
     "output_type": "stream",
     "text": [
      "Training Columns:  30%|███       | 3/10 [00:45<01:46, 15.21s/it]"
     ]
    },
    {
     "name": "stdout",
     "output_type": "stream",
     "text": [
      "Column 2: Accuracy = 0.8191, F1 Score = 0.6394, ROC AUC = 0.8248\n"
     ]
    },
    {
     "name": "stderr",
     "output_type": "stream",
     "text": [
      "Training Columns:  40%|████      | 4/10 [00:58<01:25, 14.23s/it]"
     ]
    },
    {
     "name": "stdout",
     "output_type": "stream",
     "text": [
      "Column 3: Accuracy = 0.7052, F1 Score = 0.5991, ROC AUC = 0.7875\n"
     ]
    },
    {
     "name": "stderr",
     "output_type": "stream",
     "text": [
      "Training Columns:  50%|█████     | 5/10 [01:11<01:08, 13.66s/it]"
     ]
    },
    {
     "name": "stdout",
     "output_type": "stream",
     "text": [
      "Column 4: Accuracy = 0.7236, F1 Score = 0.6161, ROC AUC = 0.7934\n"
     ]
    },
    {
     "name": "stderr",
     "output_type": "stream",
     "text": [
      "Training Columns:  60%|██████    | 6/10 [01:28<00:58, 14.69s/it]"
     ]
    },
    {
     "name": "stdout",
     "output_type": "stream",
     "text": [
      "Column 5: Accuracy = 0.9715, F1 Score = 0.6856, ROC AUC = 0.8091\n"
     ]
    },
    {
     "name": "stderr",
     "output_type": "stream",
     "text": [
      "Training Columns:  70%|███████   | 7/10 [01:42<00:43, 14.56s/it]"
     ]
    },
    {
     "name": "stdout",
     "output_type": "stream",
     "text": [
      "Column 6: Accuracy = 0.9313, F1 Score = 0.6148, ROC AUC = 0.7960\n"
     ]
    },
    {
     "name": "stderr",
     "output_type": "stream",
     "text": [
      "Training Columns:  80%|████████  | 8/10 [01:57<00:29, 14.82s/it]"
     ]
    },
    {
     "name": "stdout",
     "output_type": "stream",
     "text": [
      "Column 7: Accuracy = 0.8476, F1 Score = 0.7502, ROC AUC = 0.8163\n"
     ]
    },
    {
     "name": "stderr",
     "output_type": "stream",
     "text": [
      "Training Columns:  90%|█████████ | 9/10 [02:10<00:14, 14.09s/it]"
     ]
    },
    {
     "name": "stdout",
     "output_type": "stream",
     "text": [
      "Column 8: Accuracy = 0.7487, F1 Score = 0.6473, ROC AUC = 0.8217\n"
     ]
    },
    {
     "name": "stderr",
     "output_type": "stream",
     "text": [
      "Training Columns: 100%|██████████| 10/10 [02:24<00:00, 14.44s/it]"
     ]
    },
    {
     "name": "stdout",
     "output_type": "stream",
     "text": [
      "Column 9: Accuracy = 0.7521, F1 Score = 0.6724, ROC AUC = 0.8269\n",
      "\n",
      "Training for: AT2 - HIST - Average ResNet50 - /kaggle/input/embeddings-for-rsna/at2-hist/final_embeddings.csv\n"
     ]
    },
    {
     "name": "stderr",
     "output_type": "stream",
     "text": [
      "\n",
      "Training Columns:  10%|█         | 1/10 [00:14<02:14, 14.95s/it]"
     ]
    },
    {
     "name": "stdout",
     "output_type": "stream",
     "text": [
      "Column 0: Accuracy = 0.9765, F1 Score = 0.7440, ROC AUC = 0.6825\n"
     ]
    },
    {
     "name": "stderr",
     "output_type": "stream",
     "text": [
      "Training Columns:  20%|██        | 2/10 [00:31<02:07, 15.93s/it]"
     ]
    },
    {
     "name": "stdout",
     "output_type": "stream",
     "text": [
      "Column 1: Accuracy = 0.9363, F1 Score = 0.5188, ROC AUC = 0.8533\n"
     ]
    },
    {
     "name": "stderr",
     "output_type": "stream",
     "text": [
      "Training Columns:  30%|███       | 3/10 [00:45<01:46, 15.15s/it]"
     ]
    },
    {
     "name": "stdout",
     "output_type": "stream",
     "text": [
      "Column 2: Accuracy = 0.8157, F1 Score = 0.6331, ROC AUC = 0.8244\n"
     ]
    },
    {
     "name": "stderr",
     "output_type": "stream",
     "text": [
      "Training Columns:  40%|████      | 4/10 [01:00<01:30, 15.06s/it]"
     ]
    },
    {
     "name": "stdout",
     "output_type": "stream",
     "text": [
      "Column 3: Accuracy = 0.7219, F1 Score = 0.6232, ROC AUC = 0.7970\n"
     ]
    },
    {
     "name": "stderr",
     "output_type": "stream",
     "text": [
      "Training Columns:  50%|█████     | 5/10 [01:13<01:11, 14.39s/it]"
     ]
    },
    {
     "name": "stdout",
     "output_type": "stream",
     "text": [
      "Column 4: Accuracy = 0.7370, F1 Score = 0.6168, ROC AUC = 0.8303\n"
     ]
    },
    {
     "name": "stderr",
     "output_type": "stream",
     "text": [
      "Training Columns:  60%|██████    | 6/10 [01:30<01:00, 15.07s/it]"
     ]
    },
    {
     "name": "stdout",
     "output_type": "stream",
     "text": [
      "Column 5: Accuracy = 0.9698, F1 Score = 0.6795, ROC AUC = 0.8537\n"
     ]
    },
    {
     "name": "stderr",
     "output_type": "stream",
     "text": [
      "Training Columns:  70%|███████   | 7/10 [01:45<00:45, 15.00s/it]"
     ]
    },
    {
     "name": "stdout",
     "output_type": "stream",
     "text": [
      "Column 6: Accuracy = 0.9430, F1 Score = 0.7092, ROC AUC = 0.8279\n"
     ]
    },
    {
     "name": "stderr",
     "output_type": "stream",
     "text": [
      "Training Columns:  80%|████████  | 8/10 [01:59<00:29, 14.70s/it]"
     ]
    },
    {
     "name": "stdout",
     "output_type": "stream",
     "text": [
      "Column 7: Accuracy = 0.8442, F1 Score = 0.7105, ROC AUC = 0.8559\n"
     ]
    },
    {
     "name": "stderr",
     "output_type": "stream",
     "text": [
      "Training Columns:  90%|█████████ | 9/10 [02:13<00:14, 14.73s/it]"
     ]
    },
    {
     "name": "stdout",
     "output_type": "stream",
     "text": [
      "Column 8: Accuracy = 0.7337, F1 Score = 0.6459, ROC AUC = 0.8181\n"
     ]
    },
    {
     "name": "stderr",
     "output_type": "stream",
     "text": [
      "Training Columns: 100%|██████████| 10/10 [02:27<00:00, 14.72s/it]"
     ]
    },
    {
     "name": "stdout",
     "output_type": "stream",
     "text": [
      "Column 9: Accuracy = 0.7387, F1 Score = 0.6531, ROC AUC = 0.8251\n",
      "\n",
      "Training for: ST1 - GSL - Average ResNet50 - /kaggle/input/embeddings-for-rsna/st1-greyscl/final_embeddings.csv\n"
     ]
    },
    {
     "name": "stderr",
     "output_type": "stream",
     "text": [
      "\n",
      "Training Columns:  10%|█         | 1/10 [00:14<02:11, 14.62s/it]"
     ]
    },
    {
     "name": "stdout",
     "output_type": "stream",
     "text": [
      "Column 0: Accuracy = 0.9156, F1 Score = 0.3650, ROC AUC = 0.6393\n"
     ]
    },
    {
     "name": "stderr",
     "output_type": "stream",
     "text": [
      "Training Columns:  20%|██        | 2/10 [00:26<01:45, 13.23s/it]"
     ]
    },
    {
     "name": "stdout",
     "output_type": "stream",
     "text": [
      "Column 1: Accuracy = 0.7784, F1 Score = 0.3513, ROC AUC = 0.5552\n"
     ]
    },
    {
     "name": "stderr",
     "output_type": "stream",
     "text": [
      "Training Columns:  30%|███       | 3/10 [00:38<01:26, 12.38s/it]"
     ]
    },
    {
     "name": "stdout",
     "output_type": "stream",
     "text": [
      "Column 2: Accuracy = 0.6042, F1 Score = 0.3756, ROC AUC = 0.5553\n"
     ]
    },
    {
     "name": "stderr",
     "output_type": "stream",
     "text": [
      "Training Columns:  40%|████      | 4/10 [00:50<01:12, 12.15s/it]"
     ]
    },
    {
     "name": "stdout",
     "output_type": "stream",
     "text": [
      "Column 3: Accuracy = 0.4195, F1 Score = 0.3734, ROC AUC = 0.5669\n"
     ]
    },
    {
     "name": "stderr",
     "output_type": "stream",
     "text": [
      "Training Columns:  50%|█████     | 5/10 [01:01<00:59, 11.90s/it]"
     ]
    },
    {
     "name": "stdout",
     "output_type": "stream",
     "text": [
      "Column 4: Accuracy = 0.6332, F1 Score = 0.3237, ROC AUC = 0.5732\n"
     ]
    },
    {
     "name": "stderr",
     "output_type": "stream",
     "text": [
      "Training Columns:  60%|██████    | 6/10 [01:16<00:51, 12.79s/it]"
     ]
    },
    {
     "name": "stdout",
     "output_type": "stream",
     "text": [
      "Column 5: Accuracy = 0.9024, F1 Score = 0.3370, ROC AUC = 0.6473\n"
     ]
    },
    {
     "name": "stderr",
     "output_type": "stream",
     "text": [
      "Training Columns:  70%|███████   | 7/10 [01:28<00:37, 12.63s/it]"
     ]
    },
    {
     "name": "stdout",
     "output_type": "stream",
     "text": [
      "Column 6: Accuracy = 0.7889, F1 Score = 0.3594, ROC AUC = 0.6080\n"
     ]
    },
    {
     "name": "stderr",
     "output_type": "stream",
     "text": [
      "Training Columns:  80%|████████  | 8/10 [01:39<00:24, 12.23s/it]"
     ]
    },
    {
     "name": "stdout",
     "output_type": "stream",
     "text": [
      "Column 7: Accuracy = 0.5646, F1 Score = 0.3629, ROC AUC = 0.5373\n"
     ]
    },
    {
     "name": "stderr",
     "output_type": "stream",
     "text": [
      "Training Columns:  90%|█████████ | 9/10 [01:51<00:12, 12.09s/it]"
     ]
    },
    {
     "name": "stdout",
     "output_type": "stream",
     "text": [
      "Column 8: Accuracy = 0.3799, F1 Score = 0.3520, ROC AUC = 0.5178\n"
     ]
    },
    {
     "name": "stderr",
     "output_type": "stream",
     "text": [
      "Training Columns: 100%|██████████| 10/10 [02:02<00:00, 12.29s/it]"
     ]
    },
    {
     "name": "stdout",
     "output_type": "stream",
     "text": [
      "Column 9: Accuracy = 0.6517, F1 Score = 0.4221, ROC AUC = 0.5902\n",
      "\n",
      "Training for: ST1 - HIST - Average ResNet50 - /kaggle/input/embeddings-for-rsna/st1-hist/final_embeddings.csv\n"
     ]
    },
    {
     "name": "stderr",
     "output_type": "stream",
     "text": [
      "\n",
      "Training Columns:  10%|█         | 1/10 [00:14<02:14, 14.91s/it]"
     ]
    },
    {
     "name": "stdout",
     "output_type": "stream",
     "text": [
      "Column 0: Accuracy = 0.9156, F1 Score = 0.3607, ROC AUC = 0.7045\n"
     ]
    },
    {
     "name": "stderr",
     "output_type": "stream",
     "text": [
      "Training Columns:  20%|██        | 2/10 [00:27<01:49, 13.64s/it]"
     ]
    },
    {
     "name": "stdout",
     "output_type": "stream",
     "text": [
      "Column 1: Accuracy = 0.7704, F1 Score = 0.3817, ROC AUC = 0.5624\n"
     ]
    },
    {
     "name": "stderr",
     "output_type": "stream",
     "text": [
      "Training Columns:  30%|███       | 3/10 [00:39<01:29, 12.73s/it]"
     ]
    },
    {
     "name": "stdout",
     "output_type": "stream",
     "text": [
      "Column 2: Accuracy = 0.6069, F1 Score = 0.4036, ROC AUC = 0.5950\n"
     ]
    },
    {
     "name": "stderr",
     "output_type": "stream",
     "text": [
      "Training Columns:  40%|████      | 4/10 [00:51<01:14, 12.49s/it]"
     ]
    },
    {
     "name": "stdout",
     "output_type": "stream",
     "text": [
      "Column 3: Accuracy = 0.4037, F1 Score = 0.3762, ROC AUC = 0.5795\n"
     ]
    },
    {
     "name": "stderr",
     "output_type": "stream",
     "text": [
      "Training Columns:  50%|█████     | 5/10 [01:03<01:01, 12.33s/it]"
     ]
    },
    {
     "name": "stdout",
     "output_type": "stream",
     "text": [
      "Column 4: Accuracy = 0.6227, F1 Score = 0.3450, ROC AUC = 0.5105\n"
     ]
    },
    {
     "name": "stderr",
     "output_type": "stream",
     "text": [
      "Training Columns:  60%|██████    | 6/10 [01:16<00:50, 12.60s/it]"
     ]
    },
    {
     "name": "stdout",
     "output_type": "stream",
     "text": [
      "Column 5: Accuracy = 0.9024, F1 Score = 0.3542, ROC AUC = 0.5870\n"
     ]
    },
    {
     "name": "stderr",
     "output_type": "stream",
     "text": [
      "Training Columns:  70%|███████   | 7/10 [01:30<00:39, 13.17s/it]"
     ]
    },
    {
     "name": "stdout",
     "output_type": "stream",
     "text": [
      "Column 6: Accuracy = 0.7810, F1 Score = 0.3907, ROC AUC = 0.6354\n"
     ]
    },
    {
     "name": "stderr",
     "output_type": "stream",
     "text": [
      "Training Columns:  80%|████████  | 8/10 [01:42<00:25, 12.78s/it]"
     ]
    },
    {
     "name": "stdout",
     "output_type": "stream",
     "text": [
      "Column 7: Accuracy = 0.5567, F1 Score = 0.3472, ROC AUC = 0.5551\n"
     ]
    },
    {
     "name": "stderr",
     "output_type": "stream",
     "text": [
      "Training Columns:  90%|█████████ | 9/10 [01:54<00:12, 12.54s/it]"
     ]
    },
    {
     "name": "stdout",
     "output_type": "stream",
     "text": [
      "Column 8: Accuracy = 0.4063, F1 Score = 0.3808, ROC AUC = 0.5507\n"
     ]
    },
    {
     "name": "stderr",
     "output_type": "stream",
     "text": [
      "Training Columns: 100%|██████████| 10/10 [02:06<00:00, 12.67s/it]"
     ]
    },
    {
     "name": "stdout",
     "output_type": "stream",
     "text": [
      "Column 9: Accuracy = 0.6069, F1 Score = 0.3506, ROC AUC = 0.5577\n",
      "\n",
      "Training for: ST2 - GSL - Average ResNet50 - /kaggle/input/embeddings-for-rsna/st2-greyscl/final_embeddings.csv\n"
     ]
    },
    {
     "name": "stderr",
     "output_type": "stream",
     "text": [
      "\n",
      "Training Columns:  20%|██        | 1/5 [00:12<00:50, 12.57s/it]"
     ]
    },
    {
     "name": "stdout",
     "output_type": "stream",
     "text": [
      "Column 0: Accuracy = 0.9441, F1 Score = 0.3238, ROC AUC = 0.5421\n"
     ]
    },
    {
     "name": "stderr",
     "output_type": "stream",
     "text": [
      "Training Columns:  40%|████      | 2/5 [00:26<00:40, 13.54s/it]"
     ]
    },
    {
     "name": "stdout",
     "output_type": "stream",
     "text": [
      "Column 1: Accuracy = 0.8245, F1 Score = 0.3355, ROC AUC = 0.7029\n"
     ]
    },
    {
     "name": "stderr",
     "output_type": "stream",
     "text": [
      "Training Columns:  60%|██████    | 3/5 [00:38<00:25, 12.90s/it]"
     ]
    },
    {
     "name": "stdout",
     "output_type": "stream",
     "text": [
      "Column 2: Accuracy = 0.7394, F1 Score = 0.4077, ROC AUC = 0.6469\n"
     ]
    },
    {
     "name": "stderr",
     "output_type": "stream",
     "text": [
      "Training Columns:  80%|████████  | 4/5 [00:52<00:13, 13.09s/it]"
     ]
    },
    {
     "name": "stdout",
     "output_type": "stream",
     "text": [
      "Column 3: Accuracy = 0.6649, F1 Score = 0.3918, ROC AUC = 0.6544\n"
     ]
    },
    {
     "name": "stderr",
     "output_type": "stream",
     "text": [
      "Training Columns: 100%|██████████| 5/5 [01:05<00:00, 13.03s/it]"
     ]
    },
    {
     "name": "stdout",
     "output_type": "stream",
     "text": [
      "Column 4: Accuracy = 0.9495, F1 Score = 0.3663, ROC AUC = 0.5085\n",
      "\n",
      "Training for: ST2 - HIST - Average ResNet50 - /kaggle/input/embeddings-for-rsna/st2-hist/final_embeddings.csv\n"
     ]
    },
    {
     "name": "stderr",
     "output_type": "stream",
     "text": [
      "\n",
      "Training Columns:  20%|██        | 1/5 [00:13<00:52, 13.06s/it]"
     ]
    },
    {
     "name": "stdout",
     "output_type": "stream",
     "text": [
      "Column 0: Accuracy = 0.9521, F1 Score = 0.3252, ROC AUC = 0.6620\n"
     ]
    },
    {
     "name": "stderr",
     "output_type": "stream",
     "text": [
      "Training Columns:  40%|████      | 2/5 [00:27<00:42, 14.08s/it]"
     ]
    },
    {
     "name": "stdout",
     "output_type": "stream",
     "text": [
      "Column 1: Accuracy = 0.8670, F1 Score = 0.3519, ROC AUC = 0.6571\n"
     ]
    },
    {
     "name": "stderr",
     "output_type": "stream",
     "text": [
      "Training Columns:  60%|██████    | 3/5 [00:40<00:27, 13.60s/it]"
     ]
    },
    {
     "name": "stdout",
     "output_type": "stream",
     "text": [
      "Column 2: Accuracy = 0.7713, F1 Score = 0.3894, ROC AUC = 0.6362\n"
     ]
    },
    {
     "name": "stderr",
     "output_type": "stream",
     "text": [
      "Training Columns:  80%|████████  | 4/5 [00:55<00:13, 13.84s/it]"
     ]
    },
    {
     "name": "stdout",
     "output_type": "stream",
     "text": [
      "Column 3: Accuracy = 0.6622, F1 Score = 0.3342, ROC AUC = 0.6390\n"
     ]
    },
    {
     "name": "stderr",
     "output_type": "stream",
     "text": [
      "Training Columns: 100%|██████████| 5/5 [01:08<00:00, 13.63s/it]"
     ]
    },
    {
     "name": "stdout",
     "output_type": "stream",
     "text": [
      "Column 4: Accuracy = 0.9574, F1 Score = 0.3261, ROC AUC = 0.5003\n",
      "\n",
      "Training for: AT2 - GSL - MedicalNet Network - /kaggle/input/medicalnet-attention-layers-for-rsna/AT2_attention_embeddings_gsl.csv\n"
     ]
    },
    {
     "name": "stderr",
     "output_type": "stream",
     "text": [
      "\n",
      "Training Columns:  10%|█         | 1/10 [00:16<02:24, 16.01s/it]"
     ]
    },
    {
     "name": "stdout",
     "output_type": "stream",
     "text": [
      "Column 0: Accuracy = 0.9799, F1 Score = 0.7641, ROC AUC = 0.6842\n"
     ]
    },
    {
     "name": "stderr",
     "output_type": "stream",
     "text": [
      "Training Columns:  20%|██        | 2/10 [00:29<01:56, 14.58s/it]"
     ]
    },
    {
     "name": "stdout",
     "output_type": "stream",
     "text": [
      "Column 1: Accuracy = 0.9363, F1 Score = 0.5020, ROC AUC = 0.6889\n"
     ]
    },
    {
     "name": "stderr",
     "output_type": "stream",
     "text": [
      "Training Columns:  30%|███       | 3/10 [00:44<01:41, 14.52s/it]"
     ]
    },
    {
     "name": "stdout",
     "output_type": "stream",
     "text": [
      "Column 2: Accuracy = 0.8325, F1 Score = 0.6490, ROC AUC = 0.8143\n"
     ]
    },
    {
     "name": "stderr",
     "output_type": "stream",
     "text": [
      "Training Columns:  40%|████      | 4/10 [00:55<01:20, 13.39s/it]"
     ]
    },
    {
     "name": "stdout",
     "output_type": "stream",
     "text": [
      "Column 3: Accuracy = 0.7203, F1 Score = 0.6142, ROC AUC = 0.7735\n"
     ]
    },
    {
     "name": "stderr",
     "output_type": "stream",
     "text": [
      "Training Columns:  50%|█████     | 5/10 [01:07<01:03, 12.78s/it]"
     ]
    },
    {
     "name": "stdout",
     "output_type": "stream",
     "text": [
      "Column 4: Accuracy = 0.7370, F1 Score = 0.6469, ROC AUC = 0.7835\n"
     ]
    },
    {
     "name": "stderr",
     "output_type": "stream",
     "text": [
      "Training Columns:  60%|██████    | 6/10 [01:23<00:55, 13.97s/it]"
     ]
    },
    {
     "name": "stdout",
     "output_type": "stream",
     "text": [
      "Column 5: Accuracy = 0.9715, F1 Score = 0.6856, ROC AUC = 0.7089\n"
     ]
    },
    {
     "name": "stderr",
     "output_type": "stream",
     "text": [
      "Training Columns:  70%|███████   | 7/10 [01:37<00:41, 13.86s/it]"
     ]
    },
    {
     "name": "stdout",
     "output_type": "stream",
     "text": [
      "Column 6: Accuracy = 0.9397, F1 Score = 0.6702, ROC AUC = 0.7041\n"
     ]
    },
    {
     "name": "stderr",
     "output_type": "stream",
     "text": [
      "Training Columns:  80%|████████  | 8/10 [01:52<00:28, 14.14s/it]"
     ]
    },
    {
     "name": "stdout",
     "output_type": "stream",
     "text": [
      "Column 7: Accuracy = 0.8375, F1 Score = 0.6315, ROC AUC = 0.8278\n"
     ]
    },
    {
     "name": "stderr",
     "output_type": "stream",
     "text": [
      "Training Columns:  90%|█████████ | 9/10 [02:03<00:13, 13.38s/it]"
     ]
    },
    {
     "name": "stdout",
     "output_type": "stream",
     "text": [
      "Column 8: Accuracy = 0.7370, F1 Score = 0.6370, ROC AUC = 0.8052\n"
     ]
    },
    {
     "name": "stderr",
     "output_type": "stream",
     "text": [
      "Training Columns: 100%|██████████| 10/10 [02:15<00:00, 13.56s/it]"
     ]
    },
    {
     "name": "stdout",
     "output_type": "stream",
     "text": [
      "Column 9: Accuracy = 0.7454, F1 Score = 0.6656, ROC AUC = 0.8210\n",
      "\n",
      "Training for: AT2 - HIST - MedicalNet Network - /kaggle/input/medicalnet-attention-layers-for-rsna/AT2_attention_embeddings_hist.csv\n"
     ]
    },
    {
     "name": "stderr",
     "output_type": "stream",
     "text": [
      "\n",
      "Training Columns:  10%|█         | 1/10 [00:15<02:21, 15.71s/it]"
     ]
    },
    {
     "name": "stdout",
     "output_type": "stream",
     "text": [
      "Column 0: Accuracy = 0.9799, F1 Score = 0.7641, ROC AUC = 0.6842\n"
     ]
    },
    {
     "name": "stderr",
     "output_type": "stream",
     "text": [
      "Training Columns:  20%|██        | 2/10 [00:29<01:56, 14.60s/it]"
     ]
    },
    {
     "name": "stdout",
     "output_type": "stream",
     "text": [
      "Column 1: Accuracy = 0.9296, F1 Score = 0.4953, ROC AUC = 0.6817\n"
     ]
    },
    {
     "name": "stderr",
     "output_type": "stream",
     "text": [
      "Training Columns:  30%|███       | 3/10 [00:43<01:41, 14.52s/it]"
     ]
    },
    {
     "name": "stdout",
     "output_type": "stream",
     "text": [
      "Column 2: Accuracy = 0.8224, F1 Score = 0.6460, ROC AUC = 0.8332\n"
     ]
    },
    {
     "name": "stderr",
     "output_type": "stream",
     "text": [
      "Training Columns:  40%|████      | 4/10 [00:56<01:21, 13.55s/it]"
     ]
    },
    {
     "name": "stdout",
     "output_type": "stream",
     "text": [
      "Column 3: Accuracy = 0.7270, F1 Score = 0.6258, ROC AUC = 0.8066\n"
     ]
    },
    {
     "name": "stderr",
     "output_type": "stream",
     "text": [
      "Training Columns:  50%|█████     | 5/10 [01:09<01:07, 13.58s/it]"
     ]
    },
    {
     "name": "stdout",
     "output_type": "stream",
     "text": [
      "Column 4: Accuracy = 0.7370, F1 Score = 0.6317, ROC AUC = 0.7784\n"
     ]
    },
    {
     "name": "stderr",
     "output_type": "stream",
     "text": [
      "Training Columns:  60%|██████    | 6/10 [01:24<00:55, 13.88s/it]"
     ]
    },
    {
     "name": "stdout",
     "output_type": "stream",
     "text": [
      "Column 5: Accuracy = 0.9749, F1 Score = 0.6990, ROC AUC = 0.7932\n"
     ]
    },
    {
     "name": "stderr",
     "output_type": "stream",
     "text": [
      "Training Columns:  70%|███████   | 7/10 [01:38<00:41, 13.89s/it]"
     ]
    },
    {
     "name": "stdout",
     "output_type": "stream",
     "text": [
      "Column 6: Accuracy = 0.9380, F1 Score = 0.6392, ROC AUC = 0.8273\n"
     ]
    },
    {
     "name": "stderr",
     "output_type": "stream",
     "text": [
      "Training Columns:  80%|████████  | 8/10 [01:52<00:28, 14.15s/it]"
     ]
    },
    {
     "name": "stdout",
     "output_type": "stream",
     "text": [
      "Column 7: Accuracy = 0.8459, F1 Score = 0.6226, ROC AUC = 0.8184\n"
     ]
    },
    {
     "name": "stderr",
     "output_type": "stream",
     "text": [
      "Training Columns:  90%|█████████ | 9/10 [02:04<00:13, 13.45s/it]"
     ]
    },
    {
     "name": "stdout",
     "output_type": "stream",
     "text": [
      "Column 8: Accuracy = 0.7538, F1 Score = 0.6604, ROC AUC = 0.7877\n"
     ]
    },
    {
     "name": "stderr",
     "output_type": "stream",
     "text": [
      "Training Columns: 100%|██████████| 10/10 [02:18<00:00, 13.83s/it]"
     ]
    },
    {
     "name": "stdout",
     "output_type": "stream",
     "text": [
      "Column 9: Accuracy = 0.7705, F1 Score = 0.6849, ROC AUC = 0.8022\n",
      "\n",
      "Training for: ST1 - GSL - MedicalNet Network - /kaggle/input/medicalnet-attention-layers-for-rsna/ST1_attention_embeddings_gsl.csv\n"
     ]
    },
    {
     "name": "stderr",
     "output_type": "stream",
     "text": [
      "\n",
      "Training Columns:  10%|█         | 1/10 [00:12<01:53, 12.58s/it]"
     ]
    },
    {
     "name": "stdout",
     "output_type": "stream",
     "text": [
      "Column 0: Accuracy = 0.9235, F1 Score = 0.3660, ROC AUC = 0.7177\n"
     ]
    },
    {
     "name": "stderr",
     "output_type": "stream",
     "text": [
      "Training Columns:  20%|██        | 2/10 [00:24<01:38, 12.31s/it]"
     ]
    },
    {
     "name": "stdout",
     "output_type": "stream",
     "text": [
      "Column 1: Accuracy = 0.8232, F1 Score = 0.3357, ROC AUC = 0.6160\n"
     ]
    },
    {
     "name": "stderr",
     "output_type": "stream",
     "text": [
      "Training Columns:  30%|███       | 3/10 [00:37<01:28, 12.63s/it]"
     ]
    },
    {
     "name": "stdout",
     "output_type": "stream",
     "text": [
      "Column 2: Accuracy = 0.6280, F1 Score = 0.3520, ROC AUC = 0.5936\n"
     ]
    },
    {
     "name": "stderr",
     "output_type": "stream",
     "text": [
      "Training Columns:  40%|████      | 4/10 [00:47<01:09, 11.63s/it]"
     ]
    },
    {
     "name": "stdout",
     "output_type": "stream",
     "text": [
      "Column 3: Accuracy = 0.3879, F1 Score = 0.3656, ROC AUC = 0.5415\n"
     ]
    },
    {
     "name": "stderr",
     "output_type": "stream",
     "text": [
      "Training Columns:  50%|█████     | 5/10 [01:01<01:01, 12.22s/it]"
     ]
    },
    {
     "name": "stdout",
     "output_type": "stream",
     "text": [
      "Column 4: Accuracy = 0.6834, F1 Score = 0.3131, ROC AUC = 0.5441\n"
     ]
    },
    {
     "name": "stderr",
     "output_type": "stream",
     "text": [
      "Training Columns:  60%|██████    | 6/10 [01:13<00:49, 12.37s/it]"
     ]
    },
    {
     "name": "stdout",
     "output_type": "stream",
     "text": [
      "Column 5: Accuracy = 0.9314, F1 Score = 0.3215, ROC AUC = 0.6346\n"
     ]
    },
    {
     "name": "stderr",
     "output_type": "stream",
     "text": [
      "Training Columns:  70%|███████   | 7/10 [01:25<00:36, 12.29s/it]"
     ]
    },
    {
     "name": "stdout",
     "output_type": "stream",
     "text": [
      "Column 6: Accuracy = 0.8311, F1 Score = 0.4175, ROC AUC = 0.6182\n"
     ]
    },
    {
     "name": "stderr",
     "output_type": "stream",
     "text": [
      "Training Columns:  80%|████████  | 8/10 [01:38<00:25, 12.52s/it]"
     ]
    },
    {
     "name": "stdout",
     "output_type": "stream",
     "text": [
      "Column 7: Accuracy = 0.6095, F1 Score = 0.3951, ROC AUC = 0.6179\n"
     ]
    },
    {
     "name": "stderr",
     "output_type": "stream",
     "text": [
      "Training Columns:  90%|█████████ | 9/10 [01:48<00:11, 11.75s/it]"
     ]
    },
    {
     "name": "stdout",
     "output_type": "stream",
     "text": [
      "Column 8: Accuracy = 0.4037, F1 Score = 0.3613, ROC AUC = 0.5784\n"
     ]
    },
    {
     "name": "stderr",
     "output_type": "stream",
     "text": [
      "Training Columns: 100%|██████████| 10/10 [02:00<00:00, 12.03s/it]"
     ]
    },
    {
     "name": "stdout",
     "output_type": "stream",
     "text": [
      "Column 9: Accuracy = 0.6728, F1 Score = 0.3349, ROC AUC = 0.5740\n",
      "\n",
      "Training for: ST1 - HIST - MedicalNet Network - /kaggle/input/medicalnet-attention-layers-for-rsna/ST1_attention_embeddings_hist.csv\n"
     ]
    },
    {
     "name": "stderr",
     "output_type": "stream",
     "text": [
      "\n",
      "Training Columns:  10%|█         | 1/10 [00:14<02:07, 14.16s/it]"
     ]
    },
    {
     "name": "stdout",
     "output_type": "stream",
     "text": [
      "Column 0: Accuracy = 0.9288, F1 Score = 0.3722, ROC AUC = 0.5946\n"
     ]
    },
    {
     "name": "stderr",
     "output_type": "stream",
     "text": [
      "Training Columns:  20%|██        | 2/10 [00:26<01:43, 12.97s/it]"
     ]
    },
    {
     "name": "stdout",
     "output_type": "stream",
     "text": [
      "Column 1: Accuracy = 0.8232, F1 Score = 0.3139, ROC AUC = 0.5816\n"
     ]
    },
    {
     "name": "stderr",
     "output_type": "stream",
     "text": [
      "Training Columns:  30%|███       | 3/10 [00:39<01:30, 12.91s/it]"
     ]
    },
    {
     "name": "stdout",
     "output_type": "stream",
     "text": [
      "Column 2: Accuracy = 0.6227, F1 Score = 0.3195, ROC AUC = 0.5691\n"
     ]
    },
    {
     "name": "stderr",
     "output_type": "stream",
     "text": [
      "Training Columns:  40%|████      | 4/10 [00:52<01:18, 13.10s/it]"
     ]
    },
    {
     "name": "stdout",
     "output_type": "stream",
     "text": [
      "Column 3: Accuracy = 0.4142, F1 Score = 0.3782, ROC AUC = 0.5522\n"
     ]
    },
    {
     "name": "stderr",
     "output_type": "stream",
     "text": [
      "Training Columns:  50%|█████     | 5/10 [01:03<01:02, 12.50s/it]"
     ]
    },
    {
     "name": "stdout",
     "output_type": "stream",
     "text": [
      "Column 4: Accuracy = 0.6781, F1 Score = 0.3093, ROC AUC = 0.5718\n"
     ]
    },
    {
     "name": "stderr",
     "output_type": "stream",
     "text": [
      "Training Columns:  60%|██████    | 6/10 [01:18<00:52, 13.12s/it]"
     ]
    },
    {
     "name": "stdout",
     "output_type": "stream",
     "text": [
      "Column 5: Accuracy = 0.9393, F1 Score = 0.3229, ROC AUC = 0.5986\n"
     ]
    },
    {
     "name": "stderr",
     "output_type": "stream",
     "text": [
      "Training Columns:  70%|███████   | 7/10 [01:30<00:38, 12.83s/it]"
     ]
    },
    {
     "name": "stdout",
     "output_type": "stream",
     "text": [
      "Column 6: Accuracy = 0.8364, F1 Score = 0.3497, ROC AUC = 0.5985\n"
     ]
    },
    {
     "name": "stderr",
     "output_type": "stream",
     "text": [
      "Training Columns:  80%|████████  | 8/10 [01:43<00:25, 12.87s/it]"
     ]
    },
    {
     "name": "stdout",
     "output_type": "stream",
     "text": [
      "Column 7: Accuracy = 0.6069, F1 Score = 0.3474, ROC AUC = 0.5249\n"
     ]
    },
    {
     "name": "stderr",
     "output_type": "stream",
     "text": [
      "Training Columns:  90%|█████████ | 9/10 [01:53<00:11, 11.99s/it]"
     ]
    },
    {
     "name": "stdout",
     "output_type": "stream",
     "text": [
      "Column 8: Accuracy = 0.3694, F1 Score = 0.3283, ROC AUC = 0.4997\n"
     ]
    },
    {
     "name": "stderr",
     "output_type": "stream",
     "text": [
      "Training Columns: 100%|██████████| 10/10 [02:05<00:00, 12.51s/it]"
     ]
    },
    {
     "name": "stdout",
     "output_type": "stream",
     "text": [
      "Column 9: Accuracy = 0.6702, F1 Score = 0.3195, ROC AUC = 0.5143\n",
      "\n",
      "Training for: ST2 - GSL - MedicalNet Network - /kaggle/input/medicalnet-attention-layers-for-rsna/ST2_attention_embeddings_gsl.csv\n"
     ]
    },
    {
     "name": "stderr",
     "output_type": "stream",
     "text": [
      "\n",
      "Training Columns:  20%|██        | 1/5 [00:14<00:58, 14.55s/it]"
     ]
    },
    {
     "name": "stdout",
     "output_type": "stream",
     "text": [
      "Column 0: Accuracy = 0.9654, F1 Score = 0.3275, ROC AUC = 0.5974\n"
     ]
    },
    {
     "name": "stderr",
     "output_type": "stream",
     "text": [
      "Training Columns:  40%|████      | 2/5 [00:27<00:40, 13.41s/it]"
     ]
    },
    {
     "name": "stdout",
     "output_type": "stream",
     "text": [
      "Column 1: Accuracy = 0.8750, F1 Score = 0.3269, ROC AUC = 0.6391\n"
     ]
    },
    {
     "name": "stderr",
     "output_type": "stream",
     "text": [
      "Training Columns:  60%|██████    | 3/5 [00:41<00:27, 13.74s/it]"
     ]
    },
    {
     "name": "stdout",
     "output_type": "stream",
     "text": [
      "Column 2: Accuracy = 0.7979, F1 Score = 0.3179, ROC AUC = 0.5950\n"
     ]
    },
    {
     "name": "stderr",
     "output_type": "stream",
     "text": [
      "Training Columns:  80%|████████  | 4/5 [00:53<00:12, 12.96s/it]"
     ]
    },
    {
     "name": "stdout",
     "output_type": "stream",
     "text": [
      "Column 3: Accuracy = 0.7048, F1 Score = 0.3456, ROC AUC = 0.6026\n"
     ]
    },
    {
     "name": "stderr",
     "output_type": "stream",
     "text": [
      "Training Columns: 100%|██████████| 5/5 [01:05<00:00, 13.17s/it]"
     ]
    },
    {
     "name": "stdout",
     "output_type": "stream",
     "text": [
      "Column 4: Accuracy = 0.9628, F1 Score = 0.3270, ROC AUC = 0.6178\n",
      "\n",
      "Training for: ST2 - HIST - MedicalNet Network - /kaggle/input/medicalnet-attention-layers-for-rsna/ST2_attention_embeddings_hist.csv\n"
     ]
    },
    {
     "name": "stderr",
     "output_type": "stream",
     "text": [
      "\n",
      "Training Columns:  20%|██        | 1/5 [00:14<00:57, 14.37s/it]"
     ]
    },
    {
     "name": "stdout",
     "output_type": "stream",
     "text": [
      "Column 0: Accuracy = 0.9681, F1 Score = 0.3279, ROC AUC = 0.5871\n"
     ]
    },
    {
     "name": "stderr",
     "output_type": "stream",
     "text": [
      "Training Columns:  40%|████      | 2/5 [00:26<00:40, 13.34s/it]"
     ]
    },
    {
     "name": "stdout",
     "output_type": "stream",
     "text": [
      "Column 1: Accuracy = 0.8910, F1 Score = 0.3141, ROC AUC = 0.5666\n"
     ]
    },
    {
     "name": "stderr",
     "output_type": "stream",
     "text": [
      "Training Columns:  60%|██████    | 3/5 [00:40<00:27, 13.60s/it]"
     ]
    },
    {
     "name": "stdout",
     "output_type": "stream",
     "text": [
      "Column 2: Accuracy = 0.7793, F1 Score = 0.2924, ROC AUC = 0.5744\n"
     ]
    },
    {
     "name": "stderr",
     "output_type": "stream",
     "text": [
      "Training Columns:  80%|████████  | 4/5 [00:52<00:12, 12.95s/it]"
     ]
    },
    {
     "name": "stdout",
     "output_type": "stream",
     "text": [
      "Column 3: Accuracy = 0.6862, F1 Score = 0.2835, ROC AUC = 0.5559\n"
     ]
    },
    {
     "name": "stderr",
     "output_type": "stream",
     "text": [
      "Training Columns: 100%|██████████| 5/5 [01:05<00:00, 13.13s/it]"
     ]
    },
    {
     "name": "stdout",
     "output_type": "stream",
     "text": [
      "Column 4: Accuracy = 0.9681, F1 Score = 0.3279, ROC AUC = 0.6266\n",
      "Training complete. Results saved to 'results_summary.csv'.\n"
     ]
    },
    {
     "name": "stderr",
     "output_type": "stream",
     "text": [
      "\n"
     ]
    }
   ],
   "source": [
    "results_df = pd.DataFrame(columns=['Combination', 'Avg_Test_Accuracy', 'Avg_F1_Score', 'Avg_ROC_AUC'])\n",
    "\n",
    "for embedding_path, label_path, name in zip(all_embedding_paths, corresponding_labels_paths, list_of_combination):\n",
    "    print(f\"\\nTraining for: {name} - {embedding_path}\")\n",
    "    \n",
    "    model_save_path_prefix = f'{name}_svm_model_col_'\n",
    "    \n",
    "    avg_accuracy, avg_f1_score, avg_roc_auc = train(embedding_path, label_path)\n",
    "    \n",
    "    result_row = pd.DataFrame({\n",
    "        'Combination': [name],\n",
    "        'Avg_Test_Accuracy': [avg_accuracy],\n",
    "        'Avg_F1_Score': [avg_f1_score], \n",
    "        'Avg_ROC_AUC': [avg_roc_auc],\n",
    "    })\n",
    "    \n",
    "    results_df = pd.concat([results_df, result_row], ignore_index=True)\n",
    "\n",
    "results_df.to_csv('results_summary.csv', index=False)\n",
    "\n",
    "print(\"Training complete. Results saved to 'results_summary.csv'.\")"
   ]
  },
  {
   "cell_type": "code",
   "execution_count": 5,
   "id": "1a2570c3",
   "metadata": {
    "execution": {
     "iopub.execute_input": "2024-10-10T18:10:47.466419Z",
     "iopub.status.busy": "2024-10-10T18:10:47.465993Z",
     "iopub.status.idle": "2024-10-10T18:10:47.486090Z",
     "shell.execute_reply": "2024-10-10T18:10:47.484974Z"
    },
    "papermill": {
     "duration": 0.055346,
     "end_time": "2024-10-10T18:10:47.488727",
     "exception": false,
     "start_time": "2024-10-10T18:10:47.433381",
     "status": "completed"
    },
    "tags": []
   },
   "outputs": [
    {
     "data": {
      "text/html": [
       "<div>\n",
       "<style scoped>\n",
       "    .dataframe tbody tr th:only-of-type {\n",
       "        vertical-align: middle;\n",
       "    }\n",
       "\n",
       "    .dataframe tbody tr th {\n",
       "        vertical-align: top;\n",
       "    }\n",
       "\n",
       "    .dataframe thead th {\n",
       "        text-align: right;\n",
       "    }\n",
       "</style>\n",
       "<table border=\"1\" class=\"dataframe\">\n",
       "  <thead>\n",
       "    <tr style=\"text-align: right;\">\n",
       "      <th></th>\n",
       "      <th>Combination</th>\n",
       "      <th>Avg_Test_Accuracy</th>\n",
       "      <th>Avg_F1_Score</th>\n",
       "      <th>Avg_ROC_AUC</th>\n",
       "    </tr>\n",
       "  </thead>\n",
       "  <tbody>\n",
       "    <tr>\n",
       "      <th>0</th>\n",
       "      <td>AT2 - GSL - Attention Network</td>\n",
       "      <td>0.867002</td>\n",
       "      <td>0.678479</td>\n",
       "      <td>0.847017</td>\n",
       "    </tr>\n",
       "    <tr>\n",
       "      <th>1</th>\n",
       "      <td>AT2 - HIST - Attention Network</td>\n",
       "      <td>0.861642</td>\n",
       "      <td>0.647068</td>\n",
       "      <td>0.850232</td>\n",
       "    </tr>\n",
       "    <tr>\n",
       "      <th>2</th>\n",
       "      <td>ST1 - GSL - Attention Network</td>\n",
       "      <td>0.701847</td>\n",
       "      <td>0.342972</td>\n",
       "      <td>0.622694</td>\n",
       "    </tr>\n",
       "    <tr>\n",
       "      <th>3</th>\n",
       "      <td>ST1 - HIST - Attention Network</td>\n",
       "      <td>0.706860</td>\n",
       "      <td>0.346425</td>\n",
       "      <td>0.626725</td>\n",
       "    </tr>\n",
       "    <tr>\n",
       "      <th>4</th>\n",
       "      <td>ST2 - GSL - Attention Network</td>\n",
       "      <td>0.873404</td>\n",
       "      <td>0.342883</td>\n",
       "      <td>0.618152</td>\n",
       "    </tr>\n",
       "    <tr>\n",
       "      <th>5</th>\n",
       "      <td>ST2 - HIST - Attention Network</td>\n",
       "      <td>0.870745</td>\n",
       "      <td>0.333780</td>\n",
       "      <td>0.665818</td>\n",
       "    </tr>\n",
       "    <tr>\n",
       "      <th>6</th>\n",
       "      <td>AT2 - GSL - Average ResNet50</td>\n",
       "      <td>0.839363</td>\n",
       "      <td>0.646234</td>\n",
       "      <td>0.785100</td>\n",
       "    </tr>\n",
       "    <tr>\n",
       "      <th>7</th>\n",
       "      <td>AT2 - HIST - Average ResNet50</td>\n",
       "      <td>0.841709</td>\n",
       "      <td>0.653420</td>\n",
       "      <td>0.816812</td>\n",
       "    </tr>\n",
       "    <tr>\n",
       "      <th>8</th>\n",
       "      <td>ST1 - GSL - Average ResNet50</td>\n",
       "      <td>0.663852</td>\n",
       "      <td>0.362236</td>\n",
       "      <td>0.579038</td>\n",
       "    </tr>\n",
       "    <tr>\n",
       "      <th>9</th>\n",
       "      <td>ST1 - HIST - Average ResNet50</td>\n",
       "      <td>0.657256</td>\n",
       "      <td>0.369063</td>\n",
       "      <td>0.583785</td>\n",
       "    </tr>\n",
       "    <tr>\n",
       "      <th>10</th>\n",
       "      <td>ST2 - GSL - Average ResNet50</td>\n",
       "      <td>0.824468</td>\n",
       "      <td>0.365017</td>\n",
       "      <td>0.610942</td>\n",
       "    </tr>\n",
       "    <tr>\n",
       "      <th>11</th>\n",
       "      <td>ST2 - HIST - Average ResNet50</td>\n",
       "      <td>0.842021</td>\n",
       "      <td>0.345346</td>\n",
       "      <td>0.618905</td>\n",
       "    </tr>\n",
       "    <tr>\n",
       "      <th>12</th>\n",
       "      <td>AT2 - GSL - MedicalNet Network</td>\n",
       "      <td>0.843719</td>\n",
       "      <td>0.646623</td>\n",
       "      <td>0.761137</td>\n",
       "    </tr>\n",
       "    <tr>\n",
       "      <th>13</th>\n",
       "      <td>AT2 - HIST - MedicalNet Network</td>\n",
       "      <td>0.847906</td>\n",
       "      <td>0.646896</td>\n",
       "      <td>0.781295</td>\n",
       "    </tr>\n",
       "    <tr>\n",
       "      <th>14</th>\n",
       "      <td>ST1 - GSL - MedicalNet Network</td>\n",
       "      <td>0.689446</td>\n",
       "      <td>0.356265</td>\n",
       "      <td>0.603618</td>\n",
       "    </tr>\n",
       "    <tr>\n",
       "      <th>15</th>\n",
       "      <td>ST1 - HIST - MedicalNet Network</td>\n",
       "      <td>0.688918</td>\n",
       "      <td>0.336113</td>\n",
       "      <td>0.560515</td>\n",
       "    </tr>\n",
       "    <tr>\n",
       "      <th>16</th>\n",
       "      <td>ST2 - GSL - MedicalNet Network</td>\n",
       "      <td>0.861170</td>\n",
       "      <td>0.328963</td>\n",
       "      <td>0.610379</td>\n",
       "    </tr>\n",
       "    <tr>\n",
       "      <th>17</th>\n",
       "      <td>ST2 - HIST - MedicalNet Network</td>\n",
       "      <td>0.858511</td>\n",
       "      <td>0.309181</td>\n",
       "      <td>0.582119</td>\n",
       "    </tr>\n",
       "  </tbody>\n",
       "</table>\n",
       "</div>"
      ],
      "text/plain": [
       "                        Combination  Avg_Test_Accuracy  Avg_F1_Score  \\\n",
       "0     AT2 - GSL - Attention Network           0.867002      0.678479   \n",
       "1    AT2 - HIST - Attention Network           0.861642      0.647068   \n",
       "2     ST1 - GSL - Attention Network           0.701847      0.342972   \n",
       "3    ST1 - HIST - Attention Network           0.706860      0.346425   \n",
       "4     ST2 - GSL - Attention Network           0.873404      0.342883   \n",
       "5    ST2 - HIST - Attention Network           0.870745      0.333780   \n",
       "6      AT2 - GSL - Average ResNet50           0.839363      0.646234   \n",
       "7     AT2 - HIST - Average ResNet50           0.841709      0.653420   \n",
       "8      ST1 - GSL - Average ResNet50           0.663852      0.362236   \n",
       "9     ST1 - HIST - Average ResNet50           0.657256      0.369063   \n",
       "10     ST2 - GSL - Average ResNet50           0.824468      0.365017   \n",
       "11    ST2 - HIST - Average ResNet50           0.842021      0.345346   \n",
       "12   AT2 - GSL - MedicalNet Network           0.843719      0.646623   \n",
       "13  AT2 - HIST - MedicalNet Network           0.847906      0.646896   \n",
       "14   ST1 - GSL - MedicalNet Network           0.689446      0.356265   \n",
       "15  ST1 - HIST - MedicalNet Network           0.688918      0.336113   \n",
       "16   ST2 - GSL - MedicalNet Network           0.861170      0.328963   \n",
       "17  ST2 - HIST - MedicalNet Network           0.858511      0.309181   \n",
       "\n",
       "    Avg_ROC_AUC  \n",
       "0      0.847017  \n",
       "1      0.850232  \n",
       "2      0.622694  \n",
       "3      0.626725  \n",
       "4      0.618152  \n",
       "5      0.665818  \n",
       "6      0.785100  \n",
       "7      0.816812  \n",
       "8      0.579038  \n",
       "9      0.583785  \n",
       "10     0.610942  \n",
       "11     0.618905  \n",
       "12     0.761137  \n",
       "13     0.781295  \n",
       "14     0.603618  \n",
       "15     0.560515  \n",
       "16     0.610379  \n",
       "17     0.582119  "
      ]
     },
     "execution_count": 5,
     "metadata": {},
     "output_type": "execute_result"
    }
   ],
   "source": [
    "results_df"
   ]
  },
  {
   "cell_type": "code",
   "execution_count": 6,
   "id": "dee1db65",
   "metadata": {
    "execution": {
     "iopub.execute_input": "2024-10-10T18:10:47.554040Z",
     "iopub.status.busy": "2024-10-10T18:10:47.553593Z",
     "iopub.status.idle": "2024-10-10T18:10:47.564788Z",
     "shell.execute_reply": "2024-10-10T18:10:47.563804Z"
    },
    "papermill": {
     "duration": 0.046852,
     "end_time": "2024-10-10T18:10:47.567271",
     "exception": false,
     "start_time": "2024-10-10T18:10:47.520419",
     "status": "completed"
    },
    "tags": []
   },
   "outputs": [],
   "source": [
    "def random_predictions(path):\n",
    "    labels = pd.read_csv(path)\n",
    "\n",
    "    id_cols = labels[['study_id', 'series_id']]\n",
    "    cols_to_impute = labels.drop(columns=['study_id', 'series_id'])\n",
    "    imputed_cols = cols_to_impute.apply(lambda x: x.fillna(x.mode()[0]))\n",
    "    final_df = pd.concat([id_cols, imputed_cols], axis=1)\n",
    "\n",
    "    id_cols = final_df[['study_id', 'series_id']]\n",
    "    cols_to_encode = final_df.drop(columns=['study_id', 'series_id'])\n",
    "    encoder = OneHotEncoder(sparse_output=False)\n",
    "    encoded_cols = encoder.fit_transform(cols_to_encode)\n",
    "    encoded_df = pd.DataFrame(encoded_cols, columns=encoder.get_feature_names_out(cols_to_encode.columns))\n",
    "    final_df = pd.concat([id_cols, encoded_df], axis=1)\n",
    "\n",
    "    Y_true = final_df.drop(columns=['study_id', 'series_id']).values\n",
    "\n",
    "    np.random.seed(42)  # For reproducibility\n",
    "    random_predictions = np.random.rand(*Y_true.shape)  # Random floats in [0.0, 1.0]\n",
    "\n",
    "    threshold = np.mean(random_predictions)\n",
    "\n",
    "    binary_predictions = (random_predictions > threshold).astype(float)\n",
    "\n",
    "    accuracy = np.mean(np.all(binary_predictions == Y_true, axis=1))\n",
    "\n",
    "    print(f\"Random Predictions Accuracy: {accuracy:.4f}\")\n",
    "    print(f\"Self-adjusting Threshold: {threshold:.4f}\")"
   ]
  },
  {
   "cell_type": "markdown",
   "id": "d6ec5f82",
   "metadata": {
    "papermill": {
     "duration": 0.031263,
     "end_time": "2024-10-10T18:10:47.630462",
     "exception": false,
     "start_time": "2024-10-10T18:10:47.599199",
     "status": "completed"
    },
    "tags": []
   },
   "source": [
    "## Random Accuracy"
   ]
  },
  {
   "cell_type": "code",
   "execution_count": 7,
   "id": "2de8d400",
   "metadata": {
    "execution": {
     "iopub.execute_input": "2024-10-10T18:10:47.695537Z",
     "iopub.status.busy": "2024-10-10T18:10:47.695103Z",
     "iopub.status.idle": "2024-10-10T18:10:47.786097Z",
     "shell.execute_reply": "2024-10-10T18:10:47.784715Z"
    },
    "papermill": {
     "duration": 0.126303,
     "end_time": "2024-10-10T18:10:47.788484",
     "exception": false,
     "start_time": "2024-10-10T18:10:47.662181",
     "status": "completed"
    },
    "tags": []
   },
   "outputs": [
    {
     "name": "stdout",
     "output_type": "stream",
     "text": [
      "Random Predictions Accuracy: 0.0000\n",
      "Self-adjusting Threshold: 0.4996\n",
      "Random Predictions Accuracy: 0.0000\n",
      "Self-adjusting Threshold: 0.4995\n",
      "Random Predictions Accuracy: 0.0000\n",
      "Self-adjusting Threshold: 0.5004\n"
     ]
    }
   ],
   "source": [
    "random_predictions('/kaggle/input/preprocessed-dataset/train_data_AT2.csv')\n",
    "random_predictions('/kaggle/input/preprocessed-dataset/train_data_ST1.csv')\n",
    "random_predictions('/kaggle/input/preprocessed-dataset/train_data_ST2.csv')"
   ]
  }
 ],
 "metadata": {
  "kaggle": {
   "accelerator": "none",
   "dataSources": [
    {
     "datasetId": 5788739,
     "sourceId": 9528888,
     "sourceType": "datasetVersion"
    },
    {
     "datasetId": 5810383,
     "sourceId": 9538829,
     "sourceType": "datasetVersion"
    },
    {
     "datasetId": 5814948,
     "sourceId": 9544899,
     "sourceType": "datasetVersion"
    },
    {
     "datasetId": 5821406,
     "sourceId": 9553895,
     "sourceType": "datasetVersion"
    }
   ],
   "dockerImageVersionId": 30786,
   "isGpuEnabled": false,
   "isInternetEnabled": true,
   "language": "python",
   "sourceType": "notebook"
  },
  "kernelspec": {
   "display_name": "Python 3",
   "language": "python",
   "name": "python3"
  },
  "language_info": {
   "codemirror_mode": {
    "name": "ipython",
    "version": 3
   },
   "file_extension": ".py",
   "mimetype": "text/x-python",
   "name": "python",
   "nbconvert_exporter": "python",
   "pygments_lexer": "ipython3",
   "version": "3.10.14"
  },
  "papermill": {
   "default_parameters": {},
   "duration": 2094.34075,
   "end_time": "2024-10-10T18:10:50.132080",
   "environment_variables": {},
   "exception": null,
   "input_path": "__notebook__.ipynb",
   "output_path": "__notebook__.ipynb",
   "parameters": {},
   "start_time": "2024-10-10T17:35:55.791330",
   "version": "2.6.0"
  }
 },
 "nbformat": 4,
 "nbformat_minor": 5
}
