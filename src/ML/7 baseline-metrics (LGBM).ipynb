{
 "cells": [
  {
   "cell_type": "markdown",
   "id": "4b73fc72",
   "metadata": {
    "papermill": {
     "duration": 0.004572,
     "end_time": "2024-10-10T17:35:58.670500",
     "exception": false,
     "start_time": "2024-10-10T17:35:58.665928",
     "status": "completed"
    },
    "tags": []
   },
   "source": [
    "# **A Novel Approach for Three-Way Classification of Lumbar Spine Degeneration Using Pseudo-Modality Learning to Handle Missing MRI Data**"
   ]
  },
  {
   "cell_type": "markdown",
   "id": "e56435e1",
   "metadata": {},
   "source": [
    "## **Modelling Architecture**"
   ]
  },
  {
   "cell_type": "markdown",
   "id": "55b83cbd",
   "metadata": {},
   "source": [
    "![3-way Cascaded Classifier Architecture](https://github.com/ahmedembeddedxx/lumbar-spine-degenerative-classification/blob/main/architecture/classifiers-architecture/3-way-cascaded-classifier.png?raw=true)\n"
   ]
  },
  {
   "cell_type": "markdown",
   "id": "24b10958",
   "metadata": {
    "papermill": {
     "duration": 0.003687,
     "end_time": "2024-10-10T17:35:58.678402",
     "exception": false,
     "start_time": "2024-10-10T17:35:58.674715",
     "status": "completed"
    },
    "tags": []
   },
   "source": [
    "## **Modules**"
   ]
  },
  {
   "cell_type": "code",
   "execution_count": 1,
   "id": "fcdba030",
   "metadata": {
    "execution": {
     "iopub.execute_input": "2024-10-10T17:35:58.688959Z",
     "iopub.status.busy": "2024-10-10T17:35:58.688486Z",
     "iopub.status.idle": "2024-10-10T17:36:16.655157Z",
     "shell.execute_reply": "2024-10-10T17:36:16.653952Z"
    },
    "papermill": {
     "duration": 17.974869,
     "end_time": "2024-10-10T17:36:16.657898",
     "exception": false,
     "start_time": "2024-10-10T17:35:58.683029",
     "status": "completed"
    },
    "tags": []
   },
   "outputs": [],
   "source": [
    "import pandas as pd\n",
    "from sklearn.preprocessing import OneHotEncoder, StandardScaler, LabelEncoder\n",
    "import matplotlib.pyplot as plt\n",
    "import pandas as pd\n",
    "import numpy as np\n",
    "from tensorflow.keras.models import Sequential\n",
    "from tensorflow.keras.layers import Dense, Input\n",
    "from sklearn.model_selection import train_test_split\n",
    "from sklearn.preprocessing import StandardScaler\n",
    "from tensorflow.keras.losses import BinaryCrossentropy\n",
    "from sklearn.model_selection import KFold\n",
    "from sklearn.utils.class_weight import compute_class_weight\n",
    "import tensorflow as tf\n",
    "from imblearn.over_sampling import SMOTE\n",
    "from sklearn.preprocessing import LabelEncoder, StandardScaler\n",
    "from sklearn.svm import SVC\n",
    "\n",
    "from sklearn.metrics import accuracy_score, f1_score, roc_auc_score\n",
    "from sklearn.model_selection import KFold\n",
    "import joblib\n",
    "import lightgbm as lgb\n",
    "from tqdm import tqdm"
   ]
  },
  {
   "cell_type": "markdown",
   "id": "2cc94a2b",
   "metadata": {
    "papermill": {
     "duration": 0.003633,
     "end_time": "2024-10-10T17:36:16.665812",
     "exception": false,
     "start_time": "2024-10-10T17:36:16.662179",
     "status": "completed"
    },
    "tags": []
   },
   "source": [
    "## **Training Pipeline**"
   ]
  },
  {
   "cell_type": "code",
   "execution_count": 2,
   "id": "b2f2e86e",
   "metadata": {
    "execution": {
     "iopub.execute_input": "2024-10-10T17:36:16.676387Z",
     "iopub.status.busy": "2024-10-10T17:36:16.675323Z",
     "iopub.status.idle": "2024-10-10T17:36:16.693832Z",
     "shell.execute_reply": "2024-10-10T17:36:16.692526Z"
    },
    "papermill": {
     "duration": 0.026849,
     "end_time": "2024-10-10T17:36:16.696485",
     "exception": false,
     "start_time": "2024-10-10T17:36:16.669636",
     "status": "completed"
    },
    "tags": []
   },
   "outputs": [],
   "source": [
    "attention_embeddings_paths = [\n",
    "    '/kaggle/input/attention-embeddings-for-rsna/AT2_attention_embeddings_gsl.csv',\n",
    "    '/kaggle/input/attention-embeddings-for-rsna/AT2_attention_embeddings_hist.csv',\n",
    "    '/kaggle/input/attention-embeddings-for-rsna/ST1_attention_embeddings_gsl.csv',\n",
    "    '/kaggle/input/attention-embeddings-for-rsna/ST1_attention_embeddings_hist.csv',\n",
    "    '/kaggle/input/attention-embeddings-for-rsna/ST2_attention_embeddings_gsl.csv',\n",
    "    '/kaggle/input/attention-embeddings-for-rsna/ST2_attention_embeddings_hist.csv'    \n",
    "]\n",
    "\n",
    "average_embeddings_paths = [\n",
    "    '/kaggle/input/embeddings-for-rsna/at2-greyscl/final_embeddings.csv',\n",
    "    '/kaggle/input/embeddings-for-rsna/at2-hist/final_embeddings.csv',\n",
    "    '/kaggle/input/embeddings-for-rsna/st1-greyscl/final_embeddings.csv',\n",
    "    '/kaggle/input/embeddings-for-rsna/st1-hist/final_embeddings.csv',\n",
    "    '/kaggle/input/embeddings-for-rsna/st2-greyscl/final_embeddings.csv',\n",
    "    '/kaggle/input/embeddings-for-rsna/st2-hist/final_embeddings.csv'\n",
    "]\n",
    "\n",
    "medicalnet_embeddings_paths = [\n",
    "    '/kaggle/input/medicalnet-attention-layers-for-rsna/AT2_attention_embeddings_gsl.csv',\n",
    "    '/kaggle/input/medicalnet-attention-layers-for-rsna/AT2_attention_embeddings_hist.csv',\n",
    "    '/kaggle/input/medicalnet-attention-layers-for-rsna/ST1_attention_embeddings_gsl.csv',\n",
    "    '/kaggle/input/medicalnet-attention-layers-for-rsna/ST1_attention_embeddings_hist.csv',\n",
    "    '/kaggle/input/medicalnet-attention-layers-for-rsna/ST2_attention_embeddings_gsl.csv',\n",
    "    '/kaggle/input/medicalnet-attention-layers-for-rsna/ST2_attention_embeddings_hist.csv',\n",
    "]\n",
    "\n",
    "labels_paths = [\n",
    "    '/kaggle/input/preprocessed-dataset/train_data_AT2.csv',\n",
    "    '/kaggle/input/preprocessed-dataset/train_data_ST1.csv',\n",
    "    '/kaggle/input/preprocessed-dataset/train_data_ST2.csv'\n",
    "]\n",
    "\n",
    "list_of_combination = [\n",
    "    'AT2 - GSL - Attention Network',\n",
    "    'AT2 - HIST - Attention Network',\n",
    "    'ST1 - GSL - Attention Network',\n",
    "    'ST1 - HIST - Attention Network',\n",
    "    'ST2 - GSL - Attention Network',\n",
    "    'ST2 - HIST - Attention Network',\n",
    "    \n",
    "    'AT2 - GSL - Average ResNet50',\n",
    "    'AT2 - HIST - Average ResNet50',\n",
    "    'ST1 - GSL - Average ResNet50',\n",
    "    'ST1 - HIST - Average ResNet50',\n",
    "    'ST2 - GSL - Average ResNet50',\n",
    "    'ST2 - HIST - Average ResNet50',\n",
    "    \n",
    "    'AT2 - GSL - MedicalNet Network',\n",
    "    'AT2 - HIST - MedicalNet Network',\n",
    "    'ST1 - GSL - MedicalNet Network',\n",
    "    'ST1 - HIST - MedicalNet Network',\n",
    "    'ST2 - GSL - MedicalNet Network',\n",
    "    'ST2 - HIST - MedicalNet Network'\n",
    "]\n",
    "\n",
    "results_df = pd.DataFrame(columns=['Combination', 'Avg_Test_Accuracy', 'Avg_Val_Accuracy'])\n",
    "\n",
    "all_embedding_paths = [\n",
    "    *attention_embeddings_paths,\n",
    "    *average_embeddings_paths,\n",
    "    *medicalnet_embeddings_paths\n",
    "]\n",
    "\n",
    "corresponding_labels_paths = [\n",
    "    labels_paths[0],  # AT2 - GSL - Attention Network\n",
    "    labels_paths[0],  # AT2 - HIST - Attention Network\n",
    "    labels_paths[1],  # ST1 - GSL - Attention Network\n",
    "    labels_paths[1],  # ST1 - HIST - Attention Network\n",
    "    labels_paths[2],  # ST2 - GSL - Attention Network\n",
    "    labels_paths[2],  # ST2 - HIST - Attention Network\n",
    "    \n",
    "    labels_paths[0],  # AT2 - GSL - Average ResNet50\n",
    "    labels_paths[0],  # AT2 - HIST - Average ResNet50\n",
    "    labels_paths[1],  # ST1 - GSL - Average ResNet50\n",
    "    labels_paths[1],  # ST1 - HIST - Average ResNet50\n",
    "    labels_paths[2],  # ST2 - GSL - Average ResNet50\n",
    "    labels_paths[2],  # ST2 - HIST - Average ResNet50\n",
    "    \n",
    "    labels_paths[0],  # AT2 - GSL - MedicalNet Network\n",
    "    labels_paths[0],  # AT2 - HIST - MedicalNet Network\n",
    "    labels_paths[1],  # ST1 - GSL - MedicalNet Network\n",
    "    labels_paths[1],  # ST1 - HIST - MedicalNet Network\n",
    "    labels_paths[2],  # ST2 - GSL - MedicalNet Network\n",
    "    labels_paths[2],  # ST2 - HIST - MedicalNet Network\n",
    "]"
   ]
  },
  {
   "cell_type": "code",
   "execution_count": 3,
   "id": "bd40680e",
   "metadata": {
    "execution": {
     "iopub.execute_input": "2024-10-10T17:36:16.706920Z",
     "iopub.status.busy": "2024-10-10T17:36:16.706419Z",
     "iopub.status.idle": "2024-10-10T17:36:16.723545Z",
     "shell.execute_reply": "2024-10-10T17:36:16.722268Z"
    },
    "papermill": {
     "duration": 0.025603,
     "end_time": "2024-10-10T17:36:16.726247",
     "exception": false,
     "start_time": "2024-10-10T17:36:16.700644",
     "status": "completed"
    },
    "tags": []
   },
   "outputs": [],
   "source": [
    "def train(embedding_path, labels_path, model_save_path_prefix='lgb_model_col_'):\n",
    "    embeddings = pd.read_csv(embedding_path)\n",
    "    labels = pd.read_csv(labels_path)\n",
    "\n",
    "    id_cols = labels[['study_id', 'series_id']]\n",
    "    cols_to_impute = labels.drop(columns=['study_id', 'series_id'])\n",
    "    imputed_cols = cols_to_impute.apply(lambda x: x.fillna(x.mode()[0]))\n",
    "    labels = pd.concat([id_cols, imputed_cols], axis=1)\n",
    "\n",
    "    id_cols = labels[['study_id', 'series_id']]\n",
    "    cols_to_encode = labels.drop(columns=['study_id', 'series_id'])\n",
    "    encoded_df = cols_to_encode.apply(LabelEncoder().fit_transform)\n",
    "    final_df = pd.concat([id_cols, encoded_df], axis=1)\n",
    "\n",
    "    df = pd.merge(embeddings, final_df, on='study_id', how='inner')\n",
    "\n",
    "    X = df.iloc[:, :512].values\n",
    "    Y = df.iloc[:, 515:].values\n",
    "\n",
    "    avg_accuracies = []\n",
    "    avg_f1_scores = []\n",
    "    avg_roc_auc_scores = []\n",
    "\n",
    "    for col in tqdm(range(Y.shape[1]), desc=\"Training Columns\"):\n",
    "        X_train, X_test, Y_train, Y_test = train_test_split(X, Y[:, col], test_size=0.2, random_state=42)\n",
    "\n",
    "        scaler = StandardScaler()\n",
    "        X_train = scaler.fit_transform(X_train)\n",
    "        X_test = scaler.transform(X_test)\n",
    "\n",
    "        try:\n",
    "            minority_class_size = min(np.bincount(Y_train))\n",
    "            n_neighbors = min(5, minority_class_size - 1)\n",
    "            smote = SMOTE(random_state=42, k_neighbors=n_neighbors)\n",
    "            X_train, Y_train = smote.fit_resample(X_train, Y_train)\n",
    "        except ValueError as e:\n",
    "            print(f\"Skipping SMOTE for column {col} due to error: {e}\")\n",
    "\n",
    "        lgb_train = lgb.Dataset(X_train, Y_train)\n",
    "\n",
    "        params = {\n",
    "            'objective': 'multiclass',\n",
    "            'num_class': len(np.unique(Y_train)),\n",
    "            'metric': 'multi_logloss',\n",
    "            'boosting_type': 'gbdt',\n",
    "            'learning_rate': 0.1,\n",
    "            'num_leaves': 31,\n",
    "            'verbose': -1\n",
    "        }\n",
    "\n",
    "        model = lgb.train(params, lgb_train)\n",
    "\n",
    "        joblib.dump(model, f'{model_save_path_prefix}{col}.joblib')\n",
    "\n",
    "        Y_pred = model.predict(X_test)\n",
    "        Y_pred_classes = np.argmax(Y_pred, axis=1)\n",
    "\n",
    "        accuracy = accuracy_score(Y_test, Y_pred_classes)\n",
    "        f1 = f1_score(Y_test, Y_pred_classes, average='macro')\n",
    "\n",
    "        if len(np.unique(Y_test)) > 2:\n",
    "            roc_auc = roc_auc_score(Y_test, Y_pred, multi_class='ovr')\n",
    "        else:\n",
    "            roc_auc = roc_auc_score(Y_test, Y_pred_classes)\n",
    "\n",
    "        avg_accuracies.append(accuracy)\n",
    "        avg_f1_scores.append(f1)\n",
    "        avg_roc_auc_scores.append(roc_auc)\n",
    "\n",
    "        print(f'Column {col}: Accuracy = {accuracy:.4f}, F1 Score = {f1:.4f}, ROC AUC = {roc_auc:.4f}')\n",
    "\n",
    "    return np.mean(avg_accuracies), np.mean(avg_f1_scores), np.mean(avg_roc_auc_scores)"
   ]
  },
  {
   "cell_type": "markdown",
   "id": "540248c5",
   "metadata": {},
   "source": [
    "## **Training Model**"
   ]
  },
  {
   "cell_type": "code",
   "execution_count": null,
   "id": "c87bd313",
   "metadata": {},
   "outputs": [],
   "source": [
    "results_df = pd.DataFrame(columns=['Combination', 'Avg_Test_Accuracy', 'Avg_F1_Score', 'Avg_ROC_AUC'])\n",
    "\n",
    "for embedding_path, label_path, name in zip(all_embedding_paths, corresponding_labels_paths, list_of_combination):\n",
    "    print(f\"\\nTraining for: {name} - {embedding_path}\")\n",
    "    \n",
    "    model_save_path_prefix = f'{name}_svm_model_col_'\n",
    "    \n",
    "    avg_accuracy, avg_f1_score, avg_roc_auc = train(embedding_path, label_path)\n",
    "    \n",
    "    result_row = pd.DataFrame({\n",
    "        'Combination': [name],\n",
    "        'Avg_Test_Accuracy': [avg_accuracy],\n",
    "        'Avg_F1_Score': [avg_f1_score], \n",
    "        'Avg_ROC_AUC': [avg_roc_auc],\n",
    "    })\n",
    "    \n",
    "    results_df = pd.concat([results_df, result_row], ignore_index=True)\n",
    "\n",
    "results_df.to_csv('results_summary.csv', index=False)\n",
    "\n",
    "print(\"Training complete. Results saved to 'results_summary.csv'.\")"
   ]
  },
  {
   "cell_type": "markdown",
   "id": "313d1624",
   "metadata": {},
   "source": [
    "## **Modelling Architecture**"
   ]
  },
  {
   "cell_type": "markdown",
   "id": "d67bdc7f",
   "metadata": {},
   "source": [
    "![25-3 Way Class Architecture](https://github.com/ahmedembeddedxx/lumbar-spine-degenerative-classification/blob/main/architecture/classifiers-architecture/25-3-way-class.png?raw=true)"
   ]
  },
  {
   "cell_type": "code",
   "execution_count": 5,
   "id": "1a2570c3",
   "metadata": {
    "execution": {
     "iopub.execute_input": "2024-10-10T18:10:47.466419Z",
     "iopub.status.busy": "2024-10-10T18:10:47.465993Z",
     "iopub.status.idle": "2024-10-10T18:10:47.486090Z",
     "shell.execute_reply": "2024-10-10T18:10:47.484974Z"
    },
    "papermill": {
     "duration": 0.055346,
     "end_time": "2024-10-10T18:10:47.488727",
     "exception": false,
     "start_time": "2024-10-10T18:10:47.433381",
     "status": "completed"
    },
    "tags": []
   },
   "outputs": [
    {
     "data": {
      "text/html": [
       "<div>\n",
       "<style scoped>\n",
       "    .dataframe tbody tr th:only-of-type {\n",
       "        vertical-align: middle;\n",
       "    }\n",
       "\n",
       "    .dataframe tbody tr th {\n",
       "        vertical-align: top;\n",
       "    }\n",
       "\n",
       "    .dataframe thead th {\n",
       "        text-align: right;\n",
       "    }\n",
       "</style>\n",
       "<table border=\"1\" class=\"dataframe\">\n",
       "  <thead>\n",
       "    <tr style=\"text-align: right;\">\n",
       "      <th></th>\n",
       "      <th>Combination</th>\n",
       "      <th>Avg_Test_Accuracy</th>\n",
       "      <th>Avg_F1_Score</th>\n",
       "      <th>Avg_ROC_AUC</th>\n",
       "    </tr>\n",
       "  </thead>\n",
       "  <tbody>\n",
       "    <tr>\n",
       "      <th>0</th>\n",
       "      <td>AT2 - GSL - Attention Network</td>\n",
       "      <td>0.867002</td>\n",
       "      <td>0.678479</td>\n",
       "      <td>0.847017</td>\n",
       "    </tr>\n",
       "    <tr>\n",
       "      <th>1</th>\n",
       "      <td>AT2 - HIST - Attention Network</td>\n",
       "      <td>0.861642</td>\n",
       "      <td>0.647068</td>\n",
       "      <td>0.850232</td>\n",
       "    </tr>\n",
       "    <tr>\n",
       "      <th>2</th>\n",
       "      <td>ST1 - GSL - Attention Network</td>\n",
       "      <td>0.701847</td>\n",
       "      <td>0.342972</td>\n",
       "      <td>0.622694</td>\n",
       "    </tr>\n",
       "    <tr>\n",
       "      <th>3</th>\n",
       "      <td>ST1 - HIST - Attention Network</td>\n",
       "      <td>0.706860</td>\n",
       "      <td>0.346425</td>\n",
       "      <td>0.626725</td>\n",
       "    </tr>\n",
       "    <tr>\n",
       "      <th>4</th>\n",
       "      <td>ST2 - GSL - Attention Network</td>\n",
       "      <td>0.873404</td>\n",
       "      <td>0.342883</td>\n",
       "      <td>0.618152</td>\n",
       "    </tr>\n",
       "    <tr>\n",
       "      <th>5</th>\n",
       "      <td>ST2 - HIST - Attention Network</td>\n",
       "      <td>0.870745</td>\n",
       "      <td>0.333780</td>\n",
       "      <td>0.665818</td>\n",
       "    </tr>\n",
       "    <tr>\n",
       "      <th>6</th>\n",
       "      <td>AT2 - GSL - Average ResNet50</td>\n",
       "      <td>0.839363</td>\n",
       "      <td>0.646234</td>\n",
       "      <td>0.785100</td>\n",
       "    </tr>\n",
       "    <tr>\n",
       "      <th>7</th>\n",
       "      <td>AT2 - HIST - Average ResNet50</td>\n",
       "      <td>0.841709</td>\n",
       "      <td>0.653420</td>\n",
       "      <td>0.816812</td>\n",
       "    </tr>\n",
       "    <tr>\n",
       "      <th>8</th>\n",
       "      <td>ST1 - GSL - Average ResNet50</td>\n",
       "      <td>0.663852</td>\n",
       "      <td>0.362236</td>\n",
       "      <td>0.579038</td>\n",
       "    </tr>\n",
       "    <tr>\n",
       "      <th>9</th>\n",
       "      <td>ST1 - HIST - Average ResNet50</td>\n",
       "      <td>0.657256</td>\n",
       "      <td>0.369063</td>\n",
       "      <td>0.583785</td>\n",
       "    </tr>\n",
       "    <tr>\n",
       "      <th>10</th>\n",
       "      <td>ST2 - GSL - Average ResNet50</td>\n",
       "      <td>0.824468</td>\n",
       "      <td>0.365017</td>\n",
       "      <td>0.610942</td>\n",
       "    </tr>\n",
       "    <tr>\n",
       "      <th>11</th>\n",
       "      <td>ST2 - HIST - Average ResNet50</td>\n",
       "      <td>0.842021</td>\n",
       "      <td>0.345346</td>\n",
       "      <td>0.618905</td>\n",
       "    </tr>\n",
       "    <tr>\n",
       "      <th>12</th>\n",
       "      <td>AT2 - GSL - MedicalNet Network</td>\n",
       "      <td>0.843719</td>\n",
       "      <td>0.646623</td>\n",
       "      <td>0.761137</td>\n",
       "    </tr>\n",
       "    <tr>\n",
       "      <th>13</th>\n",
       "      <td>AT2 - HIST - MedicalNet Network</td>\n",
       "      <td>0.847906</td>\n",
       "      <td>0.646896</td>\n",
       "      <td>0.781295</td>\n",
       "    </tr>\n",
       "    <tr>\n",
       "      <th>14</th>\n",
       "      <td>ST1 - GSL - MedicalNet Network</td>\n",
       "      <td>0.689446</td>\n",
       "      <td>0.356265</td>\n",
       "      <td>0.603618</td>\n",
       "    </tr>\n",
       "    <tr>\n",
       "      <th>15</th>\n",
       "      <td>ST1 - HIST - MedicalNet Network</td>\n",
       "      <td>0.688918</td>\n",
       "      <td>0.336113</td>\n",
       "      <td>0.560515</td>\n",
       "    </tr>\n",
       "    <tr>\n",
       "      <th>16</th>\n",
       "      <td>ST2 - GSL - MedicalNet Network</td>\n",
       "      <td>0.861170</td>\n",
       "      <td>0.328963</td>\n",
       "      <td>0.610379</td>\n",
       "    </tr>\n",
       "    <tr>\n",
       "      <th>17</th>\n",
       "      <td>ST2 - HIST - MedicalNet Network</td>\n",
       "      <td>0.858511</td>\n",
       "      <td>0.309181</td>\n",
       "      <td>0.582119</td>\n",
       "    </tr>\n",
       "  </tbody>\n",
       "</table>\n",
       "</div>"
      ],
      "text/plain": [
       "                        Combination  Avg_Test_Accuracy  Avg_F1_Score  \\\n",
       "0     AT2 - GSL - Attention Network           0.867002      0.678479   \n",
       "1    AT2 - HIST - Attention Network           0.861642      0.647068   \n",
       "2     ST1 - GSL - Attention Network           0.701847      0.342972   \n",
       "3    ST1 - HIST - Attention Network           0.706860      0.346425   \n",
       "4     ST2 - GSL - Attention Network           0.873404      0.342883   \n",
       "5    ST2 - HIST - Attention Network           0.870745      0.333780   \n",
       "6      AT2 - GSL - Average ResNet50           0.839363      0.646234   \n",
       "7     AT2 - HIST - Average ResNet50           0.841709      0.653420   \n",
       "8      ST1 - GSL - Average ResNet50           0.663852      0.362236   \n",
       "9     ST1 - HIST - Average ResNet50           0.657256      0.369063   \n",
       "10     ST2 - GSL - Average ResNet50           0.824468      0.365017   \n",
       "11    ST2 - HIST - Average ResNet50           0.842021      0.345346   \n",
       "12   AT2 - GSL - MedicalNet Network           0.843719      0.646623   \n",
       "13  AT2 - HIST - MedicalNet Network           0.847906      0.646896   \n",
       "14   ST1 - GSL - MedicalNet Network           0.689446      0.356265   \n",
       "15  ST1 - HIST - MedicalNet Network           0.688918      0.336113   \n",
       "16   ST2 - GSL - MedicalNet Network           0.861170      0.328963   \n",
       "17  ST2 - HIST - MedicalNet Network           0.858511      0.309181   \n",
       "\n",
       "    Avg_ROC_AUC  \n",
       "0      0.847017  \n",
       "1      0.850232  \n",
       "2      0.622694  \n",
       "3      0.626725  \n",
       "4      0.618152  \n",
       "5      0.665818  \n",
       "6      0.785100  \n",
       "7      0.816812  \n",
       "8      0.579038  \n",
       "9      0.583785  \n",
       "10     0.610942  \n",
       "11     0.618905  \n",
       "12     0.761137  \n",
       "13     0.781295  \n",
       "14     0.603618  \n",
       "15     0.560515  \n",
       "16     0.610379  \n",
       "17     0.582119  "
      ]
     },
     "execution_count": 5,
     "metadata": {},
     "output_type": "execute_result"
    }
   ],
   "source": [
    "results_df"
   ]
  },
  {
   "cell_type": "markdown",
   "id": "23a0452c",
   "metadata": {},
   "source": [
    "## **Random Predictions**"
   ]
  },
  {
   "cell_type": "code",
   "execution_count": 6,
   "id": "dee1db65",
   "metadata": {
    "execution": {
     "iopub.execute_input": "2024-10-10T18:10:47.554040Z",
     "iopub.status.busy": "2024-10-10T18:10:47.553593Z",
     "iopub.status.idle": "2024-10-10T18:10:47.564788Z",
     "shell.execute_reply": "2024-10-10T18:10:47.563804Z"
    },
    "papermill": {
     "duration": 0.046852,
     "end_time": "2024-10-10T18:10:47.567271",
     "exception": false,
     "start_time": "2024-10-10T18:10:47.520419",
     "status": "completed"
    },
    "tags": []
   },
   "outputs": [],
   "source": [
    "def random_predictions(path):\n",
    "    labels = pd.read_csv(path)\n",
    "\n",
    "    id_cols = labels[['study_id', 'series_id']]\n",
    "    cols_to_impute = labels.drop(columns=['study_id', 'series_id'])\n",
    "    imputed_cols = cols_to_impute.apply(lambda x: x.fillna(x.mode()[0]))\n",
    "    final_df = pd.concat([id_cols, imputed_cols], axis=1)\n",
    "\n",
    "    id_cols = final_df[['study_id', 'series_id']]\n",
    "    cols_to_encode = final_df.drop(columns=['study_id', 'series_id'])\n",
    "    encoder = OneHotEncoder(sparse_output=False)\n",
    "    encoded_cols = encoder.fit_transform(cols_to_encode)\n",
    "    encoded_df = pd.DataFrame(encoded_cols, columns=encoder.get_feature_names_out(cols_to_encode.columns))\n",
    "    final_df = pd.concat([id_cols, encoded_df], axis=1)\n",
    "\n",
    "    Y_true = final_df.drop(columns=['study_id', 'series_id']).values\n",
    "\n",
    "    np.random.seed(42)  # For reproducibility\n",
    "    random_predictions = np.random.rand(*Y_true.shape)  # Random floats in [0.0, 1.0]\n",
    "\n",
    "    threshold = np.mean(random_predictions)\n",
    "\n",
    "    binary_predictions = (random_predictions > threshold).astype(float)\n",
    "\n",
    "    accuracy = np.mean(np.all(binary_predictions == Y_true, axis=1))\n",
    "\n",
    "    print(f\"Random Predictions Accuracy: {accuracy:.4f}\")\n",
    "    print(f\"Self-adjusting Threshold: {threshold:.4f}\")"
   ]
  },
  {
   "cell_type": "code",
   "execution_count": 7,
   "id": "2de8d400",
   "metadata": {
    "execution": {
     "iopub.execute_input": "2024-10-10T18:10:47.695537Z",
     "iopub.status.busy": "2024-10-10T18:10:47.695103Z",
     "iopub.status.idle": "2024-10-10T18:10:47.786097Z",
     "shell.execute_reply": "2024-10-10T18:10:47.784715Z"
    },
    "papermill": {
     "duration": 0.126303,
     "end_time": "2024-10-10T18:10:47.788484",
     "exception": false,
     "start_time": "2024-10-10T18:10:47.662181",
     "status": "completed"
    },
    "tags": []
   },
   "outputs": [
    {
     "name": "stdout",
     "output_type": "stream",
     "text": [
      "Random Predictions Accuracy: 0.0000\n",
      "Self-adjusting Threshold: 0.4996\n",
      "Random Predictions Accuracy: 0.0000\n",
      "Self-adjusting Threshold: 0.4995\n",
      "Random Predictions Accuracy: 0.0000\n",
      "Self-adjusting Threshold: 0.5004\n"
     ]
    }
   ],
   "source": [
    "random_predictions('/kaggle/input/preprocessed-dataset/train_data_AT2.csv')\n",
    "random_predictions('/kaggle/input/preprocessed-dataset/train_data_ST1.csv')\n",
    "random_predictions('/kaggle/input/preprocessed-dataset/train_data_ST2.csv')"
   ]
  }
 ],
 "metadata": {
  "kaggle": {
   "accelerator": "none",
   "dataSources": [
    {
     "datasetId": 5788739,
     "sourceId": 9528888,
     "sourceType": "datasetVersion"
    },
    {
     "datasetId": 5810383,
     "sourceId": 9538829,
     "sourceType": "datasetVersion"
    },
    {
     "datasetId": 5814948,
     "sourceId": 9544899,
     "sourceType": "datasetVersion"
    },
    {
     "datasetId": 5821406,
     "sourceId": 9553895,
     "sourceType": "datasetVersion"
    }
   ],
   "dockerImageVersionId": 30786,
   "isGpuEnabled": false,
   "isInternetEnabled": true,
   "language": "python",
   "sourceType": "notebook"
  },
  "kernelspec": {
   "display_name": "Python 3",
   "language": "python",
   "name": "python3"
  },
  "language_info": {
   "codemirror_mode": {
    "name": "ipython",
    "version": 3
   },
   "file_extension": ".py",
   "mimetype": "text/x-python",
   "name": "python",
   "nbconvert_exporter": "python",
   "pygments_lexer": "ipython3",
   "version": "3.10.14"
  },
  "papermill": {
   "default_parameters": {},
   "duration": 2094.34075,
   "end_time": "2024-10-10T18:10:50.132080",
   "environment_variables": {},
   "exception": null,
   "input_path": "__notebook__.ipynb",
   "output_path": "__notebook__.ipynb",
   "parameters": {},
   "start_time": "2024-10-10T17:35:55.791330",
   "version": "2.6.0"
  }
 },
 "nbformat": 4,
 "nbformat_minor": 5
}
