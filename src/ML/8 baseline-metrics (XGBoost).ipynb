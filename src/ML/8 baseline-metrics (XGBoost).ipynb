{
 "cells": [
  {
   "cell_type": "markdown",
   "id": "dbf18e6d",
   "metadata": {
    "papermill": {
     "duration": 0.004229,
     "end_time": "2024-10-10T18:30:43.856580",
     "exception": false,
     "start_time": "2024-10-10T18:30:43.852351",
     "status": "completed"
    },
    "tags": []
   },
   "source": [
    "# A Novel Approach for Three-Way Classification of Lumbar Spine Degeneration Using Pseudo-Modality Learning to Handle Missing MRI Data"
   ]
  },
  {
   "cell_type": "markdown",
   "id": "ca07ff4f",
   "metadata": {
    "papermill": {
     "duration": 0.002986,
     "end_time": "2024-10-10T18:30:43.863068",
     "exception": false,
     "start_time": "2024-10-10T18:30:43.860082",
     "status": "completed"
    },
    "tags": []
   },
   "source": [
    "## Libs"
   ]
  },
  {
   "cell_type": "code",
   "execution_count": 1,
   "id": "46c56654",
   "metadata": {
    "execution": {
     "iopub.execute_input": "2024-10-10T18:30:43.871158Z",
     "iopub.status.busy": "2024-10-10T18:30:43.870738Z",
     "iopub.status.idle": "2024-10-10T18:30:59.035139Z",
     "shell.execute_reply": "2024-10-10T18:30:59.034140Z"
    },
    "papermill": {
     "duration": 15.171533,
     "end_time": "2024-10-10T18:30:59.037728",
     "exception": false,
     "start_time": "2024-10-10T18:30:43.866195",
     "status": "completed"
    },
    "tags": []
   },
   "outputs": [],
   "source": [
    "import pandas as pd\n",
    "from sklearn.preprocessing import OneHotEncoder, StandardScaler, LabelEncoder\n",
    "import matplotlib.pyplot as plt\n",
    "import pandas as pd\n",
    "import numpy as np\n",
    "from tensorflow.keras.models import Sequential\n",
    "from tensorflow.keras.layers import Dense, Input\n",
    "from sklearn.model_selection import train_test_split\n",
    "from sklearn.preprocessing import StandardScaler\n",
    "from tensorflow.keras.losses import BinaryCrossentropy\n",
    "from sklearn.model_selection import KFold\n",
    "from sklearn.utils.class_weight import compute_class_weight\n",
    "import tensorflow as tf\n",
    "from imblearn.over_sampling import SMOTE\n",
    "from sklearn.preprocessing import LabelEncoder, StandardScaler\n",
    "from sklearn.svm import SVC\n",
    "from sklearn.metrics import accuracy_score, f1_score, roc_auc_score\n",
    "from sklearn.model_selection import KFold\n",
    "import joblib\n",
    "import lightgbm as lgb\n",
    "import xgboost as xgb\n",
    "from tqdm import tqdm"
   ]
  },
  {
   "cell_type": "markdown",
   "id": "9cba72d2",
   "metadata": {
    "papermill": {
     "duration": 0.003029,
     "end_time": "2024-10-10T18:30:59.044380",
     "exception": false,
     "start_time": "2024-10-10T18:30:59.041351",
     "status": "completed"
    },
    "tags": []
   },
   "source": [
    "## Training Pipeline"
   ]
  },
  {
   "cell_type": "code",
   "execution_count": 2,
   "id": "8b520140",
   "metadata": {
    "execution": {
     "iopub.execute_input": "2024-10-10T18:30:59.052755Z",
     "iopub.status.busy": "2024-10-10T18:30:59.052146Z",
     "iopub.status.idle": "2024-10-10T18:30:59.066464Z",
     "shell.execute_reply": "2024-10-10T18:30:59.065521Z"
    },
    "papermill": {
     "duration": 0.020971,
     "end_time": "2024-10-10T18:30:59.068511",
     "exception": false,
     "start_time": "2024-10-10T18:30:59.047540",
     "status": "completed"
    },
    "tags": []
   },
   "outputs": [],
   "source": [
    "attention_embeddings_paths = [\n",
    "    '/kaggle/input/attention-embeddings-for-rsna/AT2_attention_embeddings_gsl.csv',\n",
    "    '/kaggle/input/attention-embeddings-for-rsna/AT2_attention_embeddings_hist.csv',\n",
    "    '/kaggle/input/attention-embeddings-for-rsna/ST1_attention_embeddings_gsl.csv',\n",
    "    '/kaggle/input/attention-embeddings-for-rsna/ST1_attention_embeddings_hist.csv',\n",
    "    '/kaggle/input/attention-embeddings-for-rsna/ST2_attention_embeddings_gsl.csv',\n",
    "    '/kaggle/input/attention-embeddings-for-rsna/ST2_attention_embeddings_hist.csv'    \n",
    "]\n",
    "\n",
    "average_embeddings_paths = [\n",
    "    '/kaggle/input/embeddings-for-rsna/at2-greyscl/final_embeddings.csv',\n",
    "    '/kaggle/input/embeddings-for-rsna/at2-hist/final_embeddings.csv',\n",
    "    '/kaggle/input/embeddings-for-rsna/st1-greyscl/final_embeddings.csv',\n",
    "    '/kaggle/input/embeddings-for-rsna/st1-hist/final_embeddings.csv',\n",
    "    '/kaggle/input/embeddings-for-rsna/st2-greyscl/final_embeddings.csv',\n",
    "    '/kaggle/input/embeddings-for-rsna/st2-hist/final_embeddings.csv'\n",
    "]\n",
    "\n",
    "medicalnet_embeddings_paths = [\n",
    "    '/kaggle/input/medicalnet-attention-layers-for-rsna/AT2_attention_embeddings_gsl.csv',\n",
    "    '/kaggle/input/medicalnet-attention-layers-for-rsna/AT2_attention_embeddings_hist.csv',\n",
    "    '/kaggle/input/medicalnet-attention-layers-for-rsna/ST1_attention_embeddings_gsl.csv',\n",
    "    '/kaggle/input/medicalnet-attention-layers-for-rsna/ST1_attention_embeddings_hist.csv',\n",
    "    '/kaggle/input/medicalnet-attention-layers-for-rsna/ST2_attention_embeddings_gsl.csv',\n",
    "    '/kaggle/input/medicalnet-attention-layers-for-rsna/ST2_attention_embeddings_hist.csv',\n",
    "]\n",
    "\n",
    "labels_paths = [\n",
    "    '/kaggle/input/preprocessed-dataset/train_data_AT2.csv',\n",
    "    '/kaggle/input/preprocessed-dataset/train_data_ST1.csv',\n",
    "    '/kaggle/input/preprocessed-dataset/train_data_ST2.csv'\n",
    "]\n",
    "\n",
    "list_of_combination = [\n",
    "    'AT2 - GSL - Attention Network',\n",
    "    'AT2 - HIST - Attention Network',\n",
    "    'ST1 - GSL - Attention Network',\n",
    "    'ST1 - HIST - Attention Network',\n",
    "    'ST2 - GSL - Attention Network',\n",
    "    'ST2 - HIST - Attention Network',\n",
    "    \n",
    "    'AT2 - GSL - Average ResNet50',\n",
    "    'AT2 - HIST - Average ResNet50',\n",
    "    'ST1 - GSL - Average ResNet50',\n",
    "    'ST1 - HIST - Average ResNet50',\n",
    "    'ST2 - GSL - Average ResNet50',\n",
    "    'ST2 - HIST - Average ResNet50',\n",
    "    \n",
    "    'AT2 - GSL - MedicalNet Network',\n",
    "    'AT2 - HIST - MedicalNet Network',\n",
    "    'ST1 - GSL - MedicalNet Network',\n",
    "    'ST1 - HIST - MedicalNet Network',\n",
    "    'ST2 - GSL - MedicalNet Network',\n",
    "    'ST2 - HIST - MedicalNet Network'\n",
    "]\n",
    "\n",
    "results_df = pd.DataFrame(columns=['Combination', 'Avg_Test_Accuracy', 'Avg_Val_Accuracy'])\n",
    "\n",
    "all_embedding_paths = [\n",
    "    *attention_embeddings_paths,\n",
    "    *average_embeddings_paths,\n",
    "    *medicalnet_embeddings_paths\n",
    "]\n",
    "\n",
    "corresponding_labels_paths = [\n",
    "    labels_paths[0],  # AT2 - GSL - Attention Network\n",
    "    labels_paths[0],  # AT2 - HIST - Attention Network\n",
    "    labels_paths[1],  # ST1 - GSL - Attention Network\n",
    "    labels_paths[1],  # ST1 - HIST - Attention Network\n",
    "    labels_paths[2],  # ST2 - GSL - Attention Network\n",
    "    labels_paths[2],  # ST2 - HIST - Attention Network\n",
    "    \n",
    "    labels_paths[0],  # AT2 - GSL - Average ResNet50\n",
    "    labels_paths[0],  # AT2 - HIST - Average ResNet50\n",
    "    labels_paths[1],  # ST1 - GSL - Average ResNet50\n",
    "    labels_paths[1],  # ST1 - HIST - Average ResNet50\n",
    "    labels_paths[2],  # ST2 - GSL - Average ResNet50\n",
    "    labels_paths[2],  # ST2 - HIST - Average ResNet50\n",
    "    \n",
    "    labels_paths[0],  # AT2 - GSL - MedicalNet Network\n",
    "    labels_paths[0],  # AT2 - HIST - MedicalNet Network\n",
    "    labels_paths[1],  # ST1 - GSL - MedicalNet Network\n",
    "    labels_paths[1],  # ST1 - HIST - MedicalNet Network\n",
    "    labels_paths[2],  # ST2 - GSL - MedicalNet Network\n",
    "    labels_paths[2],  # ST2 - HIST - MedicalNet Network\n",
    "]"
   ]
  },
  {
   "cell_type": "code",
   "execution_count": 3,
   "id": "707baefb",
   "metadata": {
    "execution": {
     "iopub.execute_input": "2024-10-10T18:30:59.076301Z",
     "iopub.status.busy": "2024-10-10T18:30:59.075954Z",
     "iopub.status.idle": "2024-10-10T18:30:59.090045Z",
     "shell.execute_reply": "2024-10-10T18:30:59.089105Z"
    },
    "papermill": {
     "duration": 0.020461,
     "end_time": "2024-10-10T18:30:59.092098",
     "exception": false,
     "start_time": "2024-10-10T18:30:59.071637",
     "status": "completed"
    },
    "tags": []
   },
   "outputs": [],
   "source": [
    "\n",
    "def train(embedding_path, labels_path, model_save_path_prefix='xgb_model_col_'):\n",
    "    embeddings = pd.read_csv(embedding_path)\n",
    "    labels = pd.read_csv(labels_path)\n",
    "\n",
    "    id_cols = labels[['study_id', 'series_id']]\n",
    "    cols_to_impute = labels.drop(columns=['study_id', 'series_id'])\n",
    "    imputed_cols = cols_to_impute.apply(lambda x: x.fillna(x.mode()[0]))\n",
    "    labels = pd.concat([id_cols, imputed_cols], axis=1)\n",
    "\n",
    "    id_cols = labels[['study_id', 'series_id']]\n",
    "    cols_to_encode = labels.drop(columns=['study_id', 'series_id'])\n",
    "    encoded_df = cols_to_encode.apply(LabelEncoder().fit_transform)\n",
    "    final_df = pd.concat([id_cols, encoded_df], axis=1)\n",
    "\n",
    "    df = pd.merge(embeddings, final_df, on='study_id', how='inner')\n",
    "\n",
    "    X = df.iloc[:, :512].values\n",
    "    Y = df.iloc[:, 515:].values\n",
    "\n",
    "    avg_accuracies = []\n",
    "    avg_f1_scores = []\n",
    "    avg_roc_auc_scores = []\n",
    "\n",
    "    for col in tqdm(range(Y.shape[1]), desc=\"Training Columns\"):\n",
    "        X_train, X_test, Y_train, Y_test = train_test_split(X, Y[:, col], test_size=0.2, random_state=42)\n",
    "\n",
    "        scaler = StandardScaler()\n",
    "        X_train = scaler.fit_transform(X_train)\n",
    "        X_test = scaler.transform(X_test)\n",
    "\n",
    "        try:\n",
    "            minority_class_size = min(np.bincount(Y_train))\n",
    "            n_neighbors = min(5, minority_class_size - 1)\n",
    "            smote = SMOTE(random_state=42, k_neighbors=n_neighbors)\n",
    "            X_train, Y_train = smote.fit_resample(X_train, Y_train)\n",
    "        except ValueError as e:\n",
    "            print(f\"Skipping SMOTE for column {col} due to error: {e}\")\n",
    "\n",
    "        # Convert the datasets into DMatrix format for XGBoost\n",
    "        dtrain = xgb.DMatrix(X_train, label=Y_train)\n",
    "        dtest = xgb.DMatrix(X_test, label=Y_test)\n",
    "\n",
    "        params = {\n",
    "            'objective': 'multi:softprob',  # Multi-class classification\n",
    "            'num_class': len(np.unique(Y_train)),\n",
    "            'eval_metric': 'mlogloss',\n",
    "            'eta': 0.1,                      # Learning rate\n",
    "            'max_depth': 6,                  # Maximum tree depth\n",
    "            'silent': 1                      # Silent mode\n",
    "        }\n",
    "\n",
    "        model = xgb.train(params, dtrain)\n",
    "\n",
    "        joblib.dump(model, f'{model_save_path_prefix}{col}.joblib')\n",
    "\n",
    "        Y_pred = model.predict(dtest)\n",
    "        Y_pred_classes = np.argmax(Y_pred, axis=1)\n",
    "\n",
    "        accuracy = accuracy_score(Y_test, Y_pred_classes)\n",
    "        f1 = f1_score(Y_test, Y_pred_classes, average='macro')\n",
    "\n",
    "        if len(np.unique(Y_test)) > 2:\n",
    "            roc_auc = roc_auc_score(Y_test, Y_pred, multi_class='ovr')\n",
    "        else:\n",
    "            roc_auc = roc_auc_score(Y_test, Y_pred_classes)\n",
    "\n",
    "        avg_accuracies.append(accuracy)\n",
    "        avg_f1_scores.append(f1)\n",
    "        avg_roc_auc_scores.append(roc_auc)\n",
    "\n",
    "        print(f'Column {col}: Accuracy = {accuracy:.4f}, F1 Score = {f1:.4f}, ROC AUC = {roc_auc:.4f}')\n",
    "\n",
    "    return np.mean(avg_accuracies), np.mean(avg_f1_scores), np.mean(avg_roc_auc_scores)\n"
   ]
  },
  {
   "cell_type": "code",
   "execution_count": 4,
   "id": "ae74cb58",
   "metadata": {
    "execution": {
     "iopub.execute_input": "2024-10-10T18:30:59.099663Z",
     "iopub.status.busy": "2024-10-10T18:30:59.099239Z",
     "iopub.status.idle": "2024-10-10T18:43:38.381234Z",
     "shell.execute_reply": "2024-10-10T18:43:38.380213Z"
    },
    "papermill": {
     "duration": 759.288198,
     "end_time": "2024-10-10T18:43:38.383447",
     "exception": false,
     "start_time": "2024-10-10T18:30:59.095249",
     "status": "completed"
    },
    "tags": []
   },
   "outputs": [
    {
     "name": "stdout",
     "output_type": "stream",
     "text": [
      "\n",
      "Training for: AT2 - GSL - Attention Network - /kaggle/input/attention-embeddings-for-rsna/AT2_attention_embeddings_gsl.csv\n"
     ]
    },
    {
     "name": "stderr",
     "output_type": "stream",
     "text": [
      "Training Columns:   0%|          | 0/10 [00:00<?, ?it/s]/opt/conda/lib/python3.10/site-packages/xgboost/core.py:160: UserWarning: [18:31:00] WARNING: /workspace/src/learner.cc:742: \n",
      "Parameters: { \"silent\" } are not used.\n",
      "\n",
      "  warnings.warn(smsg, UserWarning)\n",
      "Training Columns:  10%|█         | 1/10 [00:04<00:44,  4.89s/it]"
     ]
    },
    {
     "name": "stdout",
     "output_type": "stream",
     "text": [
      "Column 0: Accuracy = 0.9648, F1 Score = 0.7071, ROC AUC = 0.7019\n"
     ]
    },
    {
     "name": "stderr",
     "output_type": "stream",
     "text": [
      "/opt/conda/lib/python3.10/site-packages/xgboost/core.py:160: UserWarning: [18:31:04] WARNING: /workspace/src/learner.cc:742: \n",
      "Parameters: { \"silent\" } are not used.\n",
      "\n",
      "  warnings.warn(smsg, UserWarning)\n",
      "Training Columns:  20%|██        | 2/10 [00:11<00:48,  6.04s/it]"
     ]
    },
    {
     "name": "stdout",
     "output_type": "stream",
     "text": [
      "Column 1: Accuracy = 0.9045, F1 Score = 0.4870, ROC AUC = 0.6237\n"
     ]
    },
    {
     "name": "stderr",
     "output_type": "stream",
     "text": [
      "/opt/conda/lib/python3.10/site-packages/xgboost/core.py:160: UserWarning: [18:31:11] WARNING: /workspace/src/learner.cc:742: \n",
      "Parameters: { \"silent\" } are not used.\n",
      "\n",
      "  warnings.warn(smsg, UserWarning)\n",
      "Training Columns:  30%|███       | 3/10 [00:18<00:44,  6.42s/it]"
     ]
    },
    {
     "name": "stdout",
     "output_type": "stream",
     "text": [
      "Column 2: Accuracy = 0.7839, F1 Score = 0.6079, ROC AUC = 0.8259\n"
     ]
    },
    {
     "name": "stderr",
     "output_type": "stream",
     "text": [
      "/opt/conda/lib/python3.10/site-packages/xgboost/core.py:160: UserWarning: [18:31:18] WARNING: /workspace/src/learner.cc:742: \n",
      "Parameters: { \"silent\" } are not used.\n",
      "\n",
      "  warnings.warn(smsg, UserWarning)\n",
      "Training Columns:  40%|████      | 4/10 [00:25<00:38,  6.43s/it]"
     ]
    },
    {
     "name": "stdout",
     "output_type": "stream",
     "text": [
      "Column 3: Accuracy = 0.6348, F1 Score = 0.5387, ROC AUC = 0.7606\n"
     ]
    },
    {
     "name": "stderr",
     "output_type": "stream",
     "text": [
      "/opt/conda/lib/python3.10/site-packages/xgboost/core.py:160: UserWarning: [18:31:24] WARNING: /workspace/src/learner.cc:742: \n",
      "Parameters: { \"silent\" } are not used.\n",
      "\n",
      "  warnings.warn(smsg, UserWarning)\n",
      "Training Columns:  50%|█████     | 5/10 [00:31<00:31,  6.40s/it]"
     ]
    },
    {
     "name": "stdout",
     "output_type": "stream",
     "text": [
      "Column 4: Accuracy = 0.6449, F1 Score = 0.5614, ROC AUC = 0.7468\n"
     ]
    },
    {
     "name": "stderr",
     "output_type": "stream",
     "text": [
      "/opt/conda/lib/python3.10/site-packages/xgboost/core.py:160: UserWarning: [18:31:31] WARNING: /workspace/src/learner.cc:742: \n",
      "Parameters: { \"silent\" } are not used.\n",
      "\n",
      "  warnings.warn(smsg, UserWarning)\n",
      "Training Columns:  60%|██████    | 6/10 [00:36<00:24,  6.09s/it]"
     ]
    },
    {
     "name": "stdout",
     "output_type": "stream",
     "text": [
      "Column 5: Accuracy = 0.9414, F1 Score = 0.6227, ROC AUC = 0.7231\n"
     ]
    },
    {
     "name": "stderr",
     "output_type": "stream",
     "text": [
      "/opt/conda/lib/python3.10/site-packages/xgboost/core.py:160: UserWarning: [18:31:36] WARNING: /workspace/src/learner.cc:742: \n",
      "Parameters: { \"silent\" } are not used.\n",
      "\n",
      "  warnings.warn(smsg, UserWarning)\n",
      "Training Columns:  70%|███████   | 7/10 [00:43<00:18,  6.17s/it]"
     ]
    },
    {
     "name": "stdout",
     "output_type": "stream",
     "text": [
      "Column 6: Accuracy = 0.9045, F1 Score = 0.6661, ROC AUC = 0.7721\n"
     ]
    },
    {
     "name": "stderr",
     "output_type": "stream",
     "text": [
      "/opt/conda/lib/python3.10/site-packages/xgboost/core.py:160: UserWarning: [18:31:43] WARNING: /workspace/src/learner.cc:742: \n",
      "Parameters: { \"silent\" } are not used.\n",
      "\n",
      "  warnings.warn(smsg, UserWarning)\n",
      "Training Columns:  80%|████████  | 8/10 [00:49<00:12,  6.29s/it]"
     ]
    },
    {
     "name": "stdout",
     "output_type": "stream",
     "text": [
      "Column 7: Accuracy = 0.7806, F1 Score = 0.5211, ROC AUC = 0.7836\n"
     ]
    },
    {
     "name": "stderr",
     "output_type": "stream",
     "text": [
      "/opt/conda/lib/python3.10/site-packages/xgboost/core.py:160: UserWarning: [18:31:49] WARNING: /workspace/src/learner.cc:742: \n",
      "Parameters: { \"silent\" } are not used.\n",
      "\n",
      "  warnings.warn(smsg, UserWarning)\n",
      "Training Columns:  90%|█████████ | 9/10 [00:56<00:06,  6.39s/it]"
     ]
    },
    {
     "name": "stdout",
     "output_type": "stream",
     "text": [
      "Column 8: Accuracy = 0.7119, F1 Score = 0.5987, ROC AUC = 0.7762\n"
     ]
    },
    {
     "name": "stderr",
     "output_type": "stream",
     "text": [
      "/opt/conda/lib/python3.10/site-packages/xgboost/core.py:160: UserWarning: [18:31:56] WARNING: /workspace/src/learner.cc:742: \n",
      "Parameters: { \"silent\" } are not used.\n",
      "\n",
      "  warnings.warn(smsg, UserWarning)\n",
      "Training Columns: 100%|██████████| 10/10 [01:02<00:00,  6.27s/it]"
     ]
    },
    {
     "name": "stdout",
     "output_type": "stream",
     "text": [
      "Column 9: Accuracy = 0.6817, F1 Score = 0.6060, ROC AUC = 0.7866\n",
      "\n",
      "Training for: AT2 - HIST - Attention Network - /kaggle/input/attention-embeddings-for-rsna/AT2_attention_embeddings_hist.csv\n"
     ]
    },
    {
     "name": "stderr",
     "output_type": "stream",
     "text": [
      "\n",
      "/tmp/ipykernel_17/586429171.py:17: FutureWarning: The behavior of DataFrame concatenation with empty or all-NA entries is deprecated. In a future version, this will no longer exclude empty or all-NA columns when determining the result dtypes. To retain the old behavior, exclude the relevant entries before the concat operation.\n",
      "  results_df = pd.concat([results_df, result_row], ignore_index=True)\n",
      "Training Columns:   0%|          | 0/10 [00:00<?, ?it/s]/opt/conda/lib/python3.10/site-packages/xgboost/core.py:160: UserWarning: [18:32:03] WARNING: /workspace/src/learner.cc:742: \n",
      "Parameters: { \"silent\" } are not used.\n",
      "\n",
      "  warnings.warn(smsg, UserWarning)\n",
      "Training Columns:  10%|█         | 1/10 [00:04<00:36,  4.09s/it]"
     ]
    },
    {
     "name": "stdout",
     "output_type": "stream",
     "text": [
      "Column 0: Accuracy = 0.9531, F1 Score = 0.4522, ROC AUC = 0.6986\n"
     ]
    },
    {
     "name": "stderr",
     "output_type": "stream",
     "text": [
      "/opt/conda/lib/python3.10/site-packages/xgboost/core.py:160: UserWarning: [18:32:07] WARNING: /workspace/src/learner.cc:742: \n",
      "Parameters: { \"silent\" } are not used.\n",
      "\n",
      "  warnings.warn(smsg, UserWarning)\n",
      "Training Columns:  20%|██        | 2/10 [00:10<00:44,  5.50s/it]"
     ]
    },
    {
     "name": "stdout",
     "output_type": "stream",
     "text": [
      "Column 1: Accuracy = 0.8928, F1 Score = 0.4690, ROC AUC = 0.7647\n"
     ]
    },
    {
     "name": "stderr",
     "output_type": "stream",
     "text": [
      "/opt/conda/lib/python3.10/site-packages/xgboost/core.py:160: UserWarning: [18:32:13] WARNING: /workspace/src/learner.cc:742: \n",
      "Parameters: { \"silent\" } are not used.\n",
      "\n",
      "  warnings.warn(smsg, UserWarning)\n",
      "Training Columns:  30%|███       | 3/10 [00:17<00:43,  6.23s/it]"
     ]
    },
    {
     "name": "stdout",
     "output_type": "stream",
     "text": [
      "Column 2: Accuracy = 0.7337, F1 Score = 0.5515, ROC AUC = 0.7842\n"
     ]
    },
    {
     "name": "stderr",
     "output_type": "stream",
     "text": [
      "/opt/conda/lib/python3.10/site-packages/xgboost/core.py:160: UserWarning: [18:32:20] WARNING: /workspace/src/learner.cc:742: \n",
      "Parameters: { \"silent\" } are not used.\n",
      "\n",
      "  warnings.warn(smsg, UserWarning)\n",
      "Training Columns:  40%|████      | 4/10 [00:24<00:39,  6.53s/it]"
     ]
    },
    {
     "name": "stdout",
     "output_type": "stream",
     "text": [
      "Column 3: Accuracy = 0.6968, F1 Score = 0.6075, ROC AUC = 0.7816\n"
     ]
    },
    {
     "name": "stderr",
     "output_type": "stream",
     "text": [
      "/opt/conda/lib/python3.10/site-packages/xgboost/core.py:160: UserWarning: [18:32:27] WARNING: /workspace/src/learner.cc:742: \n",
      "Parameters: { \"silent\" } are not used.\n",
      "\n",
      "  warnings.warn(smsg, UserWarning)\n",
      "Training Columns:  50%|█████     | 5/10 [00:31<00:33,  6.63s/it]"
     ]
    },
    {
     "name": "stdout",
     "output_type": "stream",
     "text": [
      "Column 4: Accuracy = 0.6784, F1 Score = 0.5707, ROC AUC = 0.7569\n"
     ]
    },
    {
     "name": "stderr",
     "output_type": "stream",
     "text": [
      "/opt/conda/lib/python3.10/site-packages/xgboost/core.py:160: UserWarning: [18:32:34] WARNING: /workspace/src/learner.cc:742: \n",
      "Parameters: { \"silent\" } are not used.\n",
      "\n",
      "  warnings.warn(smsg, UserWarning)\n",
      "Training Columns:  60%|██████    | 6/10 [00:37<00:26,  6.55s/it]"
     ]
    },
    {
     "name": "stdout",
     "output_type": "stream",
     "text": [
      "Column 5: Accuracy = 0.9447, F1 Score = 0.5998, ROC AUC = 0.8500\n"
     ]
    },
    {
     "name": "stderr",
     "output_type": "stream",
     "text": [
      "/opt/conda/lib/python3.10/site-packages/xgboost/core.py:160: UserWarning: [18:32:40] WARNING: /workspace/src/learner.cc:742: \n",
      "Parameters: { \"silent\" } are not used.\n",
      "\n",
      "  warnings.warn(smsg, UserWarning)\n",
      "Training Columns:  70%|███████   | 7/10 [00:44<00:19,  6.41s/it]"
     ]
    },
    {
     "name": "stdout",
     "output_type": "stream",
     "text": [
      "Column 6: Accuracy = 0.8945, F1 Score = 0.6525, ROC AUC = 0.8572\n"
     ]
    },
    {
     "name": "stderr",
     "output_type": "stream",
     "text": [
      "/opt/conda/lib/python3.10/site-packages/xgboost/core.py:160: UserWarning: [18:32:47] WARNING: /workspace/src/learner.cc:742: \n",
      "Parameters: { \"silent\" } are not used.\n",
      "\n",
      "  warnings.warn(smsg, UserWarning)\n",
      "Training Columns:  80%|████████  | 8/10 [00:50<00:13,  6.51s/it]"
     ]
    },
    {
     "name": "stdout",
     "output_type": "stream",
     "text": [
      "Column 7: Accuracy = 0.7772, F1 Score = 0.5207, ROC AUC = 0.8089\n"
     ]
    },
    {
     "name": "stderr",
     "output_type": "stream",
     "text": [
      "/opt/conda/lib/python3.10/site-packages/xgboost/core.py:160: UserWarning: [18:32:53] WARNING: /workspace/src/learner.cc:742: \n",
      "Parameters: { \"silent\" } are not used.\n",
      "\n",
      "  warnings.warn(smsg, UserWarning)\n",
      "Training Columns:  90%|█████████ | 9/10 [00:56<00:06,  6.44s/it]"
     ]
    },
    {
     "name": "stdout",
     "output_type": "stream",
     "text": [
      "Column 8: Accuracy = 0.6901, F1 Score = 0.5868, ROC AUC = 0.7811\n"
     ]
    },
    {
     "name": "stderr",
     "output_type": "stream",
     "text": [
      "/opt/conda/lib/python3.10/site-packages/xgboost/core.py:160: UserWarning: [18:33:00] WARNING: /workspace/src/learner.cc:742: \n",
      "Parameters: { \"silent\" } are not used.\n",
      "\n",
      "  warnings.warn(smsg, UserWarning)\n",
      "Training Columns: 100%|██████████| 10/10 [01:03<00:00,  6.33s/it]"
     ]
    },
    {
     "name": "stdout",
     "output_type": "stream",
     "text": [
      "Column 9: Accuracy = 0.6399, F1 Score = 0.5691, ROC AUC = 0.7661\n",
      "\n",
      "Training for: ST1 - GSL - Attention Network - /kaggle/input/attention-embeddings-for-rsna/ST1_attention_embeddings_gsl.csv\n"
     ]
    },
    {
     "name": "stderr",
     "output_type": "stream",
     "text": [
      "\n",
      "Training Columns:   0%|          | 0/10 [00:00<?, ?it/s]/opt/conda/lib/python3.10/site-packages/xgboost/core.py:160: UserWarning: [18:33:06] WARNING: /workspace/src/learner.cc:742: \n",
      "Parameters: { \"silent\" } are not used.\n",
      "\n",
      "  warnings.warn(smsg, UserWarning)\n",
      "Training Columns:  10%|█         | 1/10 [00:05<00:51,  5.70s/it]"
     ]
    },
    {
     "name": "stdout",
     "output_type": "stream",
     "text": [
      "Column 0: Accuracy = 0.8364, F1 Score = 0.4215, ROC AUC = 0.5854\n"
     ]
    },
    {
     "name": "stderr",
     "output_type": "stream",
     "text": [
      "/opt/conda/lib/python3.10/site-packages/xgboost/core.py:160: UserWarning: [18:33:12] WARNING: /workspace/src/learner.cc:742: \n",
      "Parameters: { \"silent\" } are not used.\n",
      "\n",
      "  warnings.warn(smsg, UserWarning)\n",
      "Training Columns:  20%|██        | 2/10 [00:12<00:48,  6.10s/it]"
     ]
    },
    {
     "name": "stdout",
     "output_type": "stream",
     "text": [
      "Column 1: Accuracy = 0.6280, F1 Score = 0.3357, ROC AUC = 0.5461\n"
     ]
    },
    {
     "name": "stderr",
     "output_type": "stream",
     "text": [
      "/opt/conda/lib/python3.10/site-packages/xgboost/core.py:160: UserWarning: [18:33:18] WARNING: /workspace/src/learner.cc:742: \n",
      "Parameters: { \"silent\" } are not used.\n",
      "\n",
      "  warnings.warn(smsg, UserWarning)\n",
      "Training Columns:  30%|███       | 3/10 [00:17<00:40,  5.79s/it]"
     ]
    },
    {
     "name": "stdout",
     "output_type": "stream",
     "text": [
      "Column 2: Accuracy = 0.5567, F1 Score = 0.4006, ROC AUC = 0.5921\n"
     ]
    },
    {
     "name": "stderr",
     "output_type": "stream",
     "text": [
      "/opt/conda/lib/python3.10/site-packages/xgboost/core.py:160: UserWarning: [18:33:24] WARNING: /workspace/src/learner.cc:742: \n",
      "Parameters: { \"silent\" } are not used.\n",
      "\n",
      "  warnings.warn(smsg, UserWarning)\n",
      "Training Columns:  40%|████      | 4/10 [00:22<00:33,  5.64s/it]"
     ]
    },
    {
     "name": "stdout",
     "output_type": "stream",
     "text": [
      "Column 3: Accuracy = 0.4169, F1 Score = 0.3902, ROC AUC = 0.5634\n"
     ]
    },
    {
     "name": "stderr",
     "output_type": "stream",
     "text": [
      "/opt/conda/lib/python3.10/site-packages/xgboost/core.py:160: UserWarning: [18:33:29] WARNING: /workspace/src/learner.cc:742: \n",
      "Parameters: { \"silent\" } are not used.\n",
      "\n",
      "  warnings.warn(smsg, UserWarning)\n",
      "Training Columns:  50%|█████     | 5/10 [00:28<00:28,  5.65s/it]"
     ]
    },
    {
     "name": "stdout",
     "output_type": "stream",
     "text": [
      "Column 4: Accuracy = 0.4828, F1 Score = 0.3113, ROC AUC = 0.5403\n"
     ]
    },
    {
     "name": "stderr",
     "output_type": "stream",
     "text": [
      "/opt/conda/lib/python3.10/site-packages/xgboost/core.py:160: UserWarning: [18:33:35] WARNING: /workspace/src/learner.cc:742: \n",
      "Parameters: { \"silent\" } are not used.\n",
      "\n",
      "  warnings.warn(smsg, UserWarning)\n",
      "Training Columns:  60%|██████    | 6/10 [00:33<00:21,  5.31s/it]"
     ]
    },
    {
     "name": "stdout",
     "output_type": "stream",
     "text": [
      "Column 5: Accuracy = 0.7757, F1 Score = 0.3468, ROC AUC = 0.6057\n"
     ]
    },
    {
     "name": "stderr",
     "output_type": "stream",
     "text": [
      "/opt/conda/lib/python3.10/site-packages/xgboost/core.py:160: UserWarning: [18:33:39] WARNING: /workspace/src/learner.cc:742: \n",
      "Parameters: { \"silent\" } are not used.\n",
      "\n",
      "  warnings.warn(smsg, UserWarning)\n",
      "Training Columns:  70%|███████   | 7/10 [00:39<00:16,  5.55s/it]"
     ]
    },
    {
     "name": "stdout",
     "output_type": "stream",
     "text": [
      "Column 6: Accuracy = 0.6807, F1 Score = 0.3673, ROC AUC = 0.5684\n"
     ]
    },
    {
     "name": "stderr",
     "output_type": "stream",
     "text": [
      "/opt/conda/lib/python3.10/site-packages/xgboost/core.py:160: UserWarning: [18:33:45] WARNING: /workspace/src/learner.cc:742: \n",
      "Parameters: { \"silent\" } are not used.\n",
      "\n",
      "  warnings.warn(smsg, UserWarning)\n",
      "Training Columns:  80%|████████  | 8/10 [00:46<00:11,  5.96s/it]"
     ]
    },
    {
     "name": "stdout",
     "output_type": "stream",
     "text": [
      "Column 7: Accuracy = 0.5356, F1 Score = 0.3993, ROC AUC = 0.5858\n"
     ]
    },
    {
     "name": "stderr",
     "output_type": "stream",
     "text": [
      "/opt/conda/lib/python3.10/site-packages/xgboost/core.py:160: UserWarning: [18:33:52] WARNING: /workspace/src/learner.cc:742: \n",
      "Parameters: { \"silent\" } are not used.\n",
      "\n",
      "  warnings.warn(smsg, UserWarning)\n",
      "Training Columns:  90%|█████████ | 9/10 [00:51<00:05,  5.72s/it]"
     ]
    },
    {
     "name": "stdout",
     "output_type": "stream",
     "text": [
      "Column 8: Accuracy = 0.3905, F1 Score = 0.3841, ROC AUC = 0.5626\n"
     ]
    },
    {
     "name": "stderr",
     "output_type": "stream",
     "text": [
      "/opt/conda/lib/python3.10/site-packages/xgboost/core.py:160: UserWarning: [18:33:58] WARNING: /workspace/src/learner.cc:742: \n",
      "Parameters: { \"silent\" } are not used.\n",
      "\n",
      "  warnings.warn(smsg, UserWarning)\n",
      "Training Columns: 100%|██████████| 10/10 [00:56<00:00,  5.66s/it]"
     ]
    },
    {
     "name": "stdout",
     "output_type": "stream",
     "text": [
      "Column 9: Accuracy = 0.4934, F1 Score = 0.3563, ROC AUC = 0.5525\n",
      "\n",
      "Training for: ST1 - HIST - Attention Network - /kaggle/input/attention-embeddings-for-rsna/ST1_attention_embeddings_hist.csv\n"
     ]
    },
    {
     "name": "stderr",
     "output_type": "stream",
     "text": [
      "\n",
      "Training Columns:   0%|          | 0/10 [00:00<?, ?it/s]/opt/conda/lib/python3.10/site-packages/xgboost/core.py:160: UserWarning: [18:34:03] WARNING: /workspace/src/learner.cc:742: \n",
      "Parameters: { \"silent\" } are not used.\n",
      "\n",
      "  warnings.warn(smsg, UserWarning)\n",
      "Training Columns:  10%|█         | 1/10 [00:05<00:51,  5.67s/it]"
     ]
    },
    {
     "name": "stdout",
     "output_type": "stream",
     "text": [
      "Column 0: Accuracy = 0.8575, F1 Score = 0.4195, ROC AUC = 0.6691\n"
     ]
    },
    {
     "name": "stderr",
     "output_type": "stream",
     "text": [
      "/opt/conda/lib/python3.10/site-packages/xgboost/core.py:160: UserWarning: [18:34:09] WARNING: /workspace/src/learner.cc:742: \n",
      "Parameters: { \"silent\" } are not used.\n",
      "\n",
      "  warnings.warn(smsg, UserWarning)\n",
      "Training Columns:  20%|██        | 2/10 [00:11<00:46,  5.76s/it]"
     ]
    },
    {
     "name": "stdout",
     "output_type": "stream",
     "text": [
      "Column 1: Accuracy = 0.6649, F1 Score = 0.3642, ROC AUC = 0.5554\n"
     ]
    },
    {
     "name": "stderr",
     "output_type": "stream",
     "text": [
      "/opt/conda/lib/python3.10/site-packages/xgboost/core.py:160: UserWarning: [18:34:15] WARNING: /workspace/src/learner.cc:742: \n",
      "Parameters: { \"silent\" } are not used.\n",
      "\n",
      "  warnings.warn(smsg, UserWarning)\n",
      "Training Columns:  30%|███       | 3/10 [00:17<00:40,  5.84s/it]"
     ]
    },
    {
     "name": "stdout",
     "output_type": "stream",
     "text": [
      "Column 2: Accuracy = 0.5383, F1 Score = 0.3820, ROC AUC = 0.5960\n"
     ]
    },
    {
     "name": "stderr",
     "output_type": "stream",
     "text": [
      "/opt/conda/lib/python3.10/site-packages/xgboost/core.py:160: UserWarning: [18:34:21] WARNING: /workspace/src/learner.cc:742: \n",
      "Parameters: { \"silent\" } are not used.\n",
      "\n",
      "  warnings.warn(smsg, UserWarning)\n",
      "Training Columns:  40%|████      | 4/10 [00:22<00:33,  5.65s/it]"
     ]
    },
    {
     "name": "stdout",
     "output_type": "stream",
     "text": [
      "Column 3: Accuracy = 0.3773, F1 Score = 0.3611, ROC AUC = 0.5506\n"
     ]
    },
    {
     "name": "stderr",
     "output_type": "stream",
     "text": [
      "/opt/conda/lib/python3.10/site-packages/xgboost/core.py:160: UserWarning: [18:34:26] WARNING: /workspace/src/learner.cc:742: \n",
      "Parameters: { \"silent\" } are not used.\n",
      "\n",
      "  warnings.warn(smsg, UserWarning)\n",
      "Training Columns:  50%|█████     | 5/10 [00:28<00:27,  5.54s/it]"
     ]
    },
    {
     "name": "stdout",
     "output_type": "stream",
     "text": [
      "Column 4: Accuracy = 0.5013, F1 Score = 0.3219, ROC AUC = 0.4927\n"
     ]
    },
    {
     "name": "stderr",
     "output_type": "stream",
     "text": [
      "/opt/conda/lib/python3.10/site-packages/xgboost/core.py:160: UserWarning: [18:34:31] WARNING: /workspace/src/learner.cc:742: \n",
      "Parameters: { \"silent\" } are not used.\n",
      "\n",
      "  warnings.warn(smsg, UserWarning)\n",
      "Training Columns:  60%|██████    | 6/10 [00:33<00:21,  5.45s/it]"
     ]
    },
    {
     "name": "stdout",
     "output_type": "stream",
     "text": [
      "Column 5: Accuracy = 0.8707, F1 Score = 0.3258, ROC AUC = 0.5794\n"
     ]
    },
    {
     "name": "stderr",
     "output_type": "stream",
     "text": [
      "/opt/conda/lib/python3.10/site-packages/xgboost/core.py:160: UserWarning: [18:34:37] WARNING: /workspace/src/learner.cc:742: \n",
      "Parameters: { \"silent\" } are not used.\n",
      "\n",
      "  warnings.warn(smsg, UserWarning)\n",
      "Training Columns:  70%|███████   | 7/10 [00:39<00:16,  5.55s/it]"
     ]
    },
    {
     "name": "stdout",
     "output_type": "stream",
     "text": [
      "Column 6: Accuracy = 0.6781, F1 Score = 0.3560, ROC AUC = 0.6040\n"
     ]
    },
    {
     "name": "stderr",
     "output_type": "stream",
     "text": [
      "/opt/conda/lib/python3.10/site-packages/xgboost/core.py:160: UserWarning: [18:34:42] WARNING: /workspace/src/learner.cc:742: \n",
      "Parameters: { \"silent\" } are not used.\n",
      "\n",
      "  warnings.warn(smsg, UserWarning)\n",
      "Training Columns:  80%|████████  | 8/10 [00:44<00:11,  5.59s/it]"
     ]
    },
    {
     "name": "stdout",
     "output_type": "stream",
     "text": [
      "Column 7: Accuracy = 0.4934, F1 Score = 0.3702, ROC AUC = 0.5703\n"
     ]
    },
    {
     "name": "stderr",
     "output_type": "stream",
     "text": [
      "/opt/conda/lib/python3.10/site-packages/xgboost/core.py:160: UserWarning: [18:34:48] WARNING: /workspace/src/learner.cc:742: \n",
      "Parameters: { \"silent\" } are not used.\n",
      "\n",
      "  warnings.warn(smsg, UserWarning)\n",
      "Training Columns:  90%|█████████ | 9/10 [00:50<00:05,  5.67s/it]"
     ]
    },
    {
     "name": "stdout",
     "output_type": "stream",
     "text": [
      "Column 8: Accuracy = 0.3879, F1 Score = 0.3688, ROC AUC = 0.5534\n"
     ]
    },
    {
     "name": "stderr",
     "output_type": "stream",
     "text": [
      "/opt/conda/lib/python3.10/site-packages/xgboost/core.py:160: UserWarning: [18:34:54] WARNING: /workspace/src/learner.cc:742: \n",
      "Parameters: { \"silent\" } are not used.\n",
      "\n",
      "  warnings.warn(smsg, UserWarning)\n",
      "Training Columns: 100%|██████████| 10/10 [00:56<00:00,  5.60s/it]"
     ]
    },
    {
     "name": "stdout",
     "output_type": "stream",
     "text": [
      "Column 9: Accuracy = 0.5172, F1 Score = 0.3596, ROC AUC = 0.5735\n",
      "\n",
      "Training for: ST2 - GSL - Attention Network - /kaggle/input/attention-embeddings-for-rsna/ST2_attention_embeddings_gsl.csv\n"
     ]
    },
    {
     "name": "stderr",
     "output_type": "stream",
     "text": [
      "\n",
      "Training Columns:   0%|          | 0/5 [00:00<?, ?it/s]/opt/conda/lib/python3.10/site-packages/xgboost/core.py:160: UserWarning: [18:35:00] WARNING: /workspace/src/learner.cc:742: \n",
      "Parameters: { \"silent\" } are not used.\n",
      "\n",
      "  warnings.warn(smsg, UserWarning)\n",
      "Training Columns:  20%|██        | 1/5 [00:05<00:21,  5.28s/it]"
     ]
    },
    {
     "name": "stdout",
     "output_type": "stream",
     "text": [
      "Column 0: Accuracy = 0.9016, F1 Score = 0.3355, ROC AUC = 0.6070\n"
     ]
    },
    {
     "name": "stderr",
     "output_type": "stream",
     "text": [
      "/opt/conda/lib/python3.10/site-packages/xgboost/core.py:160: UserWarning: [18:35:05] WARNING: /workspace/src/learner.cc:742: \n",
      "Parameters: { \"silent\" } are not used.\n",
      "\n",
      "  warnings.warn(smsg, UserWarning)\n",
      "Training Columns:  40%|████      | 2/5 [00:11<00:17,  5.85s/it]"
     ]
    },
    {
     "name": "stdout",
     "output_type": "stream",
     "text": [
      "Column 1: Accuracy = 0.8085, F1 Score = 0.3510, ROC AUC = 0.6148\n"
     ]
    },
    {
     "name": "stderr",
     "output_type": "stream",
     "text": [
      "/opt/conda/lib/python3.10/site-packages/xgboost/core.py:160: UserWarning: [18:35:11] WARNING: /workspace/src/learner.cc:742: \n",
      "Parameters: { \"silent\" } are not used.\n",
      "\n",
      "  warnings.warn(smsg, UserWarning)\n",
      "Training Columns:  60%|██████    | 3/5 [00:17<00:11,  5.95s/it]"
     ]
    },
    {
     "name": "stdout",
     "output_type": "stream",
     "text": [
      "Column 2: Accuracy = 0.6117, F1 Score = 0.3474, ROC AUC = 0.5701\n"
     ]
    },
    {
     "name": "stderr",
     "output_type": "stream",
     "text": [
      "/opt/conda/lib/python3.10/site-packages/xgboost/core.py:160: UserWarning: [18:35:17] WARNING: /workspace/src/learner.cc:742: \n",
      "Parameters: { \"silent\" } are not used.\n",
      "\n",
      "  warnings.warn(smsg, UserWarning)\n",
      "Training Columns:  80%|████████  | 4/5 [00:23<00:05,  5.83s/it]"
     ]
    },
    {
     "name": "stdout",
     "output_type": "stream",
     "text": [
      "Column 3: Accuracy = 0.5638, F1 Score = 0.3944, ROC AUC = 0.6238\n"
     ]
    },
    {
     "name": "stderr",
     "output_type": "stream",
     "text": [
      "/opt/conda/lib/python3.10/site-packages/xgboost/core.py:160: UserWarning: [18:35:23] WARNING: /workspace/src/learner.cc:742: \n",
      "Parameters: { \"silent\" } are not used.\n",
      "\n",
      "  warnings.warn(smsg, UserWarning)\n",
      "Training Columns: 100%|██████████| 5/5 [00:28<00:00,  5.61s/it]"
     ]
    },
    {
     "name": "stdout",
     "output_type": "stream",
     "text": [
      "Column 4: Accuracy = 0.8750, F1 Score = 0.3111, ROC AUC = 0.4169\n",
      "\n",
      "Training for: ST2 - HIST - Attention Network - /kaggle/input/attention-embeddings-for-rsna/ST2_attention_embeddings_hist.csv\n"
     ]
    },
    {
     "name": "stderr",
     "output_type": "stream",
     "text": [
      "\n",
      "Training Columns:   0%|          | 0/5 [00:00<?, ?it/s]/opt/conda/lib/python3.10/site-packages/xgboost/core.py:160: UserWarning: [18:35:28] WARNING: /workspace/src/learner.cc:742: \n",
      "Parameters: { \"silent\" } are not used.\n",
      "\n",
      "  warnings.warn(smsg, UserWarning)\n",
      "Training Columns:  20%|██        | 1/5 [00:05<00:20,  5.11s/it]"
     ]
    },
    {
     "name": "stdout",
     "output_type": "stream",
     "text": [
      "Column 0: Accuracy = 0.8298, F1 Score = 0.3023, ROC AUC = 0.5473\n"
     ]
    },
    {
     "name": "stderr",
     "output_type": "stream",
     "text": [
      "/opt/conda/lib/python3.10/site-packages/xgboost/core.py:160: UserWarning: [18:35:33] WARNING: /workspace/src/learner.cc:742: \n",
      "Parameters: { \"silent\" } are not used.\n",
      "\n",
      "  warnings.warn(smsg, UserWarning)\n",
      "Training Columns:  40%|████      | 2/5 [00:11<00:16,  5.62s/it]"
     ]
    },
    {
     "name": "stdout",
     "output_type": "stream",
     "text": [
      "Column 1: Accuracy = 0.7074, F1 Score = 0.3356, ROC AUC = 0.6175\n"
     ]
    },
    {
     "name": "stderr",
     "output_type": "stream",
     "text": [
      "/opt/conda/lib/python3.10/site-packages/xgboost/core.py:160: UserWarning: [18:35:39] WARNING: /workspace/src/learner.cc:742: \n",
      "Parameters: { \"silent\" } are not used.\n",
      "\n",
      "  warnings.warn(smsg, UserWarning)\n",
      "Training Columns:  60%|██████    | 3/5 [00:17<00:11,  5.78s/it]"
     ]
    },
    {
     "name": "stdout",
     "output_type": "stream",
     "text": [
      "Column 2: Accuracy = 0.6888, F1 Score = 0.3728, ROC AUC = 0.5829\n"
     ]
    },
    {
     "name": "stderr",
     "output_type": "stream",
     "text": [
      "/opt/conda/lib/python3.10/site-packages/xgboost/core.py:160: UserWarning: [18:35:45] WARNING: /workspace/src/learner.cc:742: \n",
      "Parameters: { \"silent\" } are not used.\n",
      "\n",
      "  warnings.warn(smsg, UserWarning)\n",
      "Training Columns:  80%|████████  | 4/5 [00:22<00:05,  5.75s/it]"
     ]
    },
    {
     "name": "stdout",
     "output_type": "stream",
     "text": [
      "Column 3: Accuracy = 0.5559, F1 Score = 0.3934, ROC AUC = 0.5847\n"
     ]
    },
    {
     "name": "stderr",
     "output_type": "stream",
     "text": [
      "/opt/conda/lib/python3.10/site-packages/xgboost/core.py:160: UserWarning: [18:35:51] WARNING: /workspace/src/learner.cc:742: \n",
      "Parameters: { \"silent\" } are not used.\n",
      "\n",
      "  warnings.warn(smsg, UserWarning)\n",
      "Training Columns: 100%|██████████| 5/5 [00:27<00:00,  5.54s/it]"
     ]
    },
    {
     "name": "stdout",
     "output_type": "stream",
     "text": [
      "Column 4: Accuracy = 0.9016, F1 Score = 0.3161, ROC AUC = 0.5056\n",
      "\n",
      "Training for: AT2 - GSL - Average ResNet50 - /kaggle/input/embeddings-for-rsna/at2-greyscl/final_embeddings.csv\n"
     ]
    },
    {
     "name": "stderr",
     "output_type": "stream",
     "text": [
      "\n",
      "Training Columns:   0%|          | 0/10 [00:00<?, ?it/s]/opt/conda/lib/python3.10/site-packages/xgboost/core.py:160: UserWarning: [18:35:56] WARNING: /workspace/src/learner.cc:742: \n",
      "Parameters: { \"silent\" } are not used.\n",
      "\n",
      "  warnings.warn(smsg, UserWarning)\n",
      "Training Columns:  10%|█         | 1/10 [00:04<00:42,  4.69s/it]"
     ]
    },
    {
     "name": "stdout",
     "output_type": "stream",
     "text": [
      "Column 0: Accuracy = 0.9280, F1 Score = 0.6039, ROC AUC = 0.6574\n"
     ]
    },
    {
     "name": "stderr",
     "output_type": "stream",
     "text": [
      "/opt/conda/lib/python3.10/site-packages/xgboost/core.py:160: UserWarning: [18:36:01] WARNING: /workspace/src/learner.cc:742: \n",
      "Parameters: { \"silent\" } are not used.\n",
      "\n",
      "  warnings.warn(smsg, UserWarning)\n",
      "Training Columns:  20%|██        | 2/10 [00:09<00:39,  4.89s/it]"
     ]
    },
    {
     "name": "stdout",
     "output_type": "stream",
     "text": [
      "Column 1: Accuracy = 0.8208, F1 Score = 0.4140, ROC AUC = 0.5831\n"
     ]
    },
    {
     "name": "stderr",
     "output_type": "stream",
     "text": [
      "/opt/conda/lib/python3.10/site-packages/xgboost/core.py:160: UserWarning: [18:36:06] WARNING: /workspace/src/learner.cc:742: \n",
      "Parameters: { \"silent\" } are not used.\n",
      "\n",
      "  warnings.warn(smsg, UserWarning)\n",
      "Training Columns:  30%|███       | 3/10 [00:14<00:34,  4.94s/it]"
     ]
    },
    {
     "name": "stdout",
     "output_type": "stream",
     "text": [
      "Column 2: Accuracy = 0.6918, F1 Score = 0.5190, ROC AUC = 0.7387\n"
     ]
    },
    {
     "name": "stderr",
     "output_type": "stream",
     "text": [
      "/opt/conda/lib/python3.10/site-packages/xgboost/core.py:160: UserWarning: [18:36:11] WARNING: /workspace/src/learner.cc:742: \n",
      "Parameters: { \"silent\" } are not used.\n",
      "\n",
      "  warnings.warn(smsg, UserWarning)\n",
      "Training Columns:  40%|████      | 4/10 [00:19<00:29,  4.88s/it]"
     ]
    },
    {
     "name": "stdout",
     "output_type": "stream",
     "text": [
      "Column 3: Accuracy = 0.6047, F1 Score = 0.5095, ROC AUC = 0.7228\n"
     ]
    },
    {
     "name": "stderr",
     "output_type": "stream",
     "text": [
      "/opt/conda/lib/python3.10/site-packages/xgboost/core.py:160: UserWarning: [18:36:16] WARNING: /workspace/src/learner.cc:742: \n",
      "Parameters: { \"silent\" } are not used.\n",
      "\n",
      "  warnings.warn(smsg, UserWarning)\n",
      "Training Columns:  50%|█████     | 5/10 [00:24<00:24,  4.81s/it]"
     ]
    },
    {
     "name": "stdout",
     "output_type": "stream",
     "text": [
      "Column 4: Accuracy = 0.5896, F1 Score = 0.5161, ROC AUC = 0.7040\n"
     ]
    },
    {
     "name": "stderr",
     "output_type": "stream",
     "text": [
      "/opt/conda/lib/python3.10/site-packages/xgboost/core.py:160: UserWarning: [18:36:20] WARNING: /workspace/src/learner.cc:742: \n",
      "Parameters: { \"silent\" } are not used.\n",
      "\n",
      "  warnings.warn(smsg, UserWarning)\n",
      "Training Columns:  60%|██████    | 6/10 [00:29<00:19,  4.95s/it]"
     ]
    },
    {
     "name": "stdout",
     "output_type": "stream",
     "text": [
      "Column 5: Accuracy = 0.8677, F1 Score = 0.4490, ROC AUC = 0.8118\n"
     ]
    },
    {
     "name": "stderr",
     "output_type": "stream",
     "text": [
      "/opt/conda/lib/python3.10/site-packages/xgboost/core.py:160: UserWarning: [18:36:26] WARNING: /workspace/src/learner.cc:742: \n",
      "Parameters: { \"silent\" } are not used.\n",
      "\n",
      "  warnings.warn(smsg, UserWarning)\n",
      "Training Columns:  70%|███████   | 7/10 [00:34<00:14,  4.95s/it]"
     ]
    },
    {
     "name": "stdout",
     "output_type": "stream",
     "text": [
      "Column 6: Accuracy = 0.8191, F1 Score = 0.4730, ROC AUC = 0.7156\n"
     ]
    },
    {
     "name": "stderr",
     "output_type": "stream",
     "text": [
      "/opt/conda/lib/python3.10/site-packages/xgboost/core.py:160: UserWarning: [18:36:31] WARNING: /workspace/src/learner.cc:742: \n",
      "Parameters: { \"silent\" } are not used.\n",
      "\n",
      "  warnings.warn(smsg, UserWarning)\n",
      "Training Columns:  80%|████████  | 8/10 [00:39<00:10,  5.14s/it]"
     ]
    },
    {
     "name": "stdout",
     "output_type": "stream",
     "text": [
      "Column 7: Accuracy = 0.7152, F1 Score = 0.5082, ROC AUC = 0.7299\n"
     ]
    },
    {
     "name": "stderr",
     "output_type": "stream",
     "text": [
      "/opt/conda/lib/python3.10/site-packages/xgboost/core.py:160: UserWarning: [18:36:36] WARNING: /workspace/src/learner.cc:742: \n",
      "Parameters: { \"silent\" } are not used.\n",
      "\n",
      "  warnings.warn(smsg, UserWarning)\n",
      "Training Columns:  90%|█████████ | 9/10 [00:44<00:05,  5.09s/it]"
     ]
    },
    {
     "name": "stdout",
     "output_type": "stream",
     "text": [
      "Column 8: Accuracy = 0.6399, F1 Score = 0.5328, ROC AUC = 0.7314\n"
     ]
    },
    {
     "name": "stderr",
     "output_type": "stream",
     "text": [
      "/opt/conda/lib/python3.10/site-packages/xgboost/core.py:160: UserWarning: [18:36:41] WARNING: /workspace/src/learner.cc:742: \n",
      "Parameters: { \"silent\" } are not used.\n",
      "\n",
      "  warnings.warn(smsg, UserWarning)\n",
      "Training Columns: 100%|██████████| 10/10 [00:50<00:00,  5.00s/it]"
     ]
    },
    {
     "name": "stdout",
     "output_type": "stream",
     "text": [
      "Column 9: Accuracy = 0.6114, F1 Score = 0.5349, ROC AUC = 0.7411\n",
      "\n",
      "Training for: AT2 - HIST - Average ResNet50 - /kaggle/input/embeddings-for-rsna/at2-hist/final_embeddings.csv\n"
     ]
    },
    {
     "name": "stderr",
     "output_type": "stream",
     "text": [
      "\n",
      "Training Columns:   0%|          | 0/10 [00:00<?, ?it/s]/opt/conda/lib/python3.10/site-packages/xgboost/core.py:160: UserWarning: [18:36:46] WARNING: /workspace/src/learner.cc:742: \n",
      "Parameters: { \"silent\" } are not used.\n",
      "\n",
      "  warnings.warn(smsg, UserWarning)\n",
      "Training Columns:  10%|█         | 1/10 [00:04<00:39,  4.41s/it]"
     ]
    },
    {
     "name": "stdout",
     "output_type": "stream",
     "text": [
      "Column 0: Accuracy = 0.9447, F1 Score = 0.4348, ROC AUC = 0.6929\n"
     ]
    },
    {
     "name": "stderr",
     "output_type": "stream",
     "text": [
      "/opt/conda/lib/python3.10/site-packages/xgboost/core.py:160: UserWarning: [18:36:51] WARNING: /workspace/src/learner.cc:742: \n",
      "Parameters: { \"silent\" } are not used.\n",
      "\n",
      "  warnings.warn(smsg, UserWarning)\n",
      "Training Columns:  20%|██        | 2/10 [00:10<00:41,  5.15s/it]"
     ]
    },
    {
     "name": "stdout",
     "output_type": "stream",
     "text": [
      "Column 1: Accuracy = 0.8208, F1 Score = 0.4333, ROC AUC = 0.7498\n"
     ]
    },
    {
     "name": "stderr",
     "output_type": "stream",
     "text": [
      "/opt/conda/lib/python3.10/site-packages/xgboost/core.py:160: UserWarning: [18:36:57] WARNING: /workspace/src/learner.cc:742: \n",
      "Parameters: { \"silent\" } are not used.\n",
      "\n",
      "  warnings.warn(smsg, UserWarning)\n",
      "Training Columns:  30%|███       | 3/10 [00:15<00:37,  5.35s/it]"
     ]
    },
    {
     "name": "stdout",
     "output_type": "stream",
     "text": [
      "Column 2: Accuracy = 0.7002, F1 Score = 0.4787, ROC AUC = 0.7412\n"
     ]
    },
    {
     "name": "stderr",
     "output_type": "stream",
     "text": [
      "/opt/conda/lib/python3.10/site-packages/xgboost/core.py:160: UserWarning: [18:37:02] WARNING: /workspace/src/learner.cc:742: \n",
      "Parameters: { \"silent\" } are not used.\n",
      "\n",
      "  warnings.warn(smsg, UserWarning)\n",
      "Training Columns:  40%|████      | 4/10 [00:21<00:33,  5.58s/it]"
     ]
    },
    {
     "name": "stdout",
     "output_type": "stream",
     "text": [
      "Column 3: Accuracy = 0.6047, F1 Score = 0.5054, ROC AUC = 0.7353\n"
     ]
    },
    {
     "name": "stderr",
     "output_type": "stream",
     "text": [
      "/opt/conda/lib/python3.10/site-packages/xgboost/core.py:160: UserWarning: [18:37:08] WARNING: /workspace/src/learner.cc:742: \n",
      "Parameters: { \"silent\" } are not used.\n",
      "\n",
      "  warnings.warn(smsg, UserWarning)\n",
      "Training Columns:  50%|█████     | 5/10 [00:26<00:27,  5.41s/it]"
     ]
    },
    {
     "name": "stdout",
     "output_type": "stream",
     "text": [
      "Column 4: Accuracy = 0.6131, F1 Score = 0.5284, ROC AUC = 0.7218\n"
     ]
    },
    {
     "name": "stderr",
     "output_type": "stream",
     "text": [
      "/opt/conda/lib/python3.10/site-packages/xgboost/core.py:160: UserWarning: [18:37:13] WARNING: /workspace/src/learner.cc:742: \n",
      "Parameters: { \"silent\" } are not used.\n",
      "\n",
      "  warnings.warn(smsg, UserWarning)\n",
      "Training Columns:  60%|██████    | 6/10 [00:31<00:21,  5.29s/it]"
     ]
    },
    {
     "name": "stdout",
     "output_type": "stream",
     "text": [
      "Column 5: Accuracy = 0.8291, F1 Score = 0.4061, ROC AUC = 0.7788\n"
     ]
    },
    {
     "name": "stderr",
     "output_type": "stream",
     "text": [
      "/opt/conda/lib/python3.10/site-packages/xgboost/core.py:160: UserWarning: [18:37:18] WARNING: /workspace/src/learner.cc:742: \n",
      "Parameters: { \"silent\" } are not used.\n",
      "\n",
      "  warnings.warn(smsg, UserWarning)\n",
      "Training Columns:  70%|███████   | 7/10 [00:36<00:15,  5.25s/it]"
     ]
    },
    {
     "name": "stdout",
     "output_type": "stream",
     "text": [
      "Column 6: Accuracy = 0.8425, F1 Score = 0.5709, ROC AUC = 0.7943\n"
     ]
    },
    {
     "name": "stderr",
     "output_type": "stream",
     "text": [
      "/opt/conda/lib/python3.10/site-packages/xgboost/core.py:160: UserWarning: [18:37:23] WARNING: /workspace/src/learner.cc:742: \n",
      "Parameters: { \"silent\" } are not used.\n",
      "\n",
      "  warnings.warn(smsg, UserWarning)\n",
      "Training Columns:  80%|████████  | 8/10 [00:42<00:10,  5.41s/it]"
     ]
    },
    {
     "name": "stdout",
     "output_type": "stream",
     "text": [
      "Column 7: Accuracy = 0.7035, F1 Score = 0.5052, ROC AUC = 0.7588\n"
     ]
    },
    {
     "name": "stderr",
     "output_type": "stream",
     "text": [
      "/opt/conda/lib/python3.10/site-packages/xgboost/core.py:160: UserWarning: [18:37:29] WARNING: /workspace/src/learner.cc:742: \n",
      "Parameters: { \"silent\" } are not used.\n",
      "\n",
      "  warnings.warn(smsg, UserWarning)\n",
      "Training Columns:  90%|█████████ | 9/10 [00:48<00:05,  5.45s/it]"
     ]
    },
    {
     "name": "stdout",
     "output_type": "stream",
     "text": [
      "Column 8: Accuracy = 0.6164, F1 Score = 0.5078, ROC AUC = 0.7283\n"
     ]
    },
    {
     "name": "stderr",
     "output_type": "stream",
     "text": [
      "/opt/conda/lib/python3.10/site-packages/xgboost/core.py:160: UserWarning: [18:37:35] WARNING: /workspace/src/learner.cc:742: \n",
      "Parameters: { \"silent\" } are not used.\n",
      "\n",
      "  warnings.warn(smsg, UserWarning)\n",
      "Training Columns: 100%|██████████| 10/10 [00:53<00:00,  5.37s/it]"
     ]
    },
    {
     "name": "stdout",
     "output_type": "stream",
     "text": [
      "Column 9: Accuracy = 0.6131, F1 Score = 0.5472, ROC AUC = 0.7528\n",
      "\n",
      "Training for: ST1 - GSL - Average ResNet50 - /kaggle/input/embeddings-for-rsna/st1-greyscl/final_embeddings.csv\n"
     ]
    },
    {
     "name": "stderr",
     "output_type": "stream",
     "text": [
      "\n",
      "Training Columns:   0%|          | 0/10 [00:00<?, ?it/s]/opt/conda/lib/python3.10/site-packages/xgboost/core.py:160: UserWarning: [18:37:40] WARNING: /workspace/src/learner.cc:742: \n",
      "Parameters: { \"silent\" } are not used.\n",
      "\n",
      "  warnings.warn(smsg, UserWarning)\n",
      "Training Columns:  10%|█         | 1/10 [00:04<00:44,  4.90s/it]"
     ]
    },
    {
     "name": "stdout",
     "output_type": "stream",
     "text": [
      "Column 0: Accuracy = 0.7995, F1 Score = 0.3475, ROC AUC = 0.6050\n"
     ]
    },
    {
     "name": "stderr",
     "output_type": "stream",
     "text": [
      "/opt/conda/lib/python3.10/site-packages/xgboost/core.py:160: UserWarning: [18:37:45] WARNING: /workspace/src/learner.cc:742: \n",
      "Parameters: { \"silent\" } are not used.\n",
      "\n",
      "  warnings.warn(smsg, UserWarning)\n",
      "Training Columns:  20%|██        | 2/10 [00:09<00:37,  4.70s/it]"
     ]
    },
    {
     "name": "stdout",
     "output_type": "stream",
     "text": [
      "Column 1: Accuracy = 0.5910, F1 Score = 0.3058, ROC AUC = 0.5639\n"
     ]
    },
    {
     "name": "stderr",
     "output_type": "stream",
     "text": [
      "/opt/conda/lib/python3.10/site-packages/xgboost/core.py:160: UserWarning: [18:37:50] WARNING: /workspace/src/learner.cc:742: \n",
      "Parameters: { \"silent\" } are not used.\n",
      "\n",
      "  warnings.warn(smsg, UserWarning)\n",
      "Training Columns:  30%|███       | 3/10 [00:13<00:32,  4.60s/it]"
     ]
    },
    {
     "name": "stdout",
     "output_type": "stream",
     "text": [
      "Column 2: Accuracy = 0.4855, F1 Score = 0.3768, ROC AUC = 0.5800\n"
     ]
    },
    {
     "name": "stderr",
     "output_type": "stream",
     "text": [
      "/opt/conda/lib/python3.10/site-packages/xgboost/core.py:160: UserWarning: [18:37:54] WARNING: /workspace/src/learner.cc:742: \n",
      "Parameters: { \"silent\" } are not used.\n",
      "\n",
      "  warnings.warn(smsg, UserWarning)\n",
      "Training Columns:  40%|████      | 4/10 [00:18<00:26,  4.42s/it]"
     ]
    },
    {
     "name": "stdout",
     "output_type": "stream",
     "text": [
      "Column 3: Accuracy = 0.3958, F1 Score = 0.3827, ROC AUC = 0.5575\n"
     ]
    },
    {
     "name": "stderr",
     "output_type": "stream",
     "text": [
      "/opt/conda/lib/python3.10/site-packages/xgboost/core.py:160: UserWarning: [18:37:58] WARNING: /workspace/src/learner.cc:742: \n",
      "Parameters: { \"silent\" } are not used.\n",
      "\n",
      "  warnings.warn(smsg, UserWarning)\n",
      "Training Columns:  50%|█████     | 5/10 [00:22<00:21,  4.38s/it]"
     ]
    },
    {
     "name": "stdout",
     "output_type": "stream",
     "text": [
      "Column 4: Accuracy = 0.5119, F1 Score = 0.3864, ROC AUC = 0.5657\n"
     ]
    },
    {
     "name": "stderr",
     "output_type": "stream",
     "text": [
      "/opt/conda/lib/python3.10/site-packages/xgboost/core.py:160: UserWarning: [18:38:03] WARNING: /workspace/src/learner.cc:742: \n",
      "Parameters: { \"silent\" } are not used.\n",
      "\n",
      "  warnings.warn(smsg, UserWarning)\n",
      "Training Columns:  60%|██████    | 6/10 [00:26<00:17,  4.39s/it]"
     ]
    },
    {
     "name": "stdout",
     "output_type": "stream",
     "text": [
      "Column 5: Accuracy = 0.7018, F1 Score = 0.3474, ROC AUC = 0.6555\n"
     ]
    },
    {
     "name": "stderr",
     "output_type": "stream",
     "text": [
      "/opt/conda/lib/python3.10/site-packages/xgboost/core.py:160: UserWarning: [18:38:07] WARNING: /workspace/src/learner.cc:742: \n",
      "Parameters: { \"silent\" } are not used.\n",
      "\n",
      "  warnings.warn(smsg, UserWarning)\n",
      "Training Columns:  70%|███████   | 7/10 [00:31<00:13,  4.58s/it]"
     ]
    },
    {
     "name": "stdout",
     "output_type": "stream",
     "text": [
      "Column 6: Accuracy = 0.6069, F1 Score = 0.3905, ROC AUC = 0.6530\n"
     ]
    },
    {
     "name": "stderr",
     "output_type": "stream",
     "text": [
      "/opt/conda/lib/python3.10/site-packages/xgboost/core.py:160: UserWarning: [18:38:12] WARNING: /workspace/src/learner.cc:742: \n",
      "Parameters: { \"silent\" } are not used.\n",
      "\n",
      "  warnings.warn(smsg, UserWarning)\n",
      "Training Columns:  80%|████████  | 8/10 [00:36<00:08,  4.47s/it]"
     ]
    },
    {
     "name": "stdout",
     "output_type": "stream",
     "text": [
      "Column 7: Accuracy = 0.4670, F1 Score = 0.3526, ROC AUC = 0.5261\n"
     ]
    },
    {
     "name": "stderr",
     "output_type": "stream",
     "text": [
      "/opt/conda/lib/python3.10/site-packages/xgboost/core.py:160: UserWarning: [18:38:16] WARNING: /workspace/src/learner.cc:742: \n",
      "Parameters: { \"silent\" } are not used.\n",
      "\n",
      "  warnings.warn(smsg, UserWarning)\n",
      "Training Columns:  90%|█████████ | 9/10 [00:40<00:04,  4.45s/it]"
     ]
    },
    {
     "name": "stdout",
     "output_type": "stream",
     "text": [
      "Column 8: Accuracy = 0.3509, F1 Score = 0.3430, ROC AUC = 0.5277\n"
     ]
    },
    {
     "name": "stderr",
     "output_type": "stream",
     "text": [
      "/opt/conda/lib/python3.10/site-packages/xgboost/core.py:160: UserWarning: [18:38:21] WARNING: /workspace/src/learner.cc:742: \n",
      "Parameters: { \"silent\" } are not used.\n",
      "\n",
      "  warnings.warn(smsg, UserWarning)\n",
      "Training Columns: 100%|██████████| 10/10 [00:45<00:00,  4.51s/it]"
     ]
    },
    {
     "name": "stdout",
     "output_type": "stream",
     "text": [
      "Column 9: Accuracy = 0.4697, F1 Score = 0.3656, ROC AUC = 0.5929\n",
      "\n",
      "Training for: ST1 - HIST - Average ResNet50 - /kaggle/input/embeddings-for-rsna/st1-hist/final_embeddings.csv\n"
     ]
    },
    {
     "name": "stderr",
     "output_type": "stream",
     "text": [
      "\n",
      "Training Columns:   0%|          | 0/10 [00:00<?, ?it/s]/opt/conda/lib/python3.10/site-packages/xgboost/core.py:160: UserWarning: [18:38:26] WARNING: /workspace/src/learner.cc:742: \n",
      "Parameters: { \"silent\" } are not used.\n",
      "\n",
      "  warnings.warn(smsg, UserWarning)\n",
      "Training Columns:  10%|█         | 1/10 [00:04<00:39,  4.42s/it]"
     ]
    },
    {
     "name": "stdout",
     "output_type": "stream",
     "text": [
      "Column 0: Accuracy = 0.8127, F1 Score = 0.3493, ROC AUC = 0.6163\n"
     ]
    },
    {
     "name": "stderr",
     "output_type": "stream",
     "text": [
      "/opt/conda/lib/python3.10/site-packages/xgboost/core.py:160: UserWarning: [18:38:30] WARNING: /workspace/src/learner.cc:742: \n",
      "Parameters: { \"silent\" } are not used.\n",
      "\n",
      "  warnings.warn(smsg, UserWarning)\n",
      "Training Columns:  20%|██        | 2/10 [00:09<00:36,  4.59s/it]"
     ]
    },
    {
     "name": "stdout",
     "output_type": "stream",
     "text": [
      "Column 1: Accuracy = 0.6253, F1 Score = 0.3373, ROC AUC = 0.5545\n"
     ]
    },
    {
     "name": "stderr",
     "output_type": "stream",
     "text": [
      "/opt/conda/lib/python3.10/site-packages/xgboost/core.py:160: UserWarning: [18:38:35] WARNING: /workspace/src/learner.cc:742: \n",
      "Parameters: { \"silent\" } are not used.\n",
      "\n",
      "  warnings.warn(smsg, UserWarning)\n",
      "Training Columns:  30%|███       | 3/10 [00:14<00:33,  4.73s/it]"
     ]
    },
    {
     "name": "stdout",
     "output_type": "stream",
     "text": [
      "Column 2: Accuracy = 0.4855, F1 Score = 0.3592, ROC AUC = 0.5402\n"
     ]
    },
    {
     "name": "stderr",
     "output_type": "stream",
     "text": [
      "/opt/conda/lib/python3.10/site-packages/xgboost/core.py:160: UserWarning: [18:38:40] WARNING: /workspace/src/learner.cc:742: \n",
      "Parameters: { \"silent\" } are not used.\n",
      "\n",
      "  warnings.warn(smsg, UserWarning)\n",
      "Training Columns:  40%|████      | 4/10 [00:18<00:27,  4.56s/it]"
     ]
    },
    {
     "name": "stdout",
     "output_type": "stream",
     "text": [
      "Column 3: Accuracy = 0.3641, F1 Score = 0.3435, ROC AUC = 0.5362\n"
     ]
    },
    {
     "name": "stderr",
     "output_type": "stream",
     "text": [
      "/opt/conda/lib/python3.10/site-packages/xgboost/core.py:160: UserWarning: [18:38:44] WARNING: /workspace/src/learner.cc:742: \n",
      "Parameters: { \"silent\" } are not used.\n",
      "\n",
      "  warnings.warn(smsg, UserWarning)\n",
      "Training Columns:  50%|█████     | 5/10 [00:23<00:23,  4.68s/it]"
     ]
    },
    {
     "name": "stdout",
     "output_type": "stream",
     "text": [
      "Column 4: Accuracy = 0.4433, F1 Score = 0.3103, ROC AUC = 0.4787\n"
     ]
    },
    {
     "name": "stderr",
     "output_type": "stream",
     "text": [
      "/opt/conda/lib/python3.10/site-packages/xgboost/core.py:160: UserWarning: [18:38:49] WARNING: /workspace/src/learner.cc:742: \n",
      "Parameters: { \"silent\" } are not used.\n",
      "\n",
      "  warnings.warn(smsg, UserWarning)\n",
      "Training Columns:  60%|██████    | 6/10 [00:28<00:18,  4.73s/it]"
     ]
    },
    {
     "name": "stdout",
     "output_type": "stream",
     "text": [
      "Column 5: Accuracy = 0.7124, F1 Score = 0.3427, ROC AUC = 0.5437\n"
     ]
    },
    {
     "name": "stderr",
     "output_type": "stream",
     "text": [
      "/opt/conda/lib/python3.10/site-packages/xgboost/core.py:160: UserWarning: [18:38:54] WARNING: /workspace/src/learner.cc:742: \n",
      "Parameters: { \"silent\" } are not used.\n",
      "\n",
      "  warnings.warn(smsg, UserWarning)\n",
      "Training Columns:  70%|███████   | 7/10 [00:32<00:14,  4.76s/it]"
     ]
    },
    {
     "name": "stdout",
     "output_type": "stream",
     "text": [
      "Column 6: Accuracy = 0.5805, F1 Score = 0.3375, ROC AUC = 0.5896\n"
     ]
    },
    {
     "name": "stderr",
     "output_type": "stream",
     "text": [
      "/opt/conda/lib/python3.10/site-packages/xgboost/core.py:160: UserWarning: [18:38:59] WARNING: /workspace/src/learner.cc:742: \n",
      "Parameters: { \"silent\" } are not used.\n",
      "\n",
      "  warnings.warn(smsg, UserWarning)\n",
      "Training Columns:  80%|████████  | 8/10 [00:37<00:09,  4.62s/it]"
     ]
    },
    {
     "name": "stdout",
     "output_type": "stream",
     "text": [
      "Column 7: Accuracy = 0.4749, F1 Score = 0.3245, ROC AUC = 0.5204\n"
     ]
    },
    {
     "name": "stderr",
     "output_type": "stream",
     "text": [
      "/opt/conda/lib/python3.10/site-packages/xgboost/core.py:160: UserWarning: [18:39:03] WARNING: /workspace/src/learner.cc:742: \n",
      "Parameters: { \"silent\" } are not used.\n",
      "\n",
      "  warnings.warn(smsg, UserWarning)\n",
      "Training Columns:  90%|█████████ | 9/10 [00:41<00:04,  4.38s/it]"
     ]
    },
    {
     "name": "stdout",
     "output_type": "stream",
     "text": [
      "Column 8: Accuracy = 0.3377, F1 Score = 0.3277, ROC AUC = 0.5415\n"
     ]
    },
    {
     "name": "stderr",
     "output_type": "stream",
     "text": [
      "/opt/conda/lib/python3.10/site-packages/xgboost/core.py:160: UserWarning: [18:39:07] WARNING: /workspace/src/learner.cc:742: \n",
      "Parameters: { \"silent\" } are not used.\n",
      "\n",
      "  warnings.warn(smsg, UserWarning)\n",
      "Training Columns: 100%|██████████| 10/10 [00:45<00:00,  4.60s/it]"
     ]
    },
    {
     "name": "stdout",
     "output_type": "stream",
     "text": [
      "Column 9: Accuracy = 0.4697, F1 Score = 0.3454, ROC AUC = 0.5490\n",
      "\n",
      "Training for: ST2 - GSL - Average ResNet50 - /kaggle/input/embeddings-for-rsna/st2-greyscl/final_embeddings.csv\n"
     ]
    },
    {
     "name": "stderr",
     "output_type": "stream",
     "text": [
      "\n",
      "Training Columns:   0%|          | 0/5 [00:00<?, ?it/s]/opt/conda/lib/python3.10/site-packages/xgboost/core.py:160: UserWarning: [18:39:12] WARNING: /workspace/src/learner.cc:742: \n",
      "Parameters: { \"silent\" } are not used.\n",
      "\n",
      "  warnings.warn(smsg, UserWarning)\n",
      "Training Columns:  20%|██        | 1/5 [00:03<00:15,  3.98s/it]"
     ]
    },
    {
     "name": "stdout",
     "output_type": "stream",
     "text": [
      "Column 0: Accuracy = 0.7580, F1 Score = 0.3243, ROC AUC = 0.4361\n"
     ]
    },
    {
     "name": "stderr",
     "output_type": "stream",
     "text": [
      "/opt/conda/lib/python3.10/site-packages/xgboost/core.py:160: UserWarning: [18:39:16] WARNING: /workspace/src/learner.cc:742: \n",
      "Parameters: { \"silent\" } are not used.\n",
      "\n",
      "  warnings.warn(smsg, UserWarning)\n",
      "Training Columns:  40%|████      | 2/5 [00:08<00:12,  4.26s/it]"
     ]
    },
    {
     "name": "stdout",
     "output_type": "stream",
     "text": [
      "Column 1: Accuracy = 0.6463, F1 Score = 0.3567, ROC AUC = 0.7047\n"
     ]
    },
    {
     "name": "stderr",
     "output_type": "stream",
     "text": [
      "/opt/conda/lib/python3.10/site-packages/xgboost/core.py:160: UserWarning: [18:39:20] WARNING: /workspace/src/learner.cc:742: \n",
      "Parameters: { \"silent\" } are not used.\n",
      "\n",
      "  warnings.warn(smsg, UserWarning)\n",
      "Training Columns:  60%|██████    | 3/5 [00:12<00:08,  4.31s/it]"
     ]
    },
    {
     "name": "stdout",
     "output_type": "stream",
     "text": [
      "Column 2: Accuracy = 0.5851, F1 Score = 0.3741, ROC AUC = 0.6419\n"
     ]
    },
    {
     "name": "stderr",
     "output_type": "stream",
     "text": [
      "/opt/conda/lib/python3.10/site-packages/xgboost/core.py:160: UserWarning: [18:39:25] WARNING: /workspace/src/learner.cc:742: \n",
      "Parameters: { \"silent\" } are not used.\n",
      "\n",
      "  warnings.warn(smsg, UserWarning)\n",
      "Training Columns:  80%|████████  | 4/5 [00:17<00:04,  4.28s/it]"
     ]
    },
    {
     "name": "stdout",
     "output_type": "stream",
     "text": [
      "Column 3: Accuracy = 0.5319, F1 Score = 0.4075, ROC AUC = 0.6513\n"
     ]
    },
    {
     "name": "stderr",
     "output_type": "stream",
     "text": [
      "/opt/conda/lib/python3.10/site-packages/xgboost/core.py:160: UserWarning: [18:39:29] WARNING: /workspace/src/learner.cc:742: \n",
      "Parameters: { \"silent\" } are not used.\n",
      "\n",
      "  warnings.warn(smsg, UserWarning)\n",
      "Training Columns: 100%|██████████| 5/5 [00:20<00:00,  4.12s/it]"
     ]
    },
    {
     "name": "stdout",
     "output_type": "stream",
     "text": [
      "Column 4: Accuracy = 0.7074, F1 Score = 0.2865, ROC AUC = 0.4654\n",
      "\n",
      "Training for: ST2 - HIST - Average ResNet50 - /kaggle/input/embeddings-for-rsna/st2-hist/final_embeddings.csv\n"
     ]
    },
    {
     "name": "stderr",
     "output_type": "stream",
     "text": [
      "\n",
      "Training Columns:   0%|          | 0/5 [00:00<?, ?it/s]/opt/conda/lib/python3.10/site-packages/xgboost/core.py:160: UserWarning: [18:39:33] WARNING: /workspace/src/learner.cc:742: \n",
      "Parameters: { \"silent\" } are not used.\n",
      "\n",
      "  warnings.warn(smsg, UserWarning)\n",
      "Training Columns:  20%|██        | 1/5 [00:04<00:16,  4.16s/it]"
     ]
    },
    {
     "name": "stdout",
     "output_type": "stream",
     "text": [
      "Column 0: Accuracy = 0.7926, F1 Score = 0.2952, ROC AUC = 0.5753\n"
     ]
    },
    {
     "name": "stderr",
     "output_type": "stream",
     "text": [
      "/opt/conda/lib/python3.10/site-packages/xgboost/core.py:160: UserWarning: [18:39:37] WARNING: /workspace/src/learner.cc:742: \n",
      "Parameters: { \"silent\" } are not used.\n",
      "\n",
      "  warnings.warn(smsg, UserWarning)\n",
      "Training Columns:  40%|████      | 2/5 [00:09<00:15,  5.07s/it]"
     ]
    },
    {
     "name": "stdout",
     "output_type": "stream",
     "text": [
      "Column 1: Accuracy = 0.6782, F1 Score = 0.3524, ROC AUC = 0.6209\n"
     ]
    },
    {
     "name": "stderr",
     "output_type": "stream",
     "text": [
      "/opt/conda/lib/python3.10/site-packages/xgboost/core.py:160: UserWarning: [18:39:43] WARNING: /workspace/src/learner.cc:742: \n",
      "Parameters: { \"silent\" } are not used.\n",
      "\n",
      "  warnings.warn(smsg, UserWarning)\n",
      "Training Columns:  60%|██████    | 3/5 [00:14<00:09,  4.92s/it]"
     ]
    },
    {
     "name": "stdout",
     "output_type": "stream",
     "text": [
      "Column 2: Accuracy = 0.5638, F1 Score = 0.3592, ROC AUC = 0.6705\n"
     ]
    },
    {
     "name": "stderr",
     "output_type": "stream",
     "text": [
      "/opt/conda/lib/python3.10/site-packages/xgboost/core.py:160: UserWarning: [18:39:47] WARNING: /workspace/src/learner.cc:742: \n",
      "Parameters: { \"silent\" } are not used.\n",
      "\n",
      "  warnings.warn(smsg, UserWarning)\n",
      "Training Columns:  80%|████████  | 4/5 [00:19<00:04,  4.77s/it]"
     ]
    },
    {
     "name": "stdout",
     "output_type": "stream",
     "text": [
      "Column 3: Accuracy = 0.4920, F1 Score = 0.3850, ROC AUC = 0.6552\n"
     ]
    },
    {
     "name": "stderr",
     "output_type": "stream",
     "text": [
      "/opt/conda/lib/python3.10/site-packages/xgboost/core.py:160: UserWarning: [18:39:52] WARNING: /workspace/src/learner.cc:742: \n",
      "Parameters: { \"silent\" } are not used.\n",
      "\n",
      "  warnings.warn(smsg, UserWarning)\n",
      "Training Columns: 100%|██████████| 5/5 [00:23<00:00,  4.76s/it]"
     ]
    },
    {
     "name": "stdout",
     "output_type": "stream",
     "text": [
      "Column 4: Accuracy = 0.8484, F1 Score = 0.3222, ROC AUC = 0.4060\n",
      "\n",
      "Training for: AT2 - GSL - MedicalNet Network - /kaggle/input/medicalnet-attention-layers-for-rsna/AT2_attention_embeddings_gsl.csv\n"
     ]
    },
    {
     "name": "stderr",
     "output_type": "stream",
     "text": [
      "\n",
      "Training Columns:   0%|          | 0/10 [00:00<?, ?it/s]/opt/conda/lib/python3.10/site-packages/xgboost/core.py:160: UserWarning: [18:39:57] WARNING: /workspace/src/learner.cc:742: \n",
      "Parameters: { \"silent\" } are not used.\n",
      "\n",
      "  warnings.warn(smsg, UserWarning)\n",
      "Training Columns:  10%|█         | 1/10 [00:03<00:31,  3.50s/it]"
     ]
    },
    {
     "name": "stdout",
     "output_type": "stream",
     "text": [
      "Column 0: Accuracy = 0.9095, F1 Score = 0.6009, ROC AUC = 0.6988\n"
     ]
    },
    {
     "name": "stderr",
     "output_type": "stream",
     "text": [
      "/opt/conda/lib/python3.10/site-packages/xgboost/core.py:160: UserWarning: [18:40:01] WARNING: /workspace/src/learner.cc:742: \n",
      "Parameters: { \"silent\" } are not used.\n",
      "\n",
      "  warnings.warn(smsg, UserWarning)\n",
      "Training Columns:  20%|██        | 2/10 [00:08<00:35,  4.47s/it]"
     ]
    },
    {
     "name": "stdout",
     "output_type": "stream",
     "text": [
      "Column 1: Accuracy = 0.7906, F1 Score = 0.3962, ROC AUC = 0.6441\n"
     ]
    },
    {
     "name": "stderr",
     "output_type": "stream",
     "text": [
      "/opt/conda/lib/python3.10/site-packages/xgboost/core.py:160: UserWarning: [18:40:06] WARNING: /workspace/src/learner.cc:742: \n",
      "Parameters: { \"silent\" } are not used.\n",
      "\n",
      "  warnings.warn(smsg, UserWarning)\n",
      "Training Columns:  30%|███       | 3/10 [00:13<00:31,  4.48s/it]"
     ]
    },
    {
     "name": "stdout",
     "output_type": "stream",
     "text": [
      "Column 2: Accuracy = 0.6583, F1 Score = 0.4699, ROC AUC = 0.7487\n"
     ]
    },
    {
     "name": "stderr",
     "output_type": "stream",
     "text": [
      "/opt/conda/lib/python3.10/site-packages/xgboost/core.py:160: UserWarning: [18:40:10] WARNING: /workspace/src/learner.cc:742: \n",
      "Parameters: { \"silent\" } are not used.\n",
      "\n",
      "  warnings.warn(smsg, UserWarning)\n",
      "Training Columns:  40%|████      | 4/10 [00:17<00:26,  4.45s/it]"
     ]
    },
    {
     "name": "stdout",
     "output_type": "stream",
     "text": [
      "Column 3: Accuracy = 0.5997, F1 Score = 0.5177, ROC AUC = 0.7218\n"
     ]
    },
    {
     "name": "stderr",
     "output_type": "stream",
     "text": [
      "/opt/conda/lib/python3.10/site-packages/xgboost/core.py:160: UserWarning: [18:40:15] WARNING: /workspace/src/learner.cc:742: \n",
      "Parameters: { \"silent\" } are not used.\n",
      "\n",
      "  warnings.warn(smsg, UserWarning)\n",
      "Training Columns:  50%|█████     | 5/10 [00:21<00:21,  4.40s/it]"
     ]
    },
    {
     "name": "stdout",
     "output_type": "stream",
     "text": [
      "Column 4: Accuracy = 0.5544, F1 Score = 0.4925, ROC AUC = 0.7176\n"
     ]
    },
    {
     "name": "stderr",
     "output_type": "stream",
     "text": [
      "/opt/conda/lib/python3.10/site-packages/xgboost/core.py:160: UserWarning: [18:40:19] WARNING: /workspace/src/learner.cc:742: \n",
      "Parameters: { \"silent\" } are not used.\n",
      "\n",
      "  warnings.warn(smsg, UserWarning)\n",
      "Training Columns:  60%|██████    | 6/10 [00:26<00:17,  4.41s/it]"
     ]
    },
    {
     "name": "stdout",
     "output_type": "stream",
     "text": [
      "Column 5: Accuracy = 0.7437, F1 Score = 0.3534, ROC AUC = 0.7166\n"
     ]
    },
    {
     "name": "stderr",
     "output_type": "stream",
     "text": [
      "/opt/conda/lib/python3.10/site-packages/xgboost/core.py:160: UserWarning: [18:40:23] WARNING: /workspace/src/learner.cc:742: \n",
      "Parameters: { \"silent\" } are not used.\n",
      "\n",
      "  warnings.warn(smsg, UserWarning)\n",
      "Training Columns:  70%|███████   | 7/10 [00:31<00:13,  4.54s/it]"
     ]
    },
    {
     "name": "stdout",
     "output_type": "stream",
     "text": [
      "Column 6: Accuracy = 0.7236, F1 Score = 0.3952, ROC AUC = 0.6954\n"
     ]
    },
    {
     "name": "stderr",
     "output_type": "stream",
     "text": [
      "/opt/conda/lib/python3.10/site-packages/xgboost/core.py:160: UserWarning: [18:40:28] WARNING: /workspace/src/learner.cc:742: \n",
      "Parameters: { \"silent\" } are not used.\n",
      "\n",
      "  warnings.warn(smsg, UserWarning)\n",
      "Training Columns:  80%|████████  | 8/10 [00:36<00:09,  4.83s/it]"
     ]
    },
    {
     "name": "stdout",
     "output_type": "stream",
     "text": [
      "Column 7: Accuracy = 0.7320, F1 Score = 0.5087, ROC AUC = 0.6934\n"
     ]
    },
    {
     "name": "stderr",
     "output_type": "stream",
     "text": [
      "/opt/conda/lib/python3.10/site-packages/xgboost/core.py:160: UserWarning: [18:40:34] WARNING: /workspace/src/learner.cc:742: \n",
      "Parameters: { \"silent\" } are not used.\n",
      "\n",
      "  warnings.warn(smsg, UserWarning)\n",
      "Training Columns:  90%|█████████ | 9/10 [00:41<00:04,  4.79s/it]"
     ]
    },
    {
     "name": "stdout",
     "output_type": "stream",
     "text": [
      "Column 8: Accuracy = 0.5812, F1 Score = 0.4988, ROC AUC = 0.7162\n"
     ]
    },
    {
     "name": "stderr",
     "output_type": "stream",
     "text": [
      "/opt/conda/lib/python3.10/site-packages/xgboost/core.py:160: UserWarning: [18:40:38] WARNING: /workspace/src/learner.cc:742: \n",
      "Parameters: { \"silent\" } are not used.\n",
      "\n",
      "  warnings.warn(smsg, UserWarning)\n",
      "Training Columns: 100%|██████████| 10/10 [00:45<00:00,  4.60s/it]"
     ]
    },
    {
     "name": "stdout",
     "output_type": "stream",
     "text": [
      "Column 9: Accuracy = 0.5494, F1 Score = 0.4876, ROC AUC = 0.7245\n",
      "\n",
      "Training for: AT2 - HIST - MedicalNet Network - /kaggle/input/medicalnet-attention-layers-for-rsna/AT2_attention_embeddings_hist.csv\n"
     ]
    },
    {
     "name": "stderr",
     "output_type": "stream",
     "text": [
      "\n",
      "Training Columns:   0%|          | 0/10 [00:00<?, ?it/s]/opt/conda/lib/python3.10/site-packages/xgboost/core.py:160: UserWarning: [18:40:44] WARNING: /workspace/src/learner.cc:742: \n",
      "Parameters: { \"silent\" } are not used.\n",
      "\n",
      "  warnings.warn(smsg, UserWarning)\n",
      "Training Columns:  10%|█         | 1/10 [00:04<00:36,  4.02s/it]"
     ]
    },
    {
     "name": "stdout",
     "output_type": "stream",
     "text": [
      "Column 0: Accuracy = 0.9531, F1 Score = 0.6379, ROC AUC = 0.6449\n"
     ]
    },
    {
     "name": "stderr",
     "output_type": "stream",
     "text": [
      "/opt/conda/lib/python3.10/site-packages/xgboost/core.py:160: UserWarning: [18:40:48] WARNING: /workspace/src/learner.cc:742: \n",
      "Parameters: { \"silent\" } are not used.\n",
      "\n",
      "  warnings.warn(smsg, UserWarning)\n",
      "Training Columns:  20%|██        | 2/10 [00:09<00:37,  4.63s/it]"
     ]
    },
    {
     "name": "stdout",
     "output_type": "stream",
     "text": [
      "Column 1: Accuracy = 0.7538, F1 Score = 0.3864, ROC AUC = 0.6310\n"
     ]
    },
    {
     "name": "stderr",
     "output_type": "stream",
     "text": [
      "/opt/conda/lib/python3.10/site-packages/xgboost/core.py:160: UserWarning: [18:40:53] WARNING: /workspace/src/learner.cc:742: \n",
      "Parameters: { \"silent\" } are not used.\n",
      "\n",
      "  warnings.warn(smsg, UserWarning)\n",
      "Training Columns:  30%|███       | 3/10 [00:13<00:33,  4.73s/it]"
     ]
    },
    {
     "name": "stdout",
     "output_type": "stream",
     "text": [
      "Column 2: Accuracy = 0.6566, F1 Score = 0.4717, ROC AUC = 0.7709\n"
     ]
    },
    {
     "name": "stderr",
     "output_type": "stream",
     "text": [
      "/opt/conda/lib/python3.10/site-packages/xgboost/core.py:160: UserWarning: [18:40:57] WARNING: /workspace/src/learner.cc:742: \n",
      "Parameters: { \"silent\" } are not used.\n",
      "\n",
      "  warnings.warn(smsg, UserWarning)\n",
      "Training Columns:  40%|████      | 4/10 [00:18<00:28,  4.71s/it]"
     ]
    },
    {
     "name": "stdout",
     "output_type": "stream",
     "text": [
      "Column 3: Accuracy = 0.5946, F1 Score = 0.5071, ROC AUC = 0.7062\n"
     ]
    },
    {
     "name": "stderr",
     "output_type": "stream",
     "text": [
      "/opt/conda/lib/python3.10/site-packages/xgboost/core.py:160: UserWarning: [18:41:02] WARNING: /workspace/src/learner.cc:742: \n",
      "Parameters: { \"silent\" } are not used.\n",
      "\n",
      "  warnings.warn(smsg, UserWarning)\n",
      "Training Columns:  50%|█████     | 5/10 [00:23<00:23,  4.65s/it]"
     ]
    },
    {
     "name": "stdout",
     "output_type": "stream",
     "text": [
      "Column 4: Accuracy = 0.5645, F1 Score = 0.4870, ROC AUC = 0.7119\n"
     ]
    },
    {
     "name": "stderr",
     "output_type": "stream",
     "text": [
      "/opt/conda/lib/python3.10/site-packages/xgboost/core.py:160: UserWarning: [18:41:07] WARNING: /workspace/src/learner.cc:742: \n",
      "Parameters: { \"silent\" } are not used.\n",
      "\n",
      "  warnings.warn(smsg, UserWarning)\n",
      "Training Columns:  60%|██████    | 6/10 [00:28<00:18,  4.73s/it]"
     ]
    },
    {
     "name": "stdout",
     "output_type": "stream",
     "text": [
      "Column 5: Accuracy = 0.8476, F1 Score = 0.4150, ROC AUC = 0.7689\n"
     ]
    },
    {
     "name": "stderr",
     "output_type": "stream",
     "text": [
      "/opt/conda/lib/python3.10/site-packages/xgboost/core.py:160: UserWarning: [18:41:12] WARNING: /workspace/src/learner.cc:742: \n",
      "Parameters: { \"silent\" } are not used.\n",
      "\n",
      "  warnings.warn(smsg, UserWarning)\n",
      "Training Columns:  70%|███████   | 7/10 [00:32<00:14,  4.75s/it]"
     ]
    },
    {
     "name": "stdout",
     "output_type": "stream",
     "text": [
      "Column 6: Accuracy = 0.7739, F1 Score = 0.4330, ROC AUC = 0.7370\n"
     ]
    },
    {
     "name": "stderr",
     "output_type": "stream",
     "text": [
      "/opt/conda/lib/python3.10/site-packages/xgboost/core.py:160: UserWarning: [18:41:16] WARNING: /workspace/src/learner.cc:742: \n",
      "Parameters: { \"silent\" } are not used.\n",
      "\n",
      "  warnings.warn(smsg, UserWarning)\n",
      "Training Columns:  80%|████████  | 8/10 [00:38<00:09,  4.92s/it]"
     ]
    },
    {
     "name": "stdout",
     "output_type": "stream",
     "text": [
      "Column 7: Accuracy = 0.6884, F1 Score = 0.4526, ROC AUC = 0.7768\n"
     ]
    },
    {
     "name": "stderr",
     "output_type": "stream",
     "text": [
      "/opt/conda/lib/python3.10/site-packages/xgboost/core.py:160: UserWarning: [18:41:22] WARNING: /workspace/src/learner.cc:742: \n",
      "Parameters: { \"silent\" } are not used.\n",
      "\n",
      "  warnings.warn(smsg, UserWarning)\n",
      "Training Columns:  90%|█████████ | 9/10 [00:42<00:04,  4.81s/it]"
     ]
    },
    {
     "name": "stdout",
     "output_type": "stream",
     "text": [
      "Column 8: Accuracy = 0.6181, F1 Score = 0.4993, ROC AUC = 0.7183\n"
     ]
    },
    {
     "name": "stderr",
     "output_type": "stream",
     "text": [
      "/opt/conda/lib/python3.10/site-packages/xgboost/core.py:160: UserWarning: [18:41:26] WARNING: /workspace/src/learner.cc:742: \n",
      "Parameters: { \"silent\" } are not used.\n",
      "\n",
      "  warnings.warn(smsg, UserWarning)\n",
      "Training Columns: 100%|██████████| 10/10 [00:47<00:00,  4.75s/it]"
     ]
    },
    {
     "name": "stdout",
     "output_type": "stream",
     "text": [
      "Column 9: Accuracy = 0.5461, F1 Score = 0.4790, ROC AUC = 0.6855\n",
      "\n",
      "Training for: ST1 - GSL - MedicalNet Network - /kaggle/input/medicalnet-attention-layers-for-rsna/ST1_attention_embeddings_gsl.csv\n"
     ]
    },
    {
     "name": "stderr",
     "output_type": "stream",
     "text": [
      "\n",
      "Training Columns:   0%|          | 0/10 [00:00<?, ?it/s]/opt/conda/lib/python3.10/site-packages/xgboost/core.py:160: UserWarning: [18:41:31] WARNING: /workspace/src/learner.cc:742: \n",
      "Parameters: { \"silent\" } are not used.\n",
      "\n",
      "  warnings.warn(smsg, UserWarning)\n",
      "Training Columns:  10%|█         | 1/10 [00:04<00:37,  4.21s/it]"
     ]
    },
    {
     "name": "stdout",
     "output_type": "stream",
     "text": [
      "Column 0: Accuracy = 0.7467, F1 Score = 0.3745, ROC AUC = 0.5984\n"
     ]
    },
    {
     "name": "stderr",
     "output_type": "stream",
     "text": [
      "/opt/conda/lib/python3.10/site-packages/xgboost/core.py:160: UserWarning: [18:41:36] WARNING: /workspace/src/learner.cc:742: \n",
      "Parameters: { \"silent\" } are not used.\n",
      "\n",
      "  warnings.warn(smsg, UserWarning)\n",
      "Training Columns:  20%|██        | 2/10 [00:08<00:33,  4.18s/it]"
     ]
    },
    {
     "name": "stdout",
     "output_type": "stream",
     "text": [
      "Column 1: Accuracy = 0.5356, F1 Score = 0.2707, ROC AUC = 0.5166\n"
     ]
    },
    {
     "name": "stderr",
     "output_type": "stream",
     "text": [
      "/opt/conda/lib/python3.10/site-packages/xgboost/core.py:160: UserWarning: [18:41:40] WARNING: /workspace/src/learner.cc:742: \n",
      "Parameters: { \"silent\" } are not used.\n",
      "\n",
      "  warnings.warn(smsg, UserWarning)\n",
      "Training Columns:  30%|███       | 3/10 [00:12<00:28,  4.12s/it]"
     ]
    },
    {
     "name": "stdout",
     "output_type": "stream",
     "text": [
      "Column 2: Accuracy = 0.4354, F1 Score = 0.3233, ROC AUC = 0.5510\n"
     ]
    },
    {
     "name": "stderr",
     "output_type": "stream",
     "text": [
      "/opt/conda/lib/python3.10/site-packages/xgboost/core.py:160: UserWarning: [18:41:44] WARNING: /workspace/src/learner.cc:742: \n",
      "Parameters: { \"silent\" } are not used.\n",
      "\n",
      "  warnings.warn(smsg, UserWarning)\n",
      "Training Columns:  40%|████      | 4/10 [00:16<00:24,  4.11s/it]"
     ]
    },
    {
     "name": "stdout",
     "output_type": "stream",
     "text": [
      "Column 3: Accuracy = 0.3430, F1 Score = 0.3312, ROC AUC = 0.5142\n"
     ]
    },
    {
     "name": "stderr",
     "output_type": "stream",
     "text": [
      "/opt/conda/lib/python3.10/site-packages/xgboost/core.py:160: UserWarning: [18:41:48] WARNING: /workspace/src/learner.cc:742: \n",
      "Parameters: { \"silent\" } are not used.\n",
      "\n",
      "  warnings.warn(smsg, UserWarning)\n",
      "Training Columns:  50%|█████     | 5/10 [00:20<00:20,  4.19s/it]"
     ]
    },
    {
     "name": "stdout",
     "output_type": "stream",
     "text": [
      "Column 4: Accuracy = 0.4934, F1 Score = 0.3513, ROC AUC = 0.5449\n"
     ]
    },
    {
     "name": "stderr",
     "output_type": "stream",
     "text": [
      "/opt/conda/lib/python3.10/site-packages/xgboost/core.py:160: UserWarning: [18:41:52] WARNING: /workspace/src/learner.cc:742: \n",
      "Parameters: { \"silent\" } are not used.\n",
      "\n",
      "  warnings.warn(smsg, UserWarning)\n",
      "Training Columns:  60%|██████    | 6/10 [00:25<00:17,  4.39s/it]"
     ]
    },
    {
     "name": "stdout",
     "output_type": "stream",
     "text": [
      "Column 5: Accuracy = 0.7731, F1 Score = 0.3453, ROC AUC = 0.5986\n"
     ]
    },
    {
     "name": "stderr",
     "output_type": "stream",
     "text": [
      "/opt/conda/lib/python3.10/site-packages/xgboost/core.py:160: UserWarning: [18:41:57] WARNING: /workspace/src/learner.cc:742: \n",
      "Parameters: { \"silent\" } are not used.\n",
      "\n",
      "  warnings.warn(smsg, UserWarning)\n",
      "Training Columns:  70%|███████   | 7/10 [00:29<00:12,  4.33s/it]"
     ]
    },
    {
     "name": "stdout",
     "output_type": "stream",
     "text": [
      "Column 6: Accuracy = 0.5858, F1 Score = 0.3349, ROC AUC = 0.5713\n"
     ]
    },
    {
     "name": "stderr",
     "output_type": "stream",
     "text": [
      "/opt/conda/lib/python3.10/site-packages/xgboost/core.py:160: UserWarning: [18:42:01] WARNING: /workspace/src/learner.cc:742: \n",
      "Parameters: { \"silent\" } are not used.\n",
      "\n",
      "  warnings.warn(smsg, UserWarning)\n",
      "Training Columns:  80%|████████  | 8/10 [00:34<00:08,  4.33s/it]"
     ]
    },
    {
     "name": "stdout",
     "output_type": "stream",
     "text": [
      "Column 7: Accuracy = 0.4406, F1 Score = 0.3406, ROC AUC = 0.5596\n"
     ]
    },
    {
     "name": "stderr",
     "output_type": "stream",
     "text": [
      "/opt/conda/lib/python3.10/site-packages/xgboost/core.py:160: UserWarning: [18:42:06] WARNING: /workspace/src/learner.cc:742: \n",
      "Parameters: { \"silent\" } are not used.\n",
      "\n",
      "  warnings.warn(smsg, UserWarning)\n",
      "Training Columns:  90%|█████████ | 9/10 [00:37<00:04,  4.06s/it]"
     ]
    },
    {
     "name": "stdout",
     "output_type": "stream",
     "text": [
      "Column 8: Accuracy = 0.3641, F1 Score = 0.3605, ROC AUC = 0.5324\n"
     ]
    },
    {
     "name": "stderr",
     "output_type": "stream",
     "text": [
      "/opt/conda/lib/python3.10/site-packages/xgboost/core.py:160: UserWarning: [18:42:09] WARNING: /workspace/src/learner.cc:742: \n",
      "Parameters: { \"silent\" } are not used.\n",
      "\n",
      "  warnings.warn(smsg, UserWarning)\n",
      "Training Columns: 100%|██████████| 10/10 [00:41<00:00,  4.18s/it]"
     ]
    },
    {
     "name": "stdout",
     "output_type": "stream",
     "text": [
      "Column 9: Accuracy = 0.4591, F1 Score = 0.3458, ROC AUC = 0.5196\n",
      "\n",
      "Training for: ST1 - HIST - MedicalNet Network - /kaggle/input/medicalnet-attention-layers-for-rsna/ST1_attention_embeddings_hist.csv\n"
     ]
    },
    {
     "name": "stderr",
     "output_type": "stream",
     "text": [
      "\n",
      "Training Columns:   0%|          | 0/10 [00:00<?, ?it/s]/opt/conda/lib/python3.10/site-packages/xgboost/core.py:160: UserWarning: [18:42:14] WARNING: /workspace/src/learner.cc:742: \n",
      "Parameters: { \"silent\" } are not used.\n",
      "\n",
      "  warnings.warn(smsg, UserWarning)\n",
      "Training Columns:  10%|█         | 1/10 [00:04<00:36,  4.11s/it]"
     ]
    },
    {
     "name": "stdout",
     "output_type": "stream",
     "text": [
      "Column 0: Accuracy = 0.7520, F1 Score = 0.3422, ROC AUC = 0.6424\n"
     ]
    },
    {
     "name": "stderr",
     "output_type": "stream",
     "text": [
      "/opt/conda/lib/python3.10/site-packages/xgboost/core.py:160: UserWarning: [18:42:18] WARNING: /workspace/src/learner.cc:742: \n",
      "Parameters: { \"silent\" } are not used.\n",
      "\n",
      "  warnings.warn(smsg, UserWarning)\n",
      "Training Columns:  20%|██        | 2/10 [00:08<00:34,  4.30s/it]"
     ]
    },
    {
     "name": "stdout",
     "output_type": "stream",
     "text": [
      "Column 1: Accuracy = 0.5805, F1 Score = 0.3566, ROC AUC = 0.6068\n"
     ]
    },
    {
     "name": "stderr",
     "output_type": "stream",
     "text": [
      "/opt/conda/lib/python3.10/site-packages/xgboost/core.py:160: UserWarning: [18:42:22] WARNING: /workspace/src/learner.cc:742: \n",
      "Parameters: { \"silent\" } are not used.\n",
      "\n",
      "  warnings.warn(smsg, UserWarning)\n",
      "Training Columns:  30%|███       | 3/10 [00:12<00:28,  4.01s/it]"
     ]
    },
    {
     "name": "stdout",
     "output_type": "stream",
     "text": [
      "Column 2: Accuracy = 0.4485, F1 Score = 0.3425, ROC AUC = 0.5815\n"
     ]
    },
    {
     "name": "stderr",
     "output_type": "stream",
     "text": [
      "/opt/conda/lib/python3.10/site-packages/xgboost/core.py:160: UserWarning: [18:42:26] WARNING: /workspace/src/learner.cc:742: \n",
      "Parameters: { \"silent\" } are not used.\n",
      "\n",
      "  warnings.warn(smsg, UserWarning)\n",
      "Training Columns:  40%|████      | 4/10 [00:15<00:23,  3.88s/it]"
     ]
    },
    {
     "name": "stdout",
     "output_type": "stream",
     "text": [
      "Column 3: Accuracy = 0.3720, F1 Score = 0.3586, ROC AUC = 0.5550\n"
     ]
    },
    {
     "name": "stderr",
     "output_type": "stream",
     "text": [
      "/opt/conda/lib/python3.10/site-packages/xgboost/core.py:160: UserWarning: [18:42:30] WARNING: /workspace/src/learner.cc:742: \n",
      "Parameters: { \"silent\" } are not used.\n",
      "\n",
      "  warnings.warn(smsg, UserWarning)\n",
      "Training Columns:  50%|█████     | 5/10 [00:20<00:19,  3.99s/it]"
     ]
    },
    {
     "name": "stdout",
     "output_type": "stream",
     "text": [
      "Column 4: Accuracy = 0.4538, F1 Score = 0.3320, ROC AUC = 0.5641\n"
     ]
    },
    {
     "name": "stderr",
     "output_type": "stream",
     "text": [
      "/opt/conda/lib/python3.10/site-packages/xgboost/core.py:160: UserWarning: [18:42:34] WARNING: /workspace/src/learner.cc:742: \n",
      "Parameters: { \"silent\" } are not used.\n",
      "\n",
      "  warnings.warn(smsg, UserWarning)\n",
      "Training Columns:  60%|██████    | 6/10 [00:24<00:16,  4.09s/it]"
     ]
    },
    {
     "name": "stdout",
     "output_type": "stream",
     "text": [
      "Column 5: Accuracy = 0.8074, F1 Score = 0.3404, ROC AUC = 0.5854\n"
     ]
    },
    {
     "name": "stderr",
     "output_type": "stream",
     "text": [
      "/opt/conda/lib/python3.10/site-packages/xgboost/core.py:160: UserWarning: [18:42:38] WARNING: /workspace/src/learner.cc:742: \n",
      "Parameters: { \"silent\" } are not used.\n",
      "\n",
      "  warnings.warn(smsg, UserWarning)\n",
      "Training Columns:  70%|███████   | 7/10 [00:28<00:12,  4.16s/it]"
     ]
    },
    {
     "name": "stdout",
     "output_type": "stream",
     "text": [
      "Column 6: Accuracy = 0.6042, F1 Score = 0.3215, ROC AUC = 0.5780\n"
     ]
    },
    {
     "name": "stderr",
     "output_type": "stream",
     "text": [
      "/opt/conda/lib/python3.10/site-packages/xgboost/core.py:160: UserWarning: [18:42:42] WARNING: /workspace/src/learner.cc:742: \n",
      "Parameters: { \"silent\" } are not used.\n",
      "\n",
      "  warnings.warn(smsg, UserWarning)\n",
      "Training Columns:  80%|████████  | 8/10 [00:32<00:08,  4.07s/it]"
     ]
    },
    {
     "name": "stdout",
     "output_type": "stream",
     "text": [
      "Column 7: Accuracy = 0.4485, F1 Score = 0.3465, ROC AUC = 0.5080\n"
     ]
    },
    {
     "name": "stderr",
     "output_type": "stream",
     "text": [
      "/opt/conda/lib/python3.10/site-packages/xgboost/core.py:160: UserWarning: [18:42:46] WARNING: /workspace/src/learner.cc:742: \n",
      "Parameters: { \"silent\" } are not used.\n",
      "\n",
      "  warnings.warn(smsg, UserWarning)\n",
      "Training Columns:  90%|█████████ | 9/10 [00:35<00:03,  3.88s/it]"
     ]
    },
    {
     "name": "stdout",
     "output_type": "stream",
     "text": [
      "Column 8: Accuracy = 0.3694, F1 Score = 0.3591, ROC AUC = 0.5334\n"
     ]
    },
    {
     "name": "stderr",
     "output_type": "stream",
     "text": [
      "/opt/conda/lib/python3.10/site-packages/xgboost/core.py:160: UserWarning: [18:42:50] WARNING: /workspace/src/learner.cc:742: \n",
      "Parameters: { \"silent\" } are not used.\n",
      "\n",
      "  warnings.warn(smsg, UserWarning)\n",
      "Training Columns: 100%|██████████| 10/10 [00:40<00:00,  4.02s/it]"
     ]
    },
    {
     "name": "stdout",
     "output_type": "stream",
     "text": [
      "Column 9: Accuracy = 0.4301, F1 Score = 0.3070, ROC AUC = 0.5118\n",
      "\n",
      "Training for: ST2 - GSL - MedicalNet Network - /kaggle/input/medicalnet-attention-layers-for-rsna/ST2_attention_embeddings_gsl.csv\n"
     ]
    },
    {
     "name": "stderr",
     "output_type": "stream",
     "text": [
      "\n",
      "Training Columns:   0%|          | 0/5 [00:00<?, ?it/s]/opt/conda/lib/python3.10/site-packages/xgboost/core.py:160: UserWarning: [18:42:54] WARNING: /workspace/src/learner.cc:742: \n",
      "Parameters: { \"silent\" } are not used.\n",
      "\n",
      "  warnings.warn(smsg, UserWarning)\n",
      "Training Columns:  20%|██        | 1/5 [00:04<00:16,  4.21s/it]"
     ]
    },
    {
     "name": "stdout",
     "output_type": "stream",
     "text": [
      "Column 0: Accuracy = 0.8059, F1 Score = 0.3100, ROC AUC = 0.6239\n"
     ]
    },
    {
     "name": "stderr",
     "output_type": "stream",
     "text": [
      "/opt/conda/lib/python3.10/site-packages/xgboost/core.py:160: UserWarning: [18:42:58] WARNING: /workspace/src/learner.cc:742: \n",
      "Parameters: { \"silent\" } are not used.\n",
      "\n",
      "  warnings.warn(smsg, UserWarning)\n",
      "Training Columns:  40%|████      | 2/5 [00:08<00:12,  4.29s/it]"
     ]
    },
    {
     "name": "stdout",
     "output_type": "stream",
     "text": [
      "Column 1: Accuracy = 0.6543, F1 Score = 0.3421, ROC AUC = 0.6253\n"
     ]
    },
    {
     "name": "stderr",
     "output_type": "stream",
     "text": [
      "/opt/conda/lib/python3.10/site-packages/xgboost/core.py:160: UserWarning: [18:43:03] WARNING: /workspace/src/learner.cc:742: \n",
      "Parameters: { \"silent\" } are not used.\n",
      "\n",
      "  warnings.warn(smsg, UserWarning)\n",
      "Training Columns:  60%|██████    | 3/5 [00:12<00:08,  4.34s/it]"
     ]
    },
    {
     "name": "stdout",
     "output_type": "stream",
     "text": [
      "Column 2: Accuracy = 0.5133, F1 Score = 0.3440, ROC AUC = 0.6272\n"
     ]
    },
    {
     "name": "stderr",
     "output_type": "stream",
     "text": [
      "/opt/conda/lib/python3.10/site-packages/xgboost/core.py:160: UserWarning: [18:43:07] WARNING: /workspace/src/learner.cc:742: \n",
      "Parameters: { \"silent\" } are not used.\n",
      "\n",
      "  warnings.warn(smsg, UserWarning)\n",
      "Training Columns:  80%|████████  | 4/5 [00:17<00:04,  4.26s/it]"
     ]
    },
    {
     "name": "stdout",
     "output_type": "stream",
     "text": [
      "Column 3: Accuracy = 0.4973, F1 Score = 0.3408, ROC AUC = 0.6009\n"
     ]
    },
    {
     "name": "stderr",
     "output_type": "stream",
     "text": [
      "/opt/conda/lib/python3.10/site-packages/xgboost/core.py:160: UserWarning: [18:43:11] WARNING: /workspace/src/learner.cc:742: \n",
      "Parameters: { \"silent\" } are not used.\n",
      "\n",
      "  warnings.warn(smsg, UserWarning)\n",
      "Training Columns: 100%|██████████| 5/5 [00:21<00:00,  4.29s/it]"
     ]
    },
    {
     "name": "stdout",
     "output_type": "stream",
     "text": [
      "Column 4: Accuracy = 0.8138, F1 Score = 0.3150, ROC AUC = 0.6601\n",
      "\n",
      "Training for: ST2 - HIST - MedicalNet Network - /kaggle/input/medicalnet-attention-layers-for-rsna/ST2_attention_embeddings_hist.csv\n"
     ]
    },
    {
     "name": "stderr",
     "output_type": "stream",
     "text": [
      "\n",
      "Training Columns:   0%|          | 0/5 [00:00<?, ?it/s]/opt/conda/lib/python3.10/site-packages/xgboost/core.py:160: UserWarning: [18:43:16] WARNING: /workspace/src/learner.cc:742: \n",
      "Parameters: { \"silent\" } are not used.\n",
      "\n",
      "  warnings.warn(smsg, UserWarning)\n",
      "Training Columns:  20%|██        | 1/5 [00:03<00:14,  3.74s/it]"
     ]
    },
    {
     "name": "stdout",
     "output_type": "stream",
     "text": [
      "Column 0: Accuracy = 0.7739, F1 Score = 0.3187, ROC AUC = 0.6022\n"
     ]
    },
    {
     "name": "stderr",
     "output_type": "stream",
     "text": [
      "/opt/conda/lib/python3.10/site-packages/xgboost/core.py:160: UserWarning: [18:43:20] WARNING: /workspace/src/learner.cc:742: \n",
      "Parameters: { \"silent\" } are not used.\n",
      "\n",
      "  warnings.warn(smsg, UserWarning)\n",
      "Training Columns:  40%|████      | 2/5 [00:08<00:13,  4.50s/it]"
     ]
    },
    {
     "name": "stdout",
     "output_type": "stream",
     "text": [
      "Column 1: Accuracy = 0.6755, F1 Score = 0.3083, ROC AUC = 0.5231\n"
     ]
    },
    {
     "name": "stderr",
     "output_type": "stream",
     "text": [
      "/opt/conda/lib/python3.10/site-packages/xgboost/core.py:160: UserWarning: [18:43:25] WARNING: /workspace/src/learner.cc:742: \n",
      "Parameters: { \"silent\" } are not used.\n",
      "\n",
      "  warnings.warn(smsg, UserWarning)\n",
      "Training Columns:  60%|██████    | 3/5 [00:13<00:08,  4.49s/it]"
     ]
    },
    {
     "name": "stdout",
     "output_type": "stream",
     "text": [
      "Column 2: Accuracy = 0.5346, F1 Score = 0.3392, ROC AUC = 0.5532\n"
     ]
    },
    {
     "name": "stderr",
     "output_type": "stream",
     "text": [
      "/opt/conda/lib/python3.10/site-packages/xgboost/core.py:160: UserWarning: [18:43:29] WARNING: /workspace/src/learner.cc:742: \n",
      "Parameters: { \"silent\" } are not used.\n",
      "\n",
      "  warnings.warn(smsg, UserWarning)\n",
      "Training Columns:  80%|████████  | 4/5 [00:17<00:04,  4.43s/it]"
     ]
    },
    {
     "name": "stdout",
     "output_type": "stream",
     "text": [
      "Column 3: Accuracy = 0.4388, F1 Score = 0.3103, ROC AUC = 0.5241\n"
     ]
    },
    {
     "name": "stderr",
     "output_type": "stream",
     "text": [
      "/opt/conda/lib/python3.10/site-packages/xgboost/core.py:160: UserWarning: [18:43:34] WARNING: /workspace/src/learner.cc:742: \n",
      "Parameters: { \"silent\" } are not used.\n",
      "\n",
      "  warnings.warn(smsg, UserWarning)\n",
      "Training Columns: 100%|██████████| 5/5 [00:21<00:00,  4.37s/it]"
     ]
    },
    {
     "name": "stdout",
     "output_type": "stream",
     "text": [
      "Column 4: Accuracy = 0.8218, F1 Score = 0.3444, ROC AUC = 0.5432\n",
      "Training complete. Results saved to 'results_summary.csv'.\n"
     ]
    },
    {
     "name": "stderr",
     "output_type": "stream",
     "text": [
      "\n"
     ]
    }
   ],
   "source": [
    "results_df = pd.DataFrame(columns=['Combination', 'Avg_Test_Accuracy', 'Avg_F1_Score', 'Avg_ROC_AUC'])\n",
    "\n",
    "for embedding_path, label_path, name in zip(all_embedding_paths, corresponding_labels_paths, list_of_combination):\n",
    "    print(f\"\\nTraining for: {name} - {embedding_path}\")\n",
    "    \n",
    "    model_save_path_prefix = f'{name}_svm_model_col_'\n",
    "    \n",
    "    avg_accuracy, avg_f1_score, avg_roc_auc = train(embedding_path, label_path)\n",
    "    \n",
    "    result_row = pd.DataFrame({\n",
    "        'Combination': [name],\n",
    "        'Avg_Test_Accuracy': [avg_accuracy],\n",
    "        'Avg_F1_Score': [avg_f1_score], \n",
    "        'Avg_ROC_AUC': [avg_roc_auc],\n",
    "    })\n",
    "    \n",
    "    results_df = pd.concat([results_df, result_row], ignore_index=True)\n",
    "\n",
    "results_df.to_csv('results_summary.csv', index=False)\n",
    "\n",
    "print(\"Training complete. Results saved to 'results_summary.csv'.\")"
   ]
  },
  {
   "cell_type": "code",
   "execution_count": 5,
   "id": "90fc27c4",
   "metadata": {
    "execution": {
     "iopub.execute_input": "2024-10-10T18:43:38.457900Z",
     "iopub.status.busy": "2024-10-10T18:43:38.457234Z",
     "iopub.status.idle": "2024-10-10T18:43:38.474194Z",
     "shell.execute_reply": "2024-10-10T18:43:38.473160Z"
    },
    "papermill": {
     "duration": 0.056106,
     "end_time": "2024-10-10T18:43:38.476297",
     "exception": false,
     "start_time": "2024-10-10T18:43:38.420191",
     "status": "completed"
    },
    "tags": []
   },
   "outputs": [
    {
     "data": {
      "text/html": [
       "<div>\n",
       "<style scoped>\n",
       "    .dataframe tbody tr th:only-of-type {\n",
       "        vertical-align: middle;\n",
       "    }\n",
       "\n",
       "    .dataframe tbody tr th {\n",
       "        vertical-align: top;\n",
       "    }\n",
       "\n",
       "    .dataframe thead th {\n",
       "        text-align: right;\n",
       "    }\n",
       "</style>\n",
       "<table border=\"1\" class=\"dataframe\">\n",
       "  <thead>\n",
       "    <tr style=\"text-align: right;\">\n",
       "      <th></th>\n",
       "      <th>Combination</th>\n",
       "      <th>Avg_Test_Accuracy</th>\n",
       "      <th>Avg_F1_Score</th>\n",
       "      <th>Avg_ROC_AUC</th>\n",
       "    </tr>\n",
       "  </thead>\n",
       "  <tbody>\n",
       "    <tr>\n",
       "      <th>0</th>\n",
       "      <td>AT2 - GSL - Attention Network</td>\n",
       "      <td>0.795310</td>\n",
       "      <td>0.591667</td>\n",
       "      <td>0.750050</td>\n",
       "    </tr>\n",
       "    <tr>\n",
       "      <th>1</th>\n",
       "      <td>AT2 - HIST - Attention Network</td>\n",
       "      <td>0.790117</td>\n",
       "      <td>0.557979</td>\n",
       "      <td>0.784932</td>\n",
       "    </tr>\n",
       "    <tr>\n",
       "      <th>2</th>\n",
       "      <td>ST1 - GSL - Attention Network</td>\n",
       "      <td>0.579683</td>\n",
       "      <td>0.371300</td>\n",
       "      <td>0.570229</td>\n",
       "    </tr>\n",
       "    <tr>\n",
       "      <th>3</th>\n",
       "      <td>ST1 - HIST - Attention Network</td>\n",
       "      <td>0.588654</td>\n",
       "      <td>0.362911</td>\n",
       "      <td>0.574436</td>\n",
       "    </tr>\n",
       "    <tr>\n",
       "      <th>4</th>\n",
       "      <td>ST2 - GSL - Attention Network</td>\n",
       "      <td>0.752128</td>\n",
       "      <td>0.347900</td>\n",
       "      <td>0.566531</td>\n",
       "    </tr>\n",
       "    <tr>\n",
       "      <th>5</th>\n",
       "      <td>ST2 - HIST - Attention Network</td>\n",
       "      <td>0.736702</td>\n",
       "      <td>0.344029</td>\n",
       "      <td>0.567584</td>\n",
       "    </tr>\n",
       "    <tr>\n",
       "      <th>6</th>\n",
       "      <td>AT2 - GSL - Average ResNet50</td>\n",
       "      <td>0.728811</td>\n",
       "      <td>0.506032</td>\n",
       "      <td>0.713579</td>\n",
       "    </tr>\n",
       "    <tr>\n",
       "      <th>7</th>\n",
       "      <td>AT2 - HIST - Average ResNet50</td>\n",
       "      <td>0.728811</td>\n",
       "      <td>0.491778</td>\n",
       "      <td>0.745395</td>\n",
       "    </tr>\n",
       "    <tr>\n",
       "      <th>8</th>\n",
       "      <td>ST1 - GSL - Average ResNet50</td>\n",
       "      <td>0.537995</td>\n",
       "      <td>0.359827</td>\n",
       "      <td>0.582732</td>\n",
       "    </tr>\n",
       "    <tr>\n",
       "      <th>9</th>\n",
       "      <td>ST1 - HIST - Average ResNet50</td>\n",
       "      <td>0.530607</td>\n",
       "      <td>0.337753</td>\n",
       "      <td>0.547019</td>\n",
       "    </tr>\n",
       "    <tr>\n",
       "      <th>10</th>\n",
       "      <td>ST2 - GSL - Average ResNet50</td>\n",
       "      <td>0.645745</td>\n",
       "      <td>0.349811</td>\n",
       "      <td>0.579873</td>\n",
       "    </tr>\n",
       "    <tr>\n",
       "      <th>11</th>\n",
       "      <td>ST2 - HIST - Average ResNet50</td>\n",
       "      <td>0.675000</td>\n",
       "      <td>0.342809</td>\n",
       "      <td>0.585597</td>\n",
       "    </tr>\n",
       "    <tr>\n",
       "      <th>12</th>\n",
       "      <td>AT2 - GSL - MedicalNet Network</td>\n",
       "      <td>0.684255</td>\n",
       "      <td>0.472094</td>\n",
       "      <td>0.707707</td>\n",
       "    </tr>\n",
       "    <tr>\n",
       "      <th>13</th>\n",
       "      <td>AT2 - HIST - MedicalNet Network</td>\n",
       "      <td>0.699665</td>\n",
       "      <td>0.476898</td>\n",
       "      <td>0.715135</td>\n",
       "    </tr>\n",
       "    <tr>\n",
       "      <th>14</th>\n",
       "      <td>ST1 - GSL - MedicalNet Network</td>\n",
       "      <td>0.517678</td>\n",
       "      <td>0.337820</td>\n",
       "      <td>0.550652</td>\n",
       "    </tr>\n",
       "    <tr>\n",
       "      <th>15</th>\n",
       "      <td>ST1 - HIST - MedicalNet Network</td>\n",
       "      <td>0.526649</td>\n",
       "      <td>0.340650</td>\n",
       "      <td>0.566648</td>\n",
       "    </tr>\n",
       "    <tr>\n",
       "      <th>16</th>\n",
       "      <td>ST2 - GSL - MedicalNet Network</td>\n",
       "      <td>0.656915</td>\n",
       "      <td>0.330360</td>\n",
       "      <td>0.627477</td>\n",
       "    </tr>\n",
       "    <tr>\n",
       "      <th>17</th>\n",
       "      <td>ST2 - HIST - MedicalNet Network</td>\n",
       "      <td>0.648936</td>\n",
       "      <td>0.324193</td>\n",
       "      <td>0.549151</td>\n",
       "    </tr>\n",
       "  </tbody>\n",
       "</table>\n",
       "</div>"
      ],
      "text/plain": [
       "                        Combination  Avg_Test_Accuracy  Avg_F1_Score  \\\n",
       "0     AT2 - GSL - Attention Network           0.795310      0.591667   \n",
       "1    AT2 - HIST - Attention Network           0.790117      0.557979   \n",
       "2     ST1 - GSL - Attention Network           0.579683      0.371300   \n",
       "3    ST1 - HIST - Attention Network           0.588654      0.362911   \n",
       "4     ST2 - GSL - Attention Network           0.752128      0.347900   \n",
       "5    ST2 - HIST - Attention Network           0.736702      0.344029   \n",
       "6      AT2 - GSL - Average ResNet50           0.728811      0.506032   \n",
       "7     AT2 - HIST - Average ResNet50           0.728811      0.491778   \n",
       "8      ST1 - GSL - Average ResNet50           0.537995      0.359827   \n",
       "9     ST1 - HIST - Average ResNet50           0.530607      0.337753   \n",
       "10     ST2 - GSL - Average ResNet50           0.645745      0.349811   \n",
       "11    ST2 - HIST - Average ResNet50           0.675000      0.342809   \n",
       "12   AT2 - GSL - MedicalNet Network           0.684255      0.472094   \n",
       "13  AT2 - HIST - MedicalNet Network           0.699665      0.476898   \n",
       "14   ST1 - GSL - MedicalNet Network           0.517678      0.337820   \n",
       "15  ST1 - HIST - MedicalNet Network           0.526649      0.340650   \n",
       "16   ST2 - GSL - MedicalNet Network           0.656915      0.330360   \n",
       "17  ST2 - HIST - MedicalNet Network           0.648936      0.324193   \n",
       "\n",
       "    Avg_ROC_AUC  \n",
       "0      0.750050  \n",
       "1      0.784932  \n",
       "2      0.570229  \n",
       "3      0.574436  \n",
       "4      0.566531  \n",
       "5      0.567584  \n",
       "6      0.713579  \n",
       "7      0.745395  \n",
       "8      0.582732  \n",
       "9      0.547019  \n",
       "10     0.579873  \n",
       "11     0.585597  \n",
       "12     0.707707  \n",
       "13     0.715135  \n",
       "14     0.550652  \n",
       "15     0.566648  \n",
       "16     0.627477  \n",
       "17     0.549151  "
      ]
     },
     "execution_count": 5,
     "metadata": {},
     "output_type": "execute_result"
    }
   ],
   "source": [
    "results_df"
   ]
  },
  {
   "cell_type": "code",
   "execution_count": 6,
   "id": "6067052b",
   "metadata": {
    "execution": {
     "iopub.execute_input": "2024-10-10T18:43:38.547830Z",
     "iopub.status.busy": "2024-10-10T18:43:38.546973Z",
     "iopub.status.idle": "2024-10-10T18:43:38.556302Z",
     "shell.execute_reply": "2024-10-10T18:43:38.555384Z"
    },
    "papermill": {
     "duration": 0.047437,
     "end_time": "2024-10-10T18:43:38.558401",
     "exception": false,
     "start_time": "2024-10-10T18:43:38.510964",
     "status": "completed"
    },
    "tags": []
   },
   "outputs": [],
   "source": [
    "def random_predictions(path):\n",
    "    labels = pd.read_csv(path)\n",
    "\n",
    "    id_cols = labels[['study_id', 'series_id']]\n",
    "    cols_to_impute = labels.drop(columns=['study_id', 'series_id'])\n",
    "    imputed_cols = cols_to_impute.apply(lambda x: x.fillna(x.mode()[0]))\n",
    "    final_df = pd.concat([id_cols, imputed_cols], axis=1)\n",
    "\n",
    "    id_cols = final_df[['study_id', 'series_id']]\n",
    "    cols_to_encode = final_df.drop(columns=['study_id', 'series_id'])\n",
    "    encoder = OneHotEncoder(sparse_output=False)\n",
    "    encoded_cols = encoder.fit_transform(cols_to_encode)\n",
    "    encoded_df = pd.DataFrame(encoded_cols, columns=encoder.get_feature_names_out(cols_to_encode.columns))\n",
    "    final_df = pd.concat([id_cols, encoded_df], axis=1)\n",
    "\n",
    "    Y_true = final_df.drop(columns=['study_id', 'series_id']).values\n",
    "\n",
    "    np.random.seed(42)  # For reproducibility\n",
    "    random_predictions = np.random.rand(*Y_true.shape)  # Random floats in [0.0, 1.0]\n",
    "\n",
    "    threshold = np.mean(random_predictions)\n",
    "\n",
    "    binary_predictions = (random_predictions > threshold).astype(float)\n",
    "\n",
    "    accuracy = np.mean(np.all(binary_predictions == Y_true, axis=1))\n",
    "\n",
    "    print(f\"Random Predictions Accuracy: {accuracy:.4f}\")\n",
    "    print(f\"Self-adjusting Threshold: {threshold:.4f}\")"
   ]
  },
  {
   "cell_type": "markdown",
   "id": "645c17ca",
   "metadata": {
    "papermill": {
     "duration": 0.034287,
     "end_time": "2024-10-10T18:43:38.628128",
     "exception": false,
     "start_time": "2024-10-10T18:43:38.593841",
     "status": "completed"
    },
    "tags": []
   },
   "source": [
    "## Random Accuracy"
   ]
  },
  {
   "cell_type": "code",
   "execution_count": 7,
   "id": "a0525e84",
   "metadata": {
    "execution": {
     "iopub.execute_input": "2024-10-10T18:43:38.699097Z",
     "iopub.status.busy": "2024-10-10T18:43:38.698667Z",
     "iopub.status.idle": "2024-10-10T18:43:38.780950Z",
     "shell.execute_reply": "2024-10-10T18:43:38.779884Z"
    },
    "papermill": {
     "duration": 0.120482,
     "end_time": "2024-10-10T18:43:38.783340",
     "exception": false,
     "start_time": "2024-10-10T18:43:38.662858",
     "status": "completed"
    },
    "tags": []
   },
   "outputs": [
    {
     "name": "stdout",
     "output_type": "stream",
     "text": [
      "Random Predictions Accuracy: 0.0000\n",
      "Self-adjusting Threshold: 0.4996\n",
      "Random Predictions Accuracy: 0.0000\n",
      "Self-adjusting Threshold: 0.4995\n",
      "Random Predictions Accuracy: 0.0000\n",
      "Self-adjusting Threshold: 0.5004\n"
     ]
    }
   ],
   "source": [
    "random_predictions('/kaggle/input/preprocessed-dataset/train_data_AT2.csv')\n",
    "random_predictions('/kaggle/input/preprocessed-dataset/train_data_ST1.csv')\n",
    "random_predictions('/kaggle/input/preprocessed-dataset/train_data_ST2.csv')"
   ]
  }
 ],
 "metadata": {
  "kaggle": {
   "accelerator": "none",
   "dataSources": [
    {
     "datasetId": 5788739,
     "sourceId": 9528888,
     "sourceType": "datasetVersion"
    },
    {
     "datasetId": 5810383,
     "sourceId": 9538829,
     "sourceType": "datasetVersion"
    },
    {
     "datasetId": 5814948,
     "sourceId": 9544899,
     "sourceType": "datasetVersion"
    },
    {
     "datasetId": 5821406,
     "sourceId": 9553895,
     "sourceType": "datasetVersion"
    }
   ],
   "dockerImageVersionId": 30786,
   "isGpuEnabled": false,
   "isInternetEnabled": true,
   "language": "python",
   "sourceType": "notebook"
  },
  "kernelspec": {
   "display_name": "Python 3",
   "language": "python",
   "name": "python3"
  },
  "language_info": {
   "codemirror_mode": {
    "name": "ipython",
    "version": 3
   },
   "file_extension": ".py",
   "mimetype": "text/x-python",
   "name": "python",
   "nbconvert_exporter": "python",
   "pygments_lexer": "ipython3",
   "version": "3.10.14"
  },
  "papermill": {
   "default_parameters": {},
   "duration": 778.712667,
   "end_time": "2024-10-10T18:43:40.142339",
   "environment_variables": {},
   "exception": null,
   "input_path": "__notebook__.ipynb",
   "output_path": "__notebook__.ipynb",
   "parameters": {},
   "start_time": "2024-10-10T18:30:41.429672",
   "version": "2.6.0"
  }
 },
 "nbformat": 4,
 "nbformat_minor": 5
}
