{
 "cells": [
  {
   "cell_type": "markdown",
   "id": "b5da3cac",
   "metadata": {
    "papermill": {
     "duration": 0.00574,
     "end_time": "2024-10-11T13:47:15.407743",
     "exception": false,
     "start_time": "2024-10-11T13:47:15.402003",
     "status": "completed"
    },
    "tags": []
   },
   "source": [
    "# A Novel Approach for Three-Way Classification of Lumbar Spine Degeneration Using Pseudo-Modality Learning to Handle Missing MRI Data"
   ]
  },
  {
   "cell_type": "markdown",
   "id": "9bdf0b1f",
   "metadata": {
    "papermill": {
     "duration": 0.004718,
     "end_time": "2024-10-11T13:47:15.417751",
     "exception": false,
     "start_time": "2024-10-11T13:47:15.413033",
     "status": "completed"
    },
    "tags": []
   },
   "source": [
    "## Libs"
   ]
  },
  {
   "cell_type": "code",
   "execution_count": 1,
   "id": "f075535b",
   "metadata": {
    "execution": {
     "iopub.execute_input": "2024-10-11T13:47:15.430356Z",
     "iopub.status.busy": "2024-10-11T13:47:15.429178Z",
     "iopub.status.idle": "2024-10-11T13:47:32.848134Z",
     "shell.execute_reply": "2024-10-11T13:47:32.846980Z"
    },
    "papermill": {
     "duration": 17.428952,
     "end_time": "2024-10-11T13:47:32.851781",
     "exception": false,
     "start_time": "2024-10-11T13:47:15.422829",
     "status": "completed"
    },
    "tags": []
   },
   "outputs": [],
   "source": [
    "import pandas as pd\n",
    "from sklearn.preprocessing import OneHotEncoder, StandardScaler, LabelEncoder\n",
    "import matplotlib.pyplot as plt\n",
    "import pandas as pd\n",
    "import numpy as np\n",
    "from tensorflow.keras.models import Sequential\n",
    "from tensorflow.keras.layers import Dense, Input\n",
    "from sklearn.model_selection import train_test_split\n",
    "from sklearn.preprocessing import StandardScaler\n",
    "from tensorflow.keras.losses import BinaryCrossentropy\n",
    "from sklearn.model_selection import KFold\n",
    "from sklearn.utils.class_weight import compute_class_weight\n",
    "import tensorflow as tf\n",
    "from sklearn.metrics import f1_score, roc_auc_score\n",
    "from sklearn.svm import SVC\n",
    "import joblib\n",
    "from imblearn.over_sampling import SMOTE\n",
    "from sklearn.preprocessing import LabelEncoder, StandardScaler\n",
    "from sklearn.svm import SVC\n",
    "from sklearn.metrics import accuracy_score, f1_score, roc_auc_score\n",
    "from sklearn.model_selection import KFold\n",
    "from imblearn.over_sampling import SMOTE\n",
    "import joblib\n",
    "import lightgbm as lgb\n",
    "from tqdm import tqdm\n",
    "from imblearn.over_sampling import RandomOverSampler\n",
    "from imblearn.under_sampling import RandomUnderSampler"
   ]
  },
  {
   "cell_type": "markdown",
   "id": "0d190195",
   "metadata": {
    "papermill": {
     "duration": 0.004391,
     "end_time": "2024-10-11T13:47:32.861223",
     "exception": false,
     "start_time": "2024-10-11T13:47:32.856832",
     "status": "completed"
    },
    "tags": []
   },
   "source": [
    "## Training Pipeline"
   ]
  },
  {
   "cell_type": "code",
   "execution_count": 2,
   "id": "3f1c4509",
   "metadata": {
    "execution": {
     "iopub.execute_input": "2024-10-11T13:47:32.873066Z",
     "iopub.status.busy": "2024-10-11T13:47:32.872316Z",
     "iopub.status.idle": "2024-10-11T13:47:32.891752Z",
     "shell.execute_reply": "2024-10-11T13:47:32.890621Z"
    },
    "papermill": {
     "duration": 0.028396,
     "end_time": "2024-10-11T13:47:32.894271",
     "exception": false,
     "start_time": "2024-10-11T13:47:32.865875",
     "status": "completed"
    },
    "tags": []
   },
   "outputs": [],
   "source": [
    "attention_embeddings_paths = [\n",
    "    '/kaggle/input/attention-embeddings-for-rsna/AT2_attention_embeddings_gsl.csv',\n",
    "    '/kaggle/input/attention-embeddings-for-rsna/AT2_attention_embeddings_hist.csv',\n",
    "    '/kaggle/input/attention-embeddings-for-rsna/ST1_attention_embeddings_gsl.csv',\n",
    "    '/kaggle/input/attention-embeddings-for-rsna/ST1_attention_embeddings_hist.csv',\n",
    "    '/kaggle/input/attention-embeddings-for-rsna/ST2_attention_embeddings_gsl.csv',\n",
    "    '/kaggle/input/attention-embeddings-for-rsna/ST2_attention_embeddings_hist.csv'    \n",
    "]\n",
    "\n",
    "average_embeddings_paths = [\n",
    "    '/kaggle/input/embeddings-for-rsna/at2-greyscl/final_embeddings.csv',\n",
    "    '/kaggle/input/embeddings-for-rsna/at2-hist/final_embeddings.csv',\n",
    "    '/kaggle/input/embeddings-for-rsna/st1-greyscl/final_embeddings.csv',\n",
    "    '/kaggle/input/embeddings-for-rsna/st1-hist/final_embeddings.csv',\n",
    "    '/kaggle/input/embeddings-for-rsna/st2-greyscl/final_embeddings.csv',\n",
    "    '/kaggle/input/embeddings-for-rsna/st2-hist/final_embeddings.csv'\n",
    "]\n",
    "\n",
    "medicalnet_embeddings_paths = [\n",
    "    '/kaggle/input/medicalnet-attention-layers-for-rsna/AT2_attention_embeddings_gsl.csv',\n",
    "    '/kaggle/input/medicalnet-attention-layers-for-rsna/AT2_attention_embeddings_hist.csv',\n",
    "    '/kaggle/input/medicalnet-attention-layers-for-rsna/ST1_attention_embeddings_gsl.csv',\n",
    "    '/kaggle/input/medicalnet-attention-layers-for-rsna/ST1_attention_embeddings_hist.csv',\n",
    "    '/kaggle/input/medicalnet-attention-layers-for-rsna/ST2_attention_embeddings_gsl.csv',\n",
    "    '/kaggle/input/medicalnet-attention-layers-for-rsna/ST2_attention_embeddings_hist.csv',\n",
    "]\n",
    "\n",
    "labels_paths = [\n",
    "    '/kaggle/input/preprocessed-dataset/train_data_AT2.csv',\n",
    "    '/kaggle/input/preprocessed-dataset/train_data_ST1.csv',\n",
    "    '/kaggle/input/preprocessed-dataset/train_data_ST2.csv'\n",
    "]\n",
    "\n",
    "list_of_combination = [\n",
    "    'AT2 - GSL - Attention Network',\n",
    "    'AT2 - HIST - Attention Network',\n",
    "    'ST1 - GSL - Attention Network',\n",
    "    'ST1 - HIST - Attention Network',\n",
    "    'ST2 - GSL - Attention Network',\n",
    "    'ST2 - HIST - Attention Network',\n",
    "    \n",
    "    'AT2 - GSL - Average ResNet50',\n",
    "    'AT2 - HIST - Average ResNet50',\n",
    "    'ST1 - GSL - Average ResNet50',\n",
    "    'ST1 - HIST - Average ResNet50',\n",
    "    'ST2 - GSL - Average ResNet50',\n",
    "    'ST2 - HIST - Average ResNet50',\n",
    "    \n",
    "    'AT2 - GSL - MedicalNet Network',\n",
    "    'AT2 - HIST - MedicalNet Network',\n",
    "    'ST1 - GSL - MedicalNet Network',\n",
    "    'ST1 - HIST - MedicalNet Network',\n",
    "    'ST2 - GSL - MedicalNet Network',\n",
    "    'ST2 - HIST - MedicalNet Network'\n",
    "]\n",
    "\n",
    "results_df = pd.DataFrame(columns=['Combination', 'Avg_Test_Accuracy', 'Avg_Val_Accuracy'])\n",
    "\n",
    "all_embedding_paths = [\n",
    "    *attention_embeddings_paths,\n",
    "    *average_embeddings_paths,\n",
    "    *medicalnet_embeddings_paths\n",
    "]\n",
    "\n",
    "corresponding_labels_paths = [\n",
    "    labels_paths[0],  # AT2 - GSL - Attention Network\n",
    "    labels_paths[0],  # AT2 - HIST - Attention Network\n",
    "    labels_paths[1],  # ST1 - GSL - Attention Network\n",
    "    labels_paths[1],  # ST1 - HIST - Attention Network\n",
    "    labels_paths[2],  # ST2 - GSL - Attention Network\n",
    "    labels_paths[2],  # ST2 - HIST - Attention Network\n",
    "    \n",
    "    labels_paths[0],  # AT2 - GSL - Average ResNet50\n",
    "    labels_paths[0],  # AT2 - HIST - Average ResNet50\n",
    "    labels_paths[1],  # ST1 - GSL - Average ResNet50\n",
    "    labels_paths[1],  # ST1 - HIST - Average ResNet50\n",
    "    labels_paths[2],  # ST2 - GSL - Average ResNet50\n",
    "    labels_paths[2],  # ST2 - HIST - Average ResNet50\n",
    "    \n",
    "    labels_paths[0],  # AT2 - GSL - MedicalNet Network\n",
    "    labels_paths[0],  # AT2 - HIST - MedicalNet Network\n",
    "    labels_paths[1],  # ST1 - GSL - MedicalNet Network\n",
    "    labels_paths[1],  # ST1 - HIST - MedicalNet Network\n",
    "    labels_paths[2],  # ST2 - GSL - MedicalNet Network\n",
    "    labels_paths[2],  # ST2 - HIST - MedicalNet Network\n",
    "]"
   ]
  },
  {
   "cell_type": "code",
   "execution_count": 3,
   "id": "eef1ef15",
   "metadata": {
    "execution": {
     "iopub.execute_input": "2024-10-11T13:47:32.906154Z",
     "iopub.status.busy": "2024-10-11T13:47:32.905696Z",
     "iopub.status.idle": "2024-10-11T13:47:32.928099Z",
     "shell.execute_reply": "2024-10-11T13:47:32.927038Z"
    },
    "papermill": {
     "duration": 0.03171,
     "end_time": "2024-10-11T13:47:32.930640",
     "exception": false,
     "start_time": "2024-10-11T13:47:32.898930",
     "status": "completed"
    },
    "tags": []
   },
   "outputs": [],
   "source": [
    "def train(embedding_path, labels_path, model_save_path_prefix='svm_model_col_'):\n",
    "    embeddings = pd.read_csv(embedding_path)\n",
    "    labels = pd.read_csv(labels_path)\n",
    "\n",
    "    id_cols = labels[['study_id', 'series_id']]\n",
    "    cols_to_impute = labels.drop(columns=['study_id', 'series_id'])\n",
    "    imputed_cols = cols_to_impute.apply(lambda x: x.fillna(x.mode()[0]))\n",
    "    labels = pd.concat([id_cols, imputed_cols], axis=1)\n",
    "\n",
    "    id_cols = labels[['study_id', 'series_id']]\n",
    "    cols_to_encode = labels.drop(columns=['study_id', 'series_id'])\n",
    "    encoded_df = cols_to_encode.apply(LabelEncoder().fit_transform)\n",
    "    final_df = pd.concat([id_cols, encoded_df], axis=1)\n",
    "\n",
    "    df = pd.merge(embeddings, final_df, on='study_id', how='inner')\n",
    "\n",
    "    X = df.iloc[:, :512].values\n",
    "    Y = df.iloc[:, 515:].values\n",
    "\n",
    "    avg_accuracies = []\n",
    "    avg_f1_scores = []\n",
    "    avg_roc_auc_scores = []\n",
    "\n",
    "    for col in tqdm(range(Y.shape[1]), desc=\"Training Columns\"):\n",
    "        label_2_samples = df[df.iloc[:, 515 + col] == 2]\n",
    "        \n",
    "        label_1_samples = df[df.iloc[:, 515 + col] == 1]\n",
    "        \n",
    "        label_0_samples = df[df.iloc[:, 515 + col] == 0].sample(\n",
    "            max(600 - len(label_2_samples) - len(label_1_samples), 0), random_state=42\n",
    "        )\n",
    "\n",
    "        sampled_df = pd.concat([label_2_samples, label_1_samples, label_0_samples])\n",
    "        \n",
    "        X_sampled = sampled_df.iloc[:, :512].values\n",
    "        Y_sampled = sampled_df.iloc[:, 515 + col].values\n",
    "\n",
    "        unique, counts = np.unique(Y_sampled, return_counts=True)\n",
    "        if np.min(counts) < 2:\n",
    "            print(f\"Skipping column {col} due to insufficient class samples.\")\n",
    "            continue \n",
    "\n",
    "        X_train, X_test, Y_train, Y_test = train_test_split(\n",
    "            X_sampled, Y_sampled, test_size=0.2, random_state=42, stratify=Y_sampled\n",
    "        )\n",
    "\n",
    "        scaler = StandardScaler()\n",
    "        X_train = scaler.fit_transform(X_train)\n",
    "        X_test = scaler.transform(X_test)\n",
    "\n",
    "        try:\n",
    "            minority_class_size = min(np.bincount(Y_train))\n",
    "            n_neighbors = min(5, minority_class_size - 1)  \n",
    "            smote = SMOTE(random_state=42, k_neighbors=n_neighbors)\n",
    "            X_train_smote, Y_train_smote = smote.fit_resample(X_train, Y_train)\n",
    "        except ValueError as e:\n",
    "            print(f\"Skipping SMOTE for column {col} due to error: {e}\")\n",
    "            X_train_smote, Y_train_smote = X_train, Y_train\n",
    "\n",
    "        model = SVC(kernel='linear', probability=True)\n",
    "        model.fit(X_train_smote, Y_train_smote)\n",
    "\n",
    "        Y_pred = model.predict(X_test)\n",
    "        Y_prob = model.predict_proba(X_test)\n",
    "        \n",
    "        accuracy = accuracy_score(Y_test, Y_pred)\n",
    "        f1 = f1_score(Y_test, Y_pred, average='macro')\n",
    "\n",
    "        if len(np.unique(Y_test)) < 2:\n",
    "            roc_auc = np.nan\n",
    "        else:\n",
    "            if len(np.unique(Y_test)) > 2:\n",
    "                roc_auc = roc_auc_score(Y_test, Y_prob, average='macro', multi_class='ovr')\n",
    "            else:\n",
    "                roc_auc = roc_auc_score(Y_test, Y_prob[:, 1], average='macro')\n",
    "\n",
    "        avg_accuracies.append(accuracy)\n",
    "        avg_f1_scores.append(f1)\n",
    "        avg_roc_auc_scores.append(roc_auc)\n",
    "\n",
    "        joblib.dump(model, f'{model_save_path_prefix}{col}.joblib')\n",
    "\n",
    "        print(f'Column {col}: Accuracy = {accuracy:.4f}, F1 Score = {f1:.4f}, ROC AUC = {roc_auc:.4f}')\n",
    "\n",
    "    return np.mean(avg_accuracies), np.mean(avg_f1_scores), np.mean(avg_roc_auc_scores)\n"
   ]
  },
  {
   "cell_type": "code",
   "execution_count": 4,
   "id": "e2e46b37",
   "metadata": {
    "execution": {
     "iopub.execute_input": "2024-10-11T13:47:32.941958Z",
     "iopub.status.busy": "2024-10-11T13:47:32.941539Z",
     "iopub.status.idle": "2024-10-11T13:55:12.209869Z",
     "shell.execute_reply": "2024-10-11T13:55:12.208704Z"
    },
    "papermill": {
     "duration": 459.276871,
     "end_time": "2024-10-11T13:55:12.212360",
     "exception": false,
     "start_time": "2024-10-11T13:47:32.935489",
     "status": "completed"
    },
    "tags": []
   },
   "outputs": [
    {
     "name": "stdout",
     "output_type": "stream",
     "text": [
      "\n",
      "Training for: AT2 - GSL - Attention Network - /kaggle/input/attention-embeddings-for-rsna/AT2_attention_embeddings_gsl.csv\n"
     ]
    },
    {
     "name": "stderr",
     "output_type": "stream",
     "text": [
      "Training Columns:  10%|█         | 1/10 [00:00<00:01,  4.65it/s]"
     ]
    },
    {
     "name": "stdout",
     "output_type": "stream",
     "text": [
      "Skipping SMOTE for column 0 due to error: The 'k_neighbors' parameter of SMOTE must be an int in the range [1, inf) or an object implementing 'kneighbors' and 'kneighbors_graph'. Got -1 instead.\n",
      "Column 0: Accuracy = 1.0000, F1 Score = 1.0000, ROC AUC = nan\n",
      "Skipping SMOTE for column 1 due to error: The 'k_neighbors' parameter of SMOTE must be an int in the range [1, inf) or an object implementing 'kneighbors' and 'kneighbors_graph'. Got -1 instead.\n"
     ]
    },
    {
     "name": "stderr",
     "output_type": "stream",
     "text": [
      "Training Columns:  20%|██        | 2/10 [00:00<00:03,  2.65it/s]"
     ]
    },
    {
     "name": "stdout",
     "output_type": "stream",
     "text": [
      "Column 1: Accuracy = 0.9963, F1 Score = 0.8324, ROC AUC = 0.7006\n",
      "Skipping SMOTE for column 2 due to error: The 'k_neighbors' parameter of SMOTE must be an int in the range [1, inf) or an object implementing 'kneighbors' and 'kneighbors_graph'. Got -1 instead.\n"
     ]
    },
    {
     "name": "stderr",
     "output_type": "stream",
     "text": [
      "Training Columns:  30%|███       | 3/10 [00:01<00:03,  1.90it/s]"
     ]
    },
    {
     "name": "stdout",
     "output_type": "stream",
     "text": [
      "Column 2: Accuracy = 0.9576, F1 Score = 0.6765, ROC AUC = 0.9070\n",
      "Skipping SMOTE for column 3 due to error: The 'k_neighbors' parameter of SMOTE must be an int in the range [1, inf) or an object implementing 'kneighbors' and 'kneighbors_graph'. Got -1 instead.\n"
     ]
    },
    {
     "name": "stderr",
     "output_type": "stream",
     "text": [
      "Training Columns:  40%|████      | 4/10 [00:02<00:05,  1.19it/s]"
     ]
    },
    {
     "name": "stdout",
     "output_type": "stream",
     "text": [
      "Column 3: Accuracy = 0.9002, F1 Score = 0.7365, ROC AUC = 0.7673\n",
      "Skipping SMOTE for column 4 due to error: The 'k_neighbors' parameter of SMOTE must be an int in the range [1, inf) or an object implementing 'kneighbors' and 'kneighbors_graph'. Got -1 instead.\n"
     ]
    },
    {
     "name": "stderr",
     "output_type": "stream",
     "text": [
      "Training Columns:  50%|█████     | 5/10 [00:05<00:07,  1.43s/it]"
     ]
    },
    {
     "name": "stdout",
     "output_type": "stream",
     "text": [
      "Column 4: Accuracy = 0.8453, F1 Score = 0.7194, ROC AUC = 0.7932\n",
      "Skipping SMOTE for column 5 due to error: The 'k_neighbors' parameter of SMOTE must be an int in the range [1, inf) or an object implementing 'kneighbors' and 'kneighbors_graph'. Got -1 instead.\n"
     ]
    },
    {
     "name": "stderr",
     "output_type": "stream",
     "text": [
      "Training Columns:  60%|██████    | 6/10 [00:05<00:04,  1.12s/it]"
     ]
    },
    {
     "name": "stdout",
     "output_type": "stream",
     "text": [
      "Column 5: Accuracy = 0.9983, F1 Score = 0.9281, ROC AUC = 0.9895\n",
      "Skipping SMOTE for column 6 due to error: The 'k_neighbors' parameter of SMOTE must be an int in the range [1, inf) or an object implementing 'kneighbors' and 'kneighbors_graph'. Got -1 instead.\n"
     ]
    },
    {
     "name": "stderr",
     "output_type": "stream",
     "text": [
      "Training Columns:  70%|███████   | 7/10 [00:06<00:02,  1.17it/s]"
     ]
    },
    {
     "name": "stdout",
     "output_type": "stream",
     "text": [
      "Column 6: Accuracy = 0.9982, F1 Score = 0.8329, ROC AUC = 0.7273\n",
      "Skipping SMOTE for column 7 due to error: The 'k_neighbors' parameter of SMOTE must be an int in the range [1, inf) or an object implementing 'kneighbors' and 'kneighbors_graph'. Got -1 instead.\n"
     ]
    },
    {
     "name": "stderr",
     "output_type": "stream",
     "text": [
      "Training Columns:  80%|████████  | 8/10 [00:06<00:01,  1.26it/s]"
     ]
    },
    {
     "name": "stdout",
     "output_type": "stream",
     "text": [
      "Column 7: Accuracy = 0.9701, F1 Score = 0.7231, ROC AUC = 0.7758\n",
      "Skipping SMOTE for column 8 due to error: The 'k_neighbors' parameter of SMOTE must be an int in the range [1, inf) or an object implementing 'kneighbors' and 'kneighbors_graph'. Got -1 instead.\n"
     ]
    },
    {
     "name": "stderr",
     "output_type": "stream",
     "text": [
      "Training Columns:  90%|█████████ | 9/10 [00:07<00:00,  1.08it/s]"
     ]
    },
    {
     "name": "stdout",
     "output_type": "stream",
     "text": [
      "Column 8: Accuracy = 0.9039, F1 Score = 0.7587, ROC AUC = 0.8188\n",
      "Skipping SMOTE for column 9 due to error: The 'k_neighbors' parameter of SMOTE must be an int in the range [1, inf) or an object implementing 'kneighbors' and 'kneighbors_graph'. Got -1 instead.\n"
     ]
    },
    {
     "name": "stderr",
     "output_type": "stream",
     "text": [
      "Training Columns: 100%|██████████| 10/10 [00:10<00:00,  1.04s/it]"
     ]
    },
    {
     "name": "stdout",
     "output_type": "stream",
     "text": [
      "Column 9: Accuracy = 0.8894, F1 Score = 0.7805, ROC AUC = 0.8232\n",
      "\n",
      "Training for: AT2 - HIST - Attention Network - /kaggle/input/attention-embeddings-for-rsna/AT2_attention_embeddings_hist.csv\n"
     ]
    },
    {
     "name": "stderr",
     "output_type": "stream",
     "text": [
      "\n",
      "/tmp/ipykernel_16/4132665728.py:17: FutureWarning: The behavior of DataFrame concatenation with empty or all-NA entries is deprecated. In a future version, this will no longer exclude empty or all-NA columns when determining the result dtypes. To retain the old behavior, exclude the relevant entries before the concat operation.\n",
      "  results_df = pd.concat([results_df, result_row], ignore_index=True)\n",
      "Training Columns:  10%|█         | 1/10 [00:00<00:01,  4.97it/s]"
     ]
    },
    {
     "name": "stdout",
     "output_type": "stream",
     "text": [
      "Skipping SMOTE for column 0 due to error: The 'k_neighbors' parameter of SMOTE must be an int in the range [1, inf) or an object implementing 'kneighbors' and 'kneighbors_graph'. Got -1 instead.\n",
      "Column 0: Accuracy = 1.0000, F1 Score = 1.0000, ROC AUC = nan\n",
      "Skipping SMOTE for column 1 due to error: The 'k_neighbors' parameter of SMOTE must be an int in the range [1, inf) or an object implementing 'kneighbors' and 'kneighbors_graph'. Got -1 instead.\n"
     ]
    },
    {
     "name": "stderr",
     "output_type": "stream",
     "text": [
      "Training Columns:  20%|██        | 2/10 [00:00<00:02,  2.96it/s]"
     ]
    },
    {
     "name": "stdout",
     "output_type": "stream",
     "text": [
      "Column 1: Accuracy = 0.9963, F1 Score = 0.8324, ROC AUC = 0.7117\n",
      "Skipping SMOTE for column 2 due to error: The 'k_neighbors' parameter of SMOTE must be an int in the range [1, inf) or an object implementing 'kneighbors' and 'kneighbors_graph'. Got -1 instead.\n"
     ]
    },
    {
     "name": "stderr",
     "output_type": "stream",
     "text": [
      "Training Columns:  30%|███       | 3/10 [00:01<00:03,  1.98it/s]"
     ]
    },
    {
     "name": "stdout",
     "output_type": "stream",
     "text": [
      "Column 2: Accuracy = 0.9703, F1 Score = 0.7424, ROC AUC = 0.8787\n",
      "Skipping SMOTE for column 3 due to error: The 'k_neighbors' parameter of SMOTE must be an int in the range [1, inf) or an object implementing 'kneighbors' and 'kneighbors_graph'. Got -1 instead.\n"
     ]
    },
    {
     "name": "stderr",
     "output_type": "stream",
     "text": [
      "Training Columns:  40%|████      | 4/10 [00:02<00:04,  1.22it/s]"
     ]
    },
    {
     "name": "stdout",
     "output_type": "stream",
     "text": [
      "Column 3: Accuracy = 0.8832, F1 Score = 0.7220, ROC AUC = 0.7676\n",
      "Skipping SMOTE for column 4 due to error: The 'k_neighbors' parameter of SMOTE must be an int in the range [1, inf) or an object implementing 'kneighbors' and 'kneighbors_graph'. Got -1 instead.\n"
     ]
    },
    {
     "name": "stderr",
     "output_type": "stream",
     "text": [
      "Training Columns:  50%|█████     | 5/10 [00:05<00:07,  1.43s/it]"
     ]
    },
    {
     "name": "stdout",
     "output_type": "stream",
     "text": [
      "Column 4: Accuracy = 0.8291, F1 Score = 0.6918, ROC AUC = 0.7899\n",
      "Skipping SMOTE for column 5 due to error: The 'k_neighbors' parameter of SMOTE must be an int in the range [1, inf) or an object implementing 'kneighbors' and 'kneighbors_graph'. Got -1 instead.\n"
     ]
    },
    {
     "name": "stderr",
     "output_type": "stream",
     "text": [
      "Training Columns:  60%|██████    | 6/10 [00:05<00:04,  1.12s/it]"
     ]
    },
    {
     "name": "stdout",
     "output_type": "stream",
     "text": [
      "Column 5: Accuracy = 0.9931, F1 Score = 0.7982, ROC AUC = 0.9969\n",
      "Skipping SMOTE for column 6 due to error: The 'k_neighbors' parameter of SMOTE must be an int in the range [1, inf) or an object implementing 'kneighbors' and 'kneighbors_graph'. Got -1 instead.\n"
     ]
    },
    {
     "name": "stderr",
     "output_type": "stream",
     "text": [
      "Training Columns:  70%|███████   | 7/10 [00:05<00:02,  1.19it/s]"
     ]
    },
    {
     "name": "stdout",
     "output_type": "stream",
     "text": [
      "Column 6: Accuracy = 0.9982, F1 Score = 0.8329, ROC AUC = 0.7449\n",
      "Skipping SMOTE for column 7 due to error: The 'k_neighbors' parameter of SMOTE must be an int in the range [1, inf) or an object implementing 'kneighbors' and 'kneighbors_graph'. Got -1 instead.\n"
     ]
    },
    {
     "name": "stderr",
     "output_type": "stream",
     "text": [
      "Training Columns:  80%|████████  | 8/10 [00:06<00:01,  1.27it/s]"
     ]
    },
    {
     "name": "stdout",
     "output_type": "stream",
     "text": [
      "Column 7: Accuracy = 0.9723, F1 Score = 0.7521, ROC AUC = 0.7168\n",
      "Skipping SMOTE for column 8 due to error: The 'k_neighbors' parameter of SMOTE must be an int in the range [1, inf) or an object implementing 'kneighbors' and 'kneighbors_graph'. Got -1 instead.\n"
     ]
    },
    {
     "name": "stderr",
     "output_type": "stream",
     "text": [
      "Training Columns:  90%|█████████ | 9/10 [00:07<00:00,  1.08it/s]"
     ]
    },
    {
     "name": "stdout",
     "output_type": "stream",
     "text": [
      "Column 8: Accuracy = 0.9039, F1 Score = 0.7266, ROC AUC = 0.7776\n",
      "Skipping SMOTE for column 9 due to error: The 'k_neighbors' parameter of SMOTE must be an int in the range [1, inf) or an object implementing 'kneighbors' and 'kneighbors_graph'. Got -1 instead.\n"
     ]
    },
    {
     "name": "stderr",
     "output_type": "stream",
     "text": [
      "Training Columns: 100%|██████████| 10/10 [00:10<00:00,  1.02s/it]"
     ]
    },
    {
     "name": "stdout",
     "output_type": "stream",
     "text": [
      "Column 9: Accuracy = 0.8646, F1 Score = 0.7425, ROC AUC = 0.8089\n",
      "\n",
      "Training for: ST1 - GSL - Attention Network - /kaggle/input/attention-embeddings-for-rsna/ST1_attention_embeddings_gsl.csv\n"
     ]
    },
    {
     "name": "stderr",
     "output_type": "stream",
     "text": [
      "\n",
      "Training Columns:   0%|          | 0/10 [00:00<?, ?it/s]"
     ]
    },
    {
     "name": "stdout",
     "output_type": "stream",
     "text": [
      "Skipping SMOTE for column 0 due to error: The 'k_neighbors' parameter of SMOTE must be an int in the range [1, inf) or an object implementing 'kneighbors' and 'kneighbors_graph'. Got -1 instead.\n"
     ]
    },
    {
     "name": "stderr",
     "output_type": "stream",
     "text": [
      "Training Columns:  10%|█         | 1/10 [00:00<00:03,  2.78it/s]"
     ]
    },
    {
     "name": "stdout",
     "output_type": "stream",
     "text": [
      "Column 0: Accuracy = 0.9806, F1 Score = 0.4951, ROC AUC = 0.5730\n",
      "Skipping SMOTE for column 1 due to error: The 'k_neighbors' parameter of SMOTE must be an int in the range [1, inf) or an object implementing 'kneighbors' and 'kneighbors_graph'. Got -1 instead.\n"
     ]
    },
    {
     "name": "stderr",
     "output_type": "stream",
     "text": [
      "Training Columns:  20%|██        | 2/10 [00:00<00:04,  1.91it/s]"
     ]
    },
    {
     "name": "stdout",
     "output_type": "stream",
     "text": [
      "Column 1: Accuracy = 0.8882, F1 Score = 0.5399, ROC AUC = 0.5897\n",
      "Skipping SMOTE for column 2 due to error: The 'k_neighbors' parameter of SMOTE must be an int in the range [1, inf) or an object implementing 'kneighbors' and 'kneighbors_graph'. Got -1 instead.\n"
     ]
    },
    {
     "name": "stderr",
     "output_type": "stream",
     "text": [
      "Training Columns:  30%|███       | 3/10 [00:01<00:04,  1.40it/s]"
     ]
    },
    {
     "name": "stdout",
     "output_type": "stream",
     "text": [
      "Column 2: Accuracy = 0.7526, F1 Score = 0.5721, ROC AUC = 0.6501\n",
      "Skipping SMOTE for column 3 due to error: The 'k_neighbors' parameter of SMOTE must be an int in the range [1, inf) or an object implementing 'kneighbors' and 'kneighbors_graph'. Got -1 instead.\n"
     ]
    },
    {
     "name": "stderr",
     "output_type": "stream",
     "text": [
      "Training Columns:  40%|████      | 4/10 [00:05<00:11,  1.91s/it]"
     ]
    },
    {
     "name": "stdout",
     "output_type": "stream",
     "text": [
      "Column 3: Accuracy = 0.5824, F1 Score = 0.5391, ROC AUC = 0.5481\n",
      "Skipping SMOTE for column 4 due to error: The 'k_neighbors' parameter of SMOTE must be an int in the range [1, inf) or an object implementing 'kneighbors' and 'kneighbors_graph'. Got -1 instead.\n"
     ]
    },
    {
     "name": "stderr",
     "output_type": "stream",
     "text": [
      "Training Columns:  50%|█████     | 5/10 [00:06<00:07,  1.55s/it]"
     ]
    },
    {
     "name": "stdout",
     "output_type": "stream",
     "text": [
      "Column 4: Accuracy = 0.7907, F1 Score = 0.5089, ROC AUC = 0.5941\n",
      "Skipping SMOTE for column 5 due to error: The 'k_neighbors' parameter of SMOTE must be an int in the range [1, inf) or an object implementing 'kneighbors' and 'kneighbors_graph'. Got -1 instead.\n"
     ]
    },
    {
     "name": "stderr",
     "output_type": "stream",
     "text": [
      "Training Columns:  60%|██████    | 6/10 [00:06<00:04,  1.14s/it]"
     ]
    },
    {
     "name": "stdout",
     "output_type": "stream",
     "text": [
      "Column 5: Accuracy = 0.9861, F1 Score = 0.4965, ROC AUC = 0.3711\n",
      "Skipping SMOTE for column 6 due to error: The 'k_neighbors' parameter of SMOTE must be an int in the range [1, inf) or an object implementing 'kneighbors' and 'kneighbors_graph'. Got -1 instead.\n"
     ]
    },
    {
     "name": "stderr",
     "output_type": "stream",
     "text": [
      "Training Columns:  70%|███████   | 7/10 [00:07<00:02,  1.06it/s]"
     ]
    },
    {
     "name": "stdout",
     "output_type": "stream",
     "text": [
      "Column 6: Accuracy = 0.9277, F1 Score = 0.6280, ROC AUC = 0.7292\n",
      "Skipping SMOTE for column 7 due to error: The 'k_neighbors' parameter of SMOTE must be an int in the range [1, inf) or an object implementing 'kneighbors' and 'kneighbors_graph'. Got -1 instead.\n"
     ]
    },
    {
     "name": "stderr",
     "output_type": "stream",
     "text": [
      "Training Columns:  80%|████████  | 8/10 [00:08<00:01,  1.09it/s]"
     ]
    },
    {
     "name": "stdout",
     "output_type": "stream",
     "text": [
      "Column 7: Accuracy = 0.7759, F1 Score = 0.5430, ROC AUC = 0.6117\n",
      "Skipping SMOTE for column 8 due to error: The 'k_neighbors' parameter of SMOTE must be an int in the range [1, inf) or an object implementing 'kneighbors' and 'kneighbors_graph'. Got -1 instead.\n"
     ]
    },
    {
     "name": "stderr",
     "output_type": "stream",
     "text": [
      "Training Columns:  90%|█████████ | 9/10 [00:10<00:01,  1.44s/it]"
     ]
    },
    {
     "name": "stdout",
     "output_type": "stream",
     "text": [
      "Column 8: Accuracy = 0.5775, F1 Score = 0.5489, ROC AUC = 0.5652\n",
      "Skipping SMOTE for column 9 due to error: The 'k_neighbors' parameter of SMOTE must be an int in the range [1, inf) or an object implementing 'kneighbors' and 'kneighbors_graph'. Got -1 instead.\n"
     ]
    },
    {
     "name": "stderr",
     "output_type": "stream",
     "text": [
      "Training Columns: 100%|██████████| 10/10 [00:11<00:00,  1.19s/it]"
     ]
    },
    {
     "name": "stdout",
     "output_type": "stream",
     "text": [
      "Column 9: Accuracy = 0.7483, F1 Score = 0.4848, ROC AUC = 0.4816\n",
      "\n",
      "Training for: ST1 - HIST - Attention Network - /kaggle/input/attention-embeddings-for-rsna/ST1_attention_embeddings_hist.csv\n"
     ]
    },
    {
     "name": "stderr",
     "output_type": "stream",
     "text": [
      "\n",
      "Training Columns:   0%|          | 0/10 [00:00<?, ?it/s]"
     ]
    },
    {
     "name": "stdout",
     "output_type": "stream",
     "text": [
      "Skipping SMOTE for column 0 due to error: The 'k_neighbors' parameter of SMOTE must be an int in the range [1, inf) or an object implementing 'kneighbors' and 'kneighbors_graph'. Got -1 instead.\n"
     ]
    },
    {
     "name": "stderr",
     "output_type": "stream",
     "text": [
      "Training Columns:  10%|█         | 1/10 [00:00<00:03,  2.68it/s]"
     ]
    },
    {
     "name": "stdout",
     "output_type": "stream",
     "text": [
      "Column 0: Accuracy = 0.9834, F1 Score = 0.4958, ROC AUC = 0.3904\n",
      "Skipping SMOTE for column 1 due to error: The 'k_neighbors' parameter of SMOTE must be an int in the range [1, inf) or an object implementing 'kneighbors' and 'kneighbors_graph'. Got -1 instead.\n"
     ]
    },
    {
     "name": "stderr",
     "output_type": "stream",
     "text": [
      "Training Columns:  20%|██        | 2/10 [00:00<00:03,  2.00it/s]"
     ]
    },
    {
     "name": "stdout",
     "output_type": "stream",
     "text": [
      "Column 1: Accuracy = 0.9033, F1 Score = 0.5533, ROC AUC = 0.5992\n",
      "Skipping SMOTE for column 2 due to error: The 'k_neighbors' parameter of SMOTE must be an int in the range [1, inf) or an object implementing 'kneighbors' and 'kneighbors_graph'. Got -1 instead.\n"
     ]
    },
    {
     "name": "stderr",
     "output_type": "stream",
     "text": [
      "Training Columns:  30%|███       | 3/10 [00:01<00:04,  1.44it/s]"
     ]
    },
    {
     "name": "stdout",
     "output_type": "stream",
     "text": [
      "Column 2: Accuracy = 0.7801, F1 Score = 0.5869, ROC AUC = 0.6583\n",
      "Skipping SMOTE for column 3 due to error: The 'k_neighbors' parameter of SMOTE must be an int in the range [1, inf) or an object implementing 'kneighbors' and 'kneighbors_graph'. Got -1 instead.\n"
     ]
    },
    {
     "name": "stderr",
     "output_type": "stream",
     "text": [
      "Training Columns:  40%|████      | 4/10 [00:04<00:08,  1.41s/it]"
     ]
    },
    {
     "name": "stdout",
     "output_type": "stream",
     "text": [
      "Column 3: Accuracy = 0.5977, F1 Score = 0.5560, ROC AUC = 0.5800\n",
      "Skipping SMOTE for column 4 due to error: The 'k_neighbors' parameter of SMOTE must be an int in the range [1, inf) or an object implementing 'kneighbors' and 'kneighbors_graph'. Got -1 instead.\n"
     ]
    },
    {
     "name": "stderr",
     "output_type": "stream",
     "text": [
      "Training Columns:  50%|█████     | 5/10 [00:05<00:05,  1.18s/it]"
     ]
    },
    {
     "name": "stdout",
     "output_type": "stream",
     "text": [
      "Column 4: Accuracy = 0.8372, F1 Score = 0.5531, ROC AUC = 0.5750\n",
      "Skipping SMOTE for column 5 due to error: The 'k_neighbors' parameter of SMOTE must be an int in the range [1, inf) or an object implementing 'kneighbors' and 'kneighbors_graph'. Got -1 instead.\n"
     ]
    },
    {
     "name": "stderr",
     "output_type": "stream",
     "text": [
      "Training Columns:  60%|██████    | 6/10 [00:05<00:03,  1.12it/s]"
     ]
    },
    {
     "name": "stdout",
     "output_type": "stream",
     "text": [
      "Column 5: Accuracy = 0.9861, F1 Score = 0.4965, ROC AUC = 0.5049\n",
      "Skipping SMOTE for column 6 due to error: The 'k_neighbors' parameter of SMOTE must be an int in the range [1, inf) or an object implementing 'kneighbors' and 'kneighbors_graph'. Got -1 instead.\n"
     ]
    },
    {
     "name": "stderr",
     "output_type": "stream",
     "text": [
      "Training Columns:  70%|███████   | 7/10 [00:06<00:02,  1.28it/s]"
     ]
    },
    {
     "name": "stdout",
     "output_type": "stream",
     "text": [
      "Column 6: Accuracy = 0.9367, F1 Score = 0.5271, ROC AUC = 0.6183\n",
      "Skipping SMOTE for column 7 due to error: The 'k_neighbors' parameter of SMOTE must be an int in the range [1, inf) or an object implementing 'kneighbors' and 'kneighbors_graph'. Got -1 instead.\n"
     ]
    },
    {
     "name": "stderr",
     "output_type": "stream",
     "text": [
      "Training Columns:  80%|████████  | 8/10 [00:06<00:01,  1.27it/s]"
     ]
    },
    {
     "name": "stdout",
     "output_type": "stream",
     "text": [
      "Column 7: Accuracy = 0.8034, F1 Score = 0.5732, ROC AUC = 0.6419\n",
      "Skipping SMOTE for column 8 due to error: The 'k_neighbors' parameter of SMOTE must be an int in the range [1, inf) or an object implementing 'kneighbors' and 'kneighbors_graph'. Got -1 instead.\n"
     ]
    },
    {
     "name": "stderr",
     "output_type": "stream",
     "text": [
      "Training Columns:  90%|█████████ | 9/10 [00:10<00:01,  1.76s/it]"
     ]
    },
    {
     "name": "stdout",
     "output_type": "stream",
     "text": [
      "Column 8: Accuracy = 0.5349, F1 Score = 0.5152, ROC AUC = 0.5441\n",
      "Skipping SMOTE for column 9 due to error: The 'k_neighbors' parameter of SMOTE must be an int in the range [1, inf) or an object implementing 'kneighbors' and 'kneighbors_graph'. Got -1 instead.\n"
     ]
    },
    {
     "name": "stderr",
     "output_type": "stream",
     "text": [
      "Training Columns: 100%|██████████| 10/10 [00:11<00:00,  1.18s/it]"
     ]
    },
    {
     "name": "stdout",
     "output_type": "stream",
     "text": [
      "Column 9: Accuracy = 0.7583, F1 Score = 0.5190, ROC AUC = 0.5770\n",
      "\n",
      "Training for: ST2 - GSL - Attention Network - /kaggle/input/attention-embeddings-for-rsna/ST2_attention_embeddings_gsl.csv\n"
     ]
    },
    {
     "name": "stderr",
     "output_type": "stream",
     "text": [
      "\n",
      "Training Columns:   0%|          | 0/5 [00:00<?, ?it/s]"
     ]
    },
    {
     "name": "stdout",
     "output_type": "stream",
     "text": [
      "Skipping SMOTE for column 0 due to error: The 'k_neighbors' parameter of SMOTE must be an int in the range [1, inf) or an object implementing 'kneighbors' and 'kneighbors_graph'. Got -1 instead.\n"
     ]
    },
    {
     "name": "stderr",
     "output_type": "stream",
     "text": [
      "Training Columns:  20%|██        | 1/5 [00:00<00:01,  3.55it/s]"
     ]
    },
    {
     "name": "stdout",
     "output_type": "stream",
     "text": [
      "Column 0: Accuracy = 0.9862, F1 Score = 0.4965, ROC AUC = 0.6643\n",
      "Skipping SMOTE for column 1 due to error: The 'k_neighbors' parameter of SMOTE must be an int in the range [1, inf) or an object implementing 'kneighbors' and 'kneighbors_graph'. Got -1 instead.\n"
     ]
    },
    {
     "name": "stderr",
     "output_type": "stream",
     "text": [
      "Training Columns:  40%|████      | 2/5 [00:00<00:01,  2.53it/s]"
     ]
    },
    {
     "name": "stdout",
     "output_type": "stream",
     "text": [
      "Column 1: Accuracy = 0.9424, F1 Score = 0.4852, ROC AUC = 0.6401\n",
      "Skipping SMOTE for column 2 due to error: The 'k_neighbors' parameter of SMOTE must be an int in the range [1, inf) or an object implementing 'kneighbors' and 'kneighbors_graph'. Got -1 instead.\n"
     ]
    },
    {
     "name": "stderr",
     "output_type": "stream",
     "text": [
      "Training Columns:  60%|██████    | 3/5 [00:01<00:01,  1.75it/s]"
     ]
    },
    {
     "name": "stdout",
     "output_type": "stream",
     "text": [
      "Column 2: Accuracy = 0.8825, F1 Score = 0.5703, ROC AUC = 0.6886\n",
      "Skipping SMOTE for column 3 due to error: The 'k_neighbors' parameter of SMOTE must be an int in the range [1, inf) or an object implementing 'kneighbors' and 'kneighbors_graph'. Got -1 instead.\n"
     ]
    },
    {
     "name": "stderr",
     "output_type": "stream",
     "text": [
      "Training Columns:  80%|████████  | 4/5 [00:03<00:00,  1.02it/s]"
     ]
    },
    {
     "name": "stdout",
     "output_type": "stream",
     "text": [
      "Column 3: Accuracy = 0.7704, F1 Score = 0.5665, ROC AUC = 0.6329\n",
      "Skipping SMOTE for column 4 due to error: The 'k_neighbors' parameter of SMOTE must be an int in the range [1, inf) or an object implementing 'kneighbors' and 'kneighbors_graph'. Got -1 instead.\n"
     ]
    },
    {
     "name": "stderr",
     "output_type": "stream",
     "text": [
      "Training Columns: 100%|██████████| 5/5 [00:03<00:00,  1.43it/s]"
     ]
    },
    {
     "name": "stdout",
     "output_type": "stream",
     "text": [
      "Column 4: Accuracy = 0.9891, F1 Score = 0.4973, ROC AUC = 0.8128\n",
      "\n",
      "Training for: ST2 - HIST - Attention Network - /kaggle/input/attention-embeddings-for-rsna/ST2_attention_embeddings_hist.csv\n"
     ]
    },
    {
     "name": "stderr",
     "output_type": "stream",
     "text": [
      "\n",
      "Training Columns:   0%|          | 0/5 [00:00<?, ?it/s]"
     ]
    },
    {
     "name": "stdout",
     "output_type": "stream",
     "text": [
      "Skipping SMOTE for column 0 due to error: The 'k_neighbors' parameter of SMOTE must be an int in the range [1, inf) or an object implementing 'kneighbors' and 'kneighbors_graph'. Got -1 instead.\n"
     ]
    },
    {
     "name": "stderr",
     "output_type": "stream",
     "text": [
      "Training Columns:  20%|██        | 1/5 [00:00<00:01,  3.21it/s]"
     ]
    },
    {
     "name": "stdout",
     "output_type": "stream",
     "text": [
      "Column 0: Accuracy = 0.9890, F1 Score = 0.4972, ROC AUC = 0.6553\n",
      "Skipping SMOTE for column 1 due to error: The 'k_neighbors' parameter of SMOTE must be an int in the range [1, inf) or an object implementing 'kneighbors' and 'kneighbors_graph'. Got -1 instead.\n"
     ]
    },
    {
     "name": "stderr",
     "output_type": "stream",
     "text": [
      "Training Columns:  40%|████      | 2/5 [00:00<00:01,  2.52it/s]"
     ]
    },
    {
     "name": "stdout",
     "output_type": "stream",
     "text": [
      "Column 1: Accuracy = 0.9597, F1 Score = 0.4897, ROC AUC = 0.6053\n",
      "Skipping SMOTE for column 2 due to error: The 'k_neighbors' parameter of SMOTE must be an int in the range [1, inf) or an object implementing 'kneighbors' and 'kneighbors_graph'. Got -1 instead.\n"
     ]
    },
    {
     "name": "stderr",
     "output_type": "stream",
     "text": [
      "Training Columns:  60%|██████    | 3/5 [00:01<00:01,  1.73it/s]"
     ]
    },
    {
     "name": "stdout",
     "output_type": "stream",
     "text": [
      "Column 2: Accuracy = 0.8283, F1 Score = 0.5269, ROC AUC = 0.5865\n",
      "Skipping SMOTE for column 3 due to error: The 'k_neighbors' parameter of SMOTE must be an int in the range [1, inf) or an object implementing 'kneighbors' and 'kneighbors_graph'. Got -1 instead.\n"
     ]
    },
    {
     "name": "stderr",
     "output_type": "stream",
     "text": [
      "Training Columns:  80%|████████  | 4/5 [00:03<00:00,  1.05it/s]"
     ]
    },
    {
     "name": "stdout",
     "output_type": "stream",
     "text": [
      "Column 3: Accuracy = 0.7160, F1 Score = 0.4876, ROC AUC = 0.5564\n",
      "Skipping SMOTE for column 4 due to error: The 'k_neighbors' parameter of SMOTE must be an int in the range [1, inf) or an object implementing 'kneighbors' and 'kneighbors_graph'. Got -1 instead.\n"
     ]
    },
    {
     "name": "stderr",
     "output_type": "stream",
     "text": [
      "Training Columns: 100%|██████████| 5/5 [00:03<00:00,  1.45it/s]"
     ]
    },
    {
     "name": "stdout",
     "output_type": "stream",
     "text": [
      "Column 4: Accuracy = 0.9836, F1 Score = 0.4959, ROC AUC = 0.5159\n",
      "\n",
      "Training for: AT2 - GSL - Average ResNet50 - /kaggle/input/embeddings-for-rsna/at2-greyscl/final_embeddings.csv\n"
     ]
    },
    {
     "name": "stderr",
     "output_type": "stream",
     "text": [
      "\n",
      "Training Columns:  10%|█         | 1/10 [00:00<00:01,  4.81it/s]"
     ]
    },
    {
     "name": "stdout",
     "output_type": "stream",
     "text": [
      "Skipping SMOTE for column 0 due to error: The 'k_neighbors' parameter of SMOTE must be an int in the range [1, inf) or an object implementing 'kneighbors' and 'kneighbors_graph'. Got -1 instead.\n",
      "Column 0: Accuracy = 0.9983, F1 Score = 0.4996, ROC AUC = nan\n",
      "Skipping SMOTE for column 1 due to error: The 'k_neighbors' parameter of SMOTE must be an int in the range [1, inf) or an object implementing 'kneighbors' and 'kneighbors_graph'. Got -1 instead.\n"
     ]
    },
    {
     "name": "stderr",
     "output_type": "stream",
     "text": [
      "Training Columns:  20%|██        | 2/10 [00:01<00:04,  1.65it/s]"
     ]
    },
    {
     "name": "stdout",
     "output_type": "stream",
     "text": [
      "Column 1: Accuracy = 0.9927, F1 Score = 0.7482, ROC AUC = 0.7186\n",
      "Skipping SMOTE for column 2 due to error: The 'k_neighbors' parameter of SMOTE must be an int in the range [1, inf) or an object implementing 'kneighbors' and 'kneighbors_graph'. Got -1 instead.\n"
     ]
    },
    {
     "name": "stderr",
     "output_type": "stream",
     "text": [
      "Training Columns:  30%|███       | 3/10 [00:02<00:08,  1.19s/it]"
     ]
    },
    {
     "name": "stdout",
     "output_type": "stream",
     "text": [
      "Column 2: Accuracy = 0.9725, F1 Score = 0.6834, ROC AUC = 0.7787\n",
      "Skipping SMOTE for column 3 due to error: The 'k_neighbors' parameter of SMOTE must be an int in the range [1, inf) or an object implementing 'kneighbors' and 'kneighbors_graph'. Got -1 instead.\n"
     ]
    },
    {
     "name": "stderr",
     "output_type": "stream",
     "text": [
      "Training Columns:  40%|████      | 4/10 [00:08<00:17,  2.98s/it]"
     ]
    },
    {
     "name": "stdout",
     "output_type": "stream",
     "text": [
      "Column 3: Accuracy = 0.9027, F1 Score = 0.5197, ROC AUC = 0.7375\n",
      "Skipping SMOTE for column 4 due to error: The 'k_neighbors' parameter of SMOTE must be an int in the range [1, inf) or an object implementing 'kneighbors' and 'kneighbors_graph'. Got -1 instead.\n"
     ]
    },
    {
     "name": "stderr",
     "output_type": "stream",
     "text": [
      "Training Columns:  50%|█████     | 5/10 [00:16<00:23,  4.64s/it]"
     ]
    },
    {
     "name": "stdout",
     "output_type": "stream",
     "text": [
      "Column 4: Accuracy = 0.8753, F1 Score = 0.5910, ROC AUC = 0.7668\n",
      "Skipping SMOTE for column 5 due to error: The 'k_neighbors' parameter of SMOTE must be an int in the range [1, inf) or an object implementing 'kneighbors' and 'kneighbors_graph'. Got -1 instead.\n"
     ]
    },
    {
     "name": "stderr",
     "output_type": "stream",
     "text": [
      "Training Columns:  60%|██████    | 6/10 [00:17<00:13,  3.40s/it]"
     ]
    },
    {
     "name": "stdout",
     "output_type": "stream",
     "text": [
      "Column 5: Accuracy = 0.9931, F1 Score = 0.4983, ROC AUC = 0.8335\n",
      "Skipping SMOTE for column 6 due to error: The 'k_neighbors' parameter of SMOTE must be an int in the range [1, inf) or an object implementing 'kneighbors' and 'kneighbors_graph'. Got -1 instead.\n"
     ]
    },
    {
     "name": "stderr",
     "output_type": "stream",
     "text": [
      "Training Columns:  70%|███████   | 7/10 [00:17<00:07,  2.44s/it]"
     ]
    },
    {
     "name": "stdout",
     "output_type": "stream",
     "text": [
      "Column 6: Accuracy = 0.9963, F1 Score = 0.7491, ROC AUC = 0.8024\n",
      "Skipping SMOTE for column 7 due to error: The 'k_neighbors' parameter of SMOTE must be an int in the range [1, inf) or an object implementing 'kneighbors' and 'kneighbors_graph'. Got -1 instead.\n"
     ]
    },
    {
     "name": "stderr",
     "output_type": "stream",
     "text": [
      "Training Columns:  80%|████████  | 8/10 [00:19<00:04,  2.19s/it]"
     ]
    },
    {
     "name": "stdout",
     "output_type": "stream",
     "text": [
      "Column 7: Accuracy = 0.9744, F1 Score = 0.6601, ROC AUC = 0.8171\n",
      "Skipping SMOTE for column 8 due to error: The 'k_neighbors' parameter of SMOTE must be an int in the range [1, inf) or an object implementing 'kneighbors' and 'kneighbors_graph'. Got -1 instead.\n"
     ]
    },
    {
     "name": "stderr",
     "output_type": "stream",
     "text": [
      "Training Columns:  90%|█████████ | 9/10 [00:23<00:02,  2.76s/it]"
     ]
    },
    {
     "name": "stdout",
     "output_type": "stream",
     "text": [
      "Column 8: Accuracy = 0.9064, F1 Score = 0.6096, ROC AUC = 0.7680\n",
      "Skipping SMOTE for column 9 due to error: The 'k_neighbors' parameter of SMOTE must be an int in the range [1, inf) or an object implementing 'kneighbors' and 'kneighbors_graph'. Got -1 instead.\n"
     ]
    },
    {
     "name": "stderr",
     "output_type": "stream",
     "text": [
      "Training Columns: 100%|██████████| 10/10 [00:29<00:00,  2.99s/it]"
     ]
    },
    {
     "name": "stdout",
     "output_type": "stream",
     "text": [
      "Column 9: Accuracy = 0.8713, F1 Score = 0.5521, ROC AUC = 0.7537\n",
      "\n",
      "Training for: AT2 - HIST - Average ResNet50 - /kaggle/input/embeddings-for-rsna/at2-hist/final_embeddings.csv\n"
     ]
    },
    {
     "name": "stderr",
     "output_type": "stream",
     "text": [
      "\n",
      "Training Columns:  10%|█         | 1/10 [00:00<00:01,  5.35it/s]"
     ]
    },
    {
     "name": "stdout",
     "output_type": "stream",
     "text": [
      "Skipping SMOTE for column 0 due to error: The 'k_neighbors' parameter of SMOTE must be an int in the range [1, inf) or an object implementing 'kneighbors' and 'kneighbors_graph'. Got -1 instead.\n",
      "Column 0: Accuracy = 0.9983, F1 Score = 0.4996, ROC AUC = nan\n",
      "Skipping SMOTE for column 1 due to error: The 'k_neighbors' parameter of SMOTE must be an int in the range [1, inf) or an object implementing 'kneighbors' and 'kneighbors_graph'. Got -1 instead.\n"
     ]
    },
    {
     "name": "stderr",
     "output_type": "stream",
     "text": [
      "Training Columns:  20%|██        | 2/10 [00:00<00:04,  1.87it/s]"
     ]
    },
    {
     "name": "stdout",
     "output_type": "stream",
     "text": [
      "Column 1: Accuracy = 0.9945, F1 Score = 0.7843, ROC AUC = 0.7094\n",
      "Skipping SMOTE for column 2 due to error: The 'k_neighbors' parameter of SMOTE must be an int in the range [1, inf) or an object implementing 'kneighbors' and 'kneighbors_graph'. Got -1 instead.\n"
     ]
    },
    {
     "name": "stderr",
     "output_type": "stream",
     "text": [
      "Training Columns:  30%|███       | 3/10 [00:02<00:07,  1.01s/it]"
     ]
    },
    {
     "name": "stdout",
     "output_type": "stream",
     "text": [
      "Column 2: Accuracy = 0.9640, F1 Score = 0.6759, ROC AUC = 0.7068\n",
      "Skipping SMOTE for column 3 due to error: The 'k_neighbors' parameter of SMOTE must be an int in the range [1, inf) or an object implementing 'kneighbors' and 'kneighbors_graph'. Got -1 instead.\n"
     ]
    },
    {
     "name": "stderr",
     "output_type": "stream",
     "text": [
      "Training Columns:  40%|████      | 4/10 [00:06<00:14,  2.34s/it]"
     ]
    },
    {
     "name": "stdout",
     "output_type": "stream",
     "text": [
      "Column 3: Accuracy = 0.8978, F1 Score = 0.6337, ROC AUC = 0.7764\n",
      "Skipping SMOTE for column 4 due to error: The 'k_neighbors' parameter of SMOTE must be an int in the range [1, inf) or an object implementing 'kneighbors' and 'kneighbors_graph'. Got -1 instead.\n"
     ]
    },
    {
     "name": "stderr",
     "output_type": "stream",
     "text": [
      "Training Columns:  50%|█████     | 5/10 [00:14<00:20,  4.08s/it]"
     ]
    },
    {
     "name": "stdout",
     "output_type": "stream",
     "text": [
      "Column 4: Accuracy = 0.8822, F1 Score = 0.6448, ROC AUC = 0.7612\n",
      "Skipping SMOTE for column 5 due to error: The 'k_neighbors' parameter of SMOTE must be an int in the range [1, inf) or an object implementing 'kneighbors' and 'kneighbors_graph'. Got -1 instead.\n"
     ]
    },
    {
     "name": "stderr",
     "output_type": "stream",
     "text": [
      "Training Columns:  60%|██████    | 6/10 [00:14<00:11,  2.98s/it]"
     ]
    },
    {
     "name": "stdout",
     "output_type": "stream",
     "text": [
      "Column 5: Accuracy = 0.9948, F1 Score = 0.8320, ROC AUC = 0.8584\n",
      "Skipping SMOTE for column 6 due to error: The 'k_neighbors' parameter of SMOTE must be an int in the range [1, inf) or an object implementing 'kneighbors' and 'kneighbors_graph'. Got -1 instead.\n"
     ]
    },
    {
     "name": "stderr",
     "output_type": "stream",
     "text": [
      "Training Columns:  70%|███████   | 7/10 [00:15<00:06,  2.12s/it]"
     ]
    },
    {
     "name": "stdout",
     "output_type": "stream",
     "text": [
      "Column 6: Accuracy = 0.9963, F1 Score = 0.7491, ROC AUC = 0.7217\n",
      "Skipping SMOTE for column 7 due to error: The 'k_neighbors' parameter of SMOTE must be an int in the range [1, inf) or an object implementing 'kneighbors' and 'kneighbors_graph'. Got -1 instead.\n"
     ]
    },
    {
     "name": "stderr",
     "output_type": "stream",
     "text": [
      "Training Columns:  80%|████████  | 8/10 [00:16<00:03,  1.90s/it]"
     ]
    },
    {
     "name": "stdout",
     "output_type": "stream",
     "text": [
      "Column 7: Accuracy = 0.9744, F1 Score = 0.6935, ROC AUC = 0.7226\n",
      "Skipping SMOTE for column 8 due to error: The 'k_neighbors' parameter of SMOTE must be an int in the range [1, inf) or an object implementing 'kneighbors' and 'kneighbors_graph'. Got -1 instead.\n"
     ]
    },
    {
     "name": "stderr",
     "output_type": "stream",
     "text": [
      "Training Columns:  90%|█████████ | 9/10 [00:20<00:02,  2.59s/it]"
     ]
    },
    {
     "name": "stdout",
     "output_type": "stream",
     "text": [
      "Column 8: Accuracy = 0.9138, F1 Score = 0.6587, ROC AUC = 0.7619\n",
      "Skipping SMOTE for column 9 due to error: The 'k_neighbors' parameter of SMOTE must be an int in the range [1, inf) or an object implementing 'kneighbors' and 'kneighbors_graph'. Got -1 instead.\n"
     ]
    },
    {
     "name": "stderr",
     "output_type": "stream",
     "text": [
      "Training Columns: 100%|██████████| 10/10 [00:28<00:00,  2.83s/it]"
     ]
    },
    {
     "name": "stdout",
     "output_type": "stream",
     "text": [
      "Column 9: Accuracy = 0.8668, F1 Score = 0.5804, ROC AUC = 0.7514\n",
      "\n",
      "Training for: ST1 - GSL - Average ResNet50 - /kaggle/input/embeddings-for-rsna/st1-greyscl/final_embeddings.csv\n"
     ]
    },
    {
     "name": "stderr",
     "output_type": "stream",
     "text": [
      "\n",
      "Training Columns:   0%|          | 0/10 [00:00<?, ?it/s]"
     ]
    },
    {
     "name": "stdout",
     "output_type": "stream",
     "text": [
      "Skipping SMOTE for column 0 due to error: The 'k_neighbors' parameter of SMOTE must be an int in the range [1, inf) or an object implementing 'kneighbors' and 'kneighbors_graph'. Got -1 instead.\n"
     ]
    },
    {
     "name": "stderr",
     "output_type": "stream",
     "text": [
      "Training Columns:  10%|█         | 1/10 [00:00<00:06,  1.46it/s]"
     ]
    },
    {
     "name": "stdout",
     "output_type": "stream",
     "text": [
      "Column 0: Accuracy = 0.9861, F1 Score = 0.4965, ROC AUC = 0.4489\n",
      "Skipping SMOTE for column 1 due to error: The 'k_neighbors' parameter of SMOTE must be an int in the range [1, inf) or an object implementing 'kneighbors' and 'kneighbors_graph'. Got -1 instead.\n"
     ]
    },
    {
     "name": "stderr",
     "output_type": "stream",
     "text": [
      "Training Columns:  20%|██        | 2/10 [00:02<00:09,  1.14s/it]"
     ]
    },
    {
     "name": "stdout",
     "output_type": "stream",
     "text": [
      "Column 1: Accuracy = 0.9486, F1 Score = 0.4868, ROC AUC = 0.4254\n",
      "Skipping SMOTE for column 2 due to error: The 'k_neighbors' parameter of SMOTE must be an int in the range [1, inf) or an object implementing 'kneighbors' and 'kneighbors_graph'. Got -1 instead.\n"
     ]
    },
    {
     "name": "stderr",
     "output_type": "stream",
     "text": [
      "Training Columns:  30%|███       | 3/10 [00:04<00:12,  1.75s/it]"
     ]
    },
    {
     "name": "stdout",
     "output_type": "stream",
     "text": [
      "Column 2: Accuracy = 0.8557, F1 Score = 0.4837, ROC AUC = 0.6504\n",
      "Skipping SMOTE for column 3 due to error: The 'k_neighbors' parameter of SMOTE must be an int in the range [1, inf) or an object implementing 'kneighbors' and 'kneighbors_graph'. Got -1 instead.\n"
     ]
    },
    {
     "name": "stderr",
     "output_type": "stream",
     "text": [
      "Training Columns:  40%|████      | 4/10 [00:07<00:13,  2.33s/it]"
     ]
    },
    {
     "name": "stdout",
     "output_type": "stream",
     "text": [
      "Column 3: Accuracy = 0.6705, F1 Score = 0.6125, ROC AUC = 0.6478\n",
      "Skipping SMOTE for column 4 due to error: The 'k_neighbors' parameter of SMOTE must be an int in the range [1, inf) or an object implementing 'kneighbors' and 'kneighbors_graph'. Got -1 instead.\n"
     ]
    },
    {
     "name": "stderr",
     "output_type": "stream",
     "text": [
      "Training Columns:  50%|█████     | 5/10 [00:11<00:13,  2.71s/it]"
     ]
    },
    {
     "name": "stdout",
     "output_type": "stream",
     "text": [
      "Column 4: Accuracy = 0.9070, F1 Score = 0.4756, ROC AUC = 0.4830\n",
      "Skipping SMOTE for column 5 due to error: The 'k_neighbors' parameter of SMOTE must be an int in the range [1, inf) or an object implementing 'kneighbors' and 'kneighbors_graph'. Got -1 instead.\n"
     ]
    },
    {
     "name": "stderr",
     "output_type": "stream",
     "text": [
      "Training Columns:  60%|██████    | 6/10 [00:11<00:07,  1.97s/it]"
     ]
    },
    {
     "name": "stdout",
     "output_type": "stream",
     "text": [
      "Column 5: Accuracy = 0.9861, F1 Score = 0.4965, ROC AUC = 0.5176\n",
      "Skipping SMOTE for column 6 due to error: The 'k_neighbors' parameter of SMOTE must be an int in the range [1, inf) or an object implementing 'kneighbors' and 'kneighbors_graph'. Got -1 instead.\n"
     ]
    },
    {
     "name": "stderr",
     "output_type": "stream",
     "text": [
      "Training Columns:  70%|███████   | 7/10 [00:13<00:05,  1.85s/it]"
     ]
    },
    {
     "name": "stdout",
     "output_type": "stream",
     "text": [
      "Column 6: Accuracy = 0.9608, F1 Score = 0.4900, ROC AUC = 0.7369\n",
      "Skipping SMOTE for column 7 due to error: The 'k_neighbors' parameter of SMOTE must be an int in the range [1, inf) or an object implementing 'kneighbors' and 'kneighbors_graph'. Got -1 instead.\n"
     ]
    },
    {
     "name": "stderr",
     "output_type": "stream",
     "text": [
      "Training Columns:  80%|████████  | 8/10 [00:16<00:04,  2.17s/it]"
     ]
    },
    {
     "name": "stdout",
     "output_type": "stream",
     "text": [
      "Column 7: Accuracy = 0.8586, F1 Score = 0.4851, ROC AUC = 0.6363\n",
      "Skipping SMOTE for column 8 due to error: The 'k_neighbors' parameter of SMOTE must be an int in the range [1, inf) or an object implementing 'kneighbors' and 'kneighbors_graph'. Got -1 instead.\n"
     ]
    },
    {
     "name": "stderr",
     "output_type": "stream",
     "text": [
      "Training Columns:  90%|█████████ | 9/10 [00:19<00:02,  2.57s/it]"
     ]
    },
    {
     "name": "stdout",
     "output_type": "stream",
     "text": [
      "Column 8: Accuracy = 0.6628, F1 Score = 0.5717, ROC AUC = 0.6184\n",
      "Skipping SMOTE for column 9 due to error: The 'k_neighbors' parameter of SMOTE must be an int in the range [1, inf) or an object implementing 'kneighbors' and 'kneighbors_graph'. Got -1 instead.\n"
     ]
    },
    {
     "name": "stderr",
     "output_type": "stream",
     "text": [
      "Training Columns: 100%|██████████| 10/10 [00:23<00:00,  2.31s/it]"
     ]
    },
    {
     "name": "stdout",
     "output_type": "stream",
     "text": [
      "Column 9: Accuracy = 0.8907, F1 Score = 0.4711, ROC AUC = 0.5319\n",
      "\n",
      "Training for: ST1 - HIST - Average ResNet50 - /kaggle/input/embeddings-for-rsna/st1-hist/final_embeddings.csv\n"
     ]
    },
    {
     "name": "stderr",
     "output_type": "stream",
     "text": [
      "\n",
      "Training Columns:   0%|          | 0/10 [00:00<?, ?it/s]"
     ]
    },
    {
     "name": "stdout",
     "output_type": "stream",
     "text": [
      "Skipping SMOTE for column 0 due to error: The 'k_neighbors' parameter of SMOTE must be an int in the range [1, inf) or an object implementing 'kneighbors' and 'kneighbors_graph'. Got -1 instead.\n"
     ]
    },
    {
     "name": "stderr",
     "output_type": "stream",
     "text": [
      "Training Columns:  10%|█         | 1/10 [00:00<00:05,  1.57it/s]"
     ]
    },
    {
     "name": "stdout",
     "output_type": "stream",
     "text": [
      "Column 0: Accuracy = 0.9834, F1 Score = 0.4958, ROC AUC = 0.6534\n",
      "Skipping SMOTE for column 1 due to error: The 'k_neighbors' parameter of SMOTE must be an int in the range [1, inf) or an object implementing 'kneighbors' and 'kneighbors_graph'. Got -1 instead.\n"
     ]
    },
    {
     "name": "stderr",
     "output_type": "stream",
     "text": [
      "Training Columns:  20%|██        | 2/10 [00:02<00:10,  1.31s/it]"
     ]
    },
    {
     "name": "stdout",
     "output_type": "stream",
     "text": [
      "Column 1: Accuracy = 0.9335, F1 Score = 0.4828, ROC AUC = 0.5016\n",
      "Skipping SMOTE for column 2 due to error: The 'k_neighbors' parameter of SMOTE must be an int in the range [1, inf) or an object implementing 'kneighbors' and 'kneighbors_graph'. Got -1 instead.\n"
     ]
    },
    {
     "name": "stderr",
     "output_type": "stream",
     "text": [
      "Training Columns:  30%|███       | 3/10 [00:05<00:14,  2.07s/it]"
     ]
    },
    {
     "name": "stdout",
     "output_type": "stream",
     "text": [
      "Column 2: Accuracy = 0.8419, F1 Score = 0.4778, ROC AUC = 0.6141\n",
      "Skipping SMOTE for column 3 due to error: The 'k_neighbors' parameter of SMOTE must be an int in the range [1, inf) or an object implementing 'kneighbors' and 'kneighbors_graph'. Got -1 instead.\n"
     ]
    },
    {
     "name": "stderr",
     "output_type": "stream",
     "text": [
      "Training Columns:  40%|████      | 4/10 [00:09<00:16,  2.82s/it]"
     ]
    },
    {
     "name": "stdout",
     "output_type": "stream",
     "text": [
      "Column 3: Accuracy = 0.6973, F1 Score = 0.6260, ROC AUC = 0.6881\n",
      "Skipping SMOTE for column 4 due to error: The 'k_neighbors' parameter of SMOTE must be an int in the range [1, inf) or an object implementing 'kneighbors' and 'kneighbors_graph'. Got -1 instead.\n"
     ]
    },
    {
     "name": "stderr",
     "output_type": "stream",
     "text": [
      "Training Columns:  50%|█████     | 5/10 [00:12<00:14,  2.80s/it]"
     ]
    },
    {
     "name": "stdout",
     "output_type": "stream",
     "text": [
      "Column 4: Accuracy = 0.8937, F1 Score = 0.5012, ROC AUC = 0.4962\n",
      "Skipping SMOTE for column 5 due to error: The 'k_neighbors' parameter of SMOTE must be an int in the range [1, inf) or an object implementing 'kneighbors' and 'kneighbors_graph'. Got -1 instead.\n"
     ]
    },
    {
     "name": "stderr",
     "output_type": "stream",
     "text": [
      "Training Columns:  60%|██████    | 6/10 [00:12<00:08,  2.02s/it]"
     ]
    },
    {
     "name": "stdout",
     "output_type": "stream",
     "text": [
      "Column 5: Accuracy = 0.9861, F1 Score = 0.4965, ROC AUC = 0.4437\n",
      "Skipping SMOTE for column 6 due to error: The 'k_neighbors' parameter of SMOTE must be an int in the range [1, inf) or an object implementing 'kneighbors' and 'kneighbors_graph'. Got -1 instead.\n"
     ]
    },
    {
     "name": "stderr",
     "output_type": "stream",
     "text": [
      "Training Columns:  70%|███████   | 7/10 [00:14<00:06,  2.04s/it]"
     ]
    },
    {
     "name": "stdout",
     "output_type": "stream",
     "text": [
      "Column 6: Accuracy = 0.9548, F1 Score = 0.4884, ROC AUC = 0.2718\n",
      "Skipping SMOTE for column 7 due to error: The 'k_neighbors' parameter of SMOTE must be an int in the range [1, inf) or an object implementing 'kneighbors' and 'kneighbors_graph'. Got -1 instead.\n"
     ]
    },
    {
     "name": "stderr",
     "output_type": "stream",
     "text": [
      "Training Columns:  80%|████████  | 8/10 [00:18<00:05,  2.59s/it]"
     ]
    },
    {
     "name": "stdout",
     "output_type": "stream",
     "text": [
      "Column 7: Accuracy = 0.8517, F1 Score = 0.5207, ROC AUC = 0.6361\n",
      "Skipping SMOTE for column 8 due to error: The 'k_neighbors' parameter of SMOTE must be an int in the range [1, inf) or an object implementing 'kneighbors' and 'kneighbors_graph'. Got -1 instead.\n"
     ]
    },
    {
     "name": "stderr",
     "output_type": "stream",
     "text": [
      "Training Columns:  90%|█████████ | 9/10 [00:23<00:03,  3.34s/it]"
     ]
    },
    {
     "name": "stdout",
     "output_type": "stream",
     "text": [
      "Column 8: Accuracy = 0.6628, F1 Score = 0.6018, ROC AUC = 0.6266\n",
      "Skipping SMOTE for column 9 due to error: The 'k_neighbors' parameter of SMOTE must be an int in the range [1, inf) or an object implementing 'kneighbors' and 'kneighbors_graph'. Got -1 instead.\n"
     ]
    },
    {
     "name": "stderr",
     "output_type": "stream",
     "text": [
      "Training Columns: 100%|██████████| 10/10 [00:26<00:00,  2.68s/it]"
     ]
    },
    {
     "name": "stdout",
     "output_type": "stream",
     "text": [
      "Column 9: Accuracy = 0.8841, F1 Score = 0.5203, ROC AUC = 0.5146\n",
      "\n",
      "Training for: ST2 - GSL - Average ResNet50 - /kaggle/input/embeddings-for-rsna/st2-greyscl/final_embeddings.csv\n"
     ]
    },
    {
     "name": "stderr",
     "output_type": "stream",
     "text": [
      "\n",
      "Training Columns:   0%|          | 0/5 [00:00<?, ?it/s]"
     ]
    },
    {
     "name": "stdout",
     "output_type": "stream",
     "text": [
      "Skipping SMOTE for column 0 due to error: The 'k_neighbors' parameter of SMOTE must be an int in the range [1, inf) or an object implementing 'kneighbors' and 'kneighbors_graph'. Got -1 instead.\n"
     ]
    },
    {
     "name": "stderr",
     "output_type": "stream",
     "text": [
      "Training Columns:  20%|██        | 1/5 [00:00<00:01,  2.31it/s]"
     ]
    },
    {
     "name": "stdout",
     "output_type": "stream",
     "text": [
      "Column 0: Accuracy = 0.9862, F1 Score = 0.4965, ROC AUC = 0.8684\n",
      "Skipping SMOTE for column 1 due to error: The 'k_neighbors' parameter of SMOTE must be an int in the range [1, inf) or an object implementing 'kneighbors' and 'kneighbors_graph'. Got -1 instead.\n"
     ]
    },
    {
     "name": "stderr",
     "output_type": "stream",
     "text": [
      "Training Columns:  40%|████      | 2/5 [00:01<00:01,  1.56it/s]"
     ]
    },
    {
     "name": "stdout",
     "output_type": "stream",
     "text": [
      "Column 1: Accuracy = 0.9683, F1 Score = 0.4919, ROC AUC = 0.7175\n",
      "Skipping SMOTE for column 2 due to error: The 'k_neighbors' parameter of SMOTE must be an int in the range [1, inf) or an object implementing 'kneighbors' and 'kneighbors_graph'. Got -1 instead.\n"
     ]
    },
    {
     "name": "stderr",
     "output_type": "stream",
     "text": [
      "Training Columns:  60%|██████    | 3/5 [00:03<00:02,  1.35s/it]"
     ]
    },
    {
     "name": "stdout",
     "output_type": "stream",
     "text": [
      "Column 2: Accuracy = 0.9277, F1 Score = 0.4813, ROC AUC = 0.7172\n",
      "Skipping SMOTE for column 3 due to error: The 'k_neighbors' parameter of SMOTE must be an int in the range [1, inf) or an object implementing 'kneighbors' and 'kneighbors_graph'. Got -1 instead.\n"
     ]
    },
    {
     "name": "stderr",
     "output_type": "stream",
     "text": [
      "Training Columns:  80%|████████  | 4/5 [00:07<00:02,  2.36s/it]"
     ]
    },
    {
     "name": "stdout",
     "output_type": "stream",
     "text": [
      "Column 3: Accuracy = 0.8550, F1 Score = 0.4609, ROC AUC = 0.6725\n",
      "Skipping SMOTE for column 4 due to error: The 'k_neighbors' parameter of SMOTE must be an int in the range [1, inf) or an object implementing 'kneighbors' and 'kneighbors_graph'. Got -1 instead.\n"
     ]
    },
    {
     "name": "stderr",
     "output_type": "stream",
     "text": [
      "Training Columns: 100%|██████████| 5/5 [00:07<00:00,  1.57s/it]"
     ]
    },
    {
     "name": "stdout",
     "output_type": "stream",
     "text": [
      "Column 4: Accuracy = 0.9891, F1 Score = 0.4973, ROC AUC = 0.3011\n",
      "\n",
      "Training for: ST2 - HIST - Average ResNet50 - /kaggle/input/embeddings-for-rsna/st2-hist/final_embeddings.csv\n"
     ]
    },
    {
     "name": "stderr",
     "output_type": "stream",
     "text": [
      "\n",
      "Training Columns:   0%|          | 0/5 [00:00<?, ?it/s]"
     ]
    },
    {
     "name": "stdout",
     "output_type": "stream",
     "text": [
      "Skipping SMOTE for column 0 due to error: The 'k_neighbors' parameter of SMOTE must be an int in the range [1, inf) or an object implementing 'kneighbors' and 'kneighbors_graph'. Got -1 instead.\n"
     ]
    },
    {
     "name": "stderr",
     "output_type": "stream",
     "text": [
      "Training Columns:  20%|██        | 1/5 [00:00<00:01,  2.19it/s]"
     ]
    },
    {
     "name": "stdout",
     "output_type": "stream",
     "text": [
      "Column 0: Accuracy = 0.9752, F1 Score = 0.4937, ROC AUC = 0.8795\n",
      "Skipping SMOTE for column 1 due to error: The 'k_neighbors' parameter of SMOTE must be an int in the range [1, inf) or an object implementing 'kneighbors' and 'kneighbors_graph'. Got -1 instead.\n"
     ]
    },
    {
     "name": "stderr",
     "output_type": "stream",
     "text": [
      "Training Columns:  40%|████      | 2/5 [00:01<00:02,  1.28it/s]"
     ]
    },
    {
     "name": "stdout",
     "output_type": "stream",
     "text": [
      "Column 1: Accuracy = 0.9654, F1 Score = 0.4912, ROC AUC = 0.6142\n",
      "Skipping SMOTE for column 2 due to error: The 'k_neighbors' parameter of SMOTE must be an int in the range [1, inf) or an object implementing 'kneighbors' and 'kneighbors_graph'. Got -1 instead.\n"
     ]
    },
    {
     "name": "stderr",
     "output_type": "stream",
     "text": [
      "Training Columns:  60%|██████    | 3/5 [00:04<00:03,  1.87s/it]"
     ]
    },
    {
     "name": "stdout",
     "output_type": "stream",
     "text": [
      "Column 2: Accuracy = 0.9247, F1 Score = 0.4804, ROC AUC = 0.6219\n",
      "Skipping SMOTE for column 3 due to error: The 'k_neighbors' parameter of SMOTE must be an int in the range [1, inf) or an object implementing 'kneighbors' and 'kneighbors_graph'. Got -1 instead.\n"
     ]
    },
    {
     "name": "stderr",
     "output_type": "stream",
     "text": [
      "Training Columns:  80%|████████  | 4/5 [00:09<00:02,  2.99s/it]"
     ]
    },
    {
     "name": "stdout",
     "output_type": "stream",
     "text": [
      "Column 3: Accuracy = 0.8520, F1 Score = 0.5702, ROC AUC = 0.6818\n",
      "Skipping SMOTE for column 4 due to error: The 'k_neighbors' parameter of SMOTE must be an int in the range [1, inf) or an object implementing 'kneighbors' and 'kneighbors_graph'. Got -1 instead.\n"
     ]
    },
    {
     "name": "stderr",
     "output_type": "stream",
     "text": [
      "Training Columns: 100%|██████████| 5/5 [00:09<00:00,  1.96s/it]"
     ]
    },
    {
     "name": "stdout",
     "output_type": "stream",
     "text": [
      "Column 4: Accuracy = 0.9891, F1 Score = 0.4973, ROC AUC = 0.3232\n",
      "\n",
      "Training for: AT2 - GSL - MedicalNet Network - /kaggle/input/medicalnet-attention-layers-for-rsna/AT2_attention_embeddings_gsl.csv\n"
     ]
    },
    {
     "name": "stderr",
     "output_type": "stream",
     "text": [
      "\n",
      "Training Columns:   0%|          | 0/10 [00:00<?, ?it/s]"
     ]
    },
    {
     "name": "stdout",
     "output_type": "stream",
     "text": [
      "Skipping SMOTE for column 0 due to error: The 'k_neighbors' parameter of SMOTE must be an int in the range [1, inf) or an object implementing 'kneighbors' and 'kneighbors_graph'. Got -1 instead.\n"
     ]
    },
    {
     "name": "stderr",
     "output_type": "stream",
     "text": [
      "Training Columns:  10%|█         | 1/10 [00:00<00:02,  3.83it/s]"
     ]
    },
    {
     "name": "stdout",
     "output_type": "stream",
     "text": [
      "Column 0: Accuracy = 1.0000, F1 Score = 1.0000, ROC AUC = nan\n",
      "Skipping SMOTE for column 1 due to error: The 'k_neighbors' parameter of SMOTE must be an int in the range [1, inf) or an object implementing 'kneighbors' and 'kneighbors_graph'. Got -1 instead.\n"
     ]
    },
    {
     "name": "stderr",
     "output_type": "stream",
     "text": [
      "Training Columns:  20%|██        | 2/10 [00:01<00:04,  1.73it/s]"
     ]
    },
    {
     "name": "stdout",
     "output_type": "stream",
     "text": [
      "Column 1: Accuracy = 0.9963, F1 Score = 0.8324, ROC AUC = 0.7205\n",
      "Skipping SMOTE for column 2 due to error: The 'k_neighbors' parameter of SMOTE must be an int in the range [1, inf) or an object implementing 'kneighbors' and 'kneighbors_graph'. Got -1 instead.\n"
     ]
    },
    {
     "name": "stderr",
     "output_type": "stream",
     "text": [
      "Training Columns:  30%|███       | 3/10 [00:04<00:13,  1.86s/it]"
     ]
    },
    {
     "name": "stdout",
     "output_type": "stream",
     "text": [
      "Column 2: Accuracy = 0.9703, F1 Score = 0.4925, ROC AUC = 0.7073\n",
      "Skipping SMOTE for column 3 due to error: The 'k_neighbors' parameter of SMOTE must be an int in the range [1, inf) or an object implementing 'kneighbors' and 'kneighbors_graph'. Got -1 instead.\n"
     ]
    },
    {
     "name": "stderr",
     "output_type": "stream",
     "text": [
      "Training Columns:  40%|████      | 4/10 [00:15<00:33,  5.57s/it]"
     ]
    },
    {
     "name": "stdout",
     "output_type": "stream",
     "text": [
      "Column 3: Accuracy = 0.8978, F1 Score = 0.4731, ROC AUC = 0.5511\n",
      "Skipping SMOTE for column 4 due to error: The 'k_neighbors' parameter of SMOTE must be an int in the range [1, inf) or an object implementing 'kneighbors' and 'kneighbors_graph'. Got -1 instead.\n"
     ]
    },
    {
     "name": "stderr",
     "output_type": "stream",
     "text": [
      "Training Columns:  50%|█████     | 5/10 [00:29<00:42,  8.49s/it]"
     ]
    },
    {
     "name": "stdout",
     "output_type": "stream",
     "text": [
      "Column 4: Accuracy = 0.8661, F1 Score = 0.4807, ROC AUC = 0.6698\n",
      "Skipping SMOTE for column 5 due to error: The 'k_neighbors' parameter of SMOTE must be an int in the range [1, inf) or an object implementing 'kneighbors' and 'kneighbors_graph'. Got -1 instead.\n"
     ]
    },
    {
     "name": "stderr",
     "output_type": "stream",
     "text": [
      "Training Columns:  60%|██████    | 6/10 [00:30<00:24,  6.15s/it]"
     ]
    },
    {
     "name": "stdout",
     "output_type": "stream",
     "text": [
      "Column 5: Accuracy = 0.9931, F1 Score = 0.4983, ROC AUC = 0.7596\n",
      "Skipping SMOTE for column 6 due to error: The 'k_neighbors' parameter of SMOTE must be an int in the range [1, inf) or an object implementing 'kneighbors' and 'kneighbors_graph'. Got -1 instead.\n"
     ]
    },
    {
     "name": "stderr",
     "output_type": "stream",
     "text": [
      "Training Columns:  70%|███████   | 7/10 [00:31<00:12,  4.32s/it]"
     ]
    },
    {
     "name": "stdout",
     "output_type": "stream",
     "text": [
      "Column 6: Accuracy = 0.9963, F1 Score = 0.4991, ROC AUC = 0.6141\n",
      "Skipping SMOTE for column 7 due to error: The 'k_neighbors' parameter of SMOTE must be an int in the range [1, inf) or an object implementing 'kneighbors' and 'kneighbors_graph'. Got -1 instead.\n"
     ]
    },
    {
     "name": "stderr",
     "output_type": "stream",
     "text": [
      "Training Columns:  80%|████████  | 8/10 [00:34<00:07,  3.75s/it]"
     ]
    },
    {
     "name": "stdout",
     "output_type": "stream",
     "text": [
      "Column 7: Accuracy = 0.9744, F1 Score = 0.6185, ROC AUC = 0.6130\n",
      "Skipping SMOTE for column 8 due to error: The 'k_neighbors' parameter of SMOTE must be an int in the range [1, inf) or an object implementing 'kneighbors' and 'kneighbors_graph'. Got -1 instead.\n"
     ]
    },
    {
     "name": "stderr",
     "output_type": "stream",
     "text": [
      "Training Columns:  90%|█████████ | 9/10 [00:43<00:05,  5.57s/it]"
     ]
    },
    {
     "name": "stdout",
     "output_type": "stream",
     "text": [
      "Column 8: Accuracy = 0.8990, F1 Score = 0.5177, ROC AUC = 0.7229\n",
      "Skipping SMOTE for column 9 due to error: The 'k_neighbors' parameter of SMOTE must be an int in the range [1, inf) or an object implementing 'kneighbors' and 'kneighbors_graph'. Got -1 instead.\n"
     ]
    },
    {
     "name": "stderr",
     "output_type": "stream",
     "text": [
      "Training Columns: 100%|██████████| 10/10 [01:01<00:00,  6.19s/it]"
     ]
    },
    {
     "name": "stdout",
     "output_type": "stream",
     "text": [
      "Column 9: Accuracy = 0.8646, F1 Score = 0.4637, ROC AUC = 0.6336\n",
      "\n",
      "Training for: AT2 - HIST - MedicalNet Network - /kaggle/input/medicalnet-attention-layers-for-rsna/AT2_attention_embeddings_hist.csv\n"
     ]
    },
    {
     "name": "stderr",
     "output_type": "stream",
     "text": [
      "\n",
      "Training Columns:   0%|          | 0/10 [00:00<?, ?it/s]"
     ]
    },
    {
     "name": "stdout",
     "output_type": "stream",
     "text": [
      "Skipping SMOTE for column 0 due to error: The 'k_neighbors' parameter of SMOTE must be an int in the range [1, inf) or an object implementing 'kneighbors' and 'kneighbors_graph'. Got -1 instead.\n"
     ]
    },
    {
     "name": "stderr",
     "output_type": "stream",
     "text": [
      "Training Columns:  10%|█         | 1/10 [00:00<00:02,  3.59it/s]"
     ]
    },
    {
     "name": "stdout",
     "output_type": "stream",
     "text": [
      "Column 0: Accuracy = 1.0000, F1 Score = 1.0000, ROC AUC = nan\n",
      "Skipping SMOTE for column 1 due to error: The 'k_neighbors' parameter of SMOTE must be an int in the range [1, inf) or an object implementing 'kneighbors' and 'kneighbors_graph'. Got -1 instead.\n"
     ]
    },
    {
     "name": "stderr",
     "output_type": "stream",
     "text": [
      "Training Columns:  20%|██        | 2/10 [00:01<00:04,  1.62it/s]"
     ]
    },
    {
     "name": "stdout",
     "output_type": "stream",
     "text": [
      "Column 1: Accuracy = 0.9945, F1 Score = 0.7843, ROC AUC = 0.9474\n",
      "Skipping SMOTE for column 2 due to error: The 'k_neighbors' parameter of SMOTE must be an int in the range [1, inf) or an object implementing 'kneighbors' and 'kneighbors_graph'. Got -1 instead.\n"
     ]
    },
    {
     "name": "stderr",
     "output_type": "stream",
     "text": [
      "Training Columns:  30%|███       | 3/10 [00:03<00:11,  1.62s/it]"
     ]
    },
    {
     "name": "stdout",
     "output_type": "stream",
     "text": [
      "Column 2: Accuracy = 0.9703, F1 Score = 0.4925, ROC AUC = 0.5784\n",
      "Skipping SMOTE for column 3 due to error: The 'k_neighbors' parameter of SMOTE must be an int in the range [1, inf) or an object implementing 'kneighbors' and 'kneighbors_graph'. Got -1 instead.\n"
     ]
    },
    {
     "name": "stderr",
     "output_type": "stream",
     "text": [
      "Training Columns:  40%|████      | 4/10 [00:15<00:32,  5.35s/it]"
     ]
    },
    {
     "name": "stdout",
     "output_type": "stream",
     "text": [
      "Column 3: Accuracy = 0.8978, F1 Score = 0.4731, ROC AUC = 0.6284\n",
      "Skipping SMOTE for column 4 due to error: The 'k_neighbors' parameter of SMOTE must be an int in the range [1, inf) or an object implementing 'kneighbors' and 'kneighbors_graph'. Got -1 instead.\n"
     ]
    },
    {
     "name": "stderr",
     "output_type": "stream",
     "text": [
      "Training Columns:  50%|█████     | 5/10 [00:29<00:42,  8.55s/it]"
     ]
    },
    {
     "name": "stdout",
     "output_type": "stream",
     "text": [
      "Column 4: Accuracy = 0.8684, F1 Score = 0.4974, ROC AUC = 0.6243\n",
      "Skipping SMOTE for column 5 due to error: The 'k_neighbors' parameter of SMOTE must be an int in the range [1, inf) or an object implementing 'kneighbors' and 'kneighbors_graph'. Got -1 instead.\n"
     ]
    },
    {
     "name": "stderr",
     "output_type": "stream",
     "text": [
      "Training Columns:  60%|██████    | 6/10 [00:30<00:24,  6.12s/it]"
     ]
    },
    {
     "name": "stdout",
     "output_type": "stream",
     "text": [
      "Column 5: Accuracy = 0.9965, F1 Score = 0.8325, ROC AUC = 0.7535\n",
      "Skipping SMOTE for column 6 due to error: The 'k_neighbors' parameter of SMOTE must be an int in the range [1, inf) or an object implementing 'kneighbors' and 'kneighbors_graph'. Got -1 instead.\n"
     ]
    },
    {
     "name": "stderr",
     "output_type": "stream",
     "text": [
      "Training Columns:  70%|███████   | 7/10 [00:31<00:12,  4.33s/it]"
     ]
    },
    {
     "name": "stdout",
     "output_type": "stream",
     "text": [
      "Column 6: Accuracy = 0.9963, F1 Score = 0.4991, ROC AUC = 0.9861\n",
      "Skipping SMOTE for column 7 due to error: The 'k_neighbors' parameter of SMOTE must be an int in the range [1, inf) or an object implementing 'kneighbors' and 'kneighbors_graph'. Got -1 instead.\n"
     ]
    },
    {
     "name": "stderr",
     "output_type": "stream",
     "text": [
      "Training Columns:  80%|████████  | 8/10 [00:34<00:07,  3.93s/it]"
     ]
    },
    {
     "name": "stdout",
     "output_type": "stream",
     "text": [
      "Column 7: Accuracy = 0.9744, F1 Score = 0.6185, ROC AUC = 0.7257\n",
      "Skipping SMOTE for column 8 due to error: The 'k_neighbors' parameter of SMOTE must be an int in the range [1, inf) or an object implementing 'kneighbors' and 'kneighbors_graph'. Got -1 instead.\n"
     ]
    },
    {
     "name": "stderr",
     "output_type": "stream",
     "text": [
      "Training Columns:  90%|█████████ | 9/10 [00:45<00:06,  6.14s/it]"
     ]
    },
    {
     "name": "stdout",
     "output_type": "stream",
     "text": [
      "Column 8: Accuracy = 0.9039, F1 Score = 0.5212, ROC AUC = 0.6700\n",
      "Skipping SMOTE for column 9 due to error: The 'k_neighbors' parameter of SMOTE must be an int in the range [1, inf) or an object implementing 'kneighbors' and 'kneighbors_graph'. Got -1 instead.\n"
     ]
    },
    {
     "name": "stderr",
     "output_type": "stream",
     "text": [
      "Training Columns: 100%|██████████| 10/10 [01:03<00:00,  6.32s/it]"
     ]
    },
    {
     "name": "stdout",
     "output_type": "stream",
     "text": [
      "Column 9: Accuracy = 0.8646, F1 Score = 0.4637, ROC AUC = 0.5826\n",
      "\n",
      "Training for: ST1 - GSL - MedicalNet Network - /kaggle/input/medicalnet-attention-layers-for-rsna/ST1_attention_embeddings_gsl.csv\n"
     ]
    },
    {
     "name": "stderr",
     "output_type": "stream",
     "text": [
      "\n",
      "Training Columns:   0%|          | 0/10 [00:00<?, ?it/s]"
     ]
    },
    {
     "name": "stdout",
     "output_type": "stream",
     "text": [
      "Skipping SMOTE for column 0 due to error: The 'k_neighbors' parameter of SMOTE must be an int in the range [1, inf) or an object implementing 'kneighbors' and 'kneighbors_graph'. Got -1 instead.\n"
     ]
    },
    {
     "name": "stderr",
     "output_type": "stream",
     "text": [
      "Training Columns:  10%|█         | 1/10 [00:00<00:06,  1.37it/s]"
     ]
    },
    {
     "name": "stdout",
     "output_type": "stream",
     "text": [
      "Column 0: Accuracy = 0.9668, F1 Score = 0.4915, ROC AUC = 0.5185\n",
      "Skipping SMOTE for column 1 due to error: The 'k_neighbors' parameter of SMOTE must be an int in the range [1, inf) or an object implementing 'kneighbors' and 'kneighbors_graph'. Got -1 instead.\n"
     ]
    },
    {
     "name": "stderr",
     "output_type": "stream",
     "text": [
      "Training Columns:  20%|██        | 2/10 [00:02<00:12,  1.52s/it]"
     ]
    },
    {
     "name": "stdout",
     "output_type": "stream",
     "text": [
      "Column 1: Accuracy = 0.8731, F1 Score = 0.5094, ROC AUC = 0.5534\n",
      "Skipping SMOTE for column 2 due to error: The 'k_neighbors' parameter of SMOTE must be an int in the range [1, inf) or an object implementing 'kneighbors' and 'kneighbors_graph'. Got -1 instead.\n"
     ]
    },
    {
     "name": "stderr",
     "output_type": "stream",
     "text": [
      "Training Columns:  30%|███       | 3/10 [00:09<00:26,  3.83s/it]"
     ]
    },
    {
     "name": "stdout",
     "output_type": "stream",
     "text": [
      "Column 2: Accuracy = 0.7663, F1 Score = 0.4479, ROC AUC = 0.4471\n",
      "Skipping SMOTE for column 3 due to error: The 'k_neighbors' parameter of SMOTE must be an int in the range [1, inf) or an object implementing 'kneighbors' and 'kneighbors_graph'. Got -1 instead.\n"
     ]
    },
    {
     "name": "stderr",
     "output_type": "stream",
     "text": [
      "Training Columns:  40%|████      | 4/10 [00:24<00:49,  8.17s/it]"
     ]
    },
    {
     "name": "stdout",
     "output_type": "stream",
     "text": [
      "Column 3: Accuracy = 0.5939, F1 Score = 0.5190, ROC AUC = 0.5413\n",
      "Skipping SMOTE for column 4 due to error: The 'k_neighbors' parameter of SMOTE must be an int in the range [1, inf) or an object implementing 'kneighbors' and 'kneighbors_graph'. Got -1 instead.\n"
     ]
    },
    {
     "name": "stderr",
     "output_type": "stream",
     "text": [
      "Training Columns:  50%|█████     | 5/10 [00:29<00:35,  7.02s/it]"
     ]
    },
    {
     "name": "stdout",
     "output_type": "stream",
     "text": [
      "Column 4: Accuracy = 0.8372, F1 Score = 0.5098, ROC AUC = 0.5071\n",
      "Skipping SMOTE for column 5 due to error: The 'k_neighbors' parameter of SMOTE must be an int in the range [1, inf) or an object implementing 'kneighbors' and 'kneighbors_graph'. Got -1 instead.\n"
     ]
    },
    {
     "name": "stderr",
     "output_type": "stream",
     "text": [
      "Training Columns:  60%|██████    | 6/10 [00:29<00:19,  4.80s/it]"
     ]
    },
    {
     "name": "stdout",
     "output_type": "stream",
     "text": [
      "Column 5: Accuracy = 0.9805, F1 Score = 0.4951, ROC AUC = 0.5782\n",
      "Skipping SMOTE for column 6 due to error: The 'k_neighbors' parameter of SMOTE must be an int in the range [1, inf) or an object implementing 'kneighbors' and 'kneighbors_graph'. Got -1 instead.\n"
     ]
    },
    {
     "name": "stderr",
     "output_type": "stream",
     "text": [
      "Training Columns:  70%|███████   | 7/10 [00:31<00:11,  3.72s/it]"
     ]
    },
    {
     "name": "stdout",
     "output_type": "stream",
     "text": [
      "Column 6: Accuracy = 0.8886, F1 Score = 0.5191, ROC AUC = 0.5836\n",
      "Skipping SMOTE for column 7 due to error: The 'k_neighbors' parameter of SMOTE must be an int in the range [1, inf) or an object implementing 'kneighbors' and 'kneighbors_graph'. Got -1 instead.\n"
     ]
    },
    {
     "name": "stderr",
     "output_type": "stream",
     "text": [
      "Training Columns:  80%|████████  | 8/10 [00:37<00:09,  4.55s/it]"
     ]
    },
    {
     "name": "stdout",
     "output_type": "stream",
     "text": [
      "Column 7: Accuracy = 0.7724, F1 Score = 0.5112, ROC AUC = 0.5429\n",
      "Skipping SMOTE for column 8 due to error: The 'k_neighbors' parameter of SMOTE must be an int in the range [1, inf) or an object implementing 'kneighbors' and 'kneighbors_graph'. Got -1 instead.\n"
     ]
    },
    {
     "name": "stderr",
     "output_type": "stream",
     "text": [
      "Training Columns:  90%|█████████ | 9/10 [00:53<00:07,  7.98s/it]"
     ]
    },
    {
     "name": "stdout",
     "output_type": "stream",
     "text": [
      "Column 8: Accuracy = 0.5698, F1 Score = 0.4919, ROC AUC = 0.4920\n",
      "Skipping SMOTE for column 9 due to error: The 'k_neighbors' parameter of SMOTE must be an int in the range [1, inf) or an object implementing 'kneighbors' and 'kneighbors_graph'. Got -1 instead.\n"
     ]
    },
    {
     "name": "stderr",
     "output_type": "stream",
     "text": [
      "Training Columns: 100%|██████████| 10/10 [00:59<00:00,  5.93s/it]"
     ]
    },
    {
     "name": "stdout",
     "output_type": "stream",
     "text": [
      "Column 9: Accuracy = 0.8576, F1 Score = 0.5553, ROC AUC = 0.4424\n",
      "\n",
      "Training for: ST1 - HIST - MedicalNet Network - /kaggle/input/medicalnet-attention-layers-for-rsna/ST1_attention_embeddings_hist.csv\n"
     ]
    },
    {
     "name": "stderr",
     "output_type": "stream",
     "text": [
      "\n",
      "Training Columns:   0%|          | 0/10 [00:00<?, ?it/s]"
     ]
    },
    {
     "name": "stdout",
     "output_type": "stream",
     "text": [
      "Skipping SMOTE for column 0 due to error: The 'k_neighbors' parameter of SMOTE must be an int in the range [1, inf) or an object implementing 'kneighbors' and 'kneighbors_graph'. Got -1 instead.\n"
     ]
    },
    {
     "name": "stderr",
     "output_type": "stream",
     "text": [
      "Training Columns:  10%|█         | 1/10 [00:00<00:05,  1.57it/s]"
     ]
    },
    {
     "name": "stdout",
     "output_type": "stream",
     "text": [
      "Column 0: Accuracy = 0.9751, F1 Score = 0.4937, ROC AUC = 0.5360\n",
      "Skipping SMOTE for column 1 due to error: The 'k_neighbors' parameter of SMOTE must be an int in the range [1, inf) or an object implementing 'kneighbors' and 'kneighbors_graph'. Got -1 instead.\n"
     ]
    },
    {
     "name": "stderr",
     "output_type": "stream",
     "text": [
      "Training Columns:  20%|██        | 2/10 [00:02<00:12,  1.54s/it]"
     ]
    },
    {
     "name": "stdout",
     "output_type": "stream",
     "text": [
      "Column 1: Accuracy = 0.8912, F1 Score = 0.4712, ROC AUC = 0.4377\n",
      "Skipping SMOTE for column 2 due to error: The 'k_neighbors' parameter of SMOTE must be an int in the range [1, inf) or an object implementing 'kneighbors' and 'kneighbors_graph'. Got -1 instead.\n"
     ]
    },
    {
     "name": "stderr",
     "output_type": "stream",
     "text": [
      "Training Columns:  30%|███       | 3/10 [00:09<00:26,  3.72s/it]"
     ]
    },
    {
     "name": "stdout",
     "output_type": "stream",
     "text": [
      "Column 2: Accuracy = 0.8007, F1 Score = 0.5171, ROC AUC = 0.5254\n",
      "Skipping SMOTE for column 3 due to error: The 'k_neighbors' parameter of SMOTE must be an int in the range [1, inf) or an object implementing 'kneighbors' and 'kneighbors_graph'. Got -1 instead.\n"
     ]
    },
    {
     "name": "stderr",
     "output_type": "stream",
     "text": [
      "Training Columns:  40%|████      | 4/10 [00:23<00:47,  7.90s/it]"
     ]
    },
    {
     "name": "stdout",
     "output_type": "stream",
     "text": [
      "Column 3: Accuracy = 0.6130, F1 Score = 0.5495, ROC AUC = 0.5251\n",
      "Skipping SMOTE for column 4 due to error: The 'k_neighbors' parameter of SMOTE must be an int in the range [1, inf) or an object implementing 'kneighbors' and 'kneighbors_graph'. Got -1 instead.\n"
     ]
    },
    {
     "name": "stderr",
     "output_type": "stream",
     "text": [
      "Training Columns:  50%|█████     | 5/10 [00:27<00:33,  6.68s/it]"
     ]
    },
    {
     "name": "stdout",
     "output_type": "stream",
     "text": [
      "Column 4: Accuracy = 0.8605, F1 Score = 0.5246, ROC AUC = 0.5158\n",
      "Skipping SMOTE for column 5 due to error: The 'k_neighbors' parameter of SMOTE must be an int in the range [1, inf) or an object implementing 'kneighbors' and 'kneighbors_graph'. Got -1 instead.\n"
     ]
    },
    {
     "name": "stderr",
     "output_type": "stream",
     "text": [
      "Training Columns:  60%|██████    | 6/10 [00:28<00:18,  4.58s/it]"
     ]
    },
    {
     "name": "stdout",
     "output_type": "stream",
     "text": [
      "Column 5: Accuracy = 0.9749, F1 Score = 0.4937, ROC AUC = 0.4908\n",
      "Skipping SMOTE for column 6 due to error: The 'k_neighbors' parameter of SMOTE must be an int in the range [1, inf) or an object implementing 'kneighbors' and 'kneighbors_graph'. Got -1 instead.\n"
     ]
    },
    {
     "name": "stderr",
     "output_type": "stream",
     "text": [
      "Training Columns:  70%|███████   | 7/10 [00:30<00:11,  3.70s/it]"
     ]
    },
    {
     "name": "stdout",
     "output_type": "stream",
     "text": [
      "Column 6: Accuracy = 0.9036, F1 Score = 0.5040, ROC AUC = 0.5703\n",
      "Skipping SMOTE for column 7 due to error: The 'k_neighbors' parameter of SMOTE must be an int in the range [1, inf) or an object implementing 'kneighbors' and 'kneighbors_graph'. Got -1 instead.\n"
     ]
    },
    {
     "name": "stderr",
     "output_type": "stream",
     "text": [
      "Training Columns:  80%|████████  | 8/10 [00:36<00:08,  4.43s/it]"
     ]
    },
    {
     "name": "stdout",
     "output_type": "stream",
     "text": [
      "Column 7: Accuracy = 0.8103, F1 Score = 0.5690, ROC AUC = 0.6118\n",
      "Skipping SMOTE for column 8 due to error: The 'k_neighbors' parameter of SMOTE must be an int in the range [1, inf) or an object implementing 'kneighbors' and 'kneighbors_graph'. Got -1 instead.\n"
     ]
    },
    {
     "name": "stderr",
     "output_type": "stream",
     "text": [
      "Training Columns:  90%|█████████ | 9/10 [00:50<00:07,  7.46s/it]"
     ]
    },
    {
     "name": "stdout",
     "output_type": "stream",
     "text": [
      "Column 8: Accuracy = 0.5620, F1 Score = 0.5303, ROC AUC = 0.5614\n",
      "Skipping SMOTE for column 9 due to error: The 'k_neighbors' parameter of SMOTE must be an int in the range [1, inf) or an object implementing 'kneighbors' and 'kneighbors_graph'. Got -1 instead.\n"
     ]
    },
    {
     "name": "stderr",
     "output_type": "stream",
     "text": [
      "Training Columns: 100%|██████████| 10/10 [00:55<00:00,  5.58s/it]"
     ]
    },
    {
     "name": "stdout",
     "output_type": "stream",
     "text": [
      "Column 9: Accuracy = 0.8146, F1 Score = 0.5237, ROC AUC = 0.4652\n",
      "\n",
      "Training for: ST2 - GSL - MedicalNet Network - /kaggle/input/medicalnet-attention-layers-for-rsna/ST2_attention_embeddings_gsl.csv\n"
     ]
    },
    {
     "name": "stderr",
     "output_type": "stream",
     "text": [
      "\n",
      "Training Columns:   0%|          | 0/5 [00:00<?, ?it/s]"
     ]
    },
    {
     "name": "stdout",
     "output_type": "stream",
     "text": [
      "Skipping SMOTE for column 0 due to error: The 'k_neighbors' parameter of SMOTE must be an int in the range [1, inf) or an object implementing 'kneighbors' and 'kneighbors_graph'. Got -1 instead.\n"
     ]
    },
    {
     "name": "stderr",
     "output_type": "stream",
     "text": [
      "Training Columns:  20%|██        | 1/5 [00:00<00:01,  2.37it/s]"
     ]
    },
    {
     "name": "stdout",
     "output_type": "stream",
     "text": [
      "Column 0: Accuracy = 0.9890, F1 Score = 0.4972, ROC AUC = 0.5139\n",
      "Skipping SMOTE for column 1 due to error: The 'k_neighbors' parameter of SMOTE must be an int in the range [1, inf) or an object implementing 'kneighbors' and 'kneighbors_graph'. Got -1 instead.\n"
     ]
    },
    {
     "name": "stderr",
     "output_type": "stream",
     "text": [
      "Training Columns:  40%|████      | 2/5 [00:01<00:02,  1.39it/s]"
     ]
    },
    {
     "name": "stdout",
     "output_type": "stream",
     "text": [
      "Column 1: Accuracy = 0.9193, F1 Score = 0.5122, ROC AUC = 0.5555\n",
      "Skipping SMOTE for column 2 due to error: The 'k_neighbors' parameter of SMOTE must be an int in the range [1, inf) or an object implementing 'kneighbors' and 'kneighbors_graph'. Got -1 instead.\n"
     ]
    },
    {
     "name": "stderr",
     "output_type": "stream",
     "text": [
      "Training Columns:  60%|██████    | 3/5 [00:04<00:03,  1.90s/it]"
     ]
    },
    {
     "name": "stdout",
     "output_type": "stream",
     "text": [
      "Column 2: Accuracy = 0.8735, F1 Score = 0.5095, ROC AUC = 0.4411\n",
      "Skipping SMOTE for column 3 due to error: The 'k_neighbors' parameter of SMOTE must be an int in the range [1, inf) or an object implementing 'kneighbors' and 'kneighbors_graph'. Got -1 instead.\n"
     ]
    },
    {
     "name": "stderr",
     "output_type": "stream",
     "text": [
      "Training Columns:  80%|████████  | 4/5 [00:15<00:05,  5.43s/it]"
     ]
    },
    {
     "name": "stdout",
     "output_type": "stream",
     "text": [
      "Column 3: Accuracy = 0.7341, F1 Score = 0.4981, ROC AUC = 0.5418\n",
      "Skipping SMOTE for column 4 due to error: The 'k_neighbors' parameter of SMOTE must be an int in the range [1, inf) or an object implementing 'kneighbors' and 'kneighbors_graph'. Got -1 instead.\n"
     ]
    },
    {
     "name": "stderr",
     "output_type": "stream",
     "text": [
      "Training Columns: 100%|██████████| 5/5 [00:15<00:00,  3.19s/it]"
     ]
    },
    {
     "name": "stdout",
     "output_type": "stream",
     "text": [
      "Column 4: Accuracy = 0.9809, F1 Score = 0.4952, ROC AUC = 0.3239\n",
      "\n",
      "Training for: ST2 - HIST - MedicalNet Network - /kaggle/input/medicalnet-attention-layers-for-rsna/ST2_attention_embeddings_hist.csv\n"
     ]
    },
    {
     "name": "stderr",
     "output_type": "stream",
     "text": [
      "\n",
      "Training Columns:   0%|          | 0/5 [00:00<?, ?it/s]"
     ]
    },
    {
     "name": "stdout",
     "output_type": "stream",
     "text": [
      "Skipping SMOTE for column 0 due to error: The 'k_neighbors' parameter of SMOTE must be an int in the range [1, inf) or an object implementing 'kneighbors' and 'kneighbors_graph'. Got -1 instead.\n"
     ]
    },
    {
     "name": "stderr",
     "output_type": "stream",
     "text": [
      "Training Columns:  20%|██        | 1/5 [00:00<00:01,  2.21it/s]"
     ]
    },
    {
     "name": "stdout",
     "output_type": "stream",
     "text": [
      "Column 0: Accuracy = 0.9807, F1 Score = 0.4951, ROC AUC = 0.5125\n",
      "Skipping SMOTE for column 1 due to error: The 'k_neighbors' parameter of SMOTE must be an int in the range [1, inf) or an object implementing 'kneighbors' and 'kneighbors_graph'. Got -1 instead.\n"
     ]
    },
    {
     "name": "stderr",
     "output_type": "stream",
     "text": [
      "Training Columns:  40%|████      | 2/5 [00:01<00:02,  1.39it/s]"
     ]
    },
    {
     "name": "stdout",
     "output_type": "stream",
     "text": [
      "Column 1: Accuracy = 0.9424, F1 Score = 0.4852, ROC AUC = 0.3941\n",
      "Skipping SMOTE for column 2 due to error: The 'k_neighbors' parameter of SMOTE must be an int in the range [1, inf) or an object implementing 'kneighbors' and 'kneighbors_graph'. Got -1 instead.\n"
     ]
    },
    {
     "name": "stderr",
     "output_type": "stream",
     "text": [
      "Training Columns:  60%|██████    | 3/5 [00:05<00:04,  2.07s/it]"
     ]
    },
    {
     "name": "stdout",
     "output_type": "stream",
     "text": [
      "Column 2: Accuracy = 0.9006, F1 Score = 0.5505, ROC AUC = 0.3930\n",
      "Skipping SMOTE for column 3 due to error: The 'k_neighbors' parameter of SMOTE must be an int in the range [1, inf) or an object implementing 'kneighbors' and 'kneighbors_graph'. Got -1 instead.\n"
     ]
    },
    {
     "name": "stderr",
     "output_type": "stream",
     "text": [
      "Training Columns:  80%|████████  | 4/5 [00:15<00:05,  5.28s/it]"
     ]
    },
    {
     "name": "stdout",
     "output_type": "stream",
     "text": [
      "Column 3: Accuracy = 0.7764, F1 Score = 0.5055, ROC AUC = 0.4584\n",
      "Skipping SMOTE for column 4 due to error: The 'k_neighbors' parameter of SMOTE must be an int in the range [1, inf) or an object implementing 'kneighbors' and 'kneighbors_graph'. Got -1 instead.\n"
     ]
    },
    {
     "name": "stderr",
     "output_type": "stream",
     "text": [
      "Training Columns: 100%|██████████| 5/5 [00:15<00:00,  3.13s/it]"
     ]
    },
    {
     "name": "stdout",
     "output_type": "stream",
     "text": [
      "Column 4: Accuracy = 0.9891, F1 Score = 0.4973, ROC AUC = 0.3128\n",
      "Training complete. Results saved to 'results_summary.csv'.\n"
     ]
    },
    {
     "name": "stderr",
     "output_type": "stream",
     "text": [
      "\n"
     ]
    }
   ],
   "source": [
    "results_df = pd.DataFrame(columns=['Combination', 'Avg_Test_Accuracy', 'Avg_F1_Score', 'Avg_ROC_AUC'])\n",
    "\n",
    "for embedding_path, label_path, name in zip(all_embedding_paths, corresponding_labels_paths, list_of_combination):\n",
    "    print(f\"\\nTraining for: {name} - {embedding_path}\")\n",
    "    \n",
    "    model_save_path_prefix = f'{name}_svm_model_col_'\n",
    "    \n",
    "    avg_accuracy, avg_f1_score, avg_roc_auc = train(embedding_path, label_path, model_save_path_prefix)\n",
    "    \n",
    "    result_row = pd.DataFrame({\n",
    "        'Combination': [name],\n",
    "        'Avg_Test_Accuracy': [avg_accuracy],\n",
    "        'Avg_F1_Score': [avg_f1_score], \n",
    "        'Avg_ROC_AUC': [avg_roc_auc],\n",
    "    })\n",
    "    \n",
    "    results_df = pd.concat([results_df, result_row], ignore_index=True)\n",
    "\n",
    "results_df.to_csv('results_summary.csv', index=False)\n",
    "\n",
    "print(\"Training complete. Results saved to 'results_summary.csv'.\")"
   ]
  },
  {
   "cell_type": "code",
   "execution_count": 5,
   "id": "3845d287",
   "metadata": {
    "execution": {
     "iopub.execute_input": "2024-10-11T13:55:12.293504Z",
     "iopub.status.busy": "2024-10-11T13:55:12.292475Z",
     "iopub.status.idle": "2024-10-11T13:55:12.312461Z",
     "shell.execute_reply": "2024-10-11T13:55:12.311354Z"
    },
    "papermill": {
     "duration": 0.063015,
     "end_time": "2024-10-11T13:55:12.314939",
     "exception": false,
     "start_time": "2024-10-11T13:55:12.251924",
     "status": "completed"
    },
    "tags": []
   },
   "outputs": [
    {
     "data": {
      "text/html": [
       "<div>\n",
       "<style scoped>\n",
       "    .dataframe tbody tr th:only-of-type {\n",
       "        vertical-align: middle;\n",
       "    }\n",
       "\n",
       "    .dataframe tbody tr th {\n",
       "        vertical-align: top;\n",
       "    }\n",
       "\n",
       "    .dataframe thead th {\n",
       "        text-align: right;\n",
       "    }\n",
       "</style>\n",
       "<table border=\"1\" class=\"dataframe\">\n",
       "  <thead>\n",
       "    <tr style=\"text-align: right;\">\n",
       "      <th></th>\n",
       "      <th>Combination</th>\n",
       "      <th>Avg_Test_Accuracy</th>\n",
       "      <th>Avg_F1_Score</th>\n",
       "      <th>Avg_ROC_AUC</th>\n",
       "    </tr>\n",
       "  </thead>\n",
       "  <tbody>\n",
       "    <tr>\n",
       "      <th>0</th>\n",
       "      <td>AT2 - GSL - Attention Network</td>\n",
       "      <td>0.945937</td>\n",
       "      <td>0.798812</td>\n",
       "      <td>NaN</td>\n",
       "    </tr>\n",
       "    <tr>\n",
       "      <th>1</th>\n",
       "      <td>AT2 - HIST - Attention Network</td>\n",
       "      <td>0.941098</td>\n",
       "      <td>0.784084</td>\n",
       "      <td>NaN</td>\n",
       "    </tr>\n",
       "    <tr>\n",
       "      <th>2</th>\n",
       "      <td>ST1 - GSL - Attention Network</td>\n",
       "      <td>0.800999</td>\n",
       "      <td>0.535627</td>\n",
       "      <td>0.571390</td>\n",
       "    </tr>\n",
       "    <tr>\n",
       "      <th>3</th>\n",
       "      <td>ST1 - HIST - Attention Network</td>\n",
       "      <td>0.812111</td>\n",
       "      <td>0.537605</td>\n",
       "      <td>0.568919</td>\n",
       "    </tr>\n",
       "    <tr>\n",
       "      <th>4</th>\n",
       "      <td>ST2 - GSL - Attention Network</td>\n",
       "      <td>0.914117</td>\n",
       "      <td>0.523159</td>\n",
       "      <td>0.687749</td>\n",
       "    </tr>\n",
       "    <tr>\n",
       "      <th>5</th>\n",
       "      <td>ST2 - HIST - Attention Network</td>\n",
       "      <td>0.895313</td>\n",
       "      <td>0.499455</td>\n",
       "      <td>0.583874</td>\n",
       "    </tr>\n",
       "    <tr>\n",
       "      <th>6</th>\n",
       "      <td>AT2 - GSL - Average ResNet50</td>\n",
       "      <td>0.948287</td>\n",
       "      <td>0.611106</td>\n",
       "      <td>NaN</td>\n",
       "    </tr>\n",
       "    <tr>\n",
       "      <th>7</th>\n",
       "      <td>AT2 - HIST - Average ResNet50</td>\n",
       "      <td>0.948290</td>\n",
       "      <td>0.675196</td>\n",
       "      <td>NaN</td>\n",
       "    </tr>\n",
       "    <tr>\n",
       "      <th>8</th>\n",
       "      <td>ST1 - GSL - Average ResNet50</td>\n",
       "      <td>0.872699</td>\n",
       "      <td>0.506946</td>\n",
       "      <td>0.569653</td>\n",
       "    </tr>\n",
       "    <tr>\n",
       "      <th>9</th>\n",
       "      <td>ST1 - HIST - Average ResNet50</td>\n",
       "      <td>0.868936</td>\n",
       "      <td>0.521133</td>\n",
       "      <td>0.544599</td>\n",
       "    </tr>\n",
       "    <tr>\n",
       "      <th>10</th>\n",
       "      <td>ST2 - GSL - Average ResNet50</td>\n",
       "      <td>0.945258</td>\n",
       "      <td>0.485579</td>\n",
       "      <td>0.655332</td>\n",
       "    </tr>\n",
       "    <tr>\n",
       "      <th>11</th>\n",
       "      <td>ST2 - HIST - Average ResNet50</td>\n",
       "      <td>0.941272</td>\n",
       "      <td>0.506565</td>\n",
       "      <td>0.624146</td>\n",
       "    </tr>\n",
       "    <tr>\n",
       "      <th>12</th>\n",
       "      <td>AT2 - GSL - MedicalNet Network</td>\n",
       "      <td>0.945788</td>\n",
       "      <td>0.587587</td>\n",
       "      <td>NaN</td>\n",
       "    </tr>\n",
       "    <tr>\n",
       "      <th>13</th>\n",
       "      <td>AT2 - HIST - MedicalNet Network</td>\n",
       "      <td>0.946676</td>\n",
       "      <td>0.618213</td>\n",
       "      <td>NaN</td>\n",
       "    </tr>\n",
       "    <tr>\n",
       "      <th>14</th>\n",
       "      <td>ST1 - GSL - MedicalNet Network</td>\n",
       "      <td>0.810613</td>\n",
       "      <td>0.505009</td>\n",
       "      <td>0.520635</td>\n",
       "    </tr>\n",
       "    <tr>\n",
       "      <th>15</th>\n",
       "      <td>ST1 - HIST - MedicalNet Network</td>\n",
       "      <td>0.820596</td>\n",
       "      <td>0.517692</td>\n",
       "      <td>0.523963</td>\n",
       "    </tr>\n",
       "    <tr>\n",
       "      <th>16</th>\n",
       "      <td>ST2 - GSL - MedicalNet Network</td>\n",
       "      <td>0.899359</td>\n",
       "      <td>0.502444</td>\n",
       "      <td>0.475248</td>\n",
       "    </tr>\n",
       "    <tr>\n",
       "      <th>17</th>\n",
       "      <td>ST2 - HIST - MedicalNet Network</td>\n",
       "      <td>0.917838</td>\n",
       "      <td>0.506720</td>\n",
       "      <td>0.414169</td>\n",
       "    </tr>\n",
       "  </tbody>\n",
       "</table>\n",
       "</div>"
      ],
      "text/plain": [
       "                        Combination  Avg_Test_Accuracy  Avg_F1_Score  \\\n",
       "0     AT2 - GSL - Attention Network           0.945937      0.798812   \n",
       "1    AT2 - HIST - Attention Network           0.941098      0.784084   \n",
       "2     ST1 - GSL - Attention Network           0.800999      0.535627   \n",
       "3    ST1 - HIST - Attention Network           0.812111      0.537605   \n",
       "4     ST2 - GSL - Attention Network           0.914117      0.523159   \n",
       "5    ST2 - HIST - Attention Network           0.895313      0.499455   \n",
       "6      AT2 - GSL - Average ResNet50           0.948287      0.611106   \n",
       "7     AT2 - HIST - Average ResNet50           0.948290      0.675196   \n",
       "8      ST1 - GSL - Average ResNet50           0.872699      0.506946   \n",
       "9     ST1 - HIST - Average ResNet50           0.868936      0.521133   \n",
       "10     ST2 - GSL - Average ResNet50           0.945258      0.485579   \n",
       "11    ST2 - HIST - Average ResNet50           0.941272      0.506565   \n",
       "12   AT2 - GSL - MedicalNet Network           0.945788      0.587587   \n",
       "13  AT2 - HIST - MedicalNet Network           0.946676      0.618213   \n",
       "14   ST1 - GSL - MedicalNet Network           0.810613      0.505009   \n",
       "15  ST1 - HIST - MedicalNet Network           0.820596      0.517692   \n",
       "16   ST2 - GSL - MedicalNet Network           0.899359      0.502444   \n",
       "17  ST2 - HIST - MedicalNet Network           0.917838      0.506720   \n",
       "\n",
       "    Avg_ROC_AUC  \n",
       "0           NaN  \n",
       "1           NaN  \n",
       "2      0.571390  \n",
       "3      0.568919  \n",
       "4      0.687749  \n",
       "5      0.583874  \n",
       "6           NaN  \n",
       "7           NaN  \n",
       "8      0.569653  \n",
       "9      0.544599  \n",
       "10     0.655332  \n",
       "11     0.624146  \n",
       "12          NaN  \n",
       "13          NaN  \n",
       "14     0.520635  \n",
       "15     0.523963  \n",
       "16     0.475248  \n",
       "17     0.414169  "
      ]
     },
     "execution_count": 5,
     "metadata": {},
     "output_type": "execute_result"
    }
   ],
   "source": [
    "results_df"
   ]
  },
  {
   "cell_type": "markdown",
   "id": "712f7d8a",
   "metadata": {
    "papermill": {
     "duration": 0.039578,
     "end_time": "2024-10-11T13:55:12.393911",
     "exception": false,
     "start_time": "2024-10-11T13:55:12.354333",
     "status": "completed"
    },
    "tags": []
   },
   "source": [
    "## Random Accuracy"
   ]
  },
  {
   "cell_type": "code",
   "execution_count": 6,
   "id": "24b51985",
   "metadata": {
    "execution": {
     "iopub.execute_input": "2024-10-11T13:55:12.474987Z",
     "iopub.status.busy": "2024-10-11T13:55:12.474569Z",
     "iopub.status.idle": "2024-10-11T13:55:12.486475Z",
     "shell.execute_reply": "2024-10-11T13:55:12.485508Z"
    },
    "papermill": {
     "duration": 0.055254,
     "end_time": "2024-10-11T13:55:12.488866",
     "exception": false,
     "start_time": "2024-10-11T13:55:12.433612",
     "status": "completed"
    },
    "tags": []
   },
   "outputs": [],
   "source": [
    "def random_predictions(path):\n",
    "    labels = pd.read_csv(path)\n",
    "\n",
    "    id_cols = labels[['study_id', 'series_id']]\n",
    "    cols_to_impute = labels.drop(columns=['study_id', 'series_id'])\n",
    "    imputed_cols = cols_to_impute.apply(lambda x: x.fillna(x.mode()[0]))\n",
    "    final_df = pd.concat([id_cols, imputed_cols], axis=1)\n",
    "\n",
    "    id_cols = final_df[['study_id', 'series_id']]\n",
    "    cols_to_encode = final_df.drop(columns=['study_id', 'series_id'])\n",
    "    encoder = OneHotEncoder(sparse_output=False)\n",
    "    encoded_cols = encoder.fit_transform(cols_to_encode)\n",
    "    encoded_df = pd.DataFrame(encoded_cols, columns=encoder.get_feature_names_out(cols_to_encode.columns))\n",
    "    final_df = pd.concat([id_cols, encoded_df], axis=1)\n",
    "\n",
    "    Y_true = final_df.drop(columns=['study_id', 'series_id']).values\n",
    "\n",
    "    np.random.seed(42)  # For reproducibility\n",
    "    random_predictions = np.random.rand(*Y_true.shape)  # Random floats in [0.0, 1.0]\n",
    "\n",
    "    threshold = np.mean(random_predictions)\n",
    "\n",
    "    binary_predictions = (random_predictions > threshold).astype(float)\n",
    "\n",
    "    accuracy = np.mean(np.all(binary_predictions == Y_true, axis=1))\n",
    "\n",
    "    print(f\"Random Predictions Accuracy: {accuracy:.4f}\")\n",
    "    print(f\"Self-adjusting Threshold: {threshold:.4f}\")"
   ]
  },
  {
   "cell_type": "code",
   "execution_count": 7,
   "id": "6b8d3db2",
   "metadata": {
    "execution": {
     "iopub.execute_input": "2024-10-11T13:55:12.570220Z",
     "iopub.status.busy": "2024-10-11T13:55:12.569415Z",
     "iopub.status.idle": "2024-10-11T13:55:12.672767Z",
     "shell.execute_reply": "2024-10-11T13:55:12.671489Z"
    },
    "papermill": {
     "duration": 0.147,
     "end_time": "2024-10-11T13:55:12.675498",
     "exception": false,
     "start_time": "2024-10-11T13:55:12.528498",
     "status": "completed"
    },
    "tags": []
   },
   "outputs": [
    {
     "name": "stdout",
     "output_type": "stream",
     "text": [
      "Random Predictions Accuracy: 0.0000\n",
      "Self-adjusting Threshold: 0.4996\n",
      "Random Predictions Accuracy: 0.0000\n",
      "Self-adjusting Threshold: 0.4995\n",
      "Random Predictions Accuracy: 0.0000\n",
      "Self-adjusting Threshold: 0.5004\n"
     ]
    }
   ],
   "source": [
    "random_predictions('/kaggle/input/preprocessed-dataset/train_data_AT2.csv')\n",
    "random_predictions('/kaggle/input/preprocessed-dataset/train_data_ST1.csv')\n",
    "random_predictions('/kaggle/input/preprocessed-dataset/train_data_ST2.csv')"
   ]
  }
 ],
 "metadata": {
  "kaggle": {
   "accelerator": "none",
   "dataSources": [
    {
     "datasetId": 5788739,
     "sourceId": 9528888,
     "sourceType": "datasetVersion"
    },
    {
     "datasetId": 5810383,
     "sourceId": 9538829,
     "sourceType": "datasetVersion"
    },
    {
     "datasetId": 5814948,
     "sourceId": 9544899,
     "sourceType": "datasetVersion"
    },
    {
     "datasetId": 5821406,
     "sourceId": 9553895,
     "sourceType": "datasetVersion"
    }
   ],
   "dockerImageVersionId": 30787,
   "isGpuEnabled": false,
   "isInternetEnabled": true,
   "language": "python",
   "sourceType": "notebook"
  },
  "kernelspec": {
   "display_name": "Python 3",
   "language": "python",
   "name": "python3"
  },
  "language_info": {
   "codemirror_mode": {
    "name": "ipython",
    "version": 3
   },
   "file_extension": ".py",
   "mimetype": "text/x-python",
   "name": "python",
   "nbconvert_exporter": "python",
   "pygments_lexer": "ipython3",
   "version": "3.10.14"
  },
  "papermill": {
   "default_parameters": {},
   "duration": 482.740938,
   "end_time": "2024-10-11T13:55:15.225950",
   "environment_variables": {},
   "exception": null,
   "input_path": "__notebook__.ipynb",
   "output_path": "__notebook__.ipynb",
   "parameters": {},
   "start_time": "2024-10-11T13:47:12.485012",
   "version": "2.6.0"
  }
 },
 "nbformat": 4,
 "nbformat_minor": 5
}
