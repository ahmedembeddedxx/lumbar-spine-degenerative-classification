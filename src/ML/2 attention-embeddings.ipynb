{
 "cells": [
  {
   "cell_type": "markdown",
   "id": "d7f1bb78",
   "metadata": {},
   "source": [
    "# **A Novel Approach for Three-Way Classification of Lumbar Spine Degeneration Using Pseudo-Modality Learning to Handle Missing MRI Data**"
   ]
  },
  {
   "cell_type": "markdown",
   "id": "0fbfe5a9",
   "metadata": {},
   "source": [
    "## **Embeddings Architecture**"
   ]
  },
  {
   "cell_type": "markdown",
   "id": "5dfde9cc",
   "metadata": {},
   "source": [
    "![MRI Processor Architecture](https://github.com/ahmedembeddedxx/lumbar-spine-degenerative-classification/blob/main/architecture/classifiers-architecture/mri-processor.png?raw=true)\n"
   ]
  },
  {
   "cell_type": "markdown",
   "id": "7e056b2a",
   "metadata": {},
   "source": [
    "## **Modules**"
   ]
  },
  {
   "cell_type": "code",
   "execution_count": 1,
   "id": "4caed3a0",
   "metadata": {
    "_cell_guid": "b1076dfc-b9ad-4769-8c92-a6c4dae69d19",
    "_uuid": "8f2839f25d086af736a60e9eeb907d3b93b6e0e5",
    "execution": {
     "iopub.execute_input": "2024-10-04T05:13:41.853051Z",
     "iopub.status.busy": "2024-10-04T05:13:41.852765Z",
     "iopub.status.idle": "2024-10-04T05:13:51.424979Z",
     "shell.execute_reply": "2024-10-04T05:13:51.424187Z"
    },
    "papermill": {
     "duration": 9.578049,
     "end_time": "2024-10-04T05:13:51.427350",
     "exception": false,
     "start_time": "2024-10-04T05:13:41.849301",
     "status": "completed"
    },
    "tags": []
   },
   "outputs": [],
   "source": [
    "import torch.nn as nn\n",
    "import os\n",
    "import numpy as np\n",
    "import pandas as pd\n",
    "import torch\n",
    "from torchvision import models, transforms\n",
    "from tqdm import tqdm\n",
    "import matplotlib.pyplot as plt"
   ]
  },
  {
   "cell_type": "markdown",
   "id": "80c6c260",
   "metadata": {},
   "source": [
    "#### **Attention Layers Architecture**"
   ]
  },
  {
   "cell_type": "code",
   "execution_count": 2,
   "id": "54f17521",
   "metadata": {
    "execution": {
     "iopub.execute_input": "2024-10-04T05:13:51.433775Z",
     "iopub.status.busy": "2024-10-04T05:13:51.433132Z",
     "iopub.status.idle": "2024-10-04T05:13:51.441138Z",
     "shell.execute_reply": "2024-10-04T05:13:51.440275Z"
    },
    "papermill": {
     "duration": 0.013004,
     "end_time": "2024-10-04T05:13:51.443019",
     "exception": false,
     "start_time": "2024-10-04T05:13:51.430015",
     "status": "completed"
    },
    "tags": []
   },
   "outputs": [],
   "source": [
    "class SliceAttention(nn.Module):\n",
    "    def __init__(self, embedding_dim):\n",
    "        super(SliceAttention, self).__init__()\n",
    "        self.attention_fc = nn.Linear(embedding_dim, 1)\n",
    "\n",
    "    def forward(self, slice_embeddings):\n",
    "        attention_scores = self.attention_fc(slice_embeddings)\n",
    "        attention_weights = torch.softmax(attention_scores, dim=1)\n",
    "        \n",
    "        weighted_embeddings = slice_embeddings * attention_weights\n",
    "        mri_embedding = torch.sum(weighted_embeddings, dim=1)\n",
    "        return mri_embedding, attention_weights\n",
    "\n",
    "class MRIEmbeddingModel(nn.Module):\n",
    "    def __init__(self, base_model, embedding_dim):\n",
    "        super(MRIEmbeddingModel, self).__init__()\n",
    "        self.base_model = base_model\n",
    "        self.attention = SliceAttention(embedding_dim)\n",
    "    \n",
    "    def forward(self, slice_embeddings):\n",
    "        mri_embedding, attention_weights = self.attention(slice_embeddings)\n",
    "        return mri_embedding, attention_weights"
   ]
  },
  {
   "cell_type": "markdown",
   "id": "f80927ae",
   "metadata": {},
   "source": [
    "#### **Embeddings Generator using ResNet50**"
   ]
  },
  {
   "cell_type": "code",
   "execution_count": 3,
   "id": "05721ca8",
   "metadata": {
    "execution": {
     "iopub.execute_input": "2024-10-04T05:13:51.448729Z",
     "iopub.status.busy": "2024-10-04T05:13:51.448063Z",
     "iopub.status.idle": "2024-10-04T05:13:51.461964Z",
     "shell.execute_reply": "2024-10-04T05:13:51.461119Z"
    },
    "papermill": {
     "duration": 0.018607,
     "end_time": "2024-10-04T05:13:51.463757",
     "exception": false,
     "start_time": "2024-10-04T05:13:51.445150",
     "status": "completed"
    },
    "tags": []
   },
   "outputs": [],
   "source": [
    "def attention_embeddings(csv_path, img_path, result_path_csv, result_path_pth):\n",
    "    model = models.resnet50(pretrained=True)\n",
    "    model.fc = torch.nn.Linear(model.fc.in_features, 512)\n",
    "    embedding_model = MRIEmbeddingModel(model, embedding_dim=512)\n",
    "\n",
    "    model = model.to('cuda')\n",
    "    embedding_model = embedding_model.to('cuda')\n",
    "\n",
    "    df = pd.read_csv(csv_path)\n",
    "\n",
    "    results = []\n",
    "    for index, row in tqdm(df.iterrows()):\n",
    "        patient_id = str(row['study_id'])\n",
    "        series_id = str(row['series_id'])\n",
    "\n",
    "        series_path = os.path.join(img_path, patient_id, series_id)\n",
    "\n",
    "        embeddings = []\n",
    "\n",
    "        for slice_file in os.listdir(series_path):\n",
    "            if slice_file.endswith('.npy'):\n",
    "                slice_path = os.path.join(series_path, slice_file)\n",
    "                slice_data = np.load(slice_path)\n",
    "\n",
    "                if slice_data.ndim == 2:\n",
    "                    slice_data = np.stack([slice_data] * 3, axis=0)\n",
    "                elif slice_data.ndim == 3 and slice_data.shape[0] == 1:\n",
    "                    slice_data = np.repeat(slice_data, 3, axis=0)\n",
    "\n",
    "                input_tensor = torch.from_numpy(slice_data).float().to('cuda')\n",
    "                input_tensor = transforms.Resize((224, 224))(input_tensor)\n",
    "                input_tensor = (input_tensor - torch.tensor([0.485, 0.456, 0.406]).view(3, 1, 1).to('cuda')) / \\\n",
    "                               torch.tensor([0.229, 0.224, 0.225]).view(3, 1, 1).to('cuda')\n",
    "                input_tensor = input_tensor.unsqueeze(0)\n",
    "\n",
    "                with torch.no_grad():\n",
    "                    embedding = model(input_tensor)\n",
    "                    embeddings.append(embedding)\n",
    "\n",
    "        if embeddings:\n",
    "            slice_embeddings = torch.stack(embeddings, dim=1)\n",
    "            slice_embeddings = slice_embeddings.to('cuda') \n",
    "            with torch.no_grad():\n",
    "                final_embedding, attention_weights = embedding_model(slice_embeddings)\n",
    "\n",
    "                final_embedding = final_embedding.squeeze().cpu()\n",
    "                embedding_dict = {f'{i}': final_embedding[i].item() for i in range(final_embedding.shape[0])}\n",
    "\n",
    "            embedding_dict.update({'study_id': patient_id, 'series_id': series_id})\n",
    "            results.append(embedding_dict)\n",
    "\n",
    "    results_df = pd.DataFrame(results)\n",
    "    results_df.to_csv(result_path_csv, index=False)\n",
    "\n",
    "    torch.save(embedding_model.state_dict(), result_path_pth)\n",
    "    print(f\"Embeddings with attention completed and saved to {result_path_csv}\")"
   ]
  },
  {
   "cell_type": "markdown",
   "id": "59fed22a",
   "metadata": {},
   "source": [
    "## **Running Inference**"
   ]
  },
  {
   "cell_type": "code",
   "execution_count": 4,
   "id": "eb39609a",
   "metadata": {
    "execution": {
     "iopub.execute_input": "2024-10-04T05:13:51.469097Z",
     "iopub.status.busy": "2024-10-04T05:13:51.468839Z",
     "iopub.status.idle": "2024-10-04T06:44:58.884916Z",
     "shell.execute_reply": "2024-10-04T06:44:58.883971Z"
    },
    "papermill": {
     "duration": 5467.421216,
     "end_time": "2024-10-04T06:44:58.887171",
     "exception": false,
     "start_time": "2024-10-04T05:13:51.465955",
     "status": "completed"
    },
    "tags": []
   },
   "outputs": [
    {
     "name": "stderr",
     "output_type": "stream",
     "text": [
      "/opt/conda/lib/python3.10/site-packages/torchvision/models/_utils.py:208: UserWarning: The parameter 'pretrained' is deprecated since 0.13 and may be removed in the future, please use 'weights' instead.\n",
      "  warnings.warn(\n",
      "/opt/conda/lib/python3.10/site-packages/torchvision/models/_utils.py:223: UserWarning: Arguments other than a weight enum or `None` for 'weights' are deprecated since 0.13 and may be removed in the future. The current behavior is equivalent to passing `weights=ResNet50_Weights.IMAGENET1K_V1`. You can also use `weights=ResNet50_Weights.DEFAULT` to get the most up-to-date weights.\n",
      "  warnings.warn(msg)\n",
      "Downloading: \"https://download.pytorch.org/models/resnet50-0676ba61.pth\" to /root/.cache/torch/hub/checkpoints/resnet50-0676ba61.pth\n",
      "100%|██████████| 97.8M/97.8M [00:00<00:00, 129MB/s]\n",
      "2226it [24:33,  1.51it/s]\n"
     ]
    },
    {
     "name": "stdout",
     "output_type": "stream",
     "text": [
      "Embeddings with attention completed and saved to AT2_attention_embeddings_gsl.csv\n"
     ]
    },
    {
     "name": "stderr",
     "output_type": "stream",
     "text": [
      "/opt/conda/lib/python3.10/site-packages/torchvision/models/_utils.py:208: UserWarning: The parameter 'pretrained' is deprecated since 0.13 and may be removed in the future, please use 'weights' instead.\n",
      "  warnings.warn(\n",
      "/opt/conda/lib/python3.10/site-packages/torchvision/models/_utils.py:223: UserWarning: Arguments other than a weight enum or `None` for 'weights' are deprecated since 0.13 and may be removed in the future. The current behavior is equivalent to passing `weights=ResNet50_Weights.IMAGENET1K_V1`. You can also use `weights=ResNet50_Weights.DEFAULT` to get the most up-to-date weights.\n",
      "  warnings.warn(msg)\n",
      "2226it [24:21,  1.52it/s]\n"
     ]
    },
    {
     "name": "stdout",
     "output_type": "stream",
     "text": [
      "Embeddings with attention completed and saved to AT2_attention_embeddings_hist.csv\n"
     ]
    },
    {
     "name": "stderr",
     "output_type": "stream",
     "text": [
      "/opt/conda/lib/python3.10/site-packages/torchvision/models/_utils.py:208: UserWarning: The parameter 'pretrained' is deprecated since 0.13 and may be removed in the future, please use 'weights' instead.\n",
      "  warnings.warn(\n",
      "/opt/conda/lib/python3.10/site-packages/torchvision/models/_utils.py:223: UserWarning: Arguments other than a weight enum or `None` for 'weights' are deprecated since 0.13 and may be removed in the future. The current behavior is equivalent to passing `weights=ResNet50_Weights.IMAGENET1K_V1`. You can also use `weights=ResNet50_Weights.DEFAULT` to get the most up-to-date weights.\n",
      "  warnings.warn(msg)\n",
      "1876it [10:24,  3.00it/s]\n"
     ]
    },
    {
     "name": "stdout",
     "output_type": "stream",
     "text": [
      "Embeddings with attention completed and saved to ST2_attention_embeddings_gsl.csv\n"
     ]
    },
    {
     "name": "stderr",
     "output_type": "stream",
     "text": [
      "/opt/conda/lib/python3.10/site-packages/torchvision/models/_utils.py:208: UserWarning: The parameter 'pretrained' is deprecated since 0.13 and may be removed in the future, please use 'weights' instead.\n",
      "  warnings.warn(\n",
      "/opt/conda/lib/python3.10/site-packages/torchvision/models/_utils.py:223: UserWarning: Arguments other than a weight enum or `None` for 'weights' are deprecated since 0.13 and may be removed in the future. The current behavior is equivalent to passing `weights=ResNet50_Weights.IMAGENET1K_V1`. You can also use `weights=ResNet50_Weights.DEFAULT` to get the most up-to-date weights.\n",
      "  warnings.warn(msg)\n",
      "1876it [10:23,  3.01it/s]\n"
     ]
    },
    {
     "name": "stdout",
     "output_type": "stream",
     "text": [
      "Embeddings with attention completed and saved to ST2_attention_embeddings_hist.csv\n"
     ]
    },
    {
     "name": "stderr",
     "output_type": "stream",
     "text": [
      "/opt/conda/lib/python3.10/site-packages/torchvision/models/_utils.py:208: UserWarning: The parameter 'pretrained' is deprecated since 0.13 and may be removed in the future, please use 'weights' instead.\n",
      "  warnings.warn(\n",
      "/opt/conda/lib/python3.10/site-packages/torchvision/models/_utils.py:223: UserWarning: Arguments other than a weight enum or `None` for 'weights' are deprecated since 0.13 and may be removed in the future. The current behavior is equivalent to passing `weights=ResNet50_Weights.IMAGENET1K_V1`. You can also use `weights=ResNet50_Weights.DEFAULT` to get the most up-to-date weights.\n",
      "  warnings.warn(msg)\n",
      "1881it [10:34,  2.97it/s]\n"
     ]
    },
    {
     "name": "stdout",
     "output_type": "stream",
     "text": [
      "Embeddings with attention completed and saved to ST1_attention_embeddings_gsl.csv\n"
     ]
    },
    {
     "name": "stderr",
     "output_type": "stream",
     "text": [
      "/opt/conda/lib/python3.10/site-packages/torchvision/models/_utils.py:208: UserWarning: The parameter 'pretrained' is deprecated since 0.13 and may be removed in the future, please use 'weights' instead.\n",
      "  warnings.warn(\n",
      "/opt/conda/lib/python3.10/site-packages/torchvision/models/_utils.py:223: UserWarning: Arguments other than a weight enum or `None` for 'weights' are deprecated since 0.13 and may be removed in the future. The current behavior is equivalent to passing `weights=ResNet50_Weights.IMAGENET1K_V1`. You can also use `weights=ResNet50_Weights.DEFAULT` to get the most up-to-date weights.\n",
      "  warnings.warn(msg)\n",
      "1881it [10:30,  2.98it/s]\n"
     ]
    },
    {
     "name": "stdout",
     "output_type": "stream",
     "text": [
      "Embeddings with attention completed and saved to ST1_attention_embeddings_hist.csv\n"
     ]
    }
   ],
   "source": [
    "attention_embeddings('/kaggle/input/preprocessed-dataset/train_data_AT2.csv', '/kaggle/input/preprocessed-dataset/grey_scale_train', 'AT2_attention_embeddings_gsl.csv', 'AT2_attention_model_gsl.pth')\n",
    "attention_embeddings('/kaggle/input/preprocessed-dataset/train_data_AT2.csv', '/kaggle/input/preprocessed-dataset/hist_norm_train', 'AT2_attention_embeddings_hist.csv', 'AT2_attention_model_hist.pth')\n",
    "attention_embeddings('/kaggle/input/preprocessed-dataset/train_data_ST2.csv', '/kaggle/input/preprocessed-dataset/grey_scale_train', 'ST2_attention_embeddings_gsl.csv', 'ST2_attention_model_gsl.pth')\n",
    "attention_embeddings('/kaggle/input/preprocessed-dataset/train_data_ST2.csv', '/kaggle/input/preprocessed-dataset/hist_norm_train', 'ST2_attention_embeddings_hist.csv', 'ST2_attention_model_hist.pth')\n",
    "attention_embeddings('/kaggle/input/preprocessed-dataset/train_data_ST1.csv', '/kaggle/input/preprocessed-dataset/grey_scale_train', 'ST1_attention_embeddings_gsl.csv', 'ST1_attention_model_gsl.pth')\n",
    "attention_embeddings('/kaggle/input/preprocessed-dataset/train_data_ST1.csv', '/kaggle/input/preprocessed-dataset/hist_norm_train', 'ST1_attention_embeddings_hist.csv', 'ST1_attention_model_hist.pth')"
   ]
  },
  {
   "cell_type": "code",
   "execution_count": 5,
   "id": "a815fbe9",
   "metadata": {
    "execution": {
     "iopub.execute_input": "2024-10-04T06:45:00.796273Z",
     "iopub.status.busy": "2024-10-04T06:45:00.795389Z",
     "iopub.status.idle": "2024-10-04T06:45:00.799741Z",
     "shell.execute_reply": "2024-10-04T06:45:00.798836Z"
    },
    "papermill": {
     "duration": 0.950505,
     "end_time": "2024-10-04T06:45:00.801680",
     "exception": false,
     "start_time": "2024-10-04T06:44:59.851175",
     "status": "completed"
    },
    "tags": []
   },
   "outputs": [],
   "source": [
    "#embedding_model = MRIEmbeddingModel(model, embedding_dim=512)\n",
    "#embedding_model.load_state_dict(torch.load(result_path_pth))\n",
    "#embedding_model.eval()"
   ]
  }
 ],
 "metadata": {
  "kaggle": {
   "accelerator": "nvidiaTeslaT4",
   "dataSources": [
    {
     "datasetId": 5788739,
     "sourceId": 9528888,
     "sourceType": "datasetVersion"
    }
   ],
   "isGpuEnabled": true,
   "isInternetEnabled": true,
   "language": "python",
   "sourceType": "notebook"
  },
  "kernelspec": {
   "display_name": "Python 3",
   "language": "python",
   "name": "python3"
  },
  "language_info": {
   "codemirror_mode": {
    "name": "ipython",
    "version": 3
   },
   "file_extension": ".py",
   "mimetype": "text/x-python",
   "name": "python",
   "nbconvert_exporter": "python",
   "pygments_lexer": "ipython3",
   "version": "3.10.14"
  },
  "papermill": {
   "default_parameters": {},
   "duration": 5486.946069,
   "end_time": "2024-10-04T06:45:04.756523",
   "environment_variables": {},
   "exception": null,
   "input_path": "__notebook__.ipynb",
   "output_path": "__notebook__.ipynb",
   "parameters": {},
   "start_time": "2024-10-04T05:13:37.810454",
   "version": "2.6.0"
  }
 },
 "nbformat": 4,
 "nbformat_minor": 5
}
