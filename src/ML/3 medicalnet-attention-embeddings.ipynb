{
 "cells": [
  {
   "cell_type": "markdown",
   "id": "0aaa5a34",
   "metadata": {},
   "source": [
    "# **A Novel Approach for Three-Way Classification of Lumbar Spine Degeneration Using Pseudo-Modality Learning to Handle Missing MRI Data**"
   ]
  },
  {
   "cell_type": "markdown",
   "id": "72d2412f",
   "metadata": {},
   "source": [
    "## **Embeddings Architecture**"
   ]
  },
  {
   "cell_type": "markdown",
   "id": "98eeafda",
   "metadata": {},
   "source": [
    "![MRI Processor Architecture](https://github.com/ahmedembeddedxx/lumbar-spine-degenerative-classification/blob/main/architecture/classifiers-architecture/mri-processor.png?raw=true)\n"
   ]
  },
  {
   "cell_type": "markdown",
   "id": "112c279e",
   "metadata": {},
   "source": [
    "## **Modules**"
   ]
  },
  {
   "cell_type": "code",
   "execution_count": 1,
   "id": "92825342",
   "metadata": {
    "_cell_guid": "b1076dfc-b9ad-4769-8c92-a6c4dae69d19",
    "_uuid": "8f2839f25d086af736a60e9eeb907d3b93b6e0e5",
    "execution": {
     "iopub.execute_input": "2024-10-05T10:10:54.630794Z",
     "iopub.status.busy": "2024-10-05T10:10:54.630491Z",
     "iopub.status.idle": "2024-10-05T10:11:01.388104Z",
     "shell.execute_reply": "2024-10-05T10:11:01.387317Z"
    },
    "papermill": {
     "duration": 6.764158,
     "end_time": "2024-10-05T10:11:01.390695",
     "exception": false,
     "start_time": "2024-10-05T10:10:54.626537",
     "status": "completed"
    },
    "tags": []
   },
   "outputs": [],
   "source": [
    "import torch.nn as nn\n",
    "import os\n",
    "import numpy as np\n",
    "import pandas as pd\n",
    "import torch\n",
    "from tqdm import tqdm\n",
    "import matplotlib.pyplot as plt\n",
    "from torchvision import transforms\n",
    "from transformers import AutoModel\n",
    "import torchvision.models as models"
   ]
  },
  {
   "cell_type": "markdown",
   "id": "b18c3c54",
   "metadata": {},
   "source": [
    "#### **Downloading Model**"
   ]
  },
  {
   "cell_type": "code",
   "execution_count": 2,
   "id": "92ea69f7",
   "metadata": {
    "execution": {
     "iopub.execute_input": "2024-10-05T10:11:01.397060Z",
     "iopub.status.busy": "2024-10-05T10:11:01.396627Z",
     "iopub.status.idle": "2024-10-05T10:11:15.691202Z",
     "shell.execute_reply": "2024-10-05T10:11:15.690156Z"
    },
    "papermill": {
     "duration": 14.29992,
     "end_time": "2024-10-05T10:11:15.693403",
     "exception": false,
     "start_time": "2024-10-05T10:11:01.393483",
     "status": "completed"
    },
    "tags": []
   },
   "outputs": [
    {
     "name": "stdout",
     "output_type": "stream",
     "text": [
      "Downloaded resnet_152.pth\n"
     ]
    }
   ],
   "source": [
    "import requests\n",
    "\n",
    "url = \"https://huggingface.co/TencentMedicalNet/MedicalNet-Resnet152/resolve/main/resnet_152.pth\"\n",
    "\n",
    "local_filename = \"resnet_152.pth\"\n",
    "\n",
    "response = requests.get(url)\n",
    "\n",
    "response.raise_for_status()\n",
    "\n",
    "with open(local_filename, 'wb') as f:\n",
    "    f.write(response.content)\n",
    "\n",
    "print(f\"Downloaded {local_filename}\")"
   ]
  },
  {
   "cell_type": "markdown",
   "id": "5917f6af",
   "metadata": {},
   "source": [
    "#### **Loading Model**"
   ]
  },
  {
   "cell_type": "code",
   "execution_count": 3,
   "id": "721e2736",
   "metadata": {
    "execution": {
     "iopub.execute_input": "2024-10-05T10:11:15.700317Z",
     "iopub.status.busy": "2024-10-05T10:11:15.699521Z",
     "iopub.status.idle": "2024-10-05T10:11:17.606161Z",
     "shell.execute_reply": "2024-10-05T10:11:17.604892Z"
    },
    "papermill": {
     "duration": 1.912351,
     "end_time": "2024-10-05T10:11:17.608351",
     "exception": false,
     "start_time": "2024-10-05T10:11:15.696000",
     "status": "completed"
    },
    "tags": []
   },
   "outputs": [
    {
     "name": "stderr",
     "output_type": "stream",
     "text": [
      "/opt/conda/lib/python3.10/site-packages/torchvision/models/_utils.py:208: UserWarning: The parameter 'pretrained' is deprecated since 0.13 and may be removed in the future, please use 'weights' instead.\n",
      "  warnings.warn(\n",
      "/opt/conda/lib/python3.10/site-packages/torchvision/models/_utils.py:223: UserWarning: Arguments other than a weight enum or `None` for 'weights' are deprecated since 0.13 and may be removed in the future. The current behavior is equivalent to passing `weights=None`.\n",
      "  warnings.warn(msg)\n",
      "/tmp/ipykernel_23/2155055236.py:5: FutureWarning: You are using `torch.load` with `weights_only=False` (the current default value), which uses the default pickle module implicitly. It is possible to construct malicious pickle data which will execute arbitrary code during unpickling (See https://github.com/pytorch/pytorch/blob/main/SECURITY.md#untrusted-models for more details). In a future release, the default value for `weights_only` will be flipped to `True`. This limits the functions that could be executed during unpickling. Arbitrary objects will no longer be allowed to be loaded via this mode unless they are explicitly allowlisted by the user via `torch.serialization.add_safe_globals`. We recommend you start setting `weights_only=True` for any use case where you don't have full control of the loaded file. Please open an issue on GitHub for any issues related to this experimental feature.\n",
      "  resnet152.load_state_dict(torch.load(weights_path), strict=False)\n"
     ]
    },
    {
     "name": "stdout",
     "output_type": "stream",
     "text": [
      "ResNet-152 model loaded with custom weights (missing keys ignored).\n"
     ]
    }
   ],
   "source": [
    "resnet152 = models.resnet152(pretrained=False)\n",
    "\n",
    "weights_path = 'resnet_152.pth'\n",
    "try:\n",
    "    resnet152.load_state_dict(torch.load(weights_path), strict=False)\n",
    "    print(\"ResNet-152 model loaded with custom weights (missing keys ignored).\")\n",
    "except RuntimeError as e:\n",
    "    print(f\"Failed to load weights: {e}\")"
   ]
  },
  {
   "cell_type": "markdown",
   "id": "ed9d3834",
   "metadata": {},
   "source": [
    "## **Attention Mechanism for MedicalNet152**"
   ]
  },
  {
   "cell_type": "code",
   "execution_count": 4,
   "id": "8a4b69dc",
   "metadata": {
    "execution": {
     "iopub.execute_input": "2024-10-05T10:11:17.615883Z",
     "iopub.status.busy": "2024-10-05T10:11:17.615256Z",
     "iopub.status.idle": "2024-10-05T10:11:17.621451Z",
     "shell.execute_reply": "2024-10-05T10:11:17.620617Z"
    },
    "papermill": {
     "duration": 0.011828,
     "end_time": "2024-10-05T10:11:17.623381",
     "exception": false,
     "start_time": "2024-10-05T10:11:17.611553",
     "status": "completed"
    },
    "tags": []
   },
   "outputs": [],
   "source": [
    "class MRIEmbeddingModel(torch.nn.Module):\n",
    "    def __init__(self, base_model, embedding_dim):\n",
    "        super(MRIEmbeddingModel, self).__init__()\n",
    "        self.base_model = base_model\n",
    "        self.attention_layer = torch.nn.Linear(embedding_dim, 1) \n",
    "        self.embedding_dim = embedding_dim\n",
    "\n",
    "    def forward(self, x):\n",
    "        attention_weights = self.attention_layer(x)\n",
    "        final_embedding = torch.sum(x * attention_weights, dim=1)\n",
    "        return final_embedding, attention_weights"
   ]
  },
  {
   "cell_type": "code",
   "execution_count": 5,
   "id": "bfa480b3",
   "metadata": {
    "execution": {
     "iopub.execute_input": "2024-10-05T10:11:17.630205Z",
     "iopub.status.busy": "2024-10-05T10:11:17.629882Z",
     "iopub.status.idle": "2024-10-05T10:11:17.644400Z",
     "shell.execute_reply": "2024-10-05T10:11:17.643539Z"
    },
    "papermill": {
     "duration": 0.020244,
     "end_time": "2024-10-05T10:11:17.646383",
     "exception": false,
     "start_time": "2024-10-05T10:11:17.626139",
     "status": "completed"
    },
    "tags": []
   },
   "outputs": [],
   "source": [
    "def attention_embeddings(csv_path, img_path, result_path_csv, result_path_pth):\n",
    "    model = resnet152\n",
    "    model.fc = torch.nn.Linear(model.fc.in_features, 512)\n",
    "    embedding_model = MRIEmbeddingModel(model, embedding_dim=512)\n",
    "\n",
    "    model = model.to('cuda')\n",
    "    embedding_model = embedding_model.to('cuda')\n",
    "\n",
    "    df = pd.read_csv(csv_path)\n",
    "\n",
    "    results = []\n",
    "    for index, row in tqdm(df.iterrows()):\n",
    "        patient_id = str(row['study_id'])\n",
    "        series_id = str(row['series_id'])\n",
    "    \n",
    "        series_path = os.path.join(img_path, patient_id, series_id)\n",
    "\n",
    "        embeddings = []\n",
    "\n",
    "        for slice_file in os.listdir(series_path):\n",
    "            if slice_file.endswith('.npy'):\n",
    "                slice_path = os.path.join(series_path, slice_file)\n",
    "                slice_data = np.load(slice_path)\n",
    "\n",
    "                if slice_data.ndim == 2:\n",
    "                    slice_data = np.stack([slice_data] * 3, axis=0)\n",
    "                elif slice_data.ndim == 3 and slice_data.shape[0] == 1:\n",
    "                    slice_data = np.repeat(slice_data, 3, axis=0)\n",
    "\n",
    "                input_tensor = torch.from_numpy(slice_data).float().to('cuda')\n",
    "                input_tensor = transforms.Resize((224, 224))(input_tensor)\n",
    "                input_tensor = (input_tensor - torch.tensor([0.485, 0.456, 0.406]).view(3, 1, 1).to('cuda')) / \\\n",
    "                               torch.tensor([0.229, 0.224, 0.225]).view(3, 1, 1).to('cuda')\n",
    "                input_tensor = input_tensor.unsqueeze(0)\n",
    "\n",
    "                with torch.no_grad():\n",
    "                    embedding = model(input_tensor)\n",
    "                    embeddings.append(embedding)\n",
    "\n",
    "        if embeddings:\n",
    "            slice_embeddings = torch.stack(embeddings, dim=1)\n",
    "            slice_embeddings = slice_embeddings.to('cuda') \n",
    "            with torch.no_grad():\n",
    "                final_embedding, attention_weights = embedding_model(slice_embeddings)\n",
    "\n",
    "                final_embedding = final_embedding.squeeze().cpu()\n",
    "                embedding_dict = {f'{i}': final_embedding[i].item() for i in range(final_embedding.shape[0])}\n",
    "\n",
    "            embedding_dict.update({'study_id': patient_id, 'series_id': series_id})\n",
    "            results.append(embedding_dict)\n",
    "\n",
    "    results_df = pd.DataFrame(results)\n",
    "    results_df.to_csv(result_path_csv, index=False)\n",
    "\n",
    "    torch.save(embedding_model.state_dict(), result_path_pth)\n",
    "    print(f\"Embeddings with attention completed and saved to {result_path_csv}\")"
   ]
  },
  {
   "cell_type": "markdown",
   "id": "8181a067",
   "metadata": {},
   "source": [
    "## **Running Inference**"
   ]
  },
  {
   "cell_type": "code",
   "execution_count": 6,
   "id": "11ebce6b",
   "metadata": {
    "execution": {
     "iopub.execute_input": "2024-10-05T10:11:17.653565Z",
     "iopub.status.busy": "2024-10-05T10:11:17.653102Z",
     "iopub.status.idle": "2024-10-05T12:54:28.136911Z",
     "shell.execute_reply": "2024-10-05T12:54:28.135831Z"
    },
    "papermill": {
     "duration": 9791.472571,
     "end_time": "2024-10-05T12:54:29.121840",
     "exception": false,
     "start_time": "2024-10-05T10:11:17.649269",
     "status": "completed"
    },
    "tags": []
   },
   "outputs": [
    {
     "name": "stderr",
     "output_type": "stream",
     "text": [
      "2226it [43:50,  1.18s/it]\n"
     ]
    },
    {
     "name": "stdout",
     "output_type": "stream",
     "text": [
      "Embeddings with attention completed and saved to AT2_attention_embeddings_gsl.csv\n"
     ]
    },
    {
     "name": "stderr",
     "output_type": "stream",
     "text": [
      "2226it [43:54,  1.18s/it]\n"
     ]
    },
    {
     "name": "stdout",
     "output_type": "stream",
     "text": [
      "Embeddings with attention completed and saved to AT2_attention_embeddings_hist.csv\n"
     ]
    },
    {
     "name": "stderr",
     "output_type": "stream",
     "text": [
      "1876it [18:31,  1.69it/s]\n"
     ]
    },
    {
     "name": "stdout",
     "output_type": "stream",
     "text": [
      "Embeddings with attention completed and saved to ST2_attention_embeddings_gsl.csv\n"
     ]
    },
    {
     "name": "stderr",
     "output_type": "stream",
     "text": [
      "1876it [18:33,  1.68it/s]\n"
     ]
    },
    {
     "name": "stdout",
     "output_type": "stream",
     "text": [
      "Embeddings with attention completed and saved to ST2_attention_embeddings_hist.csv\n"
     ]
    },
    {
     "name": "stderr",
     "output_type": "stream",
     "text": [
      "1881it [19:11,  1.63it/s]\n"
     ]
    },
    {
     "name": "stdout",
     "output_type": "stream",
     "text": [
      "Embeddings with attention completed and saved to ST1_attention_embeddings_gsl.csv\n"
     ]
    },
    {
     "name": "stderr",
     "output_type": "stream",
     "text": [
      "1881it [18:52,  1.66it/s]\n"
     ]
    },
    {
     "name": "stdout",
     "output_type": "stream",
     "text": [
      "Embeddings with attention completed and saved to ST1_attention_embeddings_hist.csv\n"
     ]
    }
   ],
   "source": [
    "attention_embeddings('/kaggle/input/preprocessed-dataset/train_data_AT2.csv', '/kaggle/input/preprocessed-dataset/grey_scale_train', 'AT2_attention_embeddings_gsl.csv', 'AT2_attention_model_gsl.pth')\n",
    "attention_embeddings('/kaggle/input/preprocessed-dataset/train_data_AT2.csv', '/kaggle/input/preprocessed-dataset/hist_norm_train', 'AT2_attention_embeddings_hist.csv', 'AT2_attention_model_hist.pth')\n",
    "attention_embeddings('/kaggle/input/preprocessed-dataset/train_data_ST2.csv', '/kaggle/input/preprocessed-dataset/grey_scale_train', 'ST2_attention_embeddings_gsl.csv', 'ST2_attention_model_gsl.pth')\n",
    "attention_embeddings('/kaggle/input/preprocessed-dataset/train_data_ST2.csv', '/kaggle/input/preprocessed-dataset/hist_norm_train', 'ST2_attention_embeddings_hist.csv', 'ST2_attention_model_hist.pth')\n",
    "attention_embeddings('/kaggle/input/preprocessed-dataset/train_data_ST1.csv', '/kaggle/input/preprocessed-dataset/grey_scale_train', 'ST1_attention_embeddings_gsl.csv', 'ST1_attention_model_gsl.pth')\n",
    "attention_embeddings('/kaggle/input/preprocessed-dataset/train_data_ST1.csv', '/kaggle/input/preprocessed-dataset/hist_norm_train', 'ST1_attention_embeddings_hist.csv', 'ST1_attention_model_hist.pth')"
   ]
  },
  {
   "cell_type": "markdown",
   "id": "442e2713",
   "metadata": {},
   "source": [
    "## **Plotting Embeddings**"
   ]
  },
  {
   "cell_type": "code",
   "execution_count": null,
   "id": "19e4b8d5",
   "metadata": {},
   "outputs": [
    {
     "data": {
      "image/png": "[encoded data removed]",
      "text/plain": [
       "<Figure size 1500x1000 with 1 Axes>"
      ]
     },
     "metadata": {},
     "output_type": "display_data"
    }
   ],
   "source": [
    "\n",
    "file_paths = [\n",
    "    '/kaggle/input/medicalnet-attention-layers-for-rsna/AT2_attention_embeddings_gsl.csv',\n",
    "    '/kaggle/input/medicalnet-attention-layers-for-rsna/AT2_attention_embeddings_hist.csv',\n",
    "    '/kaggle/input/medicalnet-attention-layers-for-rsna/ST2_attention_embeddings_gsl.csv',\n",
    "    '/kaggle/input/medicalnet-attention-layers-for-rsna/ST2_attention_embeddings_hist.csv',\n",
    "    '/kaggle/input/medicalnet-attention-layers-for-rsna/ST1_attention_embeddings_gsl.csv',\n",
    "    '/kaggle/input/medicalnet-attention-layers-for-rsna/ST1_attention_embeddings_hist.csv',\n",
    "]\n",
    "\n",
    "plt.figure(figsize=(15, 10))\n",
    "for file_path in file_paths:\n",
    "    df = pd.read_csv(file_path)\n",
    "\n",
    "    embeddings = df.iloc[:, :512]\n",
    "\n",
    "    flattened_embeddings = embeddings.values.flatten()\n",
    "\n",
    "    legend_label = file_path.split('/')[-1]\n",
    "    \n",
    "    plt.hist(flattened_embeddings, bins=50, alpha=0.5, label=legend_label)\n",
    "\n",
    "plt.title('Histograms of Raw Embedding Values')\n",
    "plt.xlabel('Embedding Value')\n",
    "plt.ylabel('Frequency')\n",
    "plt.legend(loc='upper right')\n",
    "plt.grid(axis='y')\n",
    "plt.show()\n"
   ]
  }
 ],
 "metadata": {
  "kaggle": {
   "accelerator": "nvidiaTeslaT4",
   "dataSources": [
    {
     "datasetId": 5788739,
     "sourceId": 9528888,
     "sourceType": "datasetVersion"
    }
   ],
   "isGpuEnabled": true,
   "isInternetEnabled": true,
   "language": "python",
   "sourceType": "notebook"
  },
  "kernelspec": {
   "display_name": "Python 3",
   "language": "python",
   "name": "python3"
  },
  "language_info": {
   "codemirror_mode": {
    "name": "ipython",
    "version": 3
   },
   "file_extension": ".py",
   "mimetype": "text/x-python",
   "name": "python",
   "nbconvert_exporter": "python",
   "pygments_lexer": "ipython3",
   "version": "3.10.14"
  },
  "papermill": {
   "default_parameters": {},
   "duration": 9819.736821,
   "end_time": "2024-10-05T12:54:31.637867",
   "environment_variables": {},
   "exception": null,
   "input_path": "__notebook__.ipynb",
   "output_path": "__notebook__.ipynb",
   "parameters": {},
   "start_time": "2024-10-05T10:10:51.901046",
   "version": "2.6.0"
  }
 },
 "nbformat": 4,
 "nbformat_minor": 5
}
